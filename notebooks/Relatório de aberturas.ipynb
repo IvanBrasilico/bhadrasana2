{
 "cells": [
  {
   "cell_type": "code",
   "execution_count": 2,
   "metadata": {
    "ExecuteTime": {
     "end_time": "2020-04-27T15:28:43.875687Z",
     "start_time": "2020-04-27T15:28:43.867025Z"
    }
   },
   "outputs": [
    {
     "name": "stderr",
     "output_type": "stream",
     "text": [
      "2023-02-16 10:08:08,168 ajna         INFO     Configuração de log efetuada\n"
     ]
    },
    {
     "name": "stdout",
     "output_type": "stream",
     "text": [
      "Fazendo log de erros e alertas no arquivo  ..\\..\\ajna_docs\\commons\\ajna_commons\\flask\\error.log\n",
      "Fazendo log de atividade no arquivo  ..\\..\\ajna_docs\\commons\\ajna_commons\\flask\\access.log\n"
     ]
    }
   ],
   "source": [
    "import pandas as pd\n",
    "import os\n",
    "import sys\n",
    "\n",
    "caminho_commons = os.path.join('..', '..', 'ajna_docs', 'commons')\n",
    "caminho_virasana = os.path.join('..', '..', 'ajna_docs', 'virasana')\n",
    "sys.path.insert(0, caminho_commons)\n",
    "sys.path.append('..')\n",
    "sys.path.append(caminho_virasana)\n",
    "\n",
    "from bhadrasana.models import engine\n",
    "\n"
   ]
  },
  {
   "cell_type": "markdown",
   "metadata": {},
   "source": [
    "# 1 - Relatório BTP"
   ]
  },
  {
   "cell_type": "code",
   "execution_count": 3,
   "metadata": {},
   "outputs": [],
   "source": [
    "df = pd.read_excel('data/relatorio_abertura_BTP.xlsx')"
   ]
  },
  {
   "cell_type": "code",
   "execution_count": 4,
   "metadata": {},
   "outputs": [
    {
     "data": {
      "text/plain": [
       "Motivo\n",
       "INSPEÇÃO MADEIRA                6743\n",
       "RETIRADA DE AMOSTRA             2331\n",
       "CONFERENCIA FISICA              1303\n",
       "CONFERENCIA *DIREP*              682\n",
       "INSP. MADEIRA S/ DESEMBARAÇO     593\n",
       "RETIRADA DE RÓTULO               385\n",
       "DISSOCIAÇÃO DE CARGA             159\n",
       "REEFER SUPORTE                    93\n",
       "CONF. FISICA C/ ENGENHEIRO        62\n",
       "MOVIMENTAÇÃO DA CARGA             53\n",
       "Name: Recinto, dtype: int64"
      ]
     },
     "execution_count": 4,
     "metadata": {},
     "output_type": "execute_result"
    }
   ],
   "source": [
    "df.groupby('Motivo').Recinto.count().sort_values(ascending=False).head(10)"
   ]
  },
  {
   "cell_type": "code",
   "execution_count": 6,
   "metadata": {},
   "outputs": [
    {
     "data": {
      "text/plain": [
       "Motivo\n",
       "ANVISA                            0.000237\n",
       "CONF. BAGAGEM + MADEIRA           0.000079\n",
       "CONF. FISICA + MADEIRA            0.001105\n",
       "CONF. FISICA C/ ENGENHEIRO        0.004892\n",
       "CONFERENCIA *DIREP*               0.053807\n",
       "CONFERENCIA *SEPEA*               0.000158\n",
       "CONFERENCIA BAGAGEM               0.000868\n",
       "CONFERENCIA FISICA                0.102801\n",
       "DESUNIT. APÓS DESEMB.             0.000158\n",
       "DESUNITIZAÇÃO                     0.000316\n",
       "DISSOCIAÇÃO DE CARGA              0.012544\n",
       "ESTUFAGEM DE CARGA                0.000079\n",
       "ETIQUETAGEM                       0.000631\n",
       "FOTOGRAFIA (LACRE)                0.001657\n",
       "FUMIGAÇÃO                         0.000079\n",
       "INSERÇÃO DE LACRE                 0.000079\n",
       "INSP. MADEIRA + COLETA AMOSTRA    0.002051\n",
       "INSP. MADEIRA + RET. RÓTULO       0.000316\n",
       "INSP. MADEIRA S/ DESEMBARAÇO      0.046785\n",
       "INSPEÇÃO MADEIRA                  0.531992\n",
       "INTERRUPÇÃO DE FLUXO              0.004024\n",
       "LEILÃO                            0.003156\n",
       "MOVIMENTAÇÃO DA CARGA             0.004181\n",
       "REEFER SUPORTE                    0.007337\n",
       "RETIRADA AMOSTRAS INMETRO         0.000079\n",
       "RETIRADA DE AMOSTRA               0.183905\n",
       "RETIRADA DE AMOSTRA LABANA        0.000237\n",
       "RETIRADA DE RÓTULO                0.030375\n",
       "SACRIFÍCIO                        0.001262\n",
       "SANEAMENTO DE FMA (RFB)           0.001341\n",
       "TRANSBORDO DE CARGA               0.001420\n",
       "VERIFICACAO DE LACRES             0.000158\n",
       "VISTORIA DDC                      0.000394\n",
       "VISTORIA EXERCITO                 0.000079\n",
       "VISTORIA IBAMA + MAPA             0.000158\n",
       "VISTORIA SEGURO                   0.001262\n",
       "Name: Recinto, dtype: float64"
      ]
     },
     "execution_count": 6,
     "metadata": {},
     "output_type": "execute_result"
    }
   ],
   "source": [
    "df.groupby('Motivo').Recinto.count() / len(df)"
   ]
  },
  {
   "cell_type": "markdown",
   "metadata": {},
   "source": [
    "# 2 - Relatório DPW"
   ]
  },
  {
   "cell_type": "code",
   "execution_count": 15,
   "metadata": {},
   "outputs": [],
   "source": [
    "df = pd.read_excel('data/relatorio_abertura_DPW.xlsx')"
   ]
  },
  {
   "cell_type": "code",
   "execution_count": 16,
   "metadata": {},
   "outputs": [
    {
     "data": {
      "text/html": [
       "<div>\n",
       "<style scoped>\n",
       "    .dataframe tbody tr th:only-of-type {\n",
       "        vertical-align: middle;\n",
       "    }\n",
       "\n",
       "    .dataframe tbody tr th {\n",
       "        vertical-align: top;\n",
       "    }\n",
       "\n",
       "    .dataframe thead th {\n",
       "        text-align: right;\n",
       "    }\n",
       "</style>\n",
       "<table border=\"1\" class=\"dataframe\">\n",
       "  <thead>\n",
       "    <tr style=\"text-align: right;\">\n",
       "      <th></th>\n",
       "      <th>Data de Abertura</th>\n",
       "      <th>Motivo</th>\n",
       "      <th>Nro Conteiner</th>\n",
       "      <th>Lacre Encontrado</th>\n",
       "      <th>Lacre Encontrado.1</th>\n",
       "      <th>Lacre Encontrado.2</th>\n",
       "      <th>Lacre Encontrado.3</th>\n",
       "      <th>Lacre Colocado</th>\n",
       "      <th>Nro Documento</th>\n",
       "      <th>CEMERCANTE</th>\n",
       "      <th>Nro Documento.1</th>\n",
       "      <th>Quadra</th>\n",
       "      <th>Orgão Solicitante</th>\n",
       "    </tr>\n",
       "  </thead>\n",
       "  <tbody>\n",
       "    <tr>\n",
       "      <th>0</th>\n",
       "      <td>03.01.2022 13:19:00</td>\n",
       "      <td>CONFERENCIA FISICA</td>\n",
       "      <td>PCIU8997563</td>\n",
       "      <td>DM36768</td>\n",
       "      <td>NaN</td>\n",
       "      <td>NaN</td>\n",
       "      <td>NaN</td>\n",
       "      <td>DM36768</td>\n",
       "      <td>152105314720904</td>\n",
       "      <td>152105314720904</td>\n",
       "      <td>2124733400</td>\n",
       "      <td>1W02I.1</td>\n",
       "      <td>RFB</td>\n",
       "    </tr>\n",
       "    <tr>\n",
       "      <th>1</th>\n",
       "      <td>03.01.2022 13:32:59</td>\n",
       "      <td>CONFERENCIA FISICA</td>\n",
       "      <td>MSKU6971626</td>\n",
       "      <td>ML-BR2351212</td>\n",
       "      <td></td>\n",
       "      <td></td>\n",
       "      <td></td>\n",
       "      <td>ML-BR2351212</td>\n",
       "      <td>21BR0021337827</td>\n",
       "      <td>NaN</td>\n",
       "      <td>21BR0021337827</td>\n",
       "      <td>1W02M.1</td>\n",
       "      <td>RFB</td>\n",
       "    </tr>\n",
       "    <tr>\n",
       "      <th>2</th>\n",
       "      <td>03.01.2022 13:33:45</td>\n",
       "      <td>CONFERENCIA FISICA</td>\n",
       "      <td>MRKU0326876</td>\n",
       "      <td>ML-BR2351210</td>\n",
       "      <td></td>\n",
       "      <td></td>\n",
       "      <td></td>\n",
       "      <td>ML-BR2351210</td>\n",
       "      <td>21BR0021337827</td>\n",
       "      <td>NaN</td>\n",
       "      <td>21BR0021337827</td>\n",
       "      <td>1W02J.1</td>\n",
       "      <td>RFB</td>\n",
       "    </tr>\n",
       "    <tr>\n",
       "      <th>3</th>\n",
       "      <td>03.01.2022 13:34:23</td>\n",
       "      <td>CONFERENCIA FISICA</td>\n",
       "      <td>SUDU5454577</td>\n",
       "      <td>ML-BR2351213</td>\n",
       "      <td></td>\n",
       "      <td></td>\n",
       "      <td></td>\n",
       "      <td>ML-BR2351213</td>\n",
       "      <td>21BR0021337827</td>\n",
       "      <td>NaN</td>\n",
       "      <td>21BR0021337827</td>\n",
       "      <td>1W02P.1</td>\n",
       "      <td>RFB</td>\n",
       "    </tr>\n",
       "    <tr>\n",
       "      <th>4</th>\n",
       "      <td>03.01.2022 13:35:05</td>\n",
       "      <td>CONFERENCIA FISICA</td>\n",
       "      <td>MRKU0158216</td>\n",
       "      <td>ML-BR2351209</td>\n",
       "      <td></td>\n",
       "      <td></td>\n",
       "      <td></td>\n",
       "      <td>ML-BR2351209</td>\n",
       "      <td>21BR0021337827</td>\n",
       "      <td>NaN</td>\n",
       "      <td>21BR0021337827</td>\n",
       "      <td>1W02O.1</td>\n",
       "      <td>RFB</td>\n",
       "    </tr>\n",
       "  </tbody>\n",
       "</table>\n",
       "</div>"
      ],
      "text/plain": [
       "      Data de Abertura              Motivo Nro Conteiner Lacre Encontrado  \\\n",
       "0  03.01.2022 13:19:00  CONFERENCIA FISICA   PCIU8997563          DM36768   \n",
       "1  03.01.2022 13:32:59  CONFERENCIA FISICA   MSKU6971626     ML-BR2351212   \n",
       "2  03.01.2022 13:33:45  CONFERENCIA FISICA   MRKU0326876     ML-BR2351210   \n",
       "3  03.01.2022 13:34:23  CONFERENCIA FISICA   SUDU5454577     ML-BR2351213   \n",
       "4  03.01.2022 13:35:05  CONFERENCIA FISICA   MRKU0158216     ML-BR2351209   \n",
       "\n",
       "  Lacre Encontrado.1 Lacre Encontrado.2 Lacre Encontrado.3 Lacre Colocado  \\\n",
       "0                NaN                NaN                NaN        DM36768   \n",
       "1                                                            ML-BR2351212   \n",
       "2                                                            ML-BR2351210   \n",
       "3                                                            ML-BR2351213   \n",
       "4                                                            ML-BR2351209   \n",
       "\n",
       "     Nro Documento       CEMERCANTE Nro Documento.1   Quadra Orgão Solicitante  \n",
       "0  152105314720904  152105314720904      2124733400  1W02I.1               RFB  \n",
       "1   21BR0021337827              NaN  21BR0021337827  1W02M.1               RFB  \n",
       "2   21BR0021337827              NaN  21BR0021337827  1W02J.1               RFB  \n",
       "3   21BR0021337827              NaN  21BR0021337827  1W02P.1               RFB  \n",
       "4   21BR0021337827              NaN  21BR0021337827  1W02O.1               RFB  "
      ]
     },
     "execution_count": 16,
     "metadata": {},
     "output_type": "execute_result"
    }
   ],
   "source": [
    "df.head()"
   ]
  },
  {
   "cell_type": "code",
   "execution_count": 17,
   "metadata": {},
   "outputs": [
    {
     "data": {
      "text/plain": [
       "INSPEÇÃO DE MADEIRA                         7107\n",
       "CONFERENCIA FISICA                          2434\n",
       "DESUNITIZAÇÃO                                627\n",
       "COLETA DE AMOSTRA (LPCO)MAPA EXPORTAÇÃO      327\n",
       "COLETA DE AMOSTRA ( L . I )  VEGETAL         297\n",
       "COLETA DE AMOSTRA ( L . I )  ANIMAL          233\n",
       "VISTORIA EXTERNA                             190\n",
       "DISSOCIAÇÃO/MAPA                              96\n",
       "CONFERENCIA VAZIO                             74\n",
       "LABANA                                        53\n",
       "SAT (ENGENHEIRO ALFANDEGA)                    45\n",
       "COLETA DE AMOSTRA EXERCITO                    35\n",
       "DESUNITIZAÇÃO APOS DESEMBARAÇO                27\n",
       "FUMIGAÇÃO                                     24\n",
       "CONFERENCIA FISICA E INSPEÇÃO DE MADEIRA      20\n",
       "ABERTURA APOS FMA                             11\n",
       "INSPEÇÃO DE MADEIRA E COLETA DE AMOSTRA       10\n",
       "MARCAÇÃO                                       9\n",
       "LIMPEZA DE RESIDUO                             4\n",
       "AERAÇÃO                                        1\n",
       "Name: Motivo, dtype: int64"
      ]
     },
     "execution_count": 17,
     "metadata": {},
     "output_type": "execute_result"
    }
   ],
   "source": [
    "df.Motivo.value_counts()"
   ]
  },
  {
   "cell_type": "code",
   "execution_count": 20,
   "metadata": {},
   "outputs": [
    {
     "data": {
      "text/plain": [
       "Mapa             8095\n",
       "RFB              2617\n",
       "DP World          658\n",
       "Importador        151\n",
       "Exportador         39\n",
       "Exército           35\n",
       "RFB / Mapa         20\n",
       "Certificadora       9\n",
       "Name: Orgão Solicitante, dtype: int64"
      ]
     },
     "execution_count": 20,
     "metadata": {},
     "output_type": "execute_result"
    }
   ],
   "source": [
    "df['Orgão Solicitante'].value_counts()"
   ]
  },
  {
   "cell_type": "markdown",
   "metadata": {},
   "source": [
    "# 3 - Planilha Abtra"
   ]
  },
  {
   "cell_type": "code",
   "execution_count": 21,
   "metadata": {},
   "outputs": [
    {
     "data": {
      "text/plain": [
       "['.ipynb_checkpoints',\n",
       " '.~lock.relatorio_abertura_DPW.xlsx#',\n",
       " 'AcessoVeiculo.json',\n",
       " 'BTP escâner - dia 26-WF.xlsx',\n",
       " 'PesagemVeiculo.json',\n",
       " 'Relacaoabertura_desuniCTR_final012022.xlsx',\n",
       " 'Relacaoabertura_desuniCTR_final022022.xlsx',\n",
       " 'Relacaoabertura_desuniCTR_final032022.xlsx',\n",
       " 'Relacaoabertura_desuniCTR_final042022.xlsx',\n",
       " 'Relacaoabertura_desuniCTR_final052022.xlsx',\n",
       " 'Relacaoabertura_desuniCTR_final062022.xlsx',\n",
       " 'Relacaoabertura_desuniCTR_final072022.xlsx',\n",
       " 'Relacaoabertura_desuniCTR_final082022.xlsx',\n",
       " 'Relacaoabertura_desuniCTR_final092022.xlsx',\n",
       " 'Relacaoabertura_desuniCTR_final102022.xlsx',\n",
       " 'Relacaoabertura_desuniCTR_final112022.xlsx',\n",
       " 'Relacaoabertura_desuniCTR_final122022.xlsx',\n",
       " 'relatorio_abertura_BTP.xlsx',\n",
       " 'relatorio_abertura_DPW.xlsx',\n",
       " 'SBT escâner - dia 08-WF.ods']"
      ]
     },
     "execution_count": 21,
     "metadata": {},
     "output_type": "execute_result"
    }
   ],
   "source": [
    "os.listdir('data/')"
   ]
  },
  {
   "cell_type": "code",
   "execution_count": 25,
   "metadata": {},
   "outputs": [],
   "source": [
    "df = pd.read_excel('data/Relacaoabertura_desuniCTR_final012022.xlsx', header=1)"
   ]
  },
  {
   "cell_type": "code",
   "execution_count": 26,
   "metadata": {},
   "outputs": [
    {
     "data": {
      "text/html": [
       "<div>\n",
       "<style scoped>\n",
       "    .dataframe tbody tr th:only-of-type {\n",
       "        vertical-align: middle;\n",
       "    }\n",
       "\n",
       "    .dataframe tbody tr th {\n",
       "        vertical-align: top;\n",
       "    }\n",
       "\n",
       "    .dataframe thead th {\n",
       "        text-align: right;\n",
       "    }\n",
       "</style>\n",
       "<table border=\"1\" class=\"dataframe\">\n",
       "  <thead>\n",
       "    <tr style=\"text-align: right;\">\n",
       "      <th></th>\n",
       "      <th>Recinto</th>\n",
       "      <th>Conteiner</th>\n",
       "      <th>Data/Hora Abertura</th>\n",
       "      <th>Local</th>\n",
       "      <th>Quadra</th>\n",
       "      <th>Regime</th>\n",
       "      <th>Operacao CTR</th>\n",
       "      <th>Tipo</th>\n",
       "      <th>Numero Documento Saida</th>\n",
       "      <th>Numero BL</th>\n",
       "      <th>Porto</th>\n",
       "      <th>Armador</th>\n",
       "      <th>Lacre</th>\n",
       "      <th>Lacre.1</th>\n",
       "      <th>Lacre.2</th>\n",
       "      <th>Lacre.3</th>\n",
       "    </tr>\n",
       "  </thead>\n",
       "  <tbody>\n",
       "    <tr>\n",
       "      <th>0</th>\n",
       "      <td>098 SANTOS BRASIL LOGISTICA S/A -CLIA SANTOS</td>\n",
       "      <td>BMOU6156543</td>\n",
       "      <td>2022-01-01 07:30:00</td>\n",
       "      <td>A01063</td>\n",
       "      <td>NaN</td>\n",
       "      <td>HP</td>\n",
       "      <td>Desunitizacaoo total sem unitizacao</td>\n",
       "      <td>DI</td>\n",
       "      <td>202200191951</td>\n",
       "      <td>CHS0022335</td>\n",
       "      <td>321</td>\n",
       "      <td>3518</td>\n",
       "      <td>NaN</td>\n",
       "      <td>NaN</td>\n",
       "      <td>NaN</td>\n",
       "      <td>NaN</td>\n",
       "    </tr>\n",
       "    <tr>\n",
       "      <th>1</th>\n",
       "      <td>098 SANTOS BRASIL LOGISTICA S/A -CLIA SANTOS</td>\n",
       "      <td>BMOU6156543</td>\n",
       "      <td>2022-01-01 07:30:00</td>\n",
       "      <td>A01063</td>\n",
       "      <td>NaN</td>\n",
       "      <td>HP</td>\n",
       "      <td>Desunitizacaoo total sem unitizacao</td>\n",
       "      <td>DI</td>\n",
       "      <td>202200163230</td>\n",
       "      <td>CHS0022360</td>\n",
       "      <td>321</td>\n",
       "      <td>3518</td>\n",
       "      <td>NaN</td>\n",
       "      <td>NaN</td>\n",
       "      <td>NaN</td>\n",
       "      <td>NaN</td>\n",
       "    </tr>\n",
       "    <tr>\n",
       "      <th>2</th>\n",
       "      <td>098 SANTOS BRASIL LOGISTICA S/A -CLIA SANTOS</td>\n",
       "      <td>BMOU6156543</td>\n",
       "      <td>2022-01-01 07:30:00</td>\n",
       "      <td>A01063</td>\n",
       "      <td>NaN</td>\n",
       "      <td>HP</td>\n",
       "      <td>Desunitizacaoo total sem unitizacao</td>\n",
       "      <td>DI</td>\n",
       "      <td>202200161122</td>\n",
       "      <td>CHS0022361</td>\n",
       "      <td>321</td>\n",
       "      <td>3518</td>\n",
       "      <td>NaN</td>\n",
       "      <td>NaN</td>\n",
       "      <td>NaN</td>\n",
       "      <td>NaN</td>\n",
       "    </tr>\n",
       "    <tr>\n",
       "      <th>3</th>\n",
       "      <td>098 SANTOS BRASIL LOGISTICA S/A -CLIA SANTOS</td>\n",
       "      <td>BMOU6156543</td>\n",
       "      <td>2022-01-01 07:30:00</td>\n",
       "      <td>A01063</td>\n",
       "      <td>NaN</td>\n",
       "      <td>HP</td>\n",
       "      <td>Desunitizacaoo total sem unitizacao</td>\n",
       "      <td>DI</td>\n",
       "      <td>202200194586</td>\n",
       "      <td>CHS0022365</td>\n",
       "      <td>321</td>\n",
       "      <td>3518</td>\n",
       "      <td>NaN</td>\n",
       "      <td>NaN</td>\n",
       "      <td>NaN</td>\n",
       "      <td>NaN</td>\n",
       "    </tr>\n",
       "    <tr>\n",
       "      <th>4</th>\n",
       "      <td>098 SANTOS BRASIL LOGISTICA S/A -CLIA SANTOS</td>\n",
       "      <td>BMOU6156543</td>\n",
       "      <td>2022-01-01 07:30:00</td>\n",
       "      <td>A01063</td>\n",
       "      <td>NaN</td>\n",
       "      <td>HP</td>\n",
       "      <td>Desunitizacaoo total sem unitizacao</td>\n",
       "      <td>DI</td>\n",
       "      <td>202200186613</td>\n",
       "      <td>CHS0022367</td>\n",
       "      <td>321</td>\n",
       "      <td>3518</td>\n",
       "      <td>NaN</td>\n",
       "      <td>NaN</td>\n",
       "      <td>NaN</td>\n",
       "      <td>NaN</td>\n",
       "    </tr>\n",
       "  </tbody>\n",
       "</table>\n",
       "</div>"
      ],
      "text/plain": [
       "                                        Recinto    Conteiner  \\\n",
       "0  098 SANTOS BRASIL LOGISTICA S/A -CLIA SANTOS  BMOU6156543   \n",
       "1  098 SANTOS BRASIL LOGISTICA S/A -CLIA SANTOS  BMOU6156543   \n",
       "2  098 SANTOS BRASIL LOGISTICA S/A -CLIA SANTOS  BMOU6156543   \n",
       "3  098 SANTOS BRASIL LOGISTICA S/A -CLIA SANTOS  BMOU6156543   \n",
       "4  098 SANTOS BRASIL LOGISTICA S/A -CLIA SANTOS  BMOU6156543   \n",
       "\n",
       "   Data/Hora Abertura   Local Quadra Regime  \\\n",
       "0 2022-01-01 07:30:00  A01063    NaN     HP   \n",
       "1 2022-01-01 07:30:00  A01063    NaN     HP   \n",
       "2 2022-01-01 07:30:00  A01063    NaN     HP   \n",
       "3 2022-01-01 07:30:00  A01063    NaN     HP   \n",
       "4 2022-01-01 07:30:00  A01063    NaN     HP   \n",
       "\n",
       "                          Operacao CTR Tipo Numero Documento Saida  \\\n",
       "0  Desunitizacaoo total sem unitizacao   DI           202200191951   \n",
       "1  Desunitizacaoo total sem unitizacao   DI           202200163230   \n",
       "2  Desunitizacaoo total sem unitizacao   DI           202200161122   \n",
       "3  Desunitizacaoo total sem unitizacao   DI           202200194586   \n",
       "4  Desunitizacaoo total sem unitizacao   DI           202200186613   \n",
       "\n",
       "    Numero BL  Porto  Armador Lacre Lacre.1  Lacre.2  Lacre.3  \n",
       "0  CHS0022335    321     3518   NaN     NaN      NaN      NaN  \n",
       "1  CHS0022360    321     3518   NaN     NaN      NaN      NaN  \n",
       "2  CHS0022361    321     3518   NaN     NaN      NaN      NaN  \n",
       "3  CHS0022365    321     3518   NaN     NaN      NaN      NaN  \n",
       "4  CHS0022367    321     3518   NaN     NaN      NaN      NaN  "
      ]
     },
     "execution_count": 26,
     "metadata": {},
     "output_type": "execute_result"
    }
   ],
   "source": [
    "df.head()"
   ]
  },
  {
   "cell_type": "code",
   "execution_count": 29,
   "metadata": {},
   "outputs": [
    {
     "data": {
      "text/plain": [
       "Desunitizacaoo total sem unitizacao           16896\n",
       "Desunitizacao total com unitizacao total       2342\n",
       "Desunitizacao total com unitizacao parcial       71\n",
       "Name: Operacao CTR, dtype: int64"
      ]
     },
     "execution_count": 29,
     "metadata": {},
     "output_type": "execute_result"
    }
   ],
   "source": [
    "df['Operacao CTR'].value_counts()"
   ]
  },
  {
   "cell_type": "code",
   "execution_count": 30,
   "metadata": {},
   "outputs": [
    {
     "data": {
      "text/plain": [
       "Recinto                                       Operacao CTR                              \n",
       "009 ECOPORTO SANTOS - TERMINAL 3              Desunitizacaoo total sem unitizacao             33\n",
       "010 ECOPORTO SANTOS - TERMINAL 1              Desunitizacaoo total sem unitizacao            122\n",
       "                                              Desunitizacao total com unitizacao total        25\n",
       "011 ECOPORTO SANTOS - TERMINAL 2              Desunitizacaoo total sem unitizacao           2078\n",
       "021 EMBRAPORT - EMPRESA BRASILEIRA DE TERMIN  Desunitizacaoo total sem unitizacao            371\n",
       "022 BRASIL TERMINAL PORTUARIO - DEPOSITARIO   Desunitizacao total com unitizacao total       581\n",
       "                                              Desunitizacao total com unitizacao parcial       1\n",
       "                                              Desunitizacaoo total sem unitizacao              1\n",
       "037 TERMARES - IPA                            Desunitizacaoo total sem unitizacao           2396\n",
       "                                              Desunitizacao total com unitizacao total        13\n",
       "050 TRANSBRASA - IPA                          Desunitizacao total com unitizacao total       317\n",
       "                                              Desunitizacaoo total sem unitizacao            115\n",
       "052 EUDMARCO - clia                           Desunitizacaoo total sem unitizacao            555\n",
       "                                              Desunitizacao total com unitizacao total         8\n",
       "061 MULTILOG BRASIL S/A                       Desunitizacaoo total sem unitizacao            606\n",
       "070 SANTOS BRASIL PARTICIPACOES LTDA          Desunitizacao total com unitizacao total       933\n",
       "                                              Desunitizacaoo total sem unitizacao            492\n",
       "076 MARIMEX - TERMINAL 2                      Desunitizacaoo total sem unitizacao            527\n",
       "                                              Desunitizacao total com unitizacao parcial       4\n",
       "090 LOCALFRIO - IPA                           Desunitizacao total com unitizacao total       462\n",
       "                                              Desunitizacaoo total sem unitizacao            445\n",
       "                                              Desunitizacao total com unitizacao parcial      66\n",
       "091 LOCALFRIO S.A. ARMAZENS GERAIS FRIGORIFI  Desunitizacaoo total sem unitizacao            106\n",
       "                                              Desunitizacao total com unitizacao total         3\n",
       "092 BANDEIRANTES DEICMAR LOGISTICA INTEGRADA  Desunitizacaoo total sem unitizacao           4143\n",
       "095 SANTOS BRASIL LOGISTICA S/A -CLIA GUARUJ  Desunitizacaoo total sem unitizacao            251\n",
       "096 BANDEIRANTES DEICMAR LOGISTICA INTEGRADA  Desunitizacaoo total sem unitizacao           2998\n",
       "098 SANTOS BRASIL LOGISTICA S/A -CLIA SANTOS  Desunitizacaoo total sem unitizacao           1657\n",
       "Name: Operacao CTR, dtype: int64"
      ]
     },
     "execution_count": 30,
     "metadata": {},
     "output_type": "execute_result"
    }
   ],
   "source": [
    "df.groupby('Recinto')['Operacao CTR'].value_counts()"
   ]
  },
  {
   "cell_type": "code",
   "execution_count": null,
   "metadata": {},
   "outputs": [],
   "source": []
  }
 ],
 "metadata": {
  "kernelspec": {
   "display_name": "Python 3",
   "language": "python",
   "name": "python3"
  },
  "language_info": {
   "codemirror_mode": {
    "name": "ipython",
    "version": 3
   },
   "file_extension": ".py",
   "mimetype": "text/x-python",
   "name": "python",
   "nbconvert_exporter": "python",
   "pygments_lexer": "ipython3",
   "version": "3.8.5"
  }
 },
 "nbformat": 4,
 "nbformat_minor": 2
}
