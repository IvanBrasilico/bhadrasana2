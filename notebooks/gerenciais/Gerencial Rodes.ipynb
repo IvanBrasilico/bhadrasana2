{
 "cells": [
  {
   "cell_type": "markdown",
   "id": "37b43918-8f78-4eb7-8016-375354cd55f5",
   "metadata": {},
   "source": [
    "# Operação Rodes"
   ]
  },
  {
   "cell_type": "markdown",
   "id": "f7691b4b-f927-4871-8d62-71ed7d086f92",
   "metadata": {},
   "source": [
    "## Configurações do ambiente"
   ]
  },
  {
   "cell_type": "code",
   "execution_count": 1,
   "id": "3be2785d-c6a7-46d6-afc3-4af6894dc93e",
   "metadata": {},
   "outputs": [
    {
     "name": "stderr",
     "output_type": "stream",
     "text": [
      "2025-06-17 14:48:52,588 ajna         INFO     Configuração de log efetuada\n"
     ]
    },
    {
     "name": "stdout",
     "output_type": "stream",
     "text": [
      "Fazendo log de erros e alertas no arquivo  C:\\Users\\11913225640\\git\\bhadrasana2\\notebooks\\gerenciais\\../..\\..\\ajna_docs\\commons\\ajna_commons\\flask\\error.log\n",
      "Fazendo log de atividade no arquivo  C:\\Users\\11913225640\\git\\bhadrasana2\\notebooks\\gerenciais\\../..\\..\\ajna_docs\\commons\\ajna_commons\\flask\\access.log\n"
     ]
    }
   ],
   "source": [
    "import os\n",
    "import sys\n",
    "from datetime import datetime\n",
    "from IPython.display import HTML\n",
    "\n",
    "import matplotlib.pyplot as plt\n",
    "import pandas as pd\n",
    "import plotly.express as px\n",
    "import plotly.graph_objects as go\n",
    "\n",
    "import pymysql\n",
    "import pandas as pd\n",
    "\n",
    "WIDTH = 1100\n",
    "pd.options.display.float_format = 'R$ {:,.2f}'.format\n",
    "\n",
    "caminho_commons = os.path.join('../..', '..', 'ajna_docs', 'commons')\n",
    "caminho_virasana = os.path.join('../..', '..', 'ajna_docs', 'virasana')\n",
    "sys.path.append(caminho_commons)\n",
    "sys.path.append('../..')\n",
    "sys.path.append(caminho_virasana)\n",
    "\n",
    "from bhadrasana.models import engine\n",
    "\n",
    "\n",
    "def AnoMes(row):\n",
    "    return str(row.Ano) + str(row['Mês']).zfill(2)\n",
    "\n",
    "\n",
    "# Definindo a URL de conexão diretamente\n",
    "connection_details = {\n",
    "        'host': '10.61.8.28',\n",
    "        'port': 3306, \n",
    "        'user': 'admmerc',       \n",
    "        'password': 'Adm_DBM3rc',     \n",
    "        'db': 'dbmercante'  \n",
    "}\n"
   ]
  },
  {
   "cell_type": "markdown",
   "id": "812419ed-2f07-42a2-9229-faf36f598d2c",
   "metadata": {},
   "source": [
    "## Visão Geral por Recinto"
   ]
  },
  {
   "cell_type": "code",
   "execution_count": 2,
   "id": "40d727bb-5d56-42fc-9900-f873e3530100",
   "metadata": {},
   "outputs": [
    {
     "name": "stderr",
     "output_type": "stream",
     "text": [
      "C:\\Users\\11913225640\\AppData\\Local\\Temp\\ipykernel_10952\\220437587.py:37: UserWarning: pandas only supports SQLAlchemy connectable (engine/connection) or database string URI or sqlite3 DBAPI2 connection. Other DBAPI2 objects are not tested. Please consider using SQLAlchemy.\n",
      "  df_Rodes = pd.read_sql(SQL_Rodes, connection)\n"
     ]
    },
    {
     "data": {
      "text/html": [
       "<div>\n",
       "<style scoped>\n",
       "    .dataframe tbody tr th:only-of-type {\n",
       "        vertical-align: middle;\n",
       "    }\n",
       "\n",
       "    .dataframe tbody tr th {\n",
       "        vertical-align: top;\n",
       "    }\n",
       "\n",
       "    .dataframe thead th {\n",
       "        text-align: right;\n",
       "    }\n",
       "</style>\n",
       "<table border=\"1\" class=\"dataframe\">\n",
       "  <thead>\n",
       "    <tr style=\"text-align: right;\">\n",
       "      <th></th>\n",
       "      <th>Recinto</th>\n",
       "      <th>Ficha</th>\n",
       "      <th>RVF</th>\n",
       "      <th>Data de Abertura</th>\n",
       "      <th>numeroCEmercante</th>\n",
       "      <th>Conteiner</th>\n",
       "      <th>fase</th>\n",
       "      <th>flag_id</th>\n",
       "      <th>PortoDestino</th>\n",
       "    </tr>\n",
       "  </thead>\n",
       "  <tbody>\n",
       "    <tr>\n",
       "      <th>0</th>\n",
       "      <td>BANDEIRANTES DEICMAR - IPA OUTEIRINHOS</td>\n",
       "      <td>11600</td>\n",
       "      <td>10413</td>\n",
       "      <td>2025-03-18 09:29:00</td>\n",
       "      <td>152505065965204</td>\n",
       "      <td>FSCU9318964</td>\n",
       "      <td>1</td>\n",
       "      <td>2472</td>\n",
       "      <td>BRSSZ</td>\n",
       "    </tr>\n",
       "    <tr>\n",
       "      <th>1</th>\n",
       "      <td>BANDEIRANTES DEICMAR - IPA OUTEIRINHOS</td>\n",
       "      <td>11739</td>\n",
       "      <td>10566</td>\n",
       "      <td>2025-04-07 09:30:00</td>\n",
       "      <td>152505007538021</td>\n",
       "      <td>CAIU9227039</td>\n",
       "      <td>2</td>\n",
       "      <td>2472</td>\n",
       "      <td>BRSSZ</td>\n",
       "    </tr>\n",
       "    <tr>\n",
       "      <th>2</th>\n",
       "      <td>BANDEIRANTES DEICMAR - IPA OUTEIRINHOS</td>\n",
       "      <td>11600</td>\n",
       "      <td>10804</td>\n",
       "      <td>2025-05-27 10:35:00</td>\n",
       "      <td>152505065965204</td>\n",
       "      <td>FSCU9318964</td>\n",
       "      <td>1</td>\n",
       "      <td>2472</td>\n",
       "      <td>BRSSZ</td>\n",
       "    </tr>\n",
       "    <tr>\n",
       "      <th>3</th>\n",
       "      <td>EMBRAPORT - EMPRESA BRASILEIRA DE TERMINAIS PO...</td>\n",
       "      <td>11602</td>\n",
       "      <td>10405</td>\n",
       "      <td>2025-03-17 09:30:00</td>\n",
       "      <td>152505052898295</td>\n",
       "      <td>CAAU6887437</td>\n",
       "      <td>2</td>\n",
       "      <td>2472</td>\n",
       "      <td>BRSSZ</td>\n",
       "    </tr>\n",
       "    <tr>\n",
       "      <th>4</th>\n",
       "      <td>EMBRAPORT - EMPRESA BRASILEIRA DE TERMINAIS PO...</td>\n",
       "      <td>11598</td>\n",
       "      <td>10420</td>\n",
       "      <td>2025-03-20 13:35:00</td>\n",
       "      <td>152505036060886</td>\n",
       "      <td></td>\n",
       "      <td>4</td>\n",
       "      <td>2472</td>\n",
       "      <td>BRSSZ</td>\n",
       "    </tr>\n",
       "  </tbody>\n",
       "</table>\n",
       "</div>"
      ],
      "text/plain": [
       "                                             Recinto  Ficha    RVF  \\\n",
       "0             BANDEIRANTES DEICMAR - IPA OUTEIRINHOS  11600  10413   \n",
       "1             BANDEIRANTES DEICMAR - IPA OUTEIRINHOS  11739  10566   \n",
       "2             BANDEIRANTES DEICMAR - IPA OUTEIRINHOS  11600  10804   \n",
       "3  EMBRAPORT - EMPRESA BRASILEIRA DE TERMINAIS PO...  11602  10405   \n",
       "4  EMBRAPORT - EMPRESA BRASILEIRA DE TERMINAIS PO...  11598  10420   \n",
       "\n",
       "     Data de Abertura numeroCEmercante    Conteiner  fase  flag_id  \\\n",
       "0 2025-03-18 09:29:00  152505065965204  FSCU9318964     1     2472   \n",
       "1 2025-04-07 09:30:00  152505007538021  CAIU9227039     2     2472   \n",
       "2 2025-05-27 10:35:00  152505065965204  FSCU9318964     1     2472   \n",
       "3 2025-03-17 09:30:00  152505052898295  CAAU6887437     2     2472   \n",
       "4 2025-03-20 13:35:00  152505036060886                  4     2472   \n",
       "\n",
       "  PortoDestino  \n",
       "0        BRSSZ  \n",
       "1        BRSSZ  \n",
       "2        BRSSZ  \n",
       "3        BRSSZ  \n",
       "4        BRSSZ  "
      ]
     },
     "metadata": {},
     "output_type": "display_data"
    }
   ],
   "source": [
    "# Query SQL para buscar os dados\n",
    "SQL_Rodes = '''\n",
    "     SELECT \n",
    "         r.nome as Recinto, \n",
    "         ficha.id as 'Ficha', \n",
    "         rvf.id as 'RVF', \n",
    "         rvf.datahora 'Data de Abertura',\n",
    "         ficha.numeroCEmercante, \n",
    "         rvf.numerolote as Conteiner, \n",
    "         ficha.fase,\n",
    "         flags.flag_id,\n",
    "        c.PortoDestFinal as PortoDestino\n",
    "     FROM ovr_ovrs ficha\n",
    "     INNER JOIN ovr_verificacoesfisicas rvf ON  rvf.ovr_id = ficha.id\n",
    "     INNER JOIN ovr_recintos r ON r.id = ficha.recinto_id\n",
    "     INNER join ovr_flags_ovr flags on flags.rvf_id = ficha.id\n",
    "     LEFT join conhecimentosresumo c on c.numeroCEmercante = ficha.numeroCEmercante\n",
    "     where flags.flag_id = 2472\n",
    "     ORDER BY r.nome, rvf.datahora\n",
    "'''\n",
    "\n",
    "# Usando o contexto de conexão para garantir o uso correto da conexão\n",
    "try:\n",
    "    # Estabelecendo a conexão com o banco de dados\n",
    "    connection = pymysql.connect(**connection_details)\n",
    "\n",
    "    # Executa a query e carrega o resultado em um DataFrame\n",
    "    df_Rodes = pd.read_sql(SQL_Rodes, connection)\n",
    "\n",
    "    # Obtendo a data atual\n",
    "    today_ = datetime.today()\n",
    "\n",
    "    # Exibindo os primeiros registros do DataFrame como exemplo\n",
    "    display(df_Rodes.head())\n",
    "\n",
    "except Exception as e:\n",
    "    print(f\"Erro ao conectar ou executar a query: {e}\")\n"
   ]
  },
  {
   "cell_type": "markdown",
   "id": "7c3ef2f2-ab94-4510-9d33-4b24ab25b3f0",
   "metadata": {},
   "source": [
    "## Conteiner por Ficha"
   ]
  },
  {
   "cell_type": "code",
   "execution_count": 4,
   "id": "46a5b847-e0ea-490a-8ef7-803e1874c18b",
   "metadata": {},
   "outputs": [
    {
     "name": "stderr",
     "output_type": "stream",
     "text": [
      "C:\\Users\\11913225640\\AppData\\Local\\Temp\\ipykernel_10952\\3756823540.py:14: UserWarning: pandas only supports SQLAlchemy connectable (engine/connection) or database string URI or sqlite3 DBAPI2 connection. Other DBAPI2 objects are not tested. Please consider using SQLAlchemy.\n",
      "  df_tgs = pd.read_sql(SQL_TGs, connection)\n"
     ]
    },
    {
     "data": {
      "text/html": [
       "<div>\n",
       "<style scoped>\n",
       "    .dataframe tbody tr th:only-of-type {\n",
       "        vertical-align: middle;\n",
       "    }\n",
       "\n",
       "    .dataframe tbody tr th {\n",
       "        vertical-align: top;\n",
       "    }\n",
       "\n",
       "    .dataframe thead th {\n",
       "        text-align: right;\n",
       "    }\n",
       "</style>\n",
       "<table border=\"1\" class=\"dataframe\">\n",
       "  <thead>\n",
       "    <tr style=\"text-align: right;\">\n",
       "      <th></th>\n",
       "      <th>Ano</th>\n",
       "      <th>Ficha</th>\n",
       "      <th>Conteiner</th>\n",
       "    </tr>\n",
       "  </thead>\n",
       "  <tbody>\n",
       "    <tr>\n",
       "      <th>0</th>\n",
       "      <td>2025</td>\n",
       "      <td>11600</td>\n",
       "      <td>FSCU9318964</td>\n",
       "    </tr>\n",
       "    <tr>\n",
       "      <th>1</th>\n",
       "      <td>2025</td>\n",
       "      <td>11600</td>\n",
       "      <td>FSCU9318964</td>\n",
       "    </tr>\n",
       "  </tbody>\n",
       "</table>\n",
       "</div>"
      ],
      "text/plain": [
       "    Ano  Ficha    Conteiner\n",
       "0  2025  11600  FSCU9318964\n",
       "1  2025  11600  FSCU9318964"
      ]
     },
     "metadata": {},
     "output_type": "display_data"
    }
   ],
   "source": [
    "SQL_TGs = \\\n",
    "    '''SELECT year(tg.create_date) AS Ano, ovr.id AS Ficha,\n",
    "         rvf.numerolote as Conteiner\n",
    "       FROM ovr_ovrs ovr\n",
    "       inner join ovr_verificacoesfisicas rvf on rvf.ovr_id = ovr.id\n",
    "       INNER JOIN ovr_tgovr tg ON ovr.id = tg.ovr_id\n",
    "       INNER JOIN ovr_flags_ovr flags ON flags.rvf_id = ovr.id\n",
    "       WHERE ovr.setor_id IN (1, 2)\n",
    "       AND flags.flag_id = 2472;'''\n",
    "\n",
    "try:\n",
    "\n",
    "    # Executa a query e carrega o resultado em um DataFrame\n",
    "    df_tgs = pd.read_sql(SQL_TGs, connection)\n",
    "\n",
    "    # Exibindo os primeiros registros do DataFrame como exemplo\n",
    "    display(df_tgs.head())\n",
    "\n",
    "except Exception as e:\n",
    "    print(f\"Erro ao conectar ou executar a query: {e}\")"
   ]
  },
  {
   "cell_type": "markdown",
   "id": "1a362606-bf69-4f65-84c2-adfb07af527f",
   "metadata": {},
   "source": [
    "## Visão consolidada TG"
   ]
  },
  {
   "cell_type": "code",
   "execution_count": 7,
   "id": "2d9651d6-75ea-4b26-b34c-6a59a23643d9",
   "metadata": {},
   "outputs": [
    {
     "name": "stderr",
     "output_type": "stream",
     "text": [
      "C:\\Users\\11913225640\\AppData\\Local\\Temp\\ipykernel_10952\\3515672896.py:14: UserWarning: pandas only supports SQLAlchemy connectable (engine/connection) or database string URI or sqlite3 DBAPI2 connection. Other DBAPI2 objects are not tested. Please consider using SQLAlchemy.\n",
      "  df_tgs_sum = pd.read_sql(SQL_TGs_SUM, connection)\n"
     ]
    },
    {
     "data": {
      "text/html": [
       "<div>\n",
       "<style scoped>\n",
       "    .dataframe tbody tr th:only-of-type {\n",
       "        vertical-align: middle;\n",
       "    }\n",
       "\n",
       "    .dataframe tbody tr th {\n",
       "        vertical-align: top;\n",
       "    }\n",
       "\n",
       "    .dataframe thead th {\n",
       "        text-align: right;\n",
       "    }\n",
       "</style>\n",
       "<table border=\"1\" class=\"dataframe\">\n",
       "  <thead>\n",
       "    <tr style=\"text-align: right;\">\n",
       "      <th></th>\n",
       "      <th>Ano</th>\n",
       "      <th>Mês</th>\n",
       "      <th>Qtde</th>\n",
       "      <th>ValorTG</th>\n",
       "      <th>Conteiner</th>\n",
       "    </tr>\n",
       "  </thead>\n",
       "  <tbody>\n",
       "    <tr>\n",
       "      <th>0</th>\n",
       "      <td>2025</td>\n",
       "      <td>5</td>\n",
       "      <td>2</td>\n",
       "      <td>R$ 5,265,225.00</td>\n",
       "      <td>FSCU9318964</td>\n",
       "    </tr>\n",
       "  </tbody>\n",
       "</table>\n",
       "</div>"
      ],
      "text/plain": [
       "    Ano  Mês  Qtde         ValorTG    Conteiner\n",
       "0  2025    5     2 R$ 5,265,225.00  FSCU9318964"
      ]
     },
     "metadata": {},
     "output_type": "display_data"
    }
   ],
   "source": [
    "\n",
    "SQL_TGs_SUM = \\\n",
    "    '''SELECT year(tg.create_date) AS Ano, month(tg.create_date) AS Mês, \n",
    "              COUNT(tg.id) AS Qtde, SUM(tg.valor) AS ValorTG, rvf.numerolote as Conteiner\n",
    "       FROM ovr_ovrs ovr\n",
    "       inner join ovr_verificacoesfisicas rvf on rvf.ovr_id = ovr.id\n",
    "       INNER JOIN ovr_tgovr tg ON ovr.id = tg.ovr_id\n",
    "       INNER JOIN ovr_flags_ovr flags ON flags.rvf_id = ovr.id \n",
    "       WHERE ovr.setor_id IN (1, 2)\n",
    "       AND flags.flag_id = 2472\n",
    "       GROUP BY year(tg.create_date), month(tg.create_date);'''\n",
    "\n",
    "try:\n",
    "    # Executa a query e carrega o resultado em um DataFrame\n",
    "    df_tgs_sum = pd.read_sql(SQL_TGs_SUM, connection)\n",
    "\n",
    "    # Exibindo os primeiros registros do DataFrame como exemplo\n",
    "    display(df_tgs_sum.head())\n",
    "\n",
    "except Exception as e:\n",
    "    print(f\"Erro ao conectar ou executar a query: {e}\")"
   ]
  },
  {
   "cell_type": "markdown",
   "id": "8ab6ded9-06bf-41d6-a602-d6325f6f7658",
   "metadata": {},
   "source": [
    "## Total Containeres, TGs e Valor parcial perdimento"
   ]
  },
  {
   "cell_type": "code",
   "execution_count": 9,
   "id": "70f97e95-61c2-4917-81e3-76eb9c36dd1c",
   "metadata": {},
   "outputs": [
    {
     "name": "stderr",
     "output_type": "stream",
     "text": [
      "C:\\Users\\11913225640\\AppData\\Local\\Temp\\ipykernel_10952\\1921432395.py:13: UserWarning: pandas only supports SQLAlchemy connectable (engine/connection) or database string URI or sqlite3 DBAPI2 connection. Other DBAPI2 objects are not tested. Please consider using SQLAlchemy.\n",
      "  df_Rodes_apreensoes = pd.read_sql(SQL_TGs_RODES, connection)\n"
     ]
    },
    {
     "name": "stdout",
     "output_type": "stream",
     "text": [
      "Ano: 2025.0, Conteiner: 2.0, Total de TGs: 1.0, Total ValorTG: 5265225.0\n"
     ]
    }
   ],
   "source": [
    "SQL_TGs_RODES = \\\n",
    "    '''SELECT year(tg.create_date) as Ano, month(tg.create_date) as Mês, ovr.id as Ficha,\n",
    "      tg.id as TG, tg.valor as ValorTG, rvf.numerolote as Conteiner\n",
    "      FROM ovr_ovrs ovr\n",
    "      inner join ovr_verificacoesfisicas rvf on rvf.ovr_id = ovr.id\n",
    "     inner join ovr_tgovr tg on ovr.id = tg.ovr_id\n",
    "     inner join ovr_flags_ovr flags on flags.rvf_id = ovr.id\n",
    "     where flags.flag_id = 2472 and tg.valor > 2000\n",
    "     order by Ano, Mês;'''\n",
    "\n",
    "\n",
    "# Executa a query e carrega o resultado em um DataFrame\n",
    "df_Rodes_apreensoes = pd.read_sql(SQL_TGs_RODES, connection)\n",
    "\n",
    "# Agrupando por ano e calculando a contagem de TGs e a soma de ValorTG\n",
    "resultados = df_Rodes_apreensoes.groupby('Ano').agg(\n",
    "    Total_Conteiner=('Conteiner', 'count'), #>> 1.1 Qual o total de contêineres retidos?  \n",
    "    Total_TGs=('TG', 'nunique'),\n",
    "    Total_ValorTG=('ValorTG', 'sum') #>> 1.3 Valor parcial dos perdimentos? \n",
    ").reset_index()\n",
    "\n",
    "# Imprimindo os resultados\n",
    "for index, row in resultados.iterrows():\n",
    "    print(f\"Ano: {row['Ano']}, Conteiner: {row['Total_Conteiner']}, Total de TGs: {row['Total_TGs']}, Total ValorTG: {row['Total_ValorTG']}\")"
   ]
  },
  {
   "cell_type": "markdown",
   "id": "f324aced-bcfc-45fe-8a3e-b08eeed956d9",
   "metadata": {},
   "source": [
    "##  Andamento dos saneamentos"
   ]
  },
  {
   "cell_type": "code",
   "execution_count": 12,
   "id": "ec5451f8-5943-4862-832e-13e9da0f1e04",
   "metadata": {},
   "outputs": [
    {
     "name": "stdout",
     "output_type": "stream",
     "text": [
      "26 Fichas de controle no total, com os seguintes status:\n"
     ]
    },
    {
     "name": "stderr",
     "output_type": "stream",
     "text": [
      "C:\\Users\\11913225640\\AppData\\Local\\Temp\\ipykernel_10952\\1315491290.py:22: UserWarning:\n",
      "\n",
      "pandas only supports SQLAlchemy connectable (engine/connection) or database string URI or sqlite3 DBAPI2 connection. Other DBAPI2 objects are not tested. Please consider using SQLAlchemy.\n",
      "\n"
     ]
    },
    {
     "data": {
      "application/vnd.plotly.v1+json": {
       "config": {
        "plotlyServerURL": "https://plot.ly"
       },
       "data": [
        {
         "domain": {
          "x": [
           0,
           1
          ],
          "y": [
           0,
           1
          ]
         },
         "hovertemplate": "Estágio=%{label}<br>Ficha=%{value}<extra></extra>",
         "labels": [
          "Arquivada",
          "Ativa",
          "Suspensa",
          "Suspensa",
          "Suspensa"
         ],
         "legendgroup": "",
         "name": "",
         "showlegend": true,
         "textinfo": "percent+label+value",
         "textposition": "inside",
         "type": "pie",
         "values": [
          3,
          4,
          14,
          4,
          1
         ]
        }
       ],
       "layout": {
        "legend": {
         "tracegroupgap": 0
        },
        "template": {
         "data": {
          "bar": [
           {
            "error_x": {
             "color": "#2a3f5f"
            },
            "error_y": {
             "color": "#2a3f5f"
            },
            "marker": {
             "line": {
              "color": "#E5ECF6",
              "width": 0.5
             },
             "pattern": {
              "fillmode": "overlay",
              "size": 10,
              "solidity": 0.2
             }
            },
            "type": "bar"
           }
          ],
          "barpolar": [
           {
            "marker": {
             "line": {
              "color": "#E5ECF6",
              "width": 0.5
             },
             "pattern": {
              "fillmode": "overlay",
              "size": 10,
              "solidity": 0.2
             }
            },
            "type": "barpolar"
           }
          ],
          "carpet": [
           {
            "aaxis": {
             "endlinecolor": "#2a3f5f",
             "gridcolor": "white",
             "linecolor": "white",
             "minorgridcolor": "white",
             "startlinecolor": "#2a3f5f"
            },
            "baxis": {
             "endlinecolor": "#2a3f5f",
             "gridcolor": "white",
             "linecolor": "white",
             "minorgridcolor": "white",
             "startlinecolor": "#2a3f5f"
            },
            "type": "carpet"
           }
          ],
          "choropleth": [
           {
            "colorbar": {
             "outlinewidth": 0,
             "ticks": ""
            },
            "type": "choropleth"
           }
          ],
          "contour": [
           {
            "colorbar": {
             "outlinewidth": 0,
             "ticks": ""
            },
            "colorscale": [
             [
              0,
              "#0d0887"
             ],
             [
              0.1111111111111111,
              "#46039f"
             ],
             [
              0.2222222222222222,
              "#7201a8"
             ],
             [
              0.3333333333333333,
              "#9c179e"
             ],
             [
              0.4444444444444444,
              "#bd3786"
             ],
             [
              0.5555555555555556,
              "#d8576b"
             ],
             [
              0.6666666666666666,
              "#ed7953"
             ],
             [
              0.7777777777777778,
              "#fb9f3a"
             ],
             [
              0.8888888888888888,
              "#fdca26"
             ],
             [
              1,
              "#f0f921"
             ]
            ],
            "type": "contour"
           }
          ],
          "contourcarpet": [
           {
            "colorbar": {
             "outlinewidth": 0,
             "ticks": ""
            },
            "type": "contourcarpet"
           }
          ],
          "heatmap": [
           {
            "colorbar": {
             "outlinewidth": 0,
             "ticks": ""
            },
            "colorscale": [
             [
              0,
              "#0d0887"
             ],
             [
              0.1111111111111111,
              "#46039f"
             ],
             [
              0.2222222222222222,
              "#7201a8"
             ],
             [
              0.3333333333333333,
              "#9c179e"
             ],
             [
              0.4444444444444444,
              "#bd3786"
             ],
             [
              0.5555555555555556,
              "#d8576b"
             ],
             [
              0.6666666666666666,
              "#ed7953"
             ],
             [
              0.7777777777777778,
              "#fb9f3a"
             ],
             [
              0.8888888888888888,
              "#fdca26"
             ],
             [
              1,
              "#f0f921"
             ]
            ],
            "type": "heatmap"
           }
          ],
          "heatmapgl": [
           {
            "colorbar": {
             "outlinewidth": 0,
             "ticks": ""
            },
            "colorscale": [
             [
              0,
              "#0d0887"
             ],
             [
              0.1111111111111111,
              "#46039f"
             ],
             [
              0.2222222222222222,
              "#7201a8"
             ],
             [
              0.3333333333333333,
              "#9c179e"
             ],
             [
              0.4444444444444444,
              "#bd3786"
             ],
             [
              0.5555555555555556,
              "#d8576b"
             ],
             [
              0.6666666666666666,
              "#ed7953"
             ],
             [
              0.7777777777777778,
              "#fb9f3a"
             ],
             [
              0.8888888888888888,
              "#fdca26"
             ],
             [
              1,
              "#f0f921"
             ]
            ],
            "type": "heatmapgl"
           }
          ],
          "histogram": [
           {
            "marker": {
             "pattern": {
              "fillmode": "overlay",
              "size": 10,
              "solidity": 0.2
             }
            },
            "type": "histogram"
           }
          ],
          "histogram2d": [
           {
            "colorbar": {
             "outlinewidth": 0,
             "ticks": ""
            },
            "colorscale": [
             [
              0,
              "#0d0887"
             ],
             [
              0.1111111111111111,
              "#46039f"
             ],
             [
              0.2222222222222222,
              "#7201a8"
             ],
             [
              0.3333333333333333,
              "#9c179e"
             ],
             [
              0.4444444444444444,
              "#bd3786"
             ],
             [
              0.5555555555555556,
              "#d8576b"
             ],
             [
              0.6666666666666666,
              "#ed7953"
             ],
             [
              0.7777777777777778,
              "#fb9f3a"
             ],
             [
              0.8888888888888888,
              "#fdca26"
             ],
             [
              1,
              "#f0f921"
             ]
            ],
            "type": "histogram2d"
           }
          ],
          "histogram2dcontour": [
           {
            "colorbar": {
             "outlinewidth": 0,
             "ticks": ""
            },
            "colorscale": [
             [
              0,
              "#0d0887"
             ],
             [
              0.1111111111111111,
              "#46039f"
             ],
             [
              0.2222222222222222,
              "#7201a8"
             ],
             [
              0.3333333333333333,
              "#9c179e"
             ],
             [
              0.4444444444444444,
              "#bd3786"
             ],
             [
              0.5555555555555556,
              "#d8576b"
             ],
             [
              0.6666666666666666,
              "#ed7953"
             ],
             [
              0.7777777777777778,
              "#fb9f3a"
             ],
             [
              0.8888888888888888,
              "#fdca26"
             ],
             [
              1,
              "#f0f921"
             ]
            ],
            "type": "histogram2dcontour"
           }
          ],
          "mesh3d": [
           {
            "colorbar": {
             "outlinewidth": 0,
             "ticks": ""
            },
            "type": "mesh3d"
           }
          ],
          "parcoords": [
           {
            "line": {
             "colorbar": {
              "outlinewidth": 0,
              "ticks": ""
             }
            },
            "type": "parcoords"
           }
          ],
          "pie": [
           {
            "automargin": true,
            "type": "pie"
           }
          ],
          "scatter": [
           {
            "fillpattern": {
             "fillmode": "overlay",
             "size": 10,
             "solidity": 0.2
            },
            "type": "scatter"
           }
          ],
          "scatter3d": [
           {
            "line": {
             "colorbar": {
              "outlinewidth": 0,
              "ticks": ""
             }
            },
            "marker": {
             "colorbar": {
              "outlinewidth": 0,
              "ticks": ""
             }
            },
            "type": "scatter3d"
           }
          ],
          "scattercarpet": [
           {
            "marker": {
             "colorbar": {
              "outlinewidth": 0,
              "ticks": ""
             }
            },
            "type": "scattercarpet"
           }
          ],
          "scattergeo": [
           {
            "marker": {
             "colorbar": {
              "outlinewidth": 0,
              "ticks": ""
             }
            },
            "type": "scattergeo"
           }
          ],
          "scattergl": [
           {
            "marker": {
             "colorbar": {
              "outlinewidth": 0,
              "ticks": ""
             }
            },
            "type": "scattergl"
           }
          ],
          "scattermapbox": [
           {
            "marker": {
             "colorbar": {
              "outlinewidth": 0,
              "ticks": ""
             }
            },
            "type": "scattermapbox"
           }
          ],
          "scatterpolar": [
           {
            "marker": {
             "colorbar": {
              "outlinewidth": 0,
              "ticks": ""
             }
            },
            "type": "scatterpolar"
           }
          ],
          "scatterpolargl": [
           {
            "marker": {
             "colorbar": {
              "outlinewidth": 0,
              "ticks": ""
             }
            },
            "type": "scatterpolargl"
           }
          ],
          "scatterternary": [
           {
            "marker": {
             "colorbar": {
              "outlinewidth": 0,
              "ticks": ""
             }
            },
            "type": "scatterternary"
           }
          ],
          "surface": [
           {
            "colorbar": {
             "outlinewidth": 0,
             "ticks": ""
            },
            "colorscale": [
             [
              0,
              "#0d0887"
             ],
             [
              0.1111111111111111,
              "#46039f"
             ],
             [
              0.2222222222222222,
              "#7201a8"
             ],
             [
              0.3333333333333333,
              "#9c179e"
             ],
             [
              0.4444444444444444,
              "#bd3786"
             ],
             [
              0.5555555555555556,
              "#d8576b"
             ],
             [
              0.6666666666666666,
              "#ed7953"
             ],
             [
              0.7777777777777778,
              "#fb9f3a"
             ],
             [
              0.8888888888888888,
              "#fdca26"
             ],
             [
              1,
              "#f0f921"
             ]
            ],
            "type": "surface"
           }
          ],
          "table": [
           {
            "cells": {
             "fill": {
              "color": "#EBF0F8"
             },
             "line": {
              "color": "white"
             }
            },
            "header": {
             "fill": {
              "color": "#C8D4E3"
             },
             "line": {
              "color": "white"
             }
            },
            "type": "table"
           }
          ]
         },
         "layout": {
          "annotationdefaults": {
           "arrowcolor": "#2a3f5f",
           "arrowhead": 0,
           "arrowwidth": 1
          },
          "autotypenumbers": "strict",
          "coloraxis": {
           "colorbar": {
            "outlinewidth": 0,
            "ticks": ""
           }
          },
          "colorscale": {
           "diverging": [
            [
             0,
             "#8e0152"
            ],
            [
             0.1,
             "#c51b7d"
            ],
            [
             0.2,
             "#de77ae"
            ],
            [
             0.3,
             "#f1b6da"
            ],
            [
             0.4,
             "#fde0ef"
            ],
            [
             0.5,
             "#f7f7f7"
            ],
            [
             0.6,
             "#e6f5d0"
            ],
            [
             0.7,
             "#b8e186"
            ],
            [
             0.8,
             "#7fbc41"
            ],
            [
             0.9,
             "#4d9221"
            ],
            [
             1,
             "#276419"
            ]
           ],
           "sequential": [
            [
             0,
             "#0d0887"
            ],
            [
             0.1111111111111111,
             "#46039f"
            ],
            [
             0.2222222222222222,
             "#7201a8"
            ],
            [
             0.3333333333333333,
             "#9c179e"
            ],
            [
             0.4444444444444444,
             "#bd3786"
            ],
            [
             0.5555555555555556,
             "#d8576b"
            ],
            [
             0.6666666666666666,
             "#ed7953"
            ],
            [
             0.7777777777777778,
             "#fb9f3a"
            ],
            [
             0.8888888888888888,
             "#fdca26"
            ],
            [
             1,
             "#f0f921"
            ]
           ],
           "sequentialminus": [
            [
             0,
             "#0d0887"
            ],
            [
             0.1111111111111111,
             "#46039f"
            ],
            [
             0.2222222222222222,
             "#7201a8"
            ],
            [
             0.3333333333333333,
             "#9c179e"
            ],
            [
             0.4444444444444444,
             "#bd3786"
            ],
            [
             0.5555555555555556,
             "#d8576b"
            ],
            [
             0.6666666666666666,
             "#ed7953"
            ],
            [
             0.7777777777777778,
             "#fb9f3a"
            ],
            [
             0.8888888888888888,
             "#fdca26"
            ],
            [
             1,
             "#f0f921"
            ]
           ]
          },
          "colorway": [
           "#636efa",
           "#EF553B",
           "#00cc96",
           "#ab63fa",
           "#FFA15A",
           "#19d3f3",
           "#FF6692",
           "#B6E880",
           "#FF97FF",
           "#FECB52"
          ],
          "font": {
           "color": "#2a3f5f"
          },
          "geo": {
           "bgcolor": "white",
           "lakecolor": "white",
           "landcolor": "#E5ECF6",
           "showlakes": true,
           "showland": true,
           "subunitcolor": "white"
          },
          "hoverlabel": {
           "align": "left"
          },
          "hovermode": "closest",
          "mapbox": {
           "style": "light"
          },
          "paper_bgcolor": "white",
          "plot_bgcolor": "#E5ECF6",
          "polar": {
           "angularaxis": {
            "gridcolor": "white",
            "linecolor": "white",
            "ticks": ""
           },
           "bgcolor": "#E5ECF6",
           "radialaxis": {
            "gridcolor": "white",
            "linecolor": "white",
            "ticks": ""
           }
          },
          "scene": {
           "xaxis": {
            "backgroundcolor": "#E5ECF6",
            "gridcolor": "white",
            "gridwidth": 2,
            "linecolor": "white",
            "showbackground": true,
            "ticks": "",
            "zerolinecolor": "white"
           },
           "yaxis": {
            "backgroundcolor": "#E5ECF6",
            "gridcolor": "white",
            "gridwidth": 2,
            "linecolor": "white",
            "showbackground": true,
            "ticks": "",
            "zerolinecolor": "white"
           },
           "zaxis": {
            "backgroundcolor": "#E5ECF6",
            "gridcolor": "white",
            "gridwidth": 2,
            "linecolor": "white",
            "showbackground": true,
            "ticks": "",
            "zerolinecolor": "white"
           }
          },
          "shapedefaults": {
           "line": {
            "color": "#2a3f5f"
           }
          },
          "ternary": {
           "aaxis": {
            "gridcolor": "white",
            "linecolor": "white",
            "ticks": ""
           },
           "baxis": {
            "gridcolor": "white",
            "linecolor": "white",
            "ticks": ""
           },
           "bgcolor": "#E5ECF6",
           "caxis": {
            "gridcolor": "white",
            "linecolor": "white",
            "ticks": ""
           }
          },
          "title": {
           "x": 0.05
          },
          "xaxis": {
           "automargin": true,
           "gridcolor": "white",
           "linecolor": "white",
           "ticks": "",
           "title": {
            "standoff": 15
           },
           "zerolinecolor": "white",
           "zerolinewidth": 2
          },
          "yaxis": {
           "automargin": true,
           "gridcolor": "white",
           "linecolor": "white",
           "ticks": "",
           "title": {
            "standoff": 15
           },
           "zerolinecolor": "white",
           "zerolinewidth": 2
          }
         }
        },
        "title": {
         "text": "Quantidade de Fichas por Estágio atual"
        },
        "width": 1100
       }
      },
      "image/png": "[encoded data removed]",
      "text/html": [
       "<div>                            <div id=\"a8fdba3a-6bc5-49b1-808a-db2a2b7985aa\" class=\"plotly-graph-div\" style=\"height:525px; width:1100px;\"></div>            <script type=\"text/javascript\">                require([\"plotly\"], function(Plotly) {                    window.PLOTLYENV=window.PLOTLYENV || {};                                    if (document.getElementById(\"a8fdba3a-6bc5-49b1-808a-db2a2b7985aa\")) {                    Plotly.newPlot(                        \"a8fdba3a-6bc5-49b1-808a-db2a2b7985aa\",                        [{\"domain\":{\"x\":[0.0,1.0],\"y\":[0.0,1.0]},\"hovertemplate\":\"Estágio=%{label}\\u003cbr\\u003eFicha=%{value}\\u003cextra\\u003e\\u003c\\u002fextra\\u003e\",\"labels\":[\"Arquivada\",\"Ativa\",\"Suspensa\",\"Suspensa\",\"Suspensa\"],\"legendgroup\":\"\",\"name\":\"\",\"showlegend\":true,\"values\":[3,4,14,4,1],\"type\":\"pie\",\"textinfo\":\"percent+label+value\",\"textposition\":\"inside\"}],                        {\"template\":{\"data\":{\"histogram2dcontour\":[{\"type\":\"histogram2dcontour\",\"colorbar\":{\"outlinewidth\":0,\"ticks\":\"\"},\"colorscale\":[[0.0,\"#0d0887\"],[0.1111111111111111,\"#46039f\"],[0.2222222222222222,\"#7201a8\"],[0.3333333333333333,\"#9c179e\"],[0.4444444444444444,\"#bd3786\"],[0.5555555555555556,\"#d8576b\"],[0.6666666666666666,\"#ed7953\"],[0.7777777777777778,\"#fb9f3a\"],[0.8888888888888888,\"#fdca26\"],[1.0,\"#f0f921\"]]}],\"choropleth\":[{\"type\":\"choropleth\",\"colorbar\":{\"outlinewidth\":0,\"ticks\":\"\"}}],\"histogram2d\":[{\"type\":\"histogram2d\",\"colorbar\":{\"outlinewidth\":0,\"ticks\":\"\"},\"colorscale\":[[0.0,\"#0d0887\"],[0.1111111111111111,\"#46039f\"],[0.2222222222222222,\"#7201a8\"],[0.3333333333333333,\"#9c179e\"],[0.4444444444444444,\"#bd3786\"],[0.5555555555555556,\"#d8576b\"],[0.6666666666666666,\"#ed7953\"],[0.7777777777777778,\"#fb9f3a\"],[0.8888888888888888,\"#fdca26\"],[1.0,\"#f0f921\"]]}],\"heatmap\":[{\"type\":\"heatmap\",\"colorbar\":{\"outlinewidth\":0,\"ticks\":\"\"},\"colorscale\":[[0.0,\"#0d0887\"],[0.1111111111111111,\"#46039f\"],[0.2222222222222222,\"#7201a8\"],[0.3333333333333333,\"#9c179e\"],[0.4444444444444444,\"#bd3786\"],[0.5555555555555556,\"#d8576b\"],[0.6666666666666666,\"#ed7953\"],[0.7777777777777778,\"#fb9f3a\"],[0.8888888888888888,\"#fdca26\"],[1.0,\"#f0f921\"]]}],\"heatmapgl\":[{\"type\":\"heatmapgl\",\"colorbar\":{\"outlinewidth\":0,\"ticks\":\"\"},\"colorscale\":[[0.0,\"#0d0887\"],[0.1111111111111111,\"#46039f\"],[0.2222222222222222,\"#7201a8\"],[0.3333333333333333,\"#9c179e\"],[0.4444444444444444,\"#bd3786\"],[0.5555555555555556,\"#d8576b\"],[0.6666666666666666,\"#ed7953\"],[0.7777777777777778,\"#fb9f3a\"],[0.8888888888888888,\"#fdca26\"],[1.0,\"#f0f921\"]]}],\"contourcarpet\":[{\"type\":\"contourcarpet\",\"colorbar\":{\"outlinewidth\":0,\"ticks\":\"\"}}],\"contour\":[{\"type\":\"contour\",\"colorbar\":{\"outlinewidth\":0,\"ticks\":\"\"},\"colorscale\":[[0.0,\"#0d0887\"],[0.1111111111111111,\"#46039f\"],[0.2222222222222222,\"#7201a8\"],[0.3333333333333333,\"#9c179e\"],[0.4444444444444444,\"#bd3786\"],[0.5555555555555556,\"#d8576b\"],[0.6666666666666666,\"#ed7953\"],[0.7777777777777778,\"#fb9f3a\"],[0.8888888888888888,\"#fdca26\"],[1.0,\"#f0f921\"]]}],\"surface\":[{\"type\":\"surface\",\"colorbar\":{\"outlinewidth\":0,\"ticks\":\"\"},\"colorscale\":[[0.0,\"#0d0887\"],[0.1111111111111111,\"#46039f\"],[0.2222222222222222,\"#7201a8\"],[0.3333333333333333,\"#9c179e\"],[0.4444444444444444,\"#bd3786\"],[0.5555555555555556,\"#d8576b\"],[0.6666666666666666,\"#ed7953\"],[0.7777777777777778,\"#fb9f3a\"],[0.8888888888888888,\"#fdca26\"],[1.0,\"#f0f921\"]]}],\"mesh3d\":[{\"type\":\"mesh3d\",\"colorbar\":{\"outlinewidth\":0,\"ticks\":\"\"}}],\"scatter\":[{\"fillpattern\":{\"fillmode\":\"overlay\",\"size\":10,\"solidity\":0.2},\"type\":\"scatter\"}],\"parcoords\":[{\"type\":\"parcoords\",\"line\":{\"colorbar\":{\"outlinewidth\":0,\"ticks\":\"\"}}}],\"scatterpolargl\":[{\"type\":\"scatterpolargl\",\"marker\":{\"colorbar\":{\"outlinewidth\":0,\"ticks\":\"\"}}}],\"bar\":[{\"error_x\":{\"color\":\"#2a3f5f\"},\"error_y\":{\"color\":\"#2a3f5f\"},\"marker\":{\"line\":{\"color\":\"#E5ECF6\",\"width\":0.5},\"pattern\":{\"fillmode\":\"overlay\",\"size\":10,\"solidity\":0.2}},\"type\":\"bar\"}],\"scattergeo\":[{\"type\":\"scattergeo\",\"marker\":{\"colorbar\":{\"outlinewidth\":0,\"ticks\":\"\"}}}],\"scatterpolar\":[{\"type\":\"scatterpolar\",\"marker\":{\"colorbar\":{\"outlinewidth\":0,\"ticks\":\"\"}}}],\"histogram\":[{\"marker\":{\"pattern\":{\"fillmode\":\"overlay\",\"size\":10,\"solidity\":0.2}},\"type\":\"histogram\"}],\"scattergl\":[{\"type\":\"scattergl\",\"marker\":{\"colorbar\":{\"outlinewidth\":0,\"ticks\":\"\"}}}],\"scatter3d\":[{\"type\":\"scatter3d\",\"line\":{\"colorbar\":{\"outlinewidth\":0,\"ticks\":\"\"}},\"marker\":{\"colorbar\":{\"outlinewidth\":0,\"ticks\":\"\"}}}],\"scattermapbox\":[{\"type\":\"scattermapbox\",\"marker\":{\"colorbar\":{\"outlinewidth\":0,\"ticks\":\"\"}}}],\"scatterternary\":[{\"type\":\"scatterternary\",\"marker\":{\"colorbar\":{\"outlinewidth\":0,\"ticks\":\"\"}}}],\"scattercarpet\":[{\"type\":\"scattercarpet\",\"marker\":{\"colorbar\":{\"outlinewidth\":0,\"ticks\":\"\"}}}],\"carpet\":[{\"aaxis\":{\"endlinecolor\":\"#2a3f5f\",\"gridcolor\":\"white\",\"linecolor\":\"white\",\"minorgridcolor\":\"white\",\"startlinecolor\":\"#2a3f5f\"},\"baxis\":{\"endlinecolor\":\"#2a3f5f\",\"gridcolor\":\"white\",\"linecolor\":\"white\",\"minorgridcolor\":\"white\",\"startlinecolor\":\"#2a3f5f\"},\"type\":\"carpet\"}],\"table\":[{\"cells\":{\"fill\":{\"color\":\"#EBF0F8\"},\"line\":{\"color\":\"white\"}},\"header\":{\"fill\":{\"color\":\"#C8D4E3\"},\"line\":{\"color\":\"white\"}},\"type\":\"table\"}],\"barpolar\":[{\"marker\":{\"line\":{\"color\":\"#E5ECF6\",\"width\":0.5},\"pattern\":{\"fillmode\":\"overlay\",\"size\":10,\"solidity\":0.2}},\"type\":\"barpolar\"}],\"pie\":[{\"automargin\":true,\"type\":\"pie\"}]},\"layout\":{\"autotypenumbers\":\"strict\",\"colorway\":[\"#636efa\",\"#EF553B\",\"#00cc96\",\"#ab63fa\",\"#FFA15A\",\"#19d3f3\",\"#FF6692\",\"#B6E880\",\"#FF97FF\",\"#FECB52\"],\"font\":{\"color\":\"#2a3f5f\"},\"hovermode\":\"closest\",\"hoverlabel\":{\"align\":\"left\"},\"paper_bgcolor\":\"white\",\"plot_bgcolor\":\"#E5ECF6\",\"polar\":{\"bgcolor\":\"#E5ECF6\",\"angularaxis\":{\"gridcolor\":\"white\",\"linecolor\":\"white\",\"ticks\":\"\"},\"radialaxis\":{\"gridcolor\":\"white\",\"linecolor\":\"white\",\"ticks\":\"\"}},\"ternary\":{\"bgcolor\":\"#E5ECF6\",\"aaxis\":{\"gridcolor\":\"white\",\"linecolor\":\"white\",\"ticks\":\"\"},\"baxis\":{\"gridcolor\":\"white\",\"linecolor\":\"white\",\"ticks\":\"\"},\"caxis\":{\"gridcolor\":\"white\",\"linecolor\":\"white\",\"ticks\":\"\"}},\"coloraxis\":{\"colorbar\":{\"outlinewidth\":0,\"ticks\":\"\"}},\"colorscale\":{\"sequential\":[[0.0,\"#0d0887\"],[0.1111111111111111,\"#46039f\"],[0.2222222222222222,\"#7201a8\"],[0.3333333333333333,\"#9c179e\"],[0.4444444444444444,\"#bd3786\"],[0.5555555555555556,\"#d8576b\"],[0.6666666666666666,\"#ed7953\"],[0.7777777777777778,\"#fb9f3a\"],[0.8888888888888888,\"#fdca26\"],[1.0,\"#f0f921\"]],\"sequentialminus\":[[0.0,\"#0d0887\"],[0.1111111111111111,\"#46039f\"],[0.2222222222222222,\"#7201a8\"],[0.3333333333333333,\"#9c179e\"],[0.4444444444444444,\"#bd3786\"],[0.5555555555555556,\"#d8576b\"],[0.6666666666666666,\"#ed7953\"],[0.7777777777777778,\"#fb9f3a\"],[0.8888888888888888,\"#fdca26\"],[1.0,\"#f0f921\"]],\"diverging\":[[0,\"#8e0152\"],[0.1,\"#c51b7d\"],[0.2,\"#de77ae\"],[0.3,\"#f1b6da\"],[0.4,\"#fde0ef\"],[0.5,\"#f7f7f7\"],[0.6,\"#e6f5d0\"],[0.7,\"#b8e186\"],[0.8,\"#7fbc41\"],[0.9,\"#4d9221\"],[1,\"#276419\"]]},\"xaxis\":{\"gridcolor\":\"white\",\"linecolor\":\"white\",\"ticks\":\"\",\"title\":{\"standoff\":15},\"zerolinecolor\":\"white\",\"automargin\":true,\"zerolinewidth\":2},\"yaxis\":{\"gridcolor\":\"white\",\"linecolor\":\"white\",\"ticks\":\"\",\"title\":{\"standoff\":15},\"zerolinecolor\":\"white\",\"automargin\":true,\"zerolinewidth\":2},\"scene\":{\"xaxis\":{\"backgroundcolor\":\"#E5ECF6\",\"gridcolor\":\"white\",\"linecolor\":\"white\",\"showbackground\":true,\"ticks\":\"\",\"zerolinecolor\":\"white\",\"gridwidth\":2},\"yaxis\":{\"backgroundcolor\":\"#E5ECF6\",\"gridcolor\":\"white\",\"linecolor\":\"white\",\"showbackground\":true,\"ticks\":\"\",\"zerolinecolor\":\"white\",\"gridwidth\":2},\"zaxis\":{\"backgroundcolor\":\"#E5ECF6\",\"gridcolor\":\"white\",\"linecolor\":\"white\",\"showbackground\":true,\"ticks\":\"\",\"zerolinecolor\":\"white\",\"gridwidth\":2}},\"shapedefaults\":{\"line\":{\"color\":\"#2a3f5f\"}},\"annotationdefaults\":{\"arrowcolor\":\"#2a3f5f\",\"arrowhead\":0,\"arrowwidth\":1},\"geo\":{\"bgcolor\":\"white\",\"landcolor\":\"#E5ECF6\",\"subunitcolor\":\"white\",\"showland\":true,\"showlakes\":true,\"lakecolor\":\"white\"},\"title\":{\"x\":0.05},\"mapbox\":{\"style\":\"light\"}}},\"legend\":{\"tracegroupgap\":0},\"title\":{\"text\":\"Quantidade de Fichas por Estágio atual\"},\"width\":1100},                        {\"responsive\": true}                    ).then(function(){\n",
       "                            \n",
       "var gd = document.getElementById('a8fdba3a-6bc5-49b1-808a-db2a2b7985aa');\n",
       "var x = new MutationObserver(function (mutations, observer) {{\n",
       "        var display = window.getComputedStyle(gd).display;\n",
       "        if (!display || display === 'none') {{\n",
       "            console.log([gd, 'removed!']);\n",
       "            Plotly.purge(gd);\n",
       "            observer.disconnect();\n",
       "        }}\n",
       "}});\n",
       "\n",
       "// Listen for the removal of the full notebook cells\n",
       "var notebookContainer = gd.closest('#notebook-container');\n",
       "if (notebookContainer) {{\n",
       "    x.observe(notebookContainer, {childList: true});\n",
       "}}\n",
       "\n",
       "// Listen for the clearing of the current output cell\n",
       "var outputEl = gd.closest('.output');\n",
       "if (outputEl) {{\n",
       "    x.observe(outputEl, {childList: true});\n",
       "}}\n",
       "\n",
       "                        })                };                });            </script>        </div>"
      ]
     },
     "metadata": {},
     "output_type": "display_data"
    }
   ],
   "source": [
    "\n",
    "def AnoMes(row):\n",
    "    return f\"{int(row['Ano'])}-{int(row['Mês']):02d}\"\n",
    "\n",
    "\n",
    "SQL_Fichas_Rodes_Tempos = '''\n",
    "    SELECT year(ficha.create_date) as Ano, month(ficha.create_date) as Mês, r.nome as Recinto, e.fase as Estágio,\n",
    "           ficha.id as Ficha, rvf.numerolote as Conteiner, ficha.create_date as create_date, \n",
    "           min(ev.create_date) as data_evento_inicial, max(ev.create_date) as data_evento_ultimo\n",
    "    FROM ovr_ovrs ficha\n",
    "    INNER JOIN ovr_verificacoesfisicas rvf ON rvf.ovr_id = ficha.id \n",
    "    INNER JOIN ovr_eventos ev ON ev.ovr_id = ficha.id\n",
    "    INNER JOIN ovr_flags_ovr flags ON flags.rvf_id = ficha.id\n",
    "    INNER JOIN Enumerado e ON e.id = ficha.fase\n",
    "    INNER JOIN ovr_recintos r ON r.id = ficha.recinto_id\n",
    "    WHERE flags.flag_id = 2472\n",
    "    GROUP BY year(ficha.create_date), month(ficha.create_date), r.nome, e.fase, ficha.id, rvf.numerolote, ficha.create_date\n",
    "    ORDER BY create_date ASC;\n",
    "'''\n",
    "\n",
    "# Executa e processa\n",
    "df_fichas_tempos = pd.read_sql(SQL_Fichas_Rodes_Tempos, connection)\n",
    "\n",
    "\n",
    "df_fichas_tempos['create_date'] = pd.to_datetime(df_fichas_tempos['create_date'])\n",
    "df_fichas_tempos['data_evento_ultimo'] = pd.to_datetime(df_fichas_tempos['data_evento_ultimo'])\n",
    "\n",
    "df_fichas_tempos['Duracao'] = (df_fichas_tempos['data_evento_ultimo'] - df_fichas_tempos['create_date']).dt.days\n",
    "df_fichas_tempos['AnoMes'] = df_fichas_tempos.apply(AnoMes, axis=1)\n",
    "\n",
    "# Função de visualização\n",
    "def FigFichasTempoTotal(df_=df_fichas_tempos):\n",
    "    df_fichas_estagio = df_.groupby(['AnoMes', 'Estágio']).Ficha.count().reset_index()\n",
    "    print(f'{df_fichas_estagio.Ficha.sum()} Fichas de controle no total, com os seguintes status:')\n",
    "    fig = px.pie(df_fichas_estagio, names='Estágio', values='Ficha',\n",
    "                 title='Quantidade de Fichas por Estágio atual')\n",
    "    fig.update_traces(textposition='inside', textinfo='percent+label+value')\n",
    "    fig.update_layout(width=WIDTH)\n",
    "    fig.show()\n",
    "\n",
    "\n",
    "FigFichasTempoTotal()\n"
   ]
  },
  {
   "cell_type": "markdown",
   "id": "841d66d6-f13a-445f-bda8-80794c84b24b",
   "metadata": {},
   "source": [
    "## NCM por Container"
   ]
  },
  {
   "cell_type": "code",
   "execution_count": 15,
   "id": "62c5448c-cf5f-40a2-85ad-d7cd41b87999",
   "metadata": {},
   "outputs": [
    {
     "name": "stderr",
     "output_type": "stream",
     "text": [
      "C:\\Users\\11913225640\\AppData\\Local\\Temp\\ipykernel_10952\\1642969880.py:17: UserWarning:\n",
      "\n",
      "pandas only supports SQLAlchemy connectable (engine/connection) or database string URI or sqlite3 DBAPI2 connection. Other DBAPI2 objects are not tested. Please consider using SQLAlchemy.\n",
      "\n"
     ]
    },
    {
     "data": {
      "text/html": [
       "<div>\n",
       "<style scoped>\n",
       "    .dataframe tbody tr th:only-of-type {\n",
       "        vertical-align: middle;\n",
       "    }\n",
       "\n",
       "    .dataframe tbody tr th {\n",
       "        vertical-align: top;\n",
       "    }\n",
       "\n",
       "    .dataframe thead th {\n",
       "        text-align: right;\n",
       "    }\n",
       "</style>\n",
       "<table border=\"1\" class=\"dataframe\">\n",
       "  <thead>\n",
       "    <tr style=\"text-align: right;\">\n",
       "      <th></th>\n",
       "      <th>Ano</th>\n",
       "      <th>NCM</th>\n",
       "      <th>Qtde</th>\n",
       "      <th>Valor</th>\n",
       "      <th>Conteiner</th>\n",
       "    </tr>\n",
       "  </thead>\n",
       "  <tbody>\n",
       "    <tr>\n",
       "      <th>0</th>\n",
       "      <td>2025</td>\n",
       "      <td>8517</td>\n",
       "      <td>24</td>\n",
       "      <td>R$ 1,851,610.00</td>\n",
       "      <td>FSCU9318964</td>\n",
       "    </tr>\n",
       "    <tr>\n",
       "      <th>1</th>\n",
       "      <td>2025</td>\n",
       "      <td>8518</td>\n",
       "      <td>36</td>\n",
       "      <td>R$ 896,640.00</td>\n",
       "      <td>FSCU9318964</td>\n",
       "    </tr>\n",
       "    <tr>\n",
       "      <th>2</th>\n",
       "      <td>2025</td>\n",
       "      <td>8471</td>\n",
       "      <td>6</td>\n",
       "      <td>R$ 391,600.00</td>\n",
       "      <td>FSCU9318964</td>\n",
       "    </tr>\n",
       "    <tr>\n",
       "      <th>3</th>\n",
       "      <td>2025</td>\n",
       "      <td>9027</td>\n",
       "      <td>2</td>\n",
       "      <td>R$ 240,000.00</td>\n",
       "      <td>FSCU9318964</td>\n",
       "    </tr>\n",
       "    <tr>\n",
       "      <th>4</th>\n",
       "      <td>2025</td>\n",
       "      <td>9001</td>\n",
       "      <td>8</td>\n",
       "      <td>R$ 226,200.00</td>\n",
       "      <td>FSCU9318964</td>\n",
       "    </tr>\n",
       "  </tbody>\n",
       "</table>\n",
       "</div>"
      ],
      "text/plain": [
       "    Ano   NCM  Qtde           Valor    Conteiner\n",
       "0  2025  8517    24 R$ 1,851,610.00  FSCU9318964\n",
       "1  2025  8518    36   R$ 896,640.00  FSCU9318964\n",
       "2  2025  8471     6   R$ 391,600.00  FSCU9318964\n",
       "3  2025  9027     2   R$ 240,000.00  FSCU9318964\n",
       "4  2025  9001     8   R$ 226,200.00  FSCU9318964"
      ]
     },
     "metadata": {},
     "output_type": "display_data"
    }
   ],
   "source": [
    "SQL_NCMs_conteiner = \\\n",
    "    '''SELECT year(tg.create_date) as Ano,  substring(i.ncm, 1, 4) as NCM,\n",
    "    count(i.id) as Qtde, sum(i.valor * i.qtde) as Valor, rvf.numerolote as Conteiner\n",
    "      FROM ovr_ovrs ovr\n",
    "     inner join ovr_verificacoesfisicas rvf on rvf.ovr_id = ovr.id\n",
    "     inner join ovr_tgovr tg on ovr.id = tg.ovr_id\n",
    "     inner join ovr_itenstg i on i.tg_id = tg.id\n",
    "     inner join ovr_flags_ovr flags on flags.rvf_id = ovr.id\n",
    "     where ovr.setor_id in (1, 2) AND flags.flag_id = 2472 and i.ncm is not null\n",
    "     group by year(tg.create_date), substring(i.ncm, 1, 4)\n",
    "     order by Ano, Valor desc;'''\n",
    "\n",
    "\n",
    "try:\n",
    "\n",
    "    # Executa a query e carrega o resultado em um DataFrame\n",
    "    df_ncm_cont_Rodes = pd.read_sql(SQL_NCMs_conteiner, connection)\n",
    "\n",
    "    # Exibindo os primeiros registros do DataFrame como exemplo\n",
    "    display(df_ncm_cont_Rodes.head())\n",
    "\n",
    "except Exception as e:\n",
    "    print(f\"Erro ao conectar ou executar a query: {e}\")"
   ]
  },
  {
   "cell_type": "markdown",
   "id": "0ceb4da4-b48e-487e-8f2c-2c2d45b45aa2",
   "metadata": {},
   "source": [
    "## Agrupamento por NCM"
   ]
  },
  {
   "cell_type": "code",
   "execution_count": 13,
   "id": "de364bcf-cfbf-449f-a9a2-28fcda225a1a",
   "metadata": {},
   "outputs": [
    {
     "name": "stderr",
     "output_type": "stream",
     "text": [
      "C:\\Users\\11913225640\\AppData\\Local\\Temp\\ipykernel_10952\\326783357.py:24: UserWarning:\n",
      "\n",
      "pandas only supports SQLAlchemy connectable (engine/connection) or database string URI or sqlite3 DBAPI2 connection. Other DBAPI2 objects are not tested. Please consider using SQLAlchemy.\n",
      "\n"
     ]
    },
    {
     "data": {
      "text/html": [
       "<div>\n",
       "<style scoped>\n",
       "    .dataframe tbody tr th:only-of-type {\n",
       "        vertical-align: middle;\n",
       "    }\n",
       "\n",
       "    .dataframe tbody tr th {\n",
       "        vertical-align: top;\n",
       "    }\n",
       "\n",
       "    .dataframe thead th {\n",
       "        text-align: right;\n",
       "    }\n",
       "</style>\n",
       "<table border=\"1\" class=\"dataframe\">\n",
       "  <thead>\n",
       "    <tr style=\"text-align: right;\">\n",
       "      <th></th>\n",
       "      <th>ncm4</th>\n",
       "      <th>descricao</th>\n",
       "      <th>total_qtde</th>\n",
       "      <th>total_valor</th>\n",
       "    </tr>\n",
       "  </thead>\n",
       "  <tbody>\n",
       "    <tr>\n",
       "      <th>0</th>\n",
       "      <td>9001</td>\n",
       "      <td>LENTES DE CONTATO - MARCA: EYE SHARE - MODELO:...</td>\n",
       "      <td>R$ 19,640.00</td>\n",
       "      <td>R$ 113,100.00</td>\n",
       "    </tr>\n",
       "    <tr>\n",
       "      <th>1</th>\n",
       "      <td>8517</td>\n",
       "      <td>RELOGIO SMARTWATCH - MARCA: BENEDO - MODELO: B...</td>\n",
       "      <td>R$ 12,473.00</td>\n",
       "      <td>R$ 925,805.00</td>\n",
       "    </tr>\n",
       "    <tr>\n",
       "      <th>2</th>\n",
       "      <td>9113</td>\n",
       "      <td>PULSEIRA PARA SMATWATCH - MARCA: S/M - MODELO:...</td>\n",
       "      <td>R$ 8,790.00</td>\n",
       "      <td>R$ 70,880.00</td>\n",
       "    </tr>\n",
       "    <tr>\n",
       "      <th>3</th>\n",
       "      <td>8518</td>\n",
       "      <td>MICROFONE PROFISSIONAL WIRELESS - MARCA: UHF -...</td>\n",
       "      <td>R$ 4,588.00</td>\n",
       "      <td>R$ 448,320.00</td>\n",
       "    </tr>\n",
       "    <tr>\n",
       "      <th>4</th>\n",
       "      <td>3919</td>\n",
       "      <td>CAPA DE PROTEÇÃO SMARTWATCH - MARCA: WATCH ULT...</td>\n",
       "      <td>R$ 2,500.00</td>\n",
       "      <td>R$ 10,500.00</td>\n",
       "    </tr>\n",
       "  </tbody>\n",
       "</table>\n",
       "</div>"
      ],
      "text/plain": [
       "   ncm4                                          descricao   total_qtde  \\\n",
       "0  9001  LENTES DE CONTATO - MARCA: EYE SHARE - MODELO:... R$ 19,640.00   \n",
       "1  8517  RELOGIO SMARTWATCH - MARCA: BENEDO - MODELO: B... R$ 12,473.00   \n",
       "2  9113  PULSEIRA PARA SMATWATCH - MARCA: S/M - MODELO:...  R$ 8,790.00   \n",
       "3  8518  MICROFONE PROFISSIONAL WIRELESS - MARCA: UHF -...  R$ 4,588.00   \n",
       "4  3919  CAPA DE PROTEÇÃO SMARTWATCH - MARCA: WATCH ULT...  R$ 2,500.00   \n",
       "\n",
       "    total_valor  \n",
       "0 R$ 113,100.00  \n",
       "1 R$ 925,805.00  \n",
       "2  R$ 70,880.00  \n",
       "3 R$ 448,320.00  \n",
       "4  R$ 10,500.00  "
      ]
     },
     "metadata": {},
     "output_type": "display_data"
    }
   ],
   "source": [
    "SQL_NCMs = \\\n",
    "    '''SELECT\n",
    "      SUBSTR(i.ncm, 1, 4)      AS ncm4,           -- primeiros 4 dígitos de NCM\n",
    "      i.descricao\t\t\t   AS descricao,\n",
    "      SUM(i.qtde)              AS total_qtde, \n",
    "      SUM(i.qtde * i.valor)    AS total_valor   \n",
    "    FROM\n",
    "      ovr_flags_ovr AS fo\n",
    "      INNER JOIN ovr_ovrs      AS o  ON fo.rvf_id = o.id\n",
    "      INNER JOIN ovr_tgovr     AS tg ON tg.ovr_id = o.id\n",
    "      INNER JOIN ovr_itenstg   AS i  ON i.tg_id = tg.id\n",
    "    WHERE\n",
    "      fo.flag_id = 2472\n",
    "    GROUP BY\n",
    "      SUBSTR(i.ncm, 1, 4),  \n",
    "      i.unidadedemedida   \n",
    "    ORDER BY\n",
    "      total_qtde DESC;  '''\n",
    "\n",
    "\n",
    "try:\n",
    "\n",
    "    # Executa a query e carrega o resultado em um DataFrame\n",
    "    df_ncm_Rodes = pd.read_sql(SQL_NCMs, connection)\n",
    "\n",
    "    # Exibindo os primeiros registros do DataFrame como exemplo\n",
    "    display(df_ncm_Rodes.head())\n",
    "\n",
    "except Exception as e:\n",
    "    print(f\"Erro ao conectar ou executar a query: {e}\")"
   ]
  },
  {
   "cell_type": "markdown",
   "id": "b17e58b4-1b92-4498-8f62-a72d5e1bba3f",
   "metadata": {},
   "source": [
    "## Apreensões"
   ]
  },
  {
   "cell_type": "code",
   "execution_count": 16,
   "id": "f3bb5517-d26d-42c7-839d-23d542d4029e",
   "metadata": {},
   "outputs": [
    {
     "name": "stderr",
     "output_type": "stream",
     "text": [
      "C:\\Users\\11913225640\\AppData\\Local\\Temp\\ipykernel_10952\\1354656378.py:20: UserWarning:\n",
      "\n",
      "pandas only supports SQLAlchemy connectable (engine/connection) or database string URI or sqlite3 DBAPI2 connection. Other DBAPI2 objects are not tested. Please consider using SQLAlchemy.\n",
      "\n"
     ]
    },
    {
     "data": {
      "text/html": [
       "<div>\n",
       "<style scoped>\n",
       "    .dataframe tbody tr th:only-of-type {\n",
       "        vertical-align: middle;\n",
       "    }\n",
       "\n",
       "    .dataframe tbody tr th {\n",
       "        vertical-align: top;\n",
       "    }\n",
       "\n",
       "    .dataframe thead th {\n",
       "        text-align: right;\n",
       "    }\n",
       "</style>\n",
       "<table border=\"1\" class=\"dataframe\">\n",
       "  <thead>\n",
       "    <tr style=\"text-align: right;\">\n",
       "      <th></th>\n",
       "      <th>Ano</th>\n",
       "      <th>Mês</th>\n",
       "      <th>datahora</th>\n",
       "      <th>recinto</th>\n",
       "      <th>Ficha</th>\n",
       "      <th>RVF</th>\n",
       "      <th>relato</th>\n",
       "      <th>Conteiner</th>\n",
       "      <th>Apreensao</th>\n",
       "      <th>descricao</th>\n",
       "      <th>descricao</th>\n",
       "      <th>Peso</th>\n",
       "      <th>PortoDestino</th>\n",
       "      <th>flag_id</th>\n",
       "    </tr>\n",
       "  </thead>\n",
       "  <tbody>\n",
       "  </tbody>\n",
       "</table>\n",
       "</div>"
      ],
      "text/plain": [
       "Empty DataFrame\n",
       "Columns: [Ano, Mês, datahora, recinto, Ficha, RVF, relato, Conteiner, Apreensao, descricao, descricao, Peso, PortoDestino, flag_id]\n",
       "Index: []"
      ]
     },
     "metadata": {},
     "output_type": "display_data"
    }
   ],
   "source": [
    "SQL_APREENSOES = \\\n",
    "    '''\n",
    "    SELECT year(rvf.datahora) as Ano, month(rvf.datahora) as Mês, rvf.datahora,\n",
    "      r.nome as recinto,\n",
    "      ovr.id as Ficha, rvf.id as RVF, rvf.descricao as relato, rvf.numerolote as Conteiner,\n",
    "      a.id as Apreensao, a.descricao, t.descricao, a.peso as Peso, c.PortoDestFinal as PortoDestino,flags.flag_id\n",
    "      FROM ovr_ovrs ovr\n",
    "     inner join ovr_verificacoesfisicas rvf on rvf.ovr_id = ovr.id\n",
    "     inner join ovr_apreensoes_rvf a on a.rvf_id = rvf.id\n",
    "     inner join ovr_tiposapreensao t on t.id = a.tipo_id\n",
    "     inner join ovr_recintos r on r.id = ovr.recinto_id\n",
    "     inner join ovr_flags_ovr flags on flags.rvf_id = ovr.id\n",
    "     left join conhecimentosresumo c on c.numeroCEmercante = ovr.numeroCEmercante\n",
    "     where flags.flag_id = 2472\n",
    "     order by Ano, Mês, Ficha, RVF, Apreensao;'''\n",
    "\n",
    "try:\n",
    "\n",
    "    # Executa a query e carrega o resultado em um DataFrame\n",
    "    df_apreensoes = pd.read_sql(SQL_APREENSOES, connection)\n",
    "\n",
    "    # Exibindo os primeiros registros do DataFrame como exemplo\n",
    "    display(df_apreensoes.head())\n",
    "\n",
    "except Exception as e:\n",
    "    print(f\"Erro ao conectar ou executar a query: {e}\")"
   ]
  },
  {
   "cell_type": "code",
   "execution_count": null,
   "id": "c2f06eef-c930-4c39-9c05-cb37396d2f70",
   "metadata": {},
   "outputs": [],
   "source": []
  }
 ],
 "metadata": {
  "kernelspec": {
   "display_name": "Python 3 (ipykernel)",
   "language": "python",
   "name": "python3"
  },
  "language_info": {
   "codemirror_mode": {
    "name": "ipython",
    "version": 3
   },
   "file_extension": ".py",
   "mimetype": "text/x-python",
   "name": "python",
   "nbconvert_exporter": "python",
   "pygments_lexer": "ipython3",
   "version": "3.12.3"
  }
 },
 "nbformat": 4,
 "nbformat_minor": 5
}
