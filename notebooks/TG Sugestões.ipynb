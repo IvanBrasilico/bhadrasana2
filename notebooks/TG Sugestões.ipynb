{
 "cells": [
  {
   "cell_type": "code",
   "execution_count": 1,
   "metadata": {},
   "outputs": [
    {
     "name": "stderr",
     "output_type": "stream",
     "text": [
      "2022-05-23 09:46:34,354 ajna         INFO     Configuração de log efetuada\n"
     ]
    },
    {
     "name": "stdout",
     "output_type": "stream",
     "text": [
      "Fazendo log de erros e alertas no arquivo  ..\\..\\ajna_docs\\commons\\ajna_commons\\flask\\error.log\n",
      "Fazendo log de atividade no arquivo  ..\\..\\ajna_docs\\commons\\ajna_commons\\flask\\access.log\n"
     ]
    }
   ],
   "source": [
    "import os\n",
    "import sys\n",
    "import pandas as pd\n",
    "import numpy as np\n",
    "from rank_bm25 import BM25Okapi\n",
    "\n",
    "caminho_commons = os.path.join('..', '..', 'ajna_docs', 'commons')\n",
    "caminho_virasana = os.path.join('..', '..', 'ajna_docs', 'virasana')\n",
    "sys.path.append(caminho_commons)\n",
    "sys.path.append('..')\n",
    "sys.path.append(caminho_virasana)\n",
    "from bhadrasana.models import engine"
   ]
  },
  {
   "cell_type": "code",
   "execution_count": 2,
   "metadata": {},
   "outputs": [],
   "source": [
    "SQL = 'SELECT * FROM ovr_itenstg'\n",
    "df = pd.read_sql(SQL, engine)"
   ]
  },
  {
   "cell_type": "code",
   "execution_count": 3,
   "metadata": {},
   "outputs": [
    {
     "data": {
      "text/html": [
       "<div>\n",
       "<style scoped>\n",
       "    .dataframe tbody tr th:only-of-type {\n",
       "        vertical-align: middle;\n",
       "    }\n",
       "\n",
       "    .dataframe tbody tr th {\n",
       "        vertical-align: top;\n",
       "    }\n",
       "\n",
       "    .dataframe thead th {\n",
       "        text-align: right;\n",
       "    }\n",
       "</style>\n",
       "<table border=\"1\" class=\"dataframe\">\n",
       "  <thead>\n",
       "    <tr style=\"text-align: right;\">\n",
       "      <th></th>\n",
       "      <th>id</th>\n",
       "      <th>tg_id</th>\n",
       "      <th>numero</th>\n",
       "      <th>descricao</th>\n",
       "      <th>qtde</th>\n",
       "      <th>unidadedemedida</th>\n",
       "      <th>valor</th>\n",
       "      <th>ncm</th>\n",
       "      <th>marca_id</th>\n",
       "      <th>create_date</th>\n",
       "      <th>user_name</th>\n",
       "      <th>contramarca</th>\n",
       "      <th>modelo</th>\n",
       "    </tr>\n",
       "  </thead>\n",
       "  <tbody>\n",
       "    <tr>\n",
       "      <th>0</th>\n",
       "      <td>2</td>\n",
       "      <td>9</td>\n",
       "      <td>1</td>\n",
       "      <td>123</td>\n",
       "      <td>1.0</td>\n",
       "      <td>1</td>\n",
       "      <td>1.00</td>\n",
       "      <td>11</td>\n",
       "      <td>None</td>\n",
       "      <td>2020-05-26 18:44:26</td>\n",
       "      <td>None</td>\n",
       "      <td>None</td>\n",
       "      <td>None</td>\n",
       "    </tr>\n",
       "    <tr>\n",
       "      <th>1</th>\n",
       "      <td>9</td>\n",
       "      <td>54</td>\n",
       "      <td>1</td>\n",
       "      <td>MÁSCARA FACIAL HIDRATANTE EM EMBALAGEM DE 25ML...</td>\n",
       "      <td>226000.0</td>\n",
       "      <td>0</td>\n",
       "      <td>2.60</td>\n",
       "      <td>33049910</td>\n",
       "      <td>None</td>\n",
       "      <td>2020-08-04 10:44:00</td>\n",
       "      <td>None</td>\n",
       "      <td>None</td>\n",
       "      <td>None</td>\n",
       "    </tr>\n",
       "    <tr>\n",
       "      <th>2</th>\n",
       "      <td>112</td>\n",
       "      <td>123</td>\n",
       "      <td>0</td>\n",
       "      <td>DIOCTIL FTALATO EM FLEXI-BAG D/C 20 TONELADAS ...</td>\n",
       "      <td>2.0</td>\n",
       "      <td>0</td>\n",
       "      <td>18000.00</td>\n",
       "      <td>29173200</td>\n",
       "      <td>None</td>\n",
       "      <td>2020-08-31 08:25:48</td>\n",
       "      <td>None</td>\n",
       "      <td>None</td>\n",
       "      <td>None</td>\n",
       "    </tr>\n",
       "    <tr>\n",
       "      <th>3</th>\n",
       "      <td>121</td>\n",
       "      <td>125</td>\n",
       "      <td>0</td>\n",
       "      <td>SOLA DE CALÇADO, DE BORRACHA, N 39 A, REF XL B...</td>\n",
       "      <td>462.0</td>\n",
       "      <td>0</td>\n",
       "      <td>21.21</td>\n",
       "      <td>64062000</td>\n",
       "      <td>None</td>\n",
       "      <td>2020-09-11 14:32:05</td>\n",
       "      <td>None</td>\n",
       "      <td>None</td>\n",
       "      <td>None</td>\n",
       "    </tr>\n",
       "    <tr>\n",
       "      <th>4</th>\n",
       "      <td>123</td>\n",
       "      <td>125</td>\n",
       "      <td>2</td>\n",
       "      <td>SOLA DE CALÇADO, DE BORRACHA, N 40 A, REF XL L...</td>\n",
       "      <td>98.0</td>\n",
       "      <td>0</td>\n",
       "      <td>21.21</td>\n",
       "      <td>64062000</td>\n",
       "      <td>None</td>\n",
       "      <td>2020-09-11 14:32:05</td>\n",
       "      <td>None</td>\n",
       "      <td>None</td>\n",
       "      <td>None</td>\n",
       "    </tr>\n",
       "    <tr>\n",
       "      <th>...</th>\n",
       "      <td>...</td>\n",
       "      <td>...</td>\n",
       "      <td>...</td>\n",
       "      <td>...</td>\n",
       "      <td>...</td>\n",
       "      <td>...</td>\n",
       "      <td>...</td>\n",
       "      <td>...</td>\n",
       "      <td>...</td>\n",
       "      <td>...</td>\n",
       "      <td>...</td>\n",
       "      <td>...</td>\n",
       "      <td>...</td>\n",
       "    </tr>\n",
       "    <tr>\n",
       "      <th>15455</th>\n",
       "      <td>22826</td>\n",
       "      <td>590</td>\n",
       "      <td>365</td>\n",
       "      <td>BIJOUTERIAS DIVERSAS</td>\n",
       "      <td>4.0</td>\n",
       "      <td>1</td>\n",
       "      <td>50.00</td>\n",
       "      <td>71179000</td>\n",
       "      <td>None</td>\n",
       "      <td>2022-05-20 18:33:52</td>\n",
       "      <td>None</td>\n",
       "      <td>None</td>\n",
       "      <td>None</td>\n",
       "    </tr>\n",
       "    <tr>\n",
       "      <th>15456</th>\n",
       "      <td>22827</td>\n",
       "      <td>590</td>\n",
       "      <td>366</td>\n",
       "      <td>AROMATIZANTES PARA VEÍCULOS, DIVERSAS MARCAS: ...</td>\n",
       "      <td>16.0</td>\n",
       "      <td>1</td>\n",
       "      <td>100.00</td>\n",
       "      <td>33079000</td>\n",
       "      <td>None</td>\n",
       "      <td>2022-05-20 18:33:52</td>\n",
       "      <td>None</td>\n",
       "      <td>None</td>\n",
       "      <td>None</td>\n",
       "    </tr>\n",
       "    <tr>\n",
       "      <th>15457</th>\n",
       "      <td>22828</td>\n",
       "      <td>590</td>\n",
       "      <td>367</td>\n",
       "      <td>AROMATIZADOR DE AMBIENTE SPRAY, MARCA: WHITE BARN</td>\n",
       "      <td>1.0</td>\n",
       "      <td>1</td>\n",
       "      <td>100.00</td>\n",
       "      <td>33079000</td>\n",
       "      <td>None</td>\n",
       "      <td>2022-05-20 18:33:52</td>\n",
       "      <td>None</td>\n",
       "      <td>None</td>\n",
       "      <td>None</td>\n",
       "    </tr>\n",
       "    <tr>\n",
       "      <th>15458</th>\n",
       "      <td>22829</td>\n",
       "      <td>590</td>\n",
       "      <td>368</td>\n",
       "      <td>REFIL DE AROMATIZADOR, DIVERSOS, MARCA: WALLFL...</td>\n",
       "      <td>12.0</td>\n",
       "      <td>1</td>\n",
       "      <td>50.00</td>\n",
       "      <td>33079000</td>\n",
       "      <td>None</td>\n",
       "      <td>2022-05-20 18:33:52</td>\n",
       "      <td>None</td>\n",
       "      <td>None</td>\n",
       "      <td>None</td>\n",
       "    </tr>\n",
       "    <tr>\n",
       "      <th>15459</th>\n",
       "      <td>22830</td>\n",
       "      <td>590</td>\n",
       "      <td>369</td>\n",
       "      <td>ALIMENTOS</td>\n",
       "      <td>125.0</td>\n",
       "      <td>1</td>\n",
       "      <td>10.00</td>\n",
       "      <td>19059090</td>\n",
       "      <td>None</td>\n",
       "      <td>2022-05-20 18:33:52</td>\n",
       "      <td>None</td>\n",
       "      <td>None</td>\n",
       "      <td>None</td>\n",
       "    </tr>\n",
       "  </tbody>\n",
       "</table>\n",
       "<p>15460 rows × 13 columns</p>\n",
       "</div>"
      ],
      "text/plain": [
       "          id  tg_id  numero  \\\n",
       "0          2      9       1   \n",
       "1          9     54       1   \n",
       "2        112    123       0   \n",
       "3        121    125       0   \n",
       "4        123    125       2   \n",
       "...      ...    ...     ...   \n",
       "15455  22826    590     365   \n",
       "15456  22827    590     366   \n",
       "15457  22828    590     367   \n",
       "15458  22829    590     368   \n",
       "15459  22830    590     369   \n",
       "\n",
       "                                               descricao      qtde  \\\n",
       "0                                                    123       1.0   \n",
       "1      MÁSCARA FACIAL HIDRATANTE EM EMBALAGEM DE 25ML...  226000.0   \n",
       "2      DIOCTIL FTALATO EM FLEXI-BAG D/C 20 TONELADAS ...       2.0   \n",
       "3      SOLA DE CALÇADO, DE BORRACHA, N 39 A, REF XL B...     462.0   \n",
       "4      SOLA DE CALÇADO, DE BORRACHA, N 40 A, REF XL L...      98.0   \n",
       "...                                                  ...       ...   \n",
       "15455                               BIJOUTERIAS DIVERSAS       4.0   \n",
       "15456  AROMATIZANTES PARA VEÍCULOS, DIVERSAS MARCAS: ...      16.0   \n",
       "15457  AROMATIZADOR DE AMBIENTE SPRAY, MARCA: WHITE BARN       1.0   \n",
       "15458  REFIL DE AROMATIZADOR, DIVERSOS, MARCA: WALLFL...      12.0   \n",
       "15459                                          ALIMENTOS     125.0   \n",
       "\n",
       "       unidadedemedida     valor       ncm marca_id         create_date  \\\n",
       "0                    1      1.00        11     None 2020-05-26 18:44:26   \n",
       "1                    0      2.60  33049910     None 2020-08-04 10:44:00   \n",
       "2                    0  18000.00  29173200     None 2020-08-31 08:25:48   \n",
       "3                    0     21.21  64062000     None 2020-09-11 14:32:05   \n",
       "4                    0     21.21  64062000     None 2020-09-11 14:32:05   \n",
       "...                ...       ...       ...      ...                 ...   \n",
       "15455                1     50.00  71179000     None 2022-05-20 18:33:52   \n",
       "15456                1    100.00  33079000     None 2022-05-20 18:33:52   \n",
       "15457                1    100.00  33079000     None 2022-05-20 18:33:52   \n",
       "15458                1     50.00  33079000     None 2022-05-20 18:33:52   \n",
       "15459                1     10.00  19059090     None 2022-05-20 18:33:52   \n",
       "\n",
       "      user_name contramarca modelo  \n",
       "0          None        None   None  \n",
       "1          None        None   None  \n",
       "2          None        None   None  \n",
       "3          None        None   None  \n",
       "4          None        None   None  \n",
       "...         ...         ...    ...  \n",
       "15455      None        None   None  \n",
       "15456      None        None   None  \n",
       "15457      None        None   None  \n",
       "15458      None        None   None  \n",
       "15459      None        None   None  \n",
       "\n",
       "[15460 rows x 13 columns]"
      ]
     },
     "execution_count": 3,
     "metadata": {},
     "output_type": "execute_result"
    }
   ],
   "source": [
    "df"
   ]
  },
  {
   "cell_type": "code",
   "execution_count": 4,
   "metadata": {},
   "outputs": [],
   "source": [
    "itenstg = df.dropna(subset=['ncm'])"
   ]
  },
  {
   "cell_type": "code",
   "execution_count": 5,
   "metadata": {},
   "outputs": [
    {
     "data": {
      "text/plain": [
       "15114"
      ]
     },
     "execution_count": 5,
     "metadata": {},
     "output_type": "execute_result"
    }
   ],
   "source": [
    "len(itenstg)"
   ]
  },
  {
   "cell_type": "code",
   "execution_count": 6,
   "metadata": {},
   "outputs": [],
   "source": [
    "import nltk\n",
    "import unicodedata\n",
    "\n",
    "def remove_accents(input_str):  \n",
    "    \"\"\" \n",
    "    Função converte string em bytes, mas antes normaliza string usando NFKD\n",
    "    \n",
    "    NFKD - decompõem em dois code point e analisa compatibilidades (sem ser canonicamente equivalente)\n",
    "    https://docs.python.org/3/library/unicodedata.html\n",
    "    \"\"\"\n",
    "    nfkd_form = unicodedata.normalize('NFKD', input_str.lower())\n",
    "    only_ascii = nfkd_form.encode('ASCII', 'ignore')\n",
    "    return only_ascii\n",
    "\n",
    "\n",
    "def remove_pontuacao(doc):\n",
    "    return ''.join([leter for leter in doc if leter not in ['.', ',', ':', ';', '-', '+']])\n",
    "\n",
    "stop_words = nltk.corpus.stopwords.words('portuguese')\n",
    "\n",
    "def tokenize(doc):\n",
    "    doc_normalized = doc.lower()\n",
    "    doc_normalized = remove_pontuacao(doc_normalized)\n",
    "    doc_normalized = remove_accents(doc_normalized)\n",
    "    return [word for word in doc_normalized.split() if (len(word) > 2 and word not in stop_words)]"
   ]
  },
  {
   "cell_type": "code",
   "execution_count": 7,
   "metadata": {},
   "outputs": [
    {
     "data": {
      "text/plain": [
       "[b'kit',\n",
       " b'carteira',\n",
       " b'com',\n",
       " b'relogio',\n",
       " b'pulso',\n",
       " b'modelo',\n",
       " b'bolinha',\n",
       " b'marcabolao']"
      ]
     },
     "execution_count": 7,
     "metadata": {},
     "output_type": "execute_result"
    }
   ],
   "source": [
    "tokenize('KIT DE CARTEIRA, COM RELÓGIO DE PULSO; Modelo: bolinha, Marca:bolão')"
   ]
  },
  {
   "cell_type": "code",
   "execution_count": 8,
   "metadata": {},
   "outputs": [
    {
     "data": {
      "text/plain": [
       "['KIT DE CARTEIRA COM RELÓGIO DE PULSO DE PONTEIRO, IMITAÇÃO DOS PERSONAGENS CARS, DA MARCA DISNEY – REF.:M301A',\n",
       " 'KIT DE CARTEIRA COM RELÓGIO DE PULSO DE PONTEIRO, IMITAÇÃO DA PERSONAGEM FROZEN, DA MARCA DISNEY – REF.: M301A',\n",
       " 'Kit de carteira com relógio imitação do personagem Miraculous . (Ref:M301A)',\n",
       " 'KIT DE CARTEIRA COM RELÓGIO DE PULSO DE PONTEIRO, IMITAÇÃO DOS PERSONAGENS AVENGERS, DA MARCA MARVEL – REF.: M301A',\n",
       " 'KIT DE CARTEIRA COM RELÓGIO DE PULSO DE PONTEIRO, IMITAÇÃO DA PERSONAGEM MIRACULOUS, DA MARCA GLOBOSAT PROGRAMADORA – REF.: M301A',\n",
       " 'KIT DE CARTEIRA COM RELÓGIO DE PULSO DE PONTEIRO, IMITAÇÃO DO PERSONAGEM BEN10, DA MARCA CARTOON NETWORK – REF.: M301A',\n",
       " 'KIT DE CARTEIRA COM RELÓGIO DE PULSO DE PONTEIRO, IMITAÇÃO DO PERSONAGEM HOMEM ARANHA, DA MARCA MARVEL – REF.: M301A',\n",
       " 'KIT DE CARTEIRA COM RELÓGIO DE PULSO DE PONTEIRO, IMITAÇÃO DAS PERSONAGENS PRINCESAS, DA MARCA DISNEY – REF.: M301A',\n",
       " 'KIT DE CARTEIRA COM RELÓGIO DE PULSO DE PONTEIRO, IMITAÇÃO DA PERSONAGEM PRINCESA SOFIA, DA MARCA DISNEY – REF.: M301A',\n",
       " 'Kit de carteira com relógio imitação do personagem Homem Aranha . (Ref:M301A)']"
      ]
     },
     "execution_count": 8,
     "metadata": {},
     "output_type": "execute_result"
    }
   ],
   "source": [
    "corpus = list(itenstg.descricao.values)\n",
    "corpus_normalized = [tokenize(line) for line in corpus]\n",
    "bm25n = BM25Okapi(corpus_normalized)\n",
    "bm25n.get_top_n(tokenize('KIT DE CARTEIRA, COM RELÓGIO DE PULSO;'), corpus, n=10)"
   ]
  },
  {
   "cell_type": "code",
   "execution_count": 9,
   "metadata": {},
   "outputs": [
    {
     "data": {
      "text/plain": [
       "['CONFECÇÕES ADULTO LACOSTE, TOMMY HILFGER RALPH LAUREN E OUTRAS MARCAS',\n",
       " 'CONFECÇÕES USO ADULTO, LACOSTE, THOMMY HILFGER, NIKE, ADIDAS, E OUTRAS MARCAS DIVERSAS',\n",
       " 'Óculos adulto - calvin klein, thommy hilfger e outras marcas diversas',\n",
       " \"CONFECÇÕES USO ADULTO, LEVI'S, TOMMY HILFGER, GAP, NIKE E OUTRAS MARCAS DIVERSAS\",\n",
       " 'CONFECÇÕES USO ADULTO, THOMMY HILFIGER, CALVIN KLEIN, POLO, ASSN E OUTRAS MARCAS DIVERSAS',\n",
       " 'CONFECÇÕES USO ADULTO, NIKE, ADDIDAS E OUTRAS MARCAS DIVERSAS',\n",
       " 'CONFECÇÕES USO ADULTO, polo, nike, adidas e outras marcas diversas',\n",
       " 'CONFECÇÕES USO ADULTO',\n",
       " 'CONFECÇÕES USO ADULTO, LEWIS, NBA E OUTRAS MARCAS',\n",
       " 'CONFECÇÕES USO ADULTO, TOMMY, NIKE, SPEEDO, ADIDDAS E OUTRAS MARCAS DIVERSAS.']"
      ]
     },
     "execution_count": 9,
     "metadata": {},
     "output_type": "execute_result"
    }
   ],
   "source": [
    "bm25n.get_top_n(tokenize('CONFECÇÕES USO ADULTO, LACOSTE, THOMMY HILFGER RALPH LAUREN E OUTRAS DIVERSAS'), corpus, n=10)"
   ]
  },
  {
   "cell_type": "code",
   "execution_count": 10,
   "metadata": {},
   "outputs": [
    {
     "data": {
      "text/plain": [
       "[b'perfume', b'125ml', b'hugo', b'boss']"
      ]
     },
     "execution_count": 10,
     "metadata": {},
     "output_type": "execute_result"
    }
   ],
   "source": [
    "tokenize('Perfume- 125ML - Hugo Boss')"
   ]
  },
  {
   "cell_type": "code",
   "execution_count": null,
   "metadata": {},
   "outputs": [],
   "source": []
  },
  {
   "cell_type": "code",
   "execution_count": 11,
   "metadata": {},
   "outputs": [],
   "source": [
    "def monta_sugestoes(planilha):\n",
    "    lista_dict = []\n",
    "    planilha.rename(remove_accents)\n",
    "    planilha = planilha.dropna(subset=['DESCRIÇÃO'])\n",
    "    for row in planilha.iterrows():\n",
    "        # print(row[1])\n",
    "        row_ = {}\n",
    "        row_['Item'] = row[1]['ITEM']\n",
    "        row_['Código NCM'] = ''\n",
    "        row_['Descrição'] = row[1]['DESCRIÇÃO']\n",
    "        row_['Marca'] = ''\n",
    "        row_['Modelo'] = ''\n",
    "        row_['Unid. Medida'] = row[1]['Tipo de UNIDADE']\n",
    "        row_['País Procedência'] = 249\n",
    "        row_['País Origem'] = 994\n",
    "        row_['Quantidade'] = row[1]['Quantidade']\n",
    "        row_['Valor Unitário'] = ''\n",
    "        lista_dict.append(row_)\n",
    "        print(row_['Descrição'])\n",
    "        doc_scores = bm25n.get_scores(tokenize(row_['Descrição']))\n",
    "        indices = np.flip(np.argpartition(doc_scores, doc_scores.shape[0] - 3)[-5:])\n",
    "        new_df = itenstg.iloc[np.flip(indices)]\n",
    "        for new_row in new_df.iterrows():\n",
    "            row_ = row_.copy()\n",
    "            row_['Item'] = '-'\n",
    "            row_['Descrição'] = new_row[1]['descricao']\n",
    "            row_['Código NCM'] = new_row[1]['ncm']\n",
    "            unidade = 'UN' if new_row[1]['unidadedemedida'] == 0 else 'KG'\n",
    "            row_['Unid. Medida'] = unidade\n",
    "            row_['Valor Unitário'] = new_row[1]['valor']\n",
    "            lista_dict.append(row_)\n",
    "    return pd.DataFrame(lista_dict)"
   ]
  },
  {
   "cell_type": "code",
   "execution_count": 12,
   "metadata": {},
   "outputs": [
    {
     "ename": "NameError",
     "evalue": "name 'planilha' is not defined",
     "output_type": "error",
     "traceback": [
      "\u001b[1;31m---------------------------------------------------------------------------\u001b[0m",
      "\u001b[1;31mNameError\u001b[0m                                 Traceback (most recent call last)",
      "\u001b[1;32m<ipython-input-12-dcc83c4d19bd>\u001b[0m in \u001b[0;36m<module>\u001b[1;34m\u001b[0m\n\u001b[0;32m      4\u001b[0m     \u001b[1;32mreturn\u001b[0m \u001b[0monly_ascii\u001b[0m\u001b[1;33m.\u001b[0m\u001b[0mdecode\u001b[0m\u001b[1;33m(\u001b[0m\u001b[1;34m'utf-8'\u001b[0m\u001b[1;33m)\u001b[0m\u001b[1;33m\u001b[0m\u001b[1;33m\u001b[0m\u001b[0m\n\u001b[0;32m      5\u001b[0m \u001b[1;33m\u001b[0m\u001b[0m\n\u001b[1;32m----> 6\u001b[1;33m \u001b[0mplanilha\u001b[0m\u001b[1;33m.\u001b[0m\u001b[0mrename\u001b[0m\u001b[1;33m(\u001b[0m\u001b[0mremove_accents2\u001b[0m\u001b[1;33m,\u001b[0m \u001b[0maxis\u001b[0m\u001b[1;33m=\u001b[0m\u001b[1;34m'columns'\u001b[0m\u001b[1;33m)\u001b[0m\u001b[1;33m\u001b[0m\u001b[1;33m\u001b[0m\u001b[0m\n\u001b[0m",
      "\u001b[1;31mNameError\u001b[0m: name 'planilha' is not defined"
     ]
    }
   ],
   "source": [
    "def remove_accents2(input_str):  \n",
    "    nfkd_form = unicodedata.normalize('NFKD', input_str.lower())\n",
    "    only_ascii = nfkd_form.encode('ASCII', 'ignore')\n",
    "    return only_ascii.decode('utf-8')\n",
    "\n",
    "planilha.rename(remove_accents2, axis='columns')"
   ]
  },
  {
   "cell_type": "code",
   "execution_count": 13,
   "metadata": {},
   "outputs": [
    {
     "ename": "FileNotFoundError",
     "evalue": "[WinError 3] O sistema não pode encontrar o caminho especificado: 'C:\\\\Users\\\\25052288840\\\\Downloads\\\\TGs'",
     "output_type": "error",
     "traceback": [
      "\u001b[1;31m---------------------------------------------------------------------------\u001b[0m",
      "\u001b[1;31mFileNotFoundError\u001b[0m                         Traceback (most recent call last)",
      "\u001b[1;32m<ipython-input-13-b46d1cd3c73d>\u001b[0m in \u001b[0;36m<module>\u001b[1;34m\u001b[0m\n\u001b[0;32m      1\u001b[0m \u001b[0mdiretorio\u001b[0m \u001b[1;33m=\u001b[0m \u001b[1;34mr'C:\\Users\\25052288840\\Downloads\\TGs'\u001b[0m\u001b[1;33m\u001b[0m\u001b[1;33m\u001b[0m\u001b[0m\n\u001b[1;32m----> 2\u001b[1;33m \u001b[1;32mfor\u001b[0m \u001b[0mnome_planilha\u001b[0m \u001b[1;32min\u001b[0m \u001b[0mos\u001b[0m\u001b[1;33m.\u001b[0m\u001b[0mlistdir\u001b[0m\u001b[1;33m(\u001b[0m\u001b[0mdiretorio\u001b[0m\u001b[1;33m)\u001b[0m\u001b[1;33m:\u001b[0m\u001b[1;33m\u001b[0m\u001b[1;33m\u001b[0m\u001b[0m\n\u001b[0m\u001b[0;32m      3\u001b[0m     \u001b[0mprint\u001b[0m\u001b[1;33m(\u001b[0m\u001b[0mdiretorio\u001b[0m \u001b[1;33m+\u001b[0m \u001b[1;34m'\\\\'\u001b[0m \u001b[1;33m+\u001b[0m \u001b[0mnome_planilha\u001b[0m\u001b[1;33m)\u001b[0m\u001b[1;33m\u001b[0m\u001b[1;33m\u001b[0m\u001b[0m\n\u001b[0;32m      4\u001b[0m     \u001b[0mplanilha\u001b[0m \u001b[1;33m=\u001b[0m \u001b[0mpd\u001b[0m\u001b[1;33m.\u001b[0m\u001b[0mread_excel\u001b[0m\u001b[1;33m(\u001b[0m\u001b[0mdiretorio\u001b[0m \u001b[1;33m+\u001b[0m \u001b[1;34m'\\\\'\u001b[0m \u001b[1;33m+\u001b[0m \u001b[0mnome_planilha\u001b[0m\u001b[1;33m)\u001b[0m\u001b[1;33m\u001b[0m\u001b[1;33m\u001b[0m\u001b[0m\n\u001b[0;32m      5\u001b[0m     \u001b[0msugest_df\u001b[0m \u001b[1;33m=\u001b[0m \u001b[0mmonta_sugestoes\u001b[0m\u001b[1;33m(\u001b[0m\u001b[0mplanilha\u001b[0m\u001b[1;33m)\u001b[0m\u001b[1;33m\u001b[0m\u001b[1;33m\u001b[0m\u001b[0m\n",
      "\u001b[1;31mFileNotFoundError\u001b[0m: [WinError 3] O sistema não pode encontrar o caminho especificado: 'C:\\\\Users\\\\25052288840\\\\Downloads\\\\TGs'"
     ]
    }
   ],
   "source": [
    "diretorio = r'C:\\Users\\25052288840\\Downloads\\TGs'\n",
    "for nome_planilha in os.listdir(diretorio):\n",
    "    print(diretorio + '\\\\' + nome_planilha)\n",
    "    planilha = pd.read_excel(diretorio + '\\\\' + nome_planilha)\n",
    "    sugest_df = monta_sugestoes(planilha)\n",
    "    sugest_df.to_excel(diretorio + '\\\\TG ' + nome_planilha, index=False)    "
   ]
  },
  {
   "cell_type": "code",
   "execution_count": 14,
   "metadata": {},
   "outputs": [
    {
     "data": {
      "text/plain": [
       "['FORNO ELETRICO, MARCA: MAINSTAYS, MODELO: 1010J-H15',\n",
       " 'FORNO DE PAREDE, MARCA: BOSCH, MODELO: HBLP451UC',\n",
       " 'FORNO DE PAREDE, MARCA: BOSCH, MODELO: HBL8453UC',\n",
       " 'FORNO ELÉTRICO, MARCA: HAMILTON, MODELO: 22703H',\n",
       " 'FORNO ELÉTRICO BLACK DECKER, MODELO: TO 1313SBD',\n",
       " 'FORNO MICROONDAS, MARCA: BLACK DECKER, MODELO: EM720CB7',\n",
       " 'FORNO ELETRICO, MARCA: ELITE GOURMET, MODELO: ETO-4510M',\n",
       " 'FORNO ELETRICO 120V/(USADO)',\n",
       " 'FORNO ELETRICO 120V/(USADO)',\n",
       " 'FORNO - AF-250AD2  - KALORIK']"
      ]
     },
     "execution_count": 14,
     "metadata": {},
     "output_type": "execute_result"
    }
   ],
   "source": [
    "bm25n.get_top_n(tokenize('Forno marca: Balmuda, modelo: K01M-KG'), corpus, n=10)"
   ]
  },
  {
   "cell_type": "code",
   "execution_count": 15,
   "metadata": {},
   "outputs": [
    {
     "data": {
      "text/plain": [
       "['LIXADEIRA - GA4030 - MAKITA',\n",
       " 'LIXADEIRA - R0520VS - BOSH',\n",
       " 'LIXADEIRA - 64807 - WARRIOR',\n",
       " 'LIXADEIRA - DCW210 - DE WALT',\n",
       " 'LIXADEIRA ORBITAL - B05041 - MAKITA',\n",
       " 'LIXADEIRA - RK7866 - SHOP SERIES',\n",
       " 'lixadeira 7800 - porter cable',\n",
       " 'LIXADEIRA, MARCA DEWALT, MODELO DWL6423',\n",
       " 'LIXADEIRA DE UNHA - DR-203 - MELODY SUSIE',\n",
       " 'LIXADEIRA ELÉTRICA - POWER SHOT PRO 0 9100K']"
      ]
     },
     "execution_count": 15,
     "metadata": {},
     "output_type": "execute_result"
    }
   ],
   "source": [
    "bm25n.get_top_n(tokenize('Lixadeira Marca: Dexter'), corpus, n=10)"
   ]
  },
  {
   "cell_type": "code",
   "execution_count": 16,
   "metadata": {},
   "outputs": [
    {
     "data": {
      "text/plain": [
       "['MICROSCÓPIO - FB20135 - STEM',\n",
       " 'microscópio 52-piece - erly explorer series - IQ CREW',\n",
       " 'Termômetro Digital',\n",
       " 'conversor digital TV  - az',\n",
       " 'TERMOMETRO DIGITAL - IHEALTH',\n",
       " 'BALANÇA DIGITAL RENPHO',\n",
       " 'Balança Digital - Leadzim',\n",
       " 'LAREIRA DIGITAL - EF421SP',\n",
       " 'BALANÇA DIGITAL - ESCALI',\n",
       " 'TERMÔMETRO DIGITAL - DR. TALBOT´S']"
      ]
     },
     "execution_count": 16,
     "metadata": {},
     "output_type": "execute_result"
    }
   ],
   "source": [
    "bm25n.get_top_n(tokenize('Microscópio Digital'), corpus, n=10)"
   ]
  },
  {
   "cell_type": "code",
   "execution_count": 17,
   "metadata": {},
   "outputs": [
    {
     "data": {
      "text/plain": [
       "['NOTEBOOK - ASUS - USADO',\n",
       " 'NOTEBOOK ASUS VIVOBOOK, MARCA ASUS, MODELO R543M',\n",
       " 'tablet nexus 7 - C90KBC487109 - ASUS',\n",
       " 'NOTEBOOK  (USADO)',\n",
       " 'NOTEBOOK (USADO)',\n",
       " 'notebook - HP - usado',\n",
       " 'ROTEADOR, MARCA: ASUS, MODELO: RT-AC5300',\n",
       " 'SUPORTE P/ NOTEBOOK, DE METAL/LOCTEK/DA1-TRAY',\n",
       " 'NOTEBOOK DELL - AVARIADO',\n",
       " 'NOTEBOOK - ADM A8 - LENOVO']"
      ]
     },
     "execution_count": 17,
     "metadata": {},
     "output_type": "execute_result"
    }
   ],
   "source": [
    "bm25n.get_top_n(tokenize('Notebook  Asus'), corpus, n=10)"
   ]
  },
  {
   "cell_type": "code",
   "execution_count": 18,
   "metadata": {},
   "outputs": [
    {
     "data": {
      "text/plain": [
       "['LIXADEIRA - GA4030 - MAKITA',\n",
       " 'LIXADEIRA - R0520VS - BOSH',\n",
       " 'LIXADEIRA - 64807 - WARRIOR',\n",
       " 'LIXADEIRA - DCW210 - DE WALT',\n",
       " 'LIXADEIRA ORBITAL - B05041 - MAKITA',\n",
       " 'lixadeira 7800 - porter cable',\n",
       " 'LIXADEIRA - RK7866 - SHOP SERIES',\n",
       " 'LIXADEIRA DE UNHA - DR-203 - MELODY SUSIE',\n",
       " 'LIXADEIRA, MARCA DEWALT, MODELO DWL6423',\n",
       " 'LIXADEIRA ELÉTRICA - POWER SHOT PRO 0 9100K']"
      ]
     },
     "execution_count": 18,
     "metadata": {},
     "output_type": "execute_result"
    }
   ],
   "source": [
    "bm25n.get_top_n(tokenize('Lixadeira Dexter'), corpus, n=10)"
   ]
  },
  {
   "cell_type": "code",
   "execution_count": 19,
   "metadata": {},
   "outputs": [
    {
     "data": {
      "text/plain": [
       "['ESPREMEDOR DE FRUTAS, MARCA: CUISINART, MODELO: CCJ500',\n",
       " 'ESPREMEDOR - K37-010 - HOMELEADER',\n",
       " 'ESPREMEDOR DE FRUTAS 120V/(USADO)',\n",
       " 'ESPREMEDOR DE FRUTAS 120/(USADO)',\n",
       " 'ESPREMEDOR MANUAL - CIRILLO',\n",
       " 'Espremedor - CS1000 - Citri Star',\n",
       " 'ESPREMEDOR DE FRUTAS - PKJCR305 - NUTRICHEF',\n",
       " 'PERFUME 100ML - BLACK IS BLACK - NUPARFUMS',\n",
       " 'APARELHO ESPREMEDOR DE FRUTA ELÉTRICO - ELITE',\n",
       " 'ESPREMEDOR DE FRUTAS - 67601-A - HAMILTON BEACH']"
      ]
     },
     "execution_count": 19,
     "metadata": {},
     "output_type": "execute_result"
    }
   ],
   "source": [
    "bm25n.get_top_n(tokenize('Espremedor black modelo: CJ625'), corpus, n=10)"
   ]
  },
  {
   "cell_type": "code",
   "execution_count": 20,
   "metadata": {},
   "outputs": [],
   "source": [
    "SQL = 'SELECT title as ncm, contents as descricao FROM laudo_ncm'\n",
    "df_ncm = pd.read_sql(SQL, engine)\n",
    "itensncm = df_ncm.dropna(subset=['ncm'])"
   ]
  },
  {
   "cell_type": "code",
   "execution_count": 21,
   "metadata": {},
   "outputs": [
    {
     "name": "stdout",
     "output_type": "stream",
     "text": [
      "10147 10147\n"
     ]
    }
   ],
   "source": [
    "print(len(df_ncm), len(itensncm))"
   ]
  },
  {
   "cell_type": "code",
   "execution_count": 22,
   "metadata": {},
   "outputs": [],
   "source": [
    "corpus_ncm = list(itensncm.descricao.values)\n",
    "corpus_ncm_normalized = [tokenize(line) for line in corpus_ncm]\n",
    "bm25n_ncm = BM25Okapi(corpus_ncm_normalized)"
   ]
  },
  {
   "cell_type": "code",
   "execution_count": 23,
   "metadata": {},
   "outputs": [
    {
     "data": {
      "text/plain": [
       "['--\\tNão combinados com um aparelho de gravação ou de reprodução de som, mas combinados com um relógio -\\tOutros: Aparelhos receptores para radiodifusão, mesmo combinados num mesmo invólucro, com um aparelho de gravação ou de reprodução de som, ou com um relógio.',\n",
       " 'Combinado com relógio --\\tOutros -\\tAparelhos receptores de radiodifusão suscetíveis de funcionarem sem fonte externa de energia: Aparelhos receptores para radiodifusão, mesmo combinados num mesmo invólucro, com um aparelho de gravação ou de reprodução de som, ou com um relógio.',\n",
       " '--\\tOutros -\\tOutros relógios de pulso, mesmo com contador de tempo incorporado: Relógios de pulso, relógios de bolso e relógios semelhantes (incluindo os contadores de tempo dos mesmos tipos), exceto os da posição 91.01.',\n",
       " '--\\tDe corda automática -\\tOutros relógios de pulso, mesmo com contador de tempo incorporado: Relógios de pulso, relógios de bolso e relógios semelhantes (incluindo os contadores de tempo dos mesmos tipos), exceto os da posição 91.01.',\n",
       " '--\\tOutros -\\tRelógios de pulso, funcionando eletricamente, mesmo com contador de tempo incorporado: Relógios de pulso, relógios de bolso e relógios semelhantes (incluindo os contadores de tempo dos mesmos tipos), exceto os da posição 91.01.',\n",
       " '--\\tOutros -\\tOutros relógios de pulso, mesmo com contador de tempo incorporado: Relógios de pulso, relógios de bolso e relógios semelhantes (incluindo os contadores de tempo dos mesmos tipos), com caixa de metais preciosos ou de metais folheados ou chapeados de metais preciosos (plaquê).',\n",
       " 'Com caixa de metal comum --\\tDe mostrador exclusivamente mecânico -\\tRelógios de pulso, funcionando eletricamente, mesmo com contador de tempo incorporado: Relógios de pulso, relógios de bolso e relógios semelhantes (incluindo os contadores de tempo dos mesmos tipos), exceto os da posição 91.01.',\n",
       " 'Com caixa de metal comum --\\tDe mostrador exclusivamente optoeletrônico -\\tRelógios de pulso, funcionando eletricamente, mesmo com contador de tempo incorporado: Relógios de pulso, relógios de bolso e relógios semelhantes (incluindo os contadores de tempo dos mesmos tipos), exceto os da posição 91.01.',\n",
       " 'Outros --\\tOutros -\\tOutros: Aparelhos receptores para radiodifusão, mesmo combinados num mesmo invólucro, com um aparelho de gravação ou de reprodução de som, ou com um relógio.',\n",
       " 'Com caixa de plástico, exceto as reforçadas com fibra de vidro --\\tDe mostrador exclusivamente optoeletrônico -\\tRelógios de pulso, funcionando eletricamente, mesmo com contador de tempo incorporado: Relógios de pulso, relógios de bolso e relógios semelhantes (incluindo os contadores de tempo dos mesmos tipos), exceto os da posição 91.01.']"
      ]
     },
     "execution_count": 23,
     "metadata": {},
     "output_type": "execute_result"
    }
   ],
   "source": [
    "bm25n_ncm.get_top_n(tokenize('KIT DE CARTEIRA COM RELÓGIO DE PULSO'), corpus_ncm, n=10)"
   ]
  },
  {
   "cell_type": "markdown",
   "metadata": {},
   "source": [
    "# Testar com lemmatização"
   ]
  },
  {
   "cell_type": "code",
   "execution_count": 54,
   "metadata": {},
   "outputs": [
    {
     "name": "stderr",
     "output_type": "stream",
     "text": [
      "[nltk_data] Downloading package rslp to\n",
      "[nltk_data]     C:\\Users\\25052288840\\AppData\\Roaming\\nltk_data...\n",
      "[nltk_data]   Package rslp is already up-to-date!\n"
     ]
    },
    {
     "data": {
      "text/plain": [
       "['gelad', 'seri', 'hr42617091', 'fabricaca', 'mexic']"
      ]
     },
     "execution_count": 54,
     "metadata": {},
     "output_type": "execute_result"
    }
   ],
   "source": [
    "nltk.download('rslp')\n",
    "stemmer = nltk.stem.RSLPStemmer()\n",
    "stop_words = nltk.corpus.stopwords.words('portuguese')\n",
    "\n",
    "def tokenize_stem(doc):\n",
    "    doc_normalized = doc.lower()\n",
    "    doc_normalized = remove_pontuacao(doc_normalized)\n",
    "    doc_normalized = remove_accents(doc_normalized)\n",
    "    return [stemmer.stem(word.decode()) for word in doc_normalized.split() if (len(word) > 2 and word not in stop_words)]\n",
    "tokenize_stem('Geladeira, serie HR42617091, fabricação México')"
   ]
  },
  {
   "cell_type": "code",
   "execution_count": 55,
   "metadata": {},
   "outputs": [],
   "source": [
    "corpus_stem = [tokenize_stem(line) for line in corpus]\n",
    "bm25_stem = BM25Okapi(corpus_stem)"
   ]
  },
  {
   "cell_type": "code",
   "execution_count": 56,
   "metadata": {},
   "outputs": [
    {
     "data": {
      "text/plain": [
       "['KIT DE CARTEIRA COM RELÓGIO DE PULSO DE PONTEIRO, IMITAÇÃO DA PERSONAGEM FROZEN, DA MARCA DISNEY – REF.: M301A',\n",
       " 'KIT DE CARTEIRA COM RELÓGIO DE PULSO DE PONTEIRO, IMITAÇÃO DOS PERSONAGENS CARS, DA MARCA DISNEY – REF.:M301A',\n",
       " 'Kit de carteira com relógio imitação do personagem Miraculous . (Ref:M301A)',\n",
       " 'KIT DE CARTEIRA COM RELÓGIO DE PULSO DE PONTEIRO, IMITAÇÃO DA PERSONAGEM MIRACULOUS, DA MARCA GLOBOSAT PROGRAMADORA – REF.: M301A',\n",
       " 'KIT DE CARTEIRA COM RELÓGIO DE PULSO DE PONTEIRO, IMITAÇÃO DA PERSONAGEM PRINCESA SOFIA, DA MARCA DISNEY – REF.: M301A',\n",
       " 'KIT DE CARTEIRA COM RELÓGIO DE PULSO DE PONTEIRO, IMITAÇÃO DAS PERSONAGENS PRINCESAS, DA MARCA DISNEY – REF.: M301A',\n",
       " 'KIT DE CARTEIRA COM RELÓGIO DE PULSO DE PONTEIRO, IMITAÇÃO DO PERSONAGEM BEN10, DA MARCA CARTOON NETWORK – REF.: M301A',\n",
       " 'KIT DE CARTEIRA COM RELÓGIO DE PULSO DE PONTEIRO, IMITAÇÃO DO PERSONAGEM HOMEM ARANHA, DA MARCA MARVEL – REF.: M301A',\n",
       " 'KIT DE CARTEIRA COM RELÓGIO DE PULSO DE PONTEIRO, IMITAÇÃO DOS PERSONAGENS AVENGERS, DA MARCA MARVEL – REF.: M301A',\n",
       " 'Kit de carteira com relógio imitação do personagem Homem Aranha . (Ref:M301A)']"
      ]
     },
     "execution_count": 56,
     "metadata": {},
     "output_type": "execute_result"
    }
   ],
   "source": [
    "bm25_stem.get_top_n(tokenize_stem('KIT DE CARTEIRA, COM RELÓGIO DE PULSO;'), corpus, n=10)"
   ]
  },
  {
   "cell_type": "code",
   "execution_count": 57,
   "metadata": {},
   "outputs": [
    {
     "data": {
      "text/plain": [
       "['GELADEIRA PORTÁTIL - EP24755US-BK - COSTWAY',\n",
       " 'IMÃ DE GELADEIRA DIVERSOS MODELOS, TAMANHOS ( USADO )',\n",
       " 'Mini geladeira automotiva - K6101WH - Personal Chiller',\n",
       " 'GELADEIRA NR EK1222-E 1504000120 (230 V)/MARCA SIBIR/USADO',\n",
       " 'MINI GELADEIRA PORTÁTIL, MARCA: FRIGIDAIRE, MODELO: EFMIS129',\n",
       " 'Adesivo terapêutico Fantu',\n",
       " 'Óculos de sol IMITAÇÃO DA MARCA RAY BAN',\n",
       " 'Óculos de sol IMITAÇÃO DA MARCA CHANEL',\n",
       " 'Selo IMITAÇÃO DA ANATEL - número 03864-18-11469',\n",
       " 'TV Box MXQ Pro 4K - ADULTERADO - PRODUTO PROIBIDO']"
      ]
     },
     "execution_count": 57,
     "metadata": {},
     "output_type": "execute_result"
    }
   ],
   "source": [
    "bm25_stem.get_top_n(tokenize_stem('geladeira'), corpus, n=10)"
   ]
  },
  {
   "cell_type": "code",
   "execution_count": 58,
   "metadata": {},
   "outputs": [
    {
     "data": {
      "text/plain": [
       "['gelad', 'seri', 'hr42617091', 'fabricaca', 'mexic']"
      ]
     },
     "execution_count": 58,
     "metadata": {},
     "output_type": "execute_result"
    }
   ],
   "source": [
    "tokenize_stem('Geladeira, serie HR42617091, fabricação México')"
   ]
  },
  {
   "cell_type": "code",
   "execution_count": 59,
   "metadata": {},
   "outputs": [
    {
     "data": {
      "text/plain": [
       "[b'geladeira', b'serie', b'hr42617091', b'fabricacao', b'mexico']"
      ]
     },
     "execution_count": 59,
     "metadata": {},
     "output_type": "execute_result"
    }
   ],
   "source": [
    "tokenize('Geladeira, serie HR42617091, fabricação México')"
   ]
  },
  {
   "cell_type": "code",
   "execution_count": 48,
   "metadata": {},
   "outputs": [
    {
     "data": {
      "text/plain": [
       "['GELADEIRA PORTÁTIL - EP24755US-BK - COSTWAY',\n",
       " 'AMORTECEDOR AUTOMOTIVO MODELO: 018166 ORIGEM: MÉXICO',\n",
       " 'TEQUILA PATRÓN 100% DE AGAVE 750ML, ORIGEM MEXICO',\n",
       " 'GELADEIRA NR EK1222-E 1504000120 (230 V)/MARCA SIBIR/USADO',\n",
       " 'IMÃ DE GELADEIRA DIVERSOS MODELOS, TAMANHOS ( USADO )',\n",
       " 'Mini geladeira automotiva - K6101WH - Personal Chiller',\n",
       " 'MINI GELADEIRA PORTÁTIL, MARCA: FRIGIDAIRE, MODELO: EFMIS129',\n",
       " 'Selo IMITAÇÃO DA ANATEL - número 03864-18-11469',\n",
       " 'TV Box MXQ Pro 4K - ADULTERADO - PRODUTO PROIBIDO',\n",
       " 'Adesivo terapêutico Fantu']"
      ]
     },
     "execution_count": 48,
     "metadata": {},
     "output_type": "execute_result"
    }
   ],
   "source": [
    "bm25n.get_top_n(tokenize('geladeira mexico'), corpus, n=10)"
   ]
  },
  {
   "cell_type": "code",
   "execution_count": 60,
   "metadata": {},
   "outputs": [
    {
     "data": {
      "text/plain": [
       "['GELADEIRA PORTÁTIL - EP24755US-BK - COSTWAY',\n",
       " 'AMORTECEDOR AUTOMOTIVO MODELO: 018166 ORIGEM: MÉXICO',\n",
       " 'TEQUILA PATRÓN 100% DE AGAVE 750ML, ORIGEM MEXICO',\n",
       " 'GELADEIRA NR EK1222-E 1504000120 (230 V)/MARCA SIBIR/USADO',\n",
       " 'IMÃ DE GELADEIRA DIVERSOS MODELOS, TAMANHOS ( USADO )',\n",
       " 'Mini geladeira automotiva - K6101WH - Personal Chiller',\n",
       " 'MINI GELADEIRA PORTÁTIL, MARCA: FRIGIDAIRE, MODELO: EFMIS129',\n",
       " 'Selo IMITAÇÃO DA ANATEL - número 03864-18-11469',\n",
       " 'TV Box MXQ Pro 4K - ADULTERADO - PRODUTO PROIBIDO',\n",
       " 'Adesivo terapêutico Fantu']"
      ]
     },
     "execution_count": 60,
     "metadata": {},
     "output_type": "execute_result"
    }
   ],
   "source": [
    "bm25_stem.get_top_n(tokenize_stem('geladeira mexico'), corpus, n=10)"
   ]
  },
  {
   "cell_type": "code",
   "execution_count": 61,
   "metadata": {},
   "outputs": [
    {
     "data": {
      "text/plain": [
       "['BOLSA FEMININA (JOGO C/ 02 BOLSAS E 01 MOEDEIRO)/LC063/LC065/LC066/LC068',\n",
       " 'BOLSA FEMININA/DIVERSOS',\n",
       " 'BOLSA - SPLENDID',\n",
       " 'BOLSA - ALDO',\n",
       " 'BOLSA - COACH',\n",
       " 'BOLSA - LEVIS',\n",
       " 'BOLSA TÉRMICA/DIVERSOS',\n",
       " 'BOLSAS USADA',\n",
       " 'BOLSA - GUESS',\n",
       " 'BOLSA - NAUTICA']"
      ]
     },
     "execution_count": 61,
     "metadata": {},
     "output_type": "execute_result"
    }
   ],
   "source": [
    "bm25_stem.get_top_n(tokenize_stem('bolsas'), corpus, n=10)"
   ]
  },
  {
   "cell_type": "code",
   "execution_count": 62,
   "metadata": {},
   "outputs": [
    {
     "data": {
      "text/plain": [
       "['BOLSA FEMININA (JOGO C/ 02 BOLSAS E 01 MOEDEIRO)/LC063/LC065/LC066/LC068',\n",
       " 'BOLSA FEMININA, EM NYLON/SPORT/MOOTSIES/N-1/N-2/N-3/N-4',\n",
       " 'BOLSA FEMININA, EM TECIDO/KD10',\n",
       " 'BOLSA FEMININA, DOBRÁVEL/DIVERSOS',\n",
       " 'BOLSA FEMININA, IMITAÇÃO DE COURO (JOGO C/ 02 BOLSAS E 01 MOEDEIRO)/BARBARA/BV063/BV065/BV066/BV068',\n",
       " 'BOLSA FEMININA, DE MATERIAL SINTÉTICO/STYLE-773',\n",
       " 'BOLSA FEMININA, IMITAÇÃO DE COURO/LC179/LC181/LC185/LC187',\n",
       " 'BOLSA FEMININA, DIVERSAS CORES/760',\n",
       " 'BOLSA FEMININA, DIVERSAS CORES/751',\n",
       " 'BOLSA FEMININA, DIVERSAS CORES/772/773']"
      ]
     },
     "execution_count": 62,
     "metadata": {},
     "output_type": "execute_result"
    }
   ],
   "source": [
    "bm25_stem.get_top_n(tokenize_stem('bolsas femininas'), corpus, n=10)"
   ]
  },
  {
   "cell_type": "code",
   "execution_count": 63,
   "metadata": {},
   "outputs": [
    {
     "data": {
      "text/plain": [
       "['BOLSAS USADA',\n",
       " 'BOLSAS DIVERSAS',\n",
       " \"CARTEIRAS FEMININAS - VICTORIA SECRET'S, KIPLING E OUTRAS MARCAS\",\n",
       " 'BOLSAS, MARCA: BEBE',\n",
       " 'BOLSAS DIVERSAS MARCAS',\n",
       " 'BOLSAS, MARCA: CORELLO',\n",
       " 'BOLSAS, MARCA: GUESS',\n",
       " 'BOLSAS, MARCA: FOSSIL',\n",
       " 'BOLSAS, MARCA: CHANEL',\n",
       " '07 CXS BOLSAS E MOCHILAS/(USADO)']"
      ]
     },
     "execution_count": 63,
     "metadata": {},
     "output_type": "execute_result"
    }
   ],
   "source": [
    "bm25n.get_top_n(tokenize('bolsas femininas'), corpus, n=10)"
   ]
  },
  {
   "cell_type": "code",
   "execution_count": 69,
   "metadata": {},
   "outputs": [
    {
     "name": "stdout",
     "output_type": "stream",
     "text": [
      "GELADEIRA NR EK1222-E 1504000120 (230 V)/MARCA SIBIR/USADO\n",
      "Mini geladeira automotiva - K6101WH - Personal Chiller\n",
      "IMÃ DE GELADEIRA DIVERSOS MODELOS, TAMANHOS ( USADO )\n",
      "GELADEIRA PORTÁTIL - EP24755US-BK - COSTWAY\n",
      "MINI GELADEIRA PORTÁTIL, MARCA: FRIGIDAIRE, MODELO: EFMIS129\n"
     ]
    }
   ],
   "source": [
    "for linha in corpus:\n",
    "    if 'geladeira' in linha.lower():\n",
    "        print(linha)"
   ]
  },
  {
   "cell_type": "code",
   "execution_count": 70,
   "metadata": {},
   "outputs": [
    {
     "data": {
      "text/plain": [
       "['GELADEIRA PORTÁTIL - EP24755US-BK - COSTWAY',\n",
       " 'IMÃ DE GELADEIRA DIVERSOS MODELOS, TAMANHOS ( USADO )',\n",
       " 'Mini geladeira automotiva - K6101WH - Personal Chiller',\n",
       " 'GELADEIRA NR EK1222-E 1504000120 (230 V)/MARCA SIBIR/USADO',\n",
       " 'MINI GELADEIRA PORTÁTIL, MARCA: FRIGIDAIRE, MODELO: EFMIS129',\n",
       " 'Adesivo terapêutico Fantu',\n",
       " 'Óculos de sol IMITAÇÃO DA MARCA RAY BAN',\n",
       " 'Óculos de sol IMITAÇÃO DA MARCA CHANEL',\n",
       " 'Selo IMITAÇÃO DA ANATEL - número 03864-18-11469',\n",
       " 'TV Box MXQ Pro 4K - ADULTERADO - PRODUTO PROIBIDO']"
      ]
     },
     "execution_count": 70,
     "metadata": {},
     "output_type": "execute_result"
    }
   ],
   "source": [
    "bm25n.get_top_n(tokenize('geladeira'), corpus, n=10)"
   ]
  },
  {
   "cell_type": "code",
   "execution_count": 71,
   "metadata": {},
   "outputs": [
    {
     "data": {
      "text/plain": [
       "['GELADEIRA PORTÁTIL - EP24755US-BK - COSTWAY',\n",
       " 'IMÃ DE GELADEIRA DIVERSOS MODELOS, TAMANHOS ( USADO )',\n",
       " 'Mini geladeira automotiva - K6101WH - Personal Chiller',\n",
       " 'GELADEIRA NR EK1222-E 1504000120 (230 V)/MARCA SIBIR/USADO',\n",
       " 'MINI GELADEIRA PORTÁTIL, MARCA: FRIGIDAIRE, MODELO: EFMIS129',\n",
       " 'Adesivo terapêutico Fantu',\n",
       " 'Óculos de sol IMITAÇÃO DA MARCA RAY BAN',\n",
       " 'Óculos de sol IMITAÇÃO DA MARCA CHANEL',\n",
       " 'Selo IMITAÇÃO DA ANATEL - número 03864-18-11469',\n",
       " 'TV Box MXQ Pro 4K - ADULTERADO - PRODUTO PROIBIDO']"
      ]
     },
     "execution_count": 71,
     "metadata": {},
     "output_type": "execute_result"
    }
   ],
   "source": [
    "bm25_stem.get_top_n(tokenize_stem('geladeira'), corpus, n=10)"
   ]
  },
  {
   "cell_type": "code",
   "execution_count": 72,
   "metadata": {},
   "outputs": [
    {
     "data": {
      "text/plain": [
       "[b'mini', b'geladeira', b'automotiva', b'k6101wh', b'personal', b'chiller']"
      ]
     },
     "execution_count": 72,
     "metadata": {},
     "output_type": "execute_result"
    }
   ],
   "source": [
    "tokenize('Mini geladeira automotiva - K6101WH - Personal Chiller')"
   ]
  },
  {
   "cell_type": "code",
   "execution_count": 73,
   "metadata": {},
   "outputs": [
    {
     "data": {
      "text/plain": [
       "['min', 'gelad', 'automo', 'k6101wh', 'person', 'chill']"
      ]
     },
     "execution_count": 73,
     "metadata": {},
     "output_type": "execute_result"
    }
   ],
   "source": [
    "tokenize_stem('Mini geladeira automotiva - K6101WH - Personal Chiller')"
   ]
  },
  {
   "cell_type": "code",
   "execution_count": 83,
   "metadata": {},
   "outputs": [],
   "source": [
    "def monta_sugestoes(texto, n_rows=10):\n",
    "    doc_scores = bm25n.get_scores(tokenize(texto))\n",
    "    indices = np.flip(np.argpartition(doc_scores, doc_scores.shape[0] - 2)[-n_rows:])\n",
    "    indices_menoszero = []\n",
    "    for indice in indices:\n",
    "        if doc_scores[indice] == 0.:\n",
    "            break\n",
    "        indices_menoszero.append(indice)\n",
    "    new_df = itenstg.iloc[indices_menoszero]\n",
    "    # print(new_df.columns)\n",
    "    # new_df['get_unidade'] = new_df.unidadedemedida.apply(Enumerado.unidadeMedida)\n",
    "    return new_df"
   ]
  },
  {
   "cell_type": "code",
   "execution_count": 84,
   "metadata": {},
   "outputs": [
    {
     "data": {
      "text/html": [
       "<div>\n",
       "<style scoped>\n",
       "    .dataframe tbody tr th:only-of-type {\n",
       "        vertical-align: middle;\n",
       "    }\n",
       "\n",
       "    .dataframe tbody tr th {\n",
       "        vertical-align: top;\n",
       "    }\n",
       "\n",
       "    .dataframe thead th {\n",
       "        text-align: right;\n",
       "    }\n",
       "</style>\n",
       "<table border=\"1\" class=\"dataframe\">\n",
       "  <thead>\n",
       "    <tr style=\"text-align: right;\">\n",
       "      <th></th>\n",
       "      <th>id</th>\n",
       "      <th>tg_id</th>\n",
       "      <th>numero</th>\n",
       "      <th>descricao</th>\n",
       "      <th>qtde</th>\n",
       "      <th>unidadedemedida</th>\n",
       "      <th>valor</th>\n",
       "      <th>ncm</th>\n",
       "      <th>marca_id</th>\n",
       "      <th>create_date</th>\n",
       "      <th>user_name</th>\n",
       "      <th>contramarca</th>\n",
       "      <th>modelo</th>\n",
       "    </tr>\n",
       "  </thead>\n",
       "  <tbody>\n",
       "    <tr>\n",
       "      <th>10077</th>\n",
       "      <td>13858</td>\n",
       "      <td>542</td>\n",
       "      <td>1</td>\n",
       "      <td>GELADEIRA PORTÁTIL - EP24755US-BK - COSTWAY</td>\n",
       "      <td>1.0</td>\n",
       "      <td>0</td>\n",
       "      <td>1800.00</td>\n",
       "      <td>84182900</td>\n",
       "      <td>None</td>\n",
       "      <td>2022-01-25 14:23:04</td>\n",
       "      <td>None</td>\n",
       "      <td>None</td>\n",
       "      <td>None</td>\n",
       "    </tr>\n",
       "    <tr>\n",
       "      <th>7292</th>\n",
       "      <td>7752</td>\n",
       "      <td>455</td>\n",
       "      <td>23</td>\n",
       "      <td>GELADEIRA NR EK1222-E 1504000120 (230 V)/MARCA...</td>\n",
       "      <td>1.0</td>\n",
       "      <td>0</td>\n",
       "      <td>1543.92</td>\n",
       "      <td>84182100</td>\n",
       "      <td>None</td>\n",
       "      <td>2021-08-10 11:26:00</td>\n",
       "      <td>None</td>\n",
       "      <td>None</td>\n",
       "      <td>None</td>\n",
       "    </tr>\n",
       "    <tr>\n",
       "      <th>8659</th>\n",
       "      <td>9656</td>\n",
       "      <td>505</td>\n",
       "      <td>116</td>\n",
       "      <td>Mini geladeira automotiva - K6101WH - Personal...</td>\n",
       "      <td>1.0</td>\n",
       "      <td>0</td>\n",
       "      <td>800.00</td>\n",
       "      <td>84182900</td>\n",
       "      <td>None</td>\n",
       "      <td>2021-09-30 14:55:28</td>\n",
       "      <td>None</td>\n",
       "      <td>None</td>\n",
       "      <td>None</td>\n",
       "    </tr>\n",
       "    <tr>\n",
       "      <th>9639</th>\n",
       "      <td>13395</td>\n",
       "      <td>557</td>\n",
       "      <td>1</td>\n",
       "      <td>IMÃ DE GELADEIRA DIVERSOS MODELOS, TAMANHOS ( ...</td>\n",
       "      <td>30.0</td>\n",
       "      <td>0</td>\n",
       "      <td>0.06</td>\n",
       "      <td>39264000</td>\n",
       "      <td>None</td>\n",
       "      <td>2021-12-17 14:43:27</td>\n",
       "      <td>None</td>\n",
       "      <td>None</td>\n",
       "      <td>None</td>\n",
       "    </tr>\n",
       "    <tr>\n",
       "      <th>10728</th>\n",
       "      <td>15457</td>\n",
       "      <td>504</td>\n",
       "      <td>3</td>\n",
       "      <td>MINI GELADEIRA PORTÁTIL, MARCA: FRIGIDAIRE, MO...</td>\n",
       "      <td>2.0</td>\n",
       "      <td>0</td>\n",
       "      <td>250.00</td>\n",
       "      <td>84181000</td>\n",
       "      <td>None</td>\n",
       "      <td>2022-02-15 15:07:52</td>\n",
       "      <td>None</td>\n",
       "      <td>None</td>\n",
       "      <td>None</td>\n",
       "    </tr>\n",
       "  </tbody>\n",
       "</table>\n",
       "</div>"
      ],
      "text/plain": [
       "          id  tg_id  numero  \\\n",
       "10077  13858    542       1   \n",
       "7292    7752    455      23   \n",
       "8659    9656    505     116   \n",
       "9639   13395    557       1   \n",
       "10728  15457    504       3   \n",
       "\n",
       "                                               descricao  qtde  \\\n",
       "10077        GELADEIRA PORTÁTIL - EP24755US-BK - COSTWAY   1.0   \n",
       "7292   GELADEIRA NR EK1222-E 1504000120 (230 V)/MARCA...   1.0   \n",
       "8659   Mini geladeira automotiva - K6101WH - Personal...   1.0   \n",
       "9639   IMÃ DE GELADEIRA DIVERSOS MODELOS, TAMANHOS ( ...  30.0   \n",
       "10728  MINI GELADEIRA PORTÁTIL, MARCA: FRIGIDAIRE, MO...   2.0   \n",
       "\n",
       "       unidadedemedida    valor       ncm marca_id         create_date  \\\n",
       "10077                0  1800.00  84182900     None 2022-01-25 14:23:04   \n",
       "7292                 0  1543.92  84182100     None 2021-08-10 11:26:00   \n",
       "8659                 0   800.00  84182900     None 2021-09-30 14:55:28   \n",
       "9639                 0     0.06  39264000     None 2021-12-17 14:43:27   \n",
       "10728                0   250.00  84181000     None 2022-02-15 15:07:52   \n",
       "\n",
       "      user_name contramarca modelo  \n",
       "10077      None        None   None  \n",
       "7292       None        None   None  \n",
       "8659       None        None   None  \n",
       "9639       None        None   None  \n",
       "10728      None        None   None  "
      ]
     },
     "execution_count": 84,
     "metadata": {},
     "output_type": "execute_result"
    }
   ],
   "source": [
    "monta_sugestoes('geladeira')"
   ]
  },
  {
   "cell_type": "code",
   "execution_count": 122,
   "metadata": {},
   "outputs": [],
   "source": [
    "def monta_sugestoes_stem(texto, n_rows=10):\n",
    "    doc_scores = bm25_stem.get_scores(tokenize_stem(texto))\n",
    "    new_df = itenstg.copy()\n",
    "    new_df['pontuação'] = doc_scores\n",
    "    new_df = new_df[new_df['pontuação'] > 0.]\n",
    "    new_df.sort_values(axis=0, inplace=True, ascending=False, by='pontuação')\n",
    "    return new_df"
   ]
  },
  {
   "cell_type": "code",
   "execution_count": 123,
   "metadata": {},
   "outputs": [
    {
     "data": {
      "text/html": [
       "<div>\n",
       "<style scoped>\n",
       "    .dataframe tbody tr th:only-of-type {\n",
       "        vertical-align: middle;\n",
       "    }\n",
       "\n",
       "    .dataframe tbody tr th {\n",
       "        vertical-align: top;\n",
       "    }\n",
       "\n",
       "    .dataframe thead th {\n",
       "        text-align: right;\n",
       "    }\n",
       "</style>\n",
       "<table border=\"1\" class=\"dataframe\">\n",
       "  <thead>\n",
       "    <tr style=\"text-align: right;\">\n",
       "      <th></th>\n",
       "      <th>id</th>\n",
       "      <th>tg_id</th>\n",
       "      <th>numero</th>\n",
       "      <th>descricao</th>\n",
       "      <th>qtde</th>\n",
       "      <th>unidadedemedida</th>\n",
       "      <th>valor</th>\n",
       "      <th>ncm</th>\n",
       "      <th>marca_id</th>\n",
       "      <th>create_date</th>\n",
       "      <th>user_name</th>\n",
       "      <th>contramarca</th>\n",
       "      <th>modelo</th>\n",
       "      <th>pontuação</th>\n",
       "    </tr>\n",
       "  </thead>\n",
       "  <tbody>\n",
       "    <tr>\n",
       "      <th>10077</th>\n",
       "      <td>13858</td>\n",
       "      <td>542</td>\n",
       "      <td>1</td>\n",
       "      <td>GELADEIRA PORTÁTIL - EP24755US-BK - COSTWAY</td>\n",
       "      <td>1.0</td>\n",
       "      <td>0</td>\n",
       "      <td>1800.00</td>\n",
       "      <td>84182900</td>\n",
       "      <td>None</td>\n",
       "      <td>2022-01-25 14:23:04</td>\n",
       "      <td>None</td>\n",
       "      <td>None</td>\n",
       "      <td>None</td>\n",
       "      <td>9.713738</td>\n",
       "    </tr>\n",
       "    <tr>\n",
       "      <th>7292</th>\n",
       "      <td>7752</td>\n",
       "      <td>455</td>\n",
       "      <td>23</td>\n",
       "      <td>GELADEIRA NR EK1222-E 1504000120 (230 V)/MARCA...</td>\n",
       "      <td>1.0</td>\n",
       "      <td>0</td>\n",
       "      <td>1543.92</td>\n",
       "      <td>84182100</td>\n",
       "      <td>None</td>\n",
       "      <td>2021-08-10 11:26:00</td>\n",
       "      <td>None</td>\n",
       "      <td>None</td>\n",
       "      <td>None</td>\n",
       "      <td>8.354852</td>\n",
       "    </tr>\n",
       "    <tr>\n",
       "      <th>8659</th>\n",
       "      <td>9656</td>\n",
       "      <td>505</td>\n",
       "      <td>116</td>\n",
       "      <td>Mini geladeira automotiva - K6101WH - Personal...</td>\n",
       "      <td>1.0</td>\n",
       "      <td>0</td>\n",
       "      <td>800.00</td>\n",
       "      <td>84182900</td>\n",
       "      <td>None</td>\n",
       "      <td>2021-09-30 14:55:28</td>\n",
       "      <td>None</td>\n",
       "      <td>None</td>\n",
       "      <td>None</td>\n",
       "      <td>8.354852</td>\n",
       "    </tr>\n",
       "    <tr>\n",
       "      <th>9639</th>\n",
       "      <td>13395</td>\n",
       "      <td>557</td>\n",
       "      <td>1</td>\n",
       "      <td>IMÃ DE GELADEIRA DIVERSOS MODELOS, TAMANHOS ( ...</td>\n",
       "      <td>30.0</td>\n",
       "      <td>0</td>\n",
       "      <td>0.06</td>\n",
       "      <td>39264000</td>\n",
       "      <td>None</td>\n",
       "      <td>2021-12-17 14:43:27</td>\n",
       "      <td>None</td>\n",
       "      <td>None</td>\n",
       "      <td>None</td>\n",
       "      <td>8.354852</td>\n",
       "    </tr>\n",
       "    <tr>\n",
       "      <th>10728</th>\n",
       "      <td>15457</td>\n",
       "      <td>504</td>\n",
       "      <td>3</td>\n",
       "      <td>MINI GELADEIRA PORTÁTIL, MARCA: FRIGIDAIRE, MO...</td>\n",
       "      <td>2.0</td>\n",
       "      <td>0</td>\n",
       "      <td>250.00</td>\n",
       "      <td>84181000</td>\n",
       "      <td>None</td>\n",
       "      <td>2022-02-15 15:07:52</td>\n",
       "      <td>None</td>\n",
       "      <td>None</td>\n",
       "      <td>None</td>\n",
       "      <td>7.808663</td>\n",
       "    </tr>\n",
       "  </tbody>\n",
       "</table>\n",
       "</div>"
      ],
      "text/plain": [
       "          id  tg_id  numero  \\\n",
       "10077  13858    542       1   \n",
       "7292    7752    455      23   \n",
       "8659    9656    505     116   \n",
       "9639   13395    557       1   \n",
       "10728  15457    504       3   \n",
       "\n",
       "                                               descricao  qtde  \\\n",
       "10077        GELADEIRA PORTÁTIL - EP24755US-BK - COSTWAY   1.0   \n",
       "7292   GELADEIRA NR EK1222-E 1504000120 (230 V)/MARCA...   1.0   \n",
       "8659   Mini geladeira automotiva - K6101WH - Personal...   1.0   \n",
       "9639   IMÃ DE GELADEIRA DIVERSOS MODELOS, TAMANHOS ( ...  30.0   \n",
       "10728  MINI GELADEIRA PORTÁTIL, MARCA: FRIGIDAIRE, MO...   2.0   \n",
       "\n",
       "       unidadedemedida    valor       ncm marca_id         create_date  \\\n",
       "10077                0  1800.00  84182900     None 2022-01-25 14:23:04   \n",
       "7292                 0  1543.92  84182100     None 2021-08-10 11:26:00   \n",
       "8659                 0   800.00  84182900     None 2021-09-30 14:55:28   \n",
       "9639                 0     0.06  39264000     None 2021-12-17 14:43:27   \n",
       "10728                0   250.00  84181000     None 2022-02-15 15:07:52   \n",
       "\n",
       "      user_name contramarca modelo  pontuação  \n",
       "10077      None        None   None   9.713738  \n",
       "7292       None        None   None   8.354852  \n",
       "8659       None        None   None   8.354852  \n",
       "9639       None        None   None   8.354852  \n",
       "10728      None        None   None   7.808663  "
      ]
     },
     "execution_count": 123,
     "metadata": {},
     "output_type": "execute_result"
    }
   ],
   "source": [
    "monta_sugestoes_stem('geladeira')"
   ]
  },
  {
   "cell_type": "code",
   "execution_count": 85,
   "metadata": {},
   "outputs": [],
   "source": [
    "doc_scores = bm25_stem.get_scores(tokenize_stem('geladeira'))"
   ]
  },
  {
   "cell_type": "code",
   "execution_count": 94,
   "metadata": {},
   "outputs": [
    {
     "data": {
      "text/plain": [
       "(array([ 6992,  8359,  9299,  9737, 10388], dtype=int64),)"
      ]
     },
     "execution_count": 94,
     "metadata": {},
     "output_type": "execute_result"
    }
   ],
   "source": [
    "np.where(doc_scores > 0)"
   ]
  },
  {
   "cell_type": "code",
   "execution_count": 95,
   "metadata": {},
   "outputs": [
    {
     "data": {
      "text/plain": [
       "array([8.35485228, 8.35485228, 8.35485228, 9.71373829, 7.80866283])"
      ]
     },
     "execution_count": 95,
     "metadata": {},
     "output_type": "execute_result"
    }
   ],
   "source": [
    "doc_scores[np.where(doc_scores > 0)]"
   ]
  },
  {
   "cell_type": "code",
   "execution_count": 101,
   "metadata": {},
   "outputs": [
    {
     "data": {
      "text/plain": [
       "array([15104, 15105, 15106, 15107, 15108, 15109, 15110, 15111, 15112,\n",
       "        9737], dtype=int64)"
      ]
     },
     "execution_count": 101,
     "metadata": {},
     "output_type": "execute_result"
    }
   ],
   "source": [
    "np.argpartition(doc_scores,(1, doc_scores.shape[0] - 1))[-10:]"
   ]
  },
  {
   "cell_type": "code",
   "execution_count": 103,
   "metadata": {},
   "outputs": [
    {
     "data": {
      "text/plain": [
       "array([8.35485228, 8.35485228, 8.35485228, 9.71373829, 7.80866283])"
      ]
     },
     "execution_count": 103,
     "metadata": {},
     "output_type": "execute_result"
    }
   ],
   "source": [
    "max_scores = doc_scores[np.where(doc_scores > 0)]\n",
    "max_scores"
   ]
  },
  {
   "cell_type": "code",
   "execution_count": 110,
   "metadata": {},
   "outputs": [
    {
     "data": {
      "text/plain": [
       "array([4, 0, 1, 2, 3], dtype=int64)"
      ]
     },
     "execution_count": 110,
     "metadata": {},
     "output_type": "execute_result"
    }
   ],
   "source": [
    "np.argpartition(max_scores, 3)"
   ]
  },
  {
   "cell_type": "code",
   "execution_count": 111,
   "metadata": {},
   "outputs": [
    {
     "data": {
      "text/plain": [
       "3"
      ]
     },
     "execution_count": 111,
     "metadata": {},
     "output_type": "execute_result"
    }
   ],
   "source": [
    "np.argmax(max_scores)"
   ]
  },
  {
   "cell_type": "code",
   "execution_count": null,
   "metadata": {},
   "outputs": [],
   "source": []
  }
 ],
 "metadata": {
  "kernelspec": {
   "display_name": "Python 3",
   "language": "python",
   "name": "python3"
  },
  "language_info": {
   "codemirror_mode": {
    "name": "ipython",
    "version": 3
   },
   "file_extension": ".py",
   "mimetype": "text/x-python",
   "name": "python",
   "nbconvert_exporter": "python",
   "pygments_lexer": "ipython3",
   "version": "3.8.5"
  }
 },
 "nbformat": 4,
 "nbformat_minor": 2
}
