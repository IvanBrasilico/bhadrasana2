{
 "cells": [
  {
   "cell_type": "code",
   "execution_count": 1,
   "metadata": {
    "ExecuteTime": {
     "end_time": "2020-03-16T18:26:43.238119Z",
     "start_time": "2020-03-16T18:26:43.187863Z"
    }
   },
   "outputs": [],
   "source": [
    "import time\n",
    "import sys\n",
    "from PIL import Image\n",
    "from datetime import date, datetime, timedelta\n",
    "\n",
    "\n",
    "sys.path.insert(0, '..')\n",
    "from utils import mongodb\n",
    "from vazios_cheios import cursor_vazio_nvazio, extract_to\n"
   ]
  },
  {
   "cell_type": "code",
   "execution_count": 2,
   "metadata": {
    "ExecuteTime": {
     "end_time": "2020-03-16T18:26:43.241798Z",
     "start_time": "2020-03-16T18:26:43.240100Z"
    }
   },
   "outputs": [],
   "source": [
    "#if os.path.exists('vazios'):\n",
    "#    shutil.rmtree('vazios')"
   ]
  },
  {
   "cell_type": "code",
   "execution_count": 4,
   "metadata": {
    "ExecuteTime": {
     "end_time": "2020-03-16T18:27:12.366174Z",
     "start_time": "2020-03-16T18:27:09.915063Z"
    }
   },
   "outputs": [
    {
     "name": "stdout",
     "output_type": "stream",
     "text": [
      "5c530b051004b377f3dc0082  existe, abortando...\n",
      "5c530b021004b377f3dbfee2  existe, abortando...\n",
      "(600, 365)  - abortando...\n",
      "5c530b081004b377f3dc0212  existe, abortando...\n",
      "5c530b071004b377f3dc01a6  existe, abortando...\n",
      "5c530b091004b377f3dc02b6  existe, abortando...\n",
      "5c530b0b1004b377f3dc042e  existe, abortando...\n",
      "5c530ab31004b377f3dbd8e4  existe, abortando...\n",
      "5c530ab31004b377f3dbd954  existe, abortando...\n",
      "5c530ac01004b377f3dbe5e0  existe, abortando...\n",
      "5c530ab81004b377f3dbde1c  existe, abortando...\n",
      "5c530abc1004b377f3dbe1c8  existe, abortando...\n",
      "5c530aba1004b377f3dbe084  existe, abortando...\n",
      "5c530abb1004b377f3dbe13c  existe, abortando...\n",
      "5c530ab81004b377f3dbde94  existe, abortando...\n",
      "5c530abf1004b377f3dbe56c  existe, abortando...\n",
      "5c530ab41004b377f3dbd9f8  existe, abortando...\n",
      "5c530abf1004b377f3dbe4bc  existe, abortando...\n",
      "5c530ab91004b377f3dbdf5c  existe, abortando...\n",
      "5c530ab31004b377f3dbd8d4  existe, abortando...\n",
      "5c530ab51004b377f3dbdb64  existe, abortando...\n",
      "5c530aba1004b377f3dbe02c  existe, abortando...\n",
      "5c530ab21004b377f3dbd844  existe, abortando...\n",
      "5c530ab41004b377f3dbda10  existe, abortando...\n",
      "5c530abb1004b377f3dbe168  existe, abortando...\n",
      "5c530ab91004b377f3dbdf74  existe, abortando...\n",
      "5c5309281004b3779c37d376  existe, abortando...\n",
      "5c53092f1004b3779c37da96  existe, abortando...\n",
      "(600, 365)  - abortando...\n",
      "5c530afe1004b377f3dbfbfe  existe, abortando...\n",
      "5c530b061004b377f3dc00e2  existe, abortando...\n",
      "5c530f051004b377f3dd1e29  existe, abortando...\n",
      "5c530ee71004b377f3dd1531  existe, abortando...\n",
      "5c530ab11004b377f3dbd780  existe, abortando...\n",
      "5c530ab61004b377f3dbdc10  existe, abortando...\n",
      "5c530ab31004b377f3dbd978  existe, abortando...\n",
      "5c530ab21004b377f3dbd81c  existe, abortando...\n",
      "5c530ac01004b377f3dbe624  existe, abortando...\n",
      "5c530ab41004b377f3dbd9c8  existe, abortando...\n",
      "5c530ab31004b377f3dbd8d0  existe, abortando...\n",
      "5c530abf1004b377f3dbe514  existe, abortando...\n",
      "5c530abb1004b377f3dbe0a0  existe, abortando...\n",
      "5c530ab21004b377f3dbd810  existe, abortando...\n",
      "5c530abf1004b377f3dbe4e8  existe, abortando...\n",
      "5c530aba1004b377f3dbe06c  existe, abortando...\n",
      "5c530ac01004b377f3dbe580  existe, abortando...\n",
      "5c530abd1004b377f3dbe298  existe, abortando...\n",
      "5c530abb1004b377f3dbe08c  existe, abortando...\n",
      "5c530abc1004b377f3dbe264  existe, abortando...\n",
      "5c530ab41004b377f3dbd9e8  existe, abortando...\n",
      "5c530ab61004b377f3dbdcb8  existe, abortando...\n",
      "5c530ab61004b377f3dbdc0c  existe, abortando...\n",
      "5c530ab41004b377f3dbdaa4  existe, abortando...\n",
      "5c530ab41004b377f3dbda98  existe, abortando...\n",
      "5c530ab51004b377f3dbdb50  existe, abortando...\n",
      "5c530abe1004b377f3dbe3dc  existe, abortando...\n",
      "5c530ab31004b377f3dbd97c  existe, abortando...\n",
      "5c530abe1004b377f3dbe3a8  existe, abortando...\n",
      "5c530abb1004b377f3dbe14c  existe, abortando...\n",
      "5c530abf1004b377f3dbe510  existe, abortando...\n",
      "5c530ab81004b377f3dbde34  existe, abortando...\n",
      "5c530aba1004b377f3dbe020  existe, abortando...\n",
      "5c530ab41004b377f3dbd9ec  existe, abortando...\n",
      "5c530ab41004b377f3dbda48  existe, abortando...\n",
      "5c530ab11004b377f3dbd734  existe, abortando...\n",
      "5c530ab71004b377f3dbdce0  existe, abortando...\n",
      "5c530ab31004b377f3dbd988  existe, abortando...\n",
      "5c530ab11004b377f3dbd6f4  existe, abortando...\n",
      "5c530ab81004b377f3dbde60  existe, abortando...\n",
      "5c530abc1004b377f3dbe21c  existe, abortando...\n",
      "5c530ab61004b377f3dbdbec  existe, abortando...\n",
      "5c530ac01004b377f3dbe5ec  existe, abortando...\n",
      "5c530abd1004b377f3dbe368  existe, abortando...\n",
      "5c530aba1004b377f3dbe070  existe, abortando...\n",
      "5c530ab11004b377f3dbd6c0  existe, abortando...\n",
      "5c530ab41004b377f3dbda0c  existe, abortando...\n",
      "5c530ef31004b377f3dd1909  existe, abortando...\n",
      "5c530ab41004b377f3dbda88  existe, abortando...\n",
      "5c530aba1004b377f3dbe024  existe, abortando...\n",
      "5c530ab61004b377f3dbdc8c  existe, abortando...\n",
      "5c530b941004b377f3dc31b5  existe, abortando...\n",
      "5c530ef31004b377f3dd1931  existe, abortando...\n",
      "5c530ab51004b377f3dbdb58  existe, abortando...\n",
      "5c530b921004b377f3dc30dd  existe, abortando...\n",
      "5c530eef1004b377f3dd17c5  existe, abortando...\n",
      "5c530efe1004b377f3dd1c11  existe, abortando...\n",
      "5c530ecf1004b377f3dd10cd  existe, abortando...\n",
      "5c530ed41004b377f3dd1165  existe, abortando...\n",
      "5c530ed41004b377f3dd1155  existe, abortando...\n",
      "5c530eef1004b377f3dd1789  existe, abortando...\n",
      "5c530ecc1004b377f3dd1029  existe, abortando...\n",
      "5c530eee1004b377f3dd1731  existe, abortando...\n",
      "5c530c111004b377f3dc575c  existe, abortando...\n",
      "5c530c281004b377f3dc5f18  existe, abortando...\n",
      "5c530c201004b377f3dc5c50  existe, abortando...\n",
      "5c530c111004b377f3dc5764  existe, abortando...\n",
      "5c530c251004b377f3dc5e0c  existe, abortando...\n",
      "5c530c1a1004b377f3dc5a6c  existe, abortando...\n",
      "5c530b751004b377f3dc27d5  existe, abortando...\n",
      "5c530b761004b377f3dc280d  existe, abortando...\n",
      "99 arquivos exportados...\n",
      "0.02 segundos para processar 99 registros\n",
      "(600, 353)  - abortando...\n",
      "(600, 357)  - abortando...\n",
      "(600, 343)  - abortando...\n",
      "99 arquivos exportados...\n",
      "2.43 segundos para processar 99 registros\n"
     ]
    }
   ],
   "source": [
    "start = datetime(2017, 7, 1)\n",
    "end = datetime.today()\n",
    "limit = 100\n",
    "for label in (True, False):\n",
    "    s0 = time.time()\n",
    "    cursor = cursor_vazio_nvazio(mongodb, start, end, limit, label)\n",
    "    count = extract_to(cursor)\n",
    "    s1 = time.time()\n",
    "    print('{:0.2f} segundos para processar {:d} registros'.format((s1 - s0), count))\n"
   ]
  },
  {
   "cell_type": "code",
   "execution_count": null,
   "metadata": {},
   "outputs": [],
   "source": []
  },
  {
   "cell_type": "code",
   "execution_count": null,
   "metadata": {},
   "outputs": [],
   "source": []
  }
 ],
 "metadata": {
  "kernelspec": {
   "display_name": "Python 3",
   "language": "python",
   "name": "python3"
  },
  "language_info": {
   "codemirror_mode": {
    "name": "ipython",
    "version": 3
   },
   "file_extension": ".py",
   "mimetype": "text/x-python",
   "name": "python",
   "nbconvert_exporter": "python",
   "pygments_lexer": "ipython3",
   "version": "3.5.2"
  }
 },
 "nbformat": 4,
 "nbformat_minor": 2
}
