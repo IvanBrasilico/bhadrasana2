{
 "cells": [
  {
   "cell_type": "markdown",
   "metadata": {},
   "source": [
    "# Código-fonte"
   ]
  },
  {
   "cell_type": "code",
   "execution_count": 1,
   "metadata": {},
   "outputs": [
    {
     "name": "stderr",
     "output_type": "stream",
     "text": [
      "2022-02-08 18:18:02,236 ajna         INFO     Configuração de log efetuada\n"
     ]
    },
    {
     "name": "stdout",
     "output_type": "stream",
     "text": [
      "Fazendo log de erros e alertas no arquivo  ../..\\..\\ajna_docs\\commons\\ajna_commons\\flask\\error.log\n",
      "Fazendo log de atividade no arquivo  ../..\\..\\ajna_docs\\commons\\ajna_commons\\flask\\access.log\n"
     ]
    }
   ],
   "source": [
    "import pandas as pd\n",
    "import plotly.express as px\n",
    "from gerencial_exp import engine, AnoMes\n",
    "import gerencial_exp as g"
   ]
  },
  {
   "cell_type": "code",
   "execution_count": 2,
   "metadata": {},
   "outputs": [],
   "source": [
    "SQL_APREENSOES = \\\n",
    "'''\n",
    "SELECT year(ovr.datahora) as Ano, month(ovr.datahora) as Mês,\n",
    "  ovr.id as Ficha, rvf.id as RVF, rvf.descricao as relato,\n",
    "  a.id as Apreensao, a.descricao, t.descricao, a.peso as Peso\n",
    "  FROM ovr_ovrs ovr\n",
    " inner join ovr_verificacoesfisicas rvf on rvf.ovr_id = ovr.id\n",
    " inner join ovr_apreensoes_rvf a on a.rvf_id = rvf.id\n",
    " inner join ovr_tiposapreensao t on t.id = a.tipo_id\n",
    " where ovr.setor_id in (1, 2, 3)\n",
    " order by Ano, Mês, Ficha, RVF, Apreensao;'''\n",
    "\n",
    "\n",
    "df_apreensoes = pd.read_sql(SQL_APREENSOES, engine)"
   ]
  },
  {
   "cell_type": "code",
   "execution_count": 3,
   "metadata": {},
   "outputs": [
    {
     "data": {
      "text/html": [
       "<div>\n",
       "<style scoped>\n",
       "    .dataframe tbody tr th:only-of-type {\n",
       "        vertical-align: middle;\n",
       "    }\n",
       "\n",
       "    .dataframe tbody tr th {\n",
       "        vertical-align: top;\n",
       "    }\n",
       "\n",
       "    .dataframe thead th {\n",
       "        text-align: right;\n",
       "    }\n",
       "</style>\n",
       "<table border=\"1\" class=\"dataframe\">\n",
       "  <thead>\n",
       "    <tr style=\"text-align: right;\">\n",
       "      <th></th>\n",
       "      <th>Ano</th>\n",
       "      <th>Mês</th>\n",
       "      <th>Ficha</th>\n",
       "      <th>RVF</th>\n",
       "      <th>relato</th>\n",
       "      <th>Apreensao</th>\n",
       "      <th>descricao</th>\n",
       "      <th>descricao</th>\n",
       "      <th>Peso</th>\n",
       "    </tr>\n",
       "  </thead>\n",
       "  <tbody>\n",
       "    <tr>\n",
       "      <th>0</th>\n",
       "      <td>2020</td>\n",
       "      <td>7</td>\n",
       "      <td>517</td>\n",
       "      <td>295</td>\n",
       "      <td>Os lacres aparentaram estar intactos e de acor...</td>\n",
       "      <td>9</td>\n",
       "      <td>Tablete</td>\n",
       "      <td>Cocaína</td>\n",
       "      <td>R$ 632.00</td>\n",
       "    </tr>\n",
       "    <tr>\n",
       "      <th>1</th>\n",
       "      <td>2020</td>\n",
       "      <td>7</td>\n",
       "      <td>630</td>\n",
       "      <td>325</td>\n",
       "      <td>Imagem de escâner selecionada destacando o esp...</td>\n",
       "      <td>10</td>\n",
       "      <td>tablete</td>\n",
       "      <td>Cocaína</td>\n",
       "      <td>R$ 219.00</td>\n",
       "    </tr>\n",
       "    <tr>\n",
       "      <th>2</th>\n",
       "      <td>2020</td>\n",
       "      <td>7</td>\n",
       "      <td>636</td>\n",
       "      <td>331</td>\n",
       "      <td>Os lacres aparentavam estar intactos e conform...</td>\n",
       "      <td>11</td>\n",
       "      <td>Tablete</td>\n",
       "      <td>Cocaína</td>\n",
       "      <td>R$ 388.00</td>\n",
       "    </tr>\n",
       "    <tr>\n",
       "      <th>3</th>\n",
       "      <td>2020</td>\n",
       "      <td>8</td>\n",
       "      <td>739</td>\n",
       "      <td>389</td>\n",
       "      <td>O lacre do armador aparentou estar intacto e d...</td>\n",
       "      <td>12</td>\n",
       "      <td>Tablete</td>\n",
       "      <td>Cocaína</td>\n",
       "      <td>R$ 192.00</td>\n",
       "    </tr>\n",
       "    <tr>\n",
       "      <th>4</th>\n",
       "      <td>2020</td>\n",
       "      <td>8</td>\n",
       "      <td>820</td>\n",
       "      <td>400</td>\n",
       "      <td>Os lacres aparentaram estar intactos e de acor...</td>\n",
       "      <td>13</td>\n",
       "      <td>Tablete na estrutura</td>\n",
       "      <td>Cocaína</td>\n",
       "      <td>R$ 57.00</td>\n",
       "    </tr>\n",
       "    <tr>\n",
       "      <th>...</th>\n",
       "      <td>...</td>\n",
       "      <td>...</td>\n",
       "      <td>...</td>\n",
       "      <td>...</td>\n",
       "      <td>...</td>\n",
       "      <td>...</td>\n",
       "      <td>...</td>\n",
       "      <td>...</td>\n",
       "      <td>...</td>\n",
       "    </tr>\n",
       "    <tr>\n",
       "      <th>57</th>\n",
       "      <td>2021</td>\n",
       "      <td>12</td>\n",
       "      <td>3072</td>\n",
       "      <td>2379</td>\n",
       "      <td>No dia 28/12/2021, com base em imagens de escâ...</td>\n",
       "      <td>82</td>\n",
       "      <td>tabletes</td>\n",
       "      <td>Cocaína</td>\n",
       "      <td>R$ 736.00</td>\n",
       "    </tr>\n",
       "    <tr>\n",
       "      <th>58</th>\n",
       "      <td>2021</td>\n",
       "      <td>12</td>\n",
       "      <td>3074</td>\n",
       "      <td>2381</td>\n",
       "      <td>\\r\\nNo dia 28/12/2021, com base em imagens de ...</td>\n",
       "      <td>83</td>\n",
       "      <td>sacos de plástico no interior dos sacos de ráfia</td>\n",
       "      <td>Cocaína</td>\n",
       "      <td>R$ 504.00</td>\n",
       "    </tr>\n",
       "    <tr>\n",
       "      <th>59</th>\n",
       "      <td>2021</td>\n",
       "      <td>12</td>\n",
       "      <td>3079</td>\n",
       "      <td>2385</td>\n",
       "      <td>No dia 27/12/2021, com base em imagens de escâ...</td>\n",
       "      <td>86</td>\n",
       "      <td>tabletes</td>\n",
       "      <td>Cocaína</td>\n",
       "      <td>R$ 561.00</td>\n",
       "    </tr>\n",
       "    <tr>\n",
       "      <th>60</th>\n",
       "      <td>2022</td>\n",
       "      <td>1</td>\n",
       "      <td>3105</td>\n",
       "      <td>2412</td>\n",
       "      <td>O contêiner veio vazio do exterior (porto de F...</td>\n",
       "      <td>88</td>\n",
       "      <td>tabletes</td>\n",
       "      <td>Cocaína</td>\n",
       "      <td>R$ 59.00</td>\n",
       "    </tr>\n",
       "    <tr>\n",
       "      <th>61</th>\n",
       "      <td>2022</td>\n",
       "      <td>2</td>\n",
       "      <td>3254</td>\n",
       "      <td>2560</td>\n",
       "      <td>O lacre apesar de estar de acordo com o decla...</td>\n",
       "      <td>91</td>\n",
       "      <td>tabletes</td>\n",
       "      <td>Cocaína</td>\n",
       "      <td>R$ 558.00</td>\n",
       "    </tr>\n",
       "  </tbody>\n",
       "</table>\n",
       "<p>62 rows × 9 columns</p>\n",
       "</div>"
      ],
      "text/plain": [
       "     Ano  Mês  Ficha   RVF                                             relato  \\\n",
       "0   2020    7    517   295  Os lacres aparentaram estar intactos e de acor...   \n",
       "1   2020    7    630   325  Imagem de escâner selecionada destacando o esp...   \n",
       "2   2020    7    636   331  Os lacres aparentavam estar intactos e conform...   \n",
       "3   2020    8    739   389  O lacre do armador aparentou estar intacto e d...   \n",
       "4   2020    8    820   400  Os lacres aparentaram estar intactos e de acor...   \n",
       "..   ...  ...    ...   ...                                                ...   \n",
       "57  2021   12   3072  2379  No dia 28/12/2021, com base em imagens de escâ...   \n",
       "58  2021   12   3074  2381  \\r\\nNo dia 28/12/2021, com base em imagens de ...   \n",
       "59  2021   12   3079  2385  No dia 27/12/2021, com base em imagens de escâ...   \n",
       "60  2022    1   3105  2412  O contêiner veio vazio do exterior (porto de F...   \n",
       "61  2022    2   3254  2560   O lacre apesar de estar de acordo com o decla...   \n",
       "\n",
       "    Apreensao                                         descricao descricao  \\\n",
       "0           9                                           Tablete   Cocaína   \n",
       "1          10                                           tablete   Cocaína   \n",
       "2          11                                           Tablete   Cocaína   \n",
       "3          12                                           Tablete   Cocaína   \n",
       "4          13                              Tablete na estrutura   Cocaína   \n",
       "..        ...                                               ...       ...   \n",
       "57         82                                          tabletes   Cocaína   \n",
       "58         83  sacos de plástico no interior dos sacos de ráfia   Cocaína   \n",
       "59         86                                          tabletes   Cocaína   \n",
       "60         88                                          tabletes   Cocaína   \n",
       "61         91                                          tabletes   Cocaína   \n",
       "\n",
       "        Peso  \n",
       "0  R$ 632.00  \n",
       "1  R$ 219.00  \n",
       "2  R$ 388.00  \n",
       "3  R$ 192.00  \n",
       "4   R$ 57.00  \n",
       "..       ...  \n",
       "57 R$ 736.00  \n",
       "58 R$ 504.00  \n",
       "59 R$ 561.00  \n",
       "60  R$ 59.00  \n",
       "61 R$ 558.00  \n",
       "\n",
       "[62 rows x 9 columns]"
      ]
     },
     "execution_count": 3,
     "metadata": {},
     "output_type": "execute_result"
    }
   ],
   "source": [
    "df_apreensoes"
   ]
  },
  {
   "cell_type": "code",
   "execution_count": 4,
   "metadata": {},
   "outputs": [
    {
     "ename": "KeyError",
     "evalue": "\"Column(s) ['Qtde', 'ValorTG'] do not exist\"",
     "output_type": "error",
     "traceback": [
      "\u001b[1;31m---------------------------------------------------------------------------\u001b[0m",
      "\u001b[1;31mKeyError\u001b[0m                                  Traceback (most recent call last)",
      "\u001b[1;32m<ipython-input-4-a2065f8fdbda>\u001b[0m in \u001b[0;36m<module>\u001b[1;34m\u001b[0m\n\u001b[0;32m      1\u001b[0m \u001b[0mdf_apreensoes\u001b[0m\u001b[1;33m[\u001b[0m\u001b[1;34m'AnoMes'\u001b[0m\u001b[1;33m]\u001b[0m \u001b[1;33m=\u001b[0m \u001b[0mdf_apreensoes\u001b[0m\u001b[1;33m.\u001b[0m\u001b[0mapply\u001b[0m\u001b[1;33m(\u001b[0m\u001b[0mAnoMes\u001b[0m\u001b[1;33m,\u001b[0m \u001b[0maxis\u001b[0m\u001b[1;33m=\u001b[0m\u001b[1;36m1\u001b[0m\u001b[1;33m)\u001b[0m\u001b[1;33m\u001b[0m\u001b[1;33m\u001b[0m\u001b[0m\n\u001b[1;32m----> 2\u001b[1;33m df_apreensoes_ano_sum = df_apreensoes.groupby(['Ano']).agg(\n\u001b[0m\u001b[0;32m      3\u001b[0m     \u001b[0mqtde\u001b[0m\u001b[1;33m=\u001b[0m\u001b[0mpd\u001b[0m\u001b[1;33m.\u001b[0m\u001b[0mNamedAgg\u001b[0m\u001b[1;33m(\u001b[0m\u001b[0mcolumn\u001b[0m\u001b[1;33m=\u001b[0m\u001b[1;34m'Qtde'\u001b[0m\u001b[1;33m,\u001b[0m \u001b[0maggfunc\u001b[0m\u001b[1;33m=\u001b[0m\u001b[1;34m'sum'\u001b[0m\u001b[1;33m)\u001b[0m\u001b[1;33m,\u001b[0m\u001b[1;33m\u001b[0m\u001b[1;33m\u001b[0m\u001b[0m\n\u001b[0;32m      4\u001b[0m     valor=pd.NamedAgg(column='ValorTG', aggfunc='sum')).reset_index()\n\u001b[0;32m      5\u001b[0m df_apreensoes_ano_mes_sum = df_apreensoes.groupby(['AnoMes']).agg(\n",
      "\u001b[1;32m~\\Anaconda3\\lib\\site-packages\\pandas\\core\\groupby\\generic.py\u001b[0m in \u001b[0;36maggregate\u001b[1;34m(self, func, engine, engine_kwargs, *args, **kwargs)\u001b[0m\n\u001b[0;32m    977\u001b[0m \u001b[1;33m\u001b[0m\u001b[0m\n\u001b[0;32m    978\u001b[0m         \u001b[0mop\u001b[0m \u001b[1;33m=\u001b[0m \u001b[0mGroupByApply\u001b[0m\u001b[1;33m(\u001b[0m\u001b[0mself\u001b[0m\u001b[1;33m,\u001b[0m \u001b[0mfunc\u001b[0m\u001b[1;33m,\u001b[0m \u001b[0margs\u001b[0m\u001b[1;33m,\u001b[0m \u001b[0mkwargs\u001b[0m\u001b[1;33m)\u001b[0m\u001b[1;33m\u001b[0m\u001b[1;33m\u001b[0m\u001b[0m\n\u001b[1;32m--> 979\u001b[1;33m         \u001b[0mresult\u001b[0m \u001b[1;33m=\u001b[0m \u001b[0mop\u001b[0m\u001b[1;33m.\u001b[0m\u001b[0magg\u001b[0m\u001b[1;33m(\u001b[0m\u001b[1;33m)\u001b[0m\u001b[1;33m\u001b[0m\u001b[1;33m\u001b[0m\u001b[0m\n\u001b[0m\u001b[0;32m    980\u001b[0m         \u001b[1;32mif\u001b[0m \u001b[1;32mnot\u001b[0m \u001b[0mis_dict_like\u001b[0m\u001b[1;33m(\u001b[0m\u001b[0mfunc\u001b[0m\u001b[1;33m)\u001b[0m \u001b[1;32mand\u001b[0m \u001b[0mresult\u001b[0m \u001b[1;32mis\u001b[0m \u001b[1;32mnot\u001b[0m \u001b[1;32mNone\u001b[0m\u001b[1;33m:\u001b[0m\u001b[1;33m\u001b[0m\u001b[1;33m\u001b[0m\u001b[0m\n\u001b[0;32m    981\u001b[0m             \u001b[1;32mreturn\u001b[0m \u001b[0mresult\u001b[0m\u001b[1;33m\u001b[0m\u001b[1;33m\u001b[0m\u001b[0m\n",
      "\u001b[1;32m~\\Anaconda3\\lib\\site-packages\\pandas\\core\\apply.py\u001b[0m in \u001b[0;36magg\u001b[1;34m(self)\u001b[0m\n\u001b[0;32m    159\u001b[0m \u001b[1;33m\u001b[0m\u001b[0m\n\u001b[0;32m    160\u001b[0m         \u001b[1;32mif\u001b[0m \u001b[0mis_dict_like\u001b[0m\u001b[1;33m(\u001b[0m\u001b[0marg\u001b[0m\u001b[1;33m)\u001b[0m\u001b[1;33m:\u001b[0m\u001b[1;33m\u001b[0m\u001b[1;33m\u001b[0m\u001b[0m\n\u001b[1;32m--> 161\u001b[1;33m             \u001b[1;32mreturn\u001b[0m \u001b[0mself\u001b[0m\u001b[1;33m.\u001b[0m\u001b[0magg_dict_like\u001b[0m\u001b[1;33m(\u001b[0m\u001b[1;33m)\u001b[0m\u001b[1;33m\u001b[0m\u001b[1;33m\u001b[0m\u001b[0m\n\u001b[0m\u001b[0;32m    162\u001b[0m         \u001b[1;32melif\u001b[0m \u001b[0mis_list_like\u001b[0m\u001b[1;33m(\u001b[0m\u001b[0marg\u001b[0m\u001b[1;33m)\u001b[0m\u001b[1;33m:\u001b[0m\u001b[1;33m\u001b[0m\u001b[1;33m\u001b[0m\u001b[0m\n\u001b[0;32m    163\u001b[0m             \u001b[1;31m# we require a list, but not a 'str'\u001b[0m\u001b[1;33m\u001b[0m\u001b[1;33m\u001b[0m\u001b[1;33m\u001b[0m\u001b[0m\n",
      "\u001b[1;32m~\\Anaconda3\\lib\\site-packages\\pandas\\core\\apply.py\u001b[0m in \u001b[0;36magg_dict_like\u001b[1;34m(self)\u001b[0m\n\u001b[0;32m    425\u001b[0m             \u001b[0mselection\u001b[0m \u001b[1;33m=\u001b[0m \u001b[0mobj\u001b[0m\u001b[1;33m.\u001b[0m\u001b[0m_selection\u001b[0m\u001b[1;33m\u001b[0m\u001b[1;33m\u001b[0m\u001b[0m\n\u001b[0;32m    426\u001b[0m \u001b[1;33m\u001b[0m\u001b[0m\n\u001b[1;32m--> 427\u001b[1;33m         \u001b[0marg\u001b[0m \u001b[1;33m=\u001b[0m \u001b[0mself\u001b[0m\u001b[1;33m.\u001b[0m\u001b[0mnormalize_dictlike_arg\u001b[0m\u001b[1;33m(\u001b[0m\u001b[1;34m\"agg\"\u001b[0m\u001b[1;33m,\u001b[0m \u001b[0mselected_obj\u001b[0m\u001b[1;33m,\u001b[0m \u001b[0marg\u001b[0m\u001b[1;33m)\u001b[0m\u001b[1;33m\u001b[0m\u001b[1;33m\u001b[0m\u001b[0m\n\u001b[0m\u001b[0;32m    428\u001b[0m \u001b[1;33m\u001b[0m\u001b[0m\n\u001b[0;32m    429\u001b[0m         \u001b[1;32mif\u001b[0m \u001b[0mselected_obj\u001b[0m\u001b[1;33m.\u001b[0m\u001b[0mndim\u001b[0m \u001b[1;33m==\u001b[0m \u001b[1;36m1\u001b[0m\u001b[1;33m:\u001b[0m\u001b[1;33m\u001b[0m\u001b[1;33m\u001b[0m\u001b[0m\n",
      "\u001b[1;32m~\\Anaconda3\\lib\\site-packages\\pandas\\core\\apply.py\u001b[0m in \u001b[0;36mnormalize_dictlike_arg\u001b[1;34m(self, how, obj, func)\u001b[0m\n\u001b[0;32m    544\u001b[0m             \u001b[1;32mif\u001b[0m \u001b[0mlen\u001b[0m\u001b[1;33m(\u001b[0m\u001b[0mcols\u001b[0m\u001b[1;33m)\u001b[0m \u001b[1;33m>\u001b[0m \u001b[1;36m0\u001b[0m\u001b[1;33m:\u001b[0m\u001b[1;33m\u001b[0m\u001b[1;33m\u001b[0m\u001b[0m\n\u001b[0;32m    545\u001b[0m                 \u001b[0mcols_sorted\u001b[0m \u001b[1;33m=\u001b[0m \u001b[0mlist\u001b[0m\u001b[1;33m(\u001b[0m\u001b[0msafe_sort\u001b[0m\u001b[1;33m(\u001b[0m\u001b[0mlist\u001b[0m\u001b[1;33m(\u001b[0m\u001b[0mcols\u001b[0m\u001b[1;33m)\u001b[0m\u001b[1;33m)\u001b[0m\u001b[1;33m)\u001b[0m\u001b[1;33m\u001b[0m\u001b[1;33m\u001b[0m\u001b[0m\n\u001b[1;32m--> 546\u001b[1;33m                 \u001b[1;32mraise\u001b[0m \u001b[0mKeyError\u001b[0m\u001b[1;33m(\u001b[0m\u001b[1;34mf\"Column(s) {cols_sorted} do not exist\"\u001b[0m\u001b[1;33m)\u001b[0m\u001b[1;33m\u001b[0m\u001b[1;33m\u001b[0m\u001b[0m\n\u001b[0m\u001b[0;32m    547\u001b[0m \u001b[1;33m\u001b[0m\u001b[0m\n\u001b[0;32m    548\u001b[0m         \u001b[0mis_aggregator\u001b[0m \u001b[1;33m=\u001b[0m \u001b[1;32mlambda\u001b[0m \u001b[0mx\u001b[0m\u001b[1;33m:\u001b[0m \u001b[0misinstance\u001b[0m\u001b[1;33m(\u001b[0m\u001b[0mx\u001b[0m\u001b[1;33m,\u001b[0m \u001b[1;33m(\u001b[0m\u001b[0mlist\u001b[0m\u001b[1;33m,\u001b[0m \u001b[0mtuple\u001b[0m\u001b[1;33m,\u001b[0m \u001b[0mdict\u001b[0m\u001b[1;33m)\u001b[0m\u001b[1;33m)\u001b[0m\u001b[1;33m\u001b[0m\u001b[1;33m\u001b[0m\u001b[0m\n",
      "\u001b[1;31mKeyError\u001b[0m: \"Column(s) ['Qtde', 'ValorTG'] do not exist\""
     ]
    }
   ],
   "source": [
    "df_apreensoes['AnoMes'] = df_apreensoes.apply(AnoMes, axis=1)\n",
    "df_apreensoes_ano_sum = df_apreensoes.groupby(['Ano']).agg(\n",
    "    qtde=pd.NamedAgg(column='Qtde', aggfunc='sum'),\n",
    "    valor=pd.NamedAgg(column='ValorTG', aggfunc='sum')).reset_index()\n",
    "df_apreensoes_ano_mes_sum = df_apreensoes.groupby(['AnoMes']).agg(\n",
    "    qtde=pd.NamedAgg(column='Qtde', aggfunc='sum'),\n",
    "    valor=pd.NamedAgg(column='ValorTG', aggfunc='sum')).reset_index()"
   ]
  },
  {
   "cell_type": "code",
   "execution_count": null,
   "metadata": {},
   "outputs": [],
   "source": []
  },
  {
   "cell_type": "code",
   "execution_count": null,
   "metadata": {},
   "outputs": [],
   "source": []
  },
  {
   "cell_type": "markdown",
   "metadata": {},
   "source": [
    "# Desempenho / tempo das Fichas"
   ]
  },
  {
   "cell_type": "code",
   "execution_count": null,
   "metadata": {},
   "outputs": [],
   "source": [
    "g.FigFichasTempoTotal()"
   ]
  },
  {
   "cell_type": "code",
   "execution_count": null,
   "metadata": {},
   "outputs": [],
   "source": [
    "g.FigFichasEstagio()"
   ]
  },
  {
   "cell_type": "code",
   "execution_count": null,
   "metadata": {},
   "outputs": [],
   "source": [
    "g.FigFichasTemposMedia()"
   ]
  }
 ],
 "metadata": {
  "kernelspec": {
   "display_name": "Python 3",
   "language": "python",
   "name": "python3"
  },
  "language_info": {
   "codemirror_mode": {
    "name": "ipython",
    "version": 3
   },
   "file_extension": ".py",
   "mimetype": "text/x-python",
   "name": "python",
   "nbconvert_exporter": "python",
   "pygments_lexer": "ipython3",
   "version": "3.8.5"
  }
 },
 "nbformat": 4,
 "nbformat_minor": 4
}
