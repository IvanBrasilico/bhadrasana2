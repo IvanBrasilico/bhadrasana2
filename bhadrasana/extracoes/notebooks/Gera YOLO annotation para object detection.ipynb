{
 "cells": [
  {
   "cell_type": "code",
   "execution_count": 29,
   "metadata": {},
   "outputs": [],
   "source": [
    "import io\n",
    "import os\n",
    "import shutil\n",
    "import sys\n",
    "import time\n",
    "from collections import defaultdict\n",
    "\n",
    "sys.path.insert(0, '../../..')\n",
    "sys.path.insert(0, '../../../../ajna_docs/commons')\n",
    "sys.path.insert(0, '../../../../virasana')\n",
    "\n",
    "from bhadrasana.main import mongodb as db\n",
    "from ajna_commons.utils.images import mongo_image\n",
    "from PIL import Image\n",
    "from datetime import date, datetime, timedelta\n",
    "\n"
   ]
  },
  {
   "cell_type": "code",
   "execution_count": 47,
   "metadata": {},
   "outputs": [],
   "source": [
    "#if os.path.exists('yolo'):\n",
    "#    shutil.rmtree('yolo')\n"
   ]
  },
  {
   "cell_type": "code",
   "execution_count": 45,
   "metadata": {},
   "outputs": [],
   "source": [
    "start = datetime(2020, 3, 2)\n",
    "end = datetime.today()\n",
    "limit = 1000\n",
    "query = {'metadata.contentType': 'image/jpeg',\n",
    "         'metadata.predictions.bbox': {'$exists': True},\n",
    "         'metadata.dataescaneamento': {'$gte': start, '$lt': end}}\n",
    "projection = {'_id': 1, 'metadata.predictions.bbox': 1}\n",
    "# r = requests.post('https://ajna.labin.rf08.srf/virasana/grid_data', json=params, verify=False)\n"
   ]
  },
  {
   "cell_type": "code",
   "execution_count": 46,
   "metadata": {},
   "outputs": [
    {
     "name": "stdout",
     "output_type": "stream",
     "text": [
      "[52, 69, 657, 1325] (1684, 799)\n",
      "[61, 38, 635, 1498] (1892, 799)\n",
      "[37, 180, 626, 1564] (2155, 799)\n",
      "[49, 61, 642, 1140] (1677, 799)\n",
      "[51, 83, 662, 1432] (1986, 799)\n",
      "[44, 127, 648, 1471] (1986, 799)\n",
      "[79, 1111, 655, 2007] (2290, 799)\n",
      "[63, 139, 646, 1024] (2290, 799)\n",
      "(1381, 879)  - abortando...\n",
      "[45, 69, 631, 1118] (1681, 799)\n",
      "[17, 48, 640, 1672] (1767, 799)\n",
      "[32, 181, 634, 1446] (2051, 799)\n",
      "[56, 194, 650, 2009] (2309, 799)\n",
      "[33, 94, 648, 1902] (2314, 799)\n",
      "[54, 232, 638, 1889] (2128, 799)\n",
      "[45, 253, 656, 1779] (2128, 799)\n",
      "[89, 41, 642, 720] (1757, 799)\n",
      "[75, 755, 655, 1442] (1757, 799)\n",
      "[56, 32, 685, 3379] (3522, 799)\n",
      "(1333, 799)  - abortando...\n"
     ]
    },
    {
     "ename": "KeyboardInterrupt",
     "evalue": "",
     "output_type": "error",
     "traceback": [
      "\u001b[1;31m---------------------------------------------------------------------------\u001b[0m",
      "\u001b[1;31mFileNotFoundError\u001b[0m                         Traceback (most recent call last)",
      "\u001b[1;32m~\\AppData\\Local\\Continuum\\anaconda3\\lib\\genericpath.py\u001b[0m in \u001b[0;36mexists\u001b[1;34m(path)\u001b[0m\n\u001b[0;32m     18\u001b[0m     \u001b[1;32mtry\u001b[0m\u001b[1;33m:\u001b[0m\u001b[1;33m\u001b[0m\u001b[1;33m\u001b[0m\u001b[0m\n\u001b[1;32m---> 19\u001b[1;33m         \u001b[0mos\u001b[0m\u001b[1;33m.\u001b[0m\u001b[0mstat\u001b[0m\u001b[1;33m(\u001b[0m\u001b[0mpath\u001b[0m\u001b[1;33m)\u001b[0m\u001b[1;33m\u001b[0m\u001b[1;33m\u001b[0m\u001b[0m\n\u001b[0m\u001b[0;32m     20\u001b[0m     \u001b[1;32mexcept\u001b[0m \u001b[0mOSError\u001b[0m\u001b[1;33m:\u001b[0m\u001b[1;33m\u001b[0m\u001b[1;33m\u001b[0m\u001b[0m\n",
      "\u001b[1;31mFileNotFoundError\u001b[0m: [WinError 2] O sistema não pode encontrar o arquivo especificado: 'yolo\\\\16'",
      "\nDuring handling of the above exception, another exception occurred:\n",
      "\u001b[1;31mKeyboardInterrupt\u001b[0m                         Traceback (most recent call last)",
      "\u001b[1;32m<ipython-input-46-88ef69468dcf>\u001b[0m in \u001b[0;36m<module>\u001b[1;34m\u001b[0m\n\u001b[0;32m      8\u001b[0m     \u001b[0mpredictions\u001b[0m \u001b[1;33m=\u001b[0m \u001b[0mrow\u001b[0m\u001b[1;33m[\u001b[0m\u001b[1;34m'metadata'\u001b[0m\u001b[1;33m]\u001b[0m\u001b[1;33m[\u001b[0m\u001b[1;34m'predictions'\u001b[0m\u001b[1;33m]\u001b[0m\u001b[1;33m\u001b[0m\u001b[1;33m\u001b[0m\u001b[0m\n\u001b[0;32m      9\u001b[0m     \u001b[0mcaminho_atual\u001b[0m \u001b[1;33m=\u001b[0m \u001b[0mos\u001b[0m\u001b[1;33m.\u001b[0m\u001b[0mpath\u001b[0m\u001b[1;33m.\u001b[0m\u001b[0mjoin\u001b[0m\u001b[1;33m(\u001b[0m\u001b[1;34m'yolo'\u001b[0m\u001b[1;33m,\u001b[0m \u001b[0mstr\u001b[0m\u001b[1;33m(\u001b[0m\u001b[0mcount\u001b[0m\u001b[1;33m)\u001b[0m\u001b[1;33m)\u001b[0m\u001b[1;33m\u001b[0m\u001b[1;33m\u001b[0m\u001b[0m\n\u001b[1;32m---> 10\u001b[1;33m     \u001b[1;32mif\u001b[0m \u001b[1;32mnot\u001b[0m \u001b[0mos\u001b[0m\u001b[1;33m.\u001b[0m\u001b[0mpath\u001b[0m\u001b[1;33m.\u001b[0m\u001b[0mexists\u001b[0m\u001b[1;33m(\u001b[0m\u001b[0mcaminho_atual\u001b[0m\u001b[1;33m)\u001b[0m\u001b[1;33m:\u001b[0m\u001b[1;33m\u001b[0m\u001b[1;33m\u001b[0m\u001b[0m\n\u001b[0m\u001b[0;32m     11\u001b[0m         \u001b[0mos\u001b[0m\u001b[1;33m.\u001b[0m\u001b[0mmkdir\u001b[0m\u001b[1;33m(\u001b[0m\u001b[0mcaminho_atual\u001b[0m\u001b[1;33m)\u001b[0m\u001b[1;33m\u001b[0m\u001b[1;33m\u001b[0m\u001b[0m\n\u001b[0;32m     12\u001b[0m     \u001b[0marquivo_atual\u001b[0m \u001b[1;33m=\u001b[0m \u001b[0mos\u001b[0m\u001b[1;33m.\u001b[0m\u001b[0mpath\u001b[0m\u001b[1;33m.\u001b[0m\u001b[0mjoin\u001b[0m\u001b[1;33m(\u001b[0m\u001b[0mcaminho_atual\u001b[0m\u001b[1;33m,\u001b[0m \u001b[0mstr\u001b[0m\u001b[1;33m(\u001b[0m\u001b[0m_id\u001b[0m\u001b[1;33m)\u001b[0m\u001b[1;33m)\u001b[0m\u001b[1;33m\u001b[0m\u001b[1;33m\u001b[0m\u001b[0m\n",
      "\u001b[1;32m~\\AppData\\Local\\Continuum\\anaconda3\\lib\\genericpath.py\u001b[0m in \u001b[0;36mexists\u001b[1;34m(path)\u001b[0m\n\u001b[0;32m     17\u001b[0m     \u001b[1;34m\"\"\"Test whether a path exists.  Returns False for broken symbolic links\"\"\"\u001b[0m\u001b[1;33m\u001b[0m\u001b[1;33m\u001b[0m\u001b[0m\n\u001b[0;32m     18\u001b[0m     \u001b[1;32mtry\u001b[0m\u001b[1;33m:\u001b[0m\u001b[1;33m\u001b[0m\u001b[1;33m\u001b[0m\u001b[0m\n\u001b[1;32m---> 19\u001b[1;33m         \u001b[0mos\u001b[0m\u001b[1;33m.\u001b[0m\u001b[0mstat\u001b[0m\u001b[1;33m(\u001b[0m\u001b[0mpath\u001b[0m\u001b[1;33m)\u001b[0m\u001b[1;33m\u001b[0m\u001b[1;33m\u001b[0m\u001b[0m\n\u001b[0m\u001b[0;32m     20\u001b[0m     \u001b[1;32mexcept\u001b[0m \u001b[0mOSError\u001b[0m\u001b[1;33m:\u001b[0m\u001b[1;33m\u001b[0m\u001b[1;33m\u001b[0m\u001b[0m\n\u001b[0;32m     21\u001b[0m         \u001b[1;32mreturn\u001b[0m \u001b[1;32mFalse\u001b[0m\u001b[1;33m\u001b[0m\u001b[1;33m\u001b[0m\u001b[0m\n",
      "\u001b[1;31mKeyboardInterrupt\u001b[0m: "
     ]
    }
   ],
   "source": [
    "MIN_RATIO = 1.8\n",
    "if not os.path.exists('yolo'):\n",
    "    os.mkdir('yolo')\n",
    "    \n",
    "cursor = db.fs.files.find(query, projection).limit(limit)\n",
    "for count, row in enumerate(cursor):\n",
    "    _id = row['_id']\n",
    "    predictions = row['metadata']['predictions']\n",
    "    caminho_atual = os.path.join('yolo', str(_id))\n",
    "    if os.path.exists(caminho_atual):\n",
    "        print(str())\n",
    "        continue\n",
    "    image = Image.open(io.BytesIO(mongo_image(db, _id)))\n",
    "    xfinal, yfinal = image.size\n",
    "    if xfinal / yfinal < MIN_RATIO:\n",
    "        print(image.size, ' - abortando...')\n",
    "        continue\n",
    "    os.mkdir(caminho_atual)\n",
    "    arquivo_atual = os.path.join(caminho_atual, str(_id))\n",
    "    with open(arquivo_atual + '.txt', 'w') as out_handle:\n",
    "        for prediction in predictions:\n",
    "            bbox = prediction['bbox']\n",
    "            print(bbox, image.size)\n",
    "            coords = []\n",
    "            coords.append(str((bbox[1] + bbox[3]) / 2 / xfinal))\n",
    "            coords.append(str((bbox[0] + bbox[2]) / 2 / yfinal))\n",
    "            coords.append(str((bbox[3] - bbox[1]) / xfinal))\n",
    "            coords.append(str((bbox[2] - bbox[0]) / yfinal))\n",
    "            out_handle.write('0 ' + ' '.join(coords) + '\\n')\n",
    "    with open(os.path.join(caminho_atual, 'classes.txt'), 'w') as out_handle:\n",
    "        out_handle.write('0 Container')\n",
    "    image.save(arquivo_atual + '.jpg')\n",
    "print('%s arquivos exportados...')"
   ]
  },
  {
   "cell_type": "code",
   "execution_count": null,
   "metadata": {},
   "outputs": [],
   "source": []
  }
 ],
 "metadata": {
  "kernelspec": {
   "display_name": "Python 3",
   "language": "python",
   "name": "python3"
  },
  "language_info": {
   "codemirror_mode": {
    "name": "ipython",
    "version": 3
   },
   "file_extension": ".py",
   "mimetype": "text/x-python",
   "name": "python",
   "nbconvert_exporter": "python",
   "pygments_lexer": "ipython3",
   "version": "3.7.4"
  }
 },
 "nbformat": 4,
 "nbformat_minor": 2
}
