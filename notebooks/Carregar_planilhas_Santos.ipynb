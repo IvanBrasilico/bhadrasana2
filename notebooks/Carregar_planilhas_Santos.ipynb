{
 "cells": [
  {
   "cell_type": "code",
   "execution_count": 42,
   "metadata": {
    "ExecuteTime": {
     "end_time": "2020-05-20T14:45:44.235875Z",
     "start_time": "2020-05-20T14:45:42.947576Z"
    }
   },
   "outputs": [],
   "source": [
    "from datetime import datetime\n",
    "import requests\n",
    "import pandas as pd\n",
    "AJNA_API_URL = 'http://ajna.labin.rf08.srf/ajnaapi/api'\n",
    "\n",
    "def convert_data_toiso(data):\n",
    "    try:\n",
    "        data = datetime.strptime(data, '%d/%m/%Y %H:%M:%S')\n",
    "    except ValueError:\n",
    "        data = datetime.strptime(data, '%d/%m/%Y')\n",
    "    return data.isoformat()\n",
    "\n",
    "\n",
    "import unicodedata\n",
    "\n",
    "\n",
    "def ascii_sanitizar(text):\n",
    "    \"\"\"Remove marcas de diacríticos (acentos e caracteres especiais).\n",
    "\n",
    "    Retorna NFC normalizado ASCII\n",
    "    \"\"\"\n",
    "    if not text:\n",
    "        return None\n",
    "    return unicodedata.normalize('NFKD', text) \\\n",
    "        .encode('ASCII', 'ignore') \\\n",
    "        .decode('ASCII')"
   ]
  },
  {
   "cell_type": "code",
   "execution_count": 43,
   "metadata": {},
   "outputs": [],
   "source": [
    "CAMINHO = 'C:/Users/25052288840/Downloads/Planilhas/Junho'\n"
   ]
  },
  {
   "cell_type": "markdown",
   "metadata": {
    "heading_collapsed": true
   },
   "source": [
    "## Planilha Santos Brasil - mapeamento"
   ]
  },
  {
   "cell_type": "code",
   "execution_count": 44,
   "metadata": {
    "ExecuteTime": {
     "end_time": "2020-05-20T14:46:07.372038Z",
     "start_time": "2020-05-20T14:46:06.889417Z"
    },
    "hidden": true
   },
   "outputs": [],
   "source": [
    "def processa_df_SBT(filename):\n",
    "    df = pd.read_excel(filename, engine='odf')\n",
    "    df['dataevento'] = df['Data hora entrada'].apply(convert_data_toiso)\n",
    "    return df"
   ]
  },
  {
   "cell_type": "code",
   "execution_count": 45,
   "metadata": {
    "ExecuteTime": {
     "end_time": "2020-05-20T14:46:14.172420Z",
     "start_time": "2020-05-20T14:46:14.169563Z"
    },
    "hidden": true
   },
   "outputs": [],
   "source": [
    "mapa_SBT = {'dataevento': ['dtHrOcorrencia', 'dtHrRegistro'],\n",
    "            'Conteiner': {'listaContainersUld': 'num'},\n",
    "            'Tipo conteiner': {'listaContainersUld': 'tipo'},\n",
    "            'Motorista': 'motorista_nome',\n",
    "            'CPF': 'motorista_cpf',\n",
    "            'Transportadora': 'nmTransportador',\n",
    "            'Cnpj': 'cnpjTransportador',\n",
    "            'Navio': {'listaContainersUld': 'imoNavio'},\n",
    "            'Porto descarga': {'listaContainersUld': 'portoDescarga'},\n",
    "            'Porto final': {'listaContainersUld': 'destinoCarga'},\n",
    "            # Provisório\n",
    "            'Login': 'login',\n",
    "            'Mercadoria': 'mercadoria'\n",
    "}"
   ]
  },
  {
   "cell_type": "markdown",
   "metadata": {
    "heading_collapsed": true
   },
   "source": [
    "## Planilha BTP - mapeamento"
   ]
  },
  {
   "cell_type": "code",
   "execution_count": 56,
   "metadata": {
    "ExecuteTime": {
     "end_time": "2020-05-20T14:58:20.056956Z",
     "start_time": "2020-05-20T14:58:19.778313Z"
    },
    "hidden": true
   },
   "outputs": [],
   "source": [
    "def processa_planilha_BTP(filename):\n",
    "    df_BTP = pd.read_excel(filename)\n",
    "    df_BTP.columns = [ascii_sanitizar(col) for col in df_BTP.columns]\n",
    "    df_BTP['Entrada Carreta'] = df_BTP['Entrada Carreta'].fillna(method='ffill')\n",
    "    df_BTP['CNPJ Transportadora'] = df_BTP['CNPJ Transportadora'].fillna(method='ffill')\n",
    "    df_BTP['Entrada Carreta'] = df_BTP['Entrada Carreta'].astype(str)\n",
    "    df_BTP['dataevento'] = df_BTP['Entrada Carreta'].apply(convert_data_toiso)\n",
    "    df_BTP['CNPJ Transportadora'] = df_BTP['CNPJ Transportadora'].apply(lambda x: '{:014.0f}'.format(x))\n",
    "    df_BTP['Cpf Motorista'] = df_BTP['Cpf Motorista'].apply(lambda x: '{:011.0f}'.format(x))\n",
    "    df_BTP = df_BTP.fillna('')\n",
    "    return df_BTP"
   ]
  },
  {
   "cell_type": "code",
   "execution_count": 57,
   "metadata": {
    "ExecuteTime": {
     "end_time": "2020-05-20T15:37:01.146496Z",
     "start_time": "2020-05-20T15:37:01.143819Z"
    },
    "hidden": true
   },
   "outputs": [],
   "source": [
    "mapa_BTP = {'dataevento': ['dtHrOcorrencia', 'dtHrRegistro'],\n",
    "            'Conteiner': {'listaContainersUld': 'num'},\n",
    "            'Iso Code': {'listaContainersUld': 'tipo'},\n",
    "            'CNPJ Transportadora': 'cnpjTransportador',\n",
    "            'Transportadora': 'nmtransportador',\n",
    "            'Nome Motorista': 'motorista_nome',\n",
    "            'Cpf Motorista': 'motorista_cpf',\n",
    "            'Navio Embarque': {'listaContainersUld': 'imoNavio'},\n",
    "            'Porto Descarga': {'listaContainersUld': 'portoDescarga'},\n",
    "            'Porto Destino Final': {'listaContainersUld': 'destinoCarga'},\n",
    "            # Provisório\n",
    "            'Nome Operador Scanner': 'login',\n",
    "            'Descricao Ncm': 'mercadoria'\n",
    "}"
   ]
  },
  {
   "cell_type": "markdown",
   "metadata": {},
   "source": [
    "## Conexão à API"
   ]
  },
  {
   "cell_type": "code",
   "execution_count": 58,
   "metadata": {
    "ExecuteTime": {
     "end_time": "2020-05-21T19:43:03.522490Z",
     "start_time": "2020-05-21T19:43:03.517279Z"
    }
   },
   "outputs": [],
   "source": [
    "def get_login_headers():\n",
    "    rv = requests.post(AJNA_API_URL + '/login',\n",
    "        json={'username': 'ivan', 'password': 'Ivan1234'})\n",
    "    # print(rv.text)\n",
    "    token = rv.json().get('access_token')\n",
    "    headers = {'Authorization': 'Bearer ' + token}\n",
    "    return headers\n",
    "\n",
    "\n"
   ]
  },
  {
   "cell_type": "code",
   "execution_count": 59,
   "metadata": {
    "ExecuteTime": {
     "end_time": "2020-05-21T19:43:33.163406Z",
     "start_time": "2020-05-21T19:43:33.142125Z"
    }
   },
   "outputs": [],
   "source": [
    "def update_destino(destino, key, valor):\n",
    "    if isinstance(key, str):\n",
    "        destino[key] = valor\n",
    "    elif isinstance(key, list):\n",
    "        for k in key:\n",
    "            destino[k] = valor\n",
    "    elif isinstance(key, dict):\n",
    "        for subk, subv in key.items():\n",
    "            subdestino = destino.get(subk)\n",
    "            if subdestino is None:\n",
    "                subdestino = {}\n",
    "                destino[subk] = subdestino\n",
    "            update_destino(subdestino, subv, valor)\n",
    "\n",
    "def upload_eventos(recinto: str, mapa: dict, df):\n",
    "    for index, row in list(df.iterrows()):  # [:10]:\n",
    "        destino = {'idEvento': hash(recinto + row['dataevento']),\n",
    "                   'cpfOperOcor': '00000000000',\n",
    "                   'cpfOperReg': '00000000000',\n",
    "                   'recinto': recinto,\n",
    "                   'protocoloEventoRetifCanc': None,\n",
    "                   'contingencia': False,\n",
    "                   'codRecintoDestino': 0}\n",
    "        for key_origem, key_destino in mapa.items():\n",
    "            update_destino(destino, key_destino, row[key_origem])\n",
    "        destino['cnpjTransportador'] = destino['cnpjTransportador']\\\n",
    "        .replace('/', '').replace('.', '').replace('-', '')\n",
    "        destino['listaContainersUld'] = [destino['listaContainersUld']]\n",
    "        rv = requests.post(AJNA_API_URL + '/acessoveiculo', json=destino, headers=headers)\n",
    "        if rv.status_code != 201:\n",
    "            print(destino)\n",
    "            print(rv.status_code, rv.text)\n"
   ]
  },
  {
   "cell_type": "code",
   "execution_count": 74,
   "metadata": {},
   "outputs": [
    {
     "name": "stdout",
     "output_type": "stream",
     "text": [
      "2575\n"
     ]
    }
   ],
   "source": [
    "df_BTP = processa_planilha_BTP(CAMINHO + '/BTP escâner - dia 03.xlsx')\n",
    "print(len(df_BTP))"
   ]
  },
  {
   "cell_type": "code",
   "execution_count": 75,
   "metadata": {},
   "outputs": [],
   "source": [
    "headers = get_login_headers()\n",
    "upload_eventos('BTP', mapa_BTP, df_BTP)"
   ]
  },
  {
   "cell_type": "code",
   "execution_count": 76,
   "metadata": {},
   "outputs": [
    {
     "name": "stdout",
     "output_type": "stream",
     "text": [
      "1439\n"
     ]
    }
   ],
   "source": [
    "df_SBT = processa_df_SBT(CAMINHO + '/SBT escâner - dia 03.ods')\n",
    "print(len(df_SBT))"
   ]
  },
  {
   "cell_type": "code",
   "execution_count": 77,
   "metadata": {},
   "outputs": [],
   "source": [
    "headers = get_login_headers()\n",
    "upload_eventos('SBT', mapa_SBT, df_SBT)"
   ]
  },
  {
   "cell_type": "code",
   "execution_count": null,
   "metadata": {},
   "outputs": [],
   "source": []
  }
 ],
 "metadata": {
  "kernelspec": {
   "display_name": "Python 3",
   "language": "python",
   "name": "python3"
  },
  "language_info": {
   "codemirror_mode": {
    "name": "ipython",
    "version": 3
   },
   "file_extension": ".py",
   "mimetype": "text/x-python",
   "name": "python",
   "nbconvert_exporter": "python",
   "pygments_lexer": "ipython3",
   "version": "3.7.4"
  }
 },
 "nbformat": 4,
 "nbformat_minor": 4
}
