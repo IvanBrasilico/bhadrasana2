{
 "cells": [
  {
   "cell_type": "code",
   "execution_count": 1,
   "metadata": {},
   "outputs": [
    {
     "ename": "KeyboardInterrupt",
     "evalue": "",
     "output_type": "error",
     "traceback": [
      "\u001b[1;31m---------------------------------------------------------------------------\u001b[0m",
      "\u001b[1;31mKeyboardInterrupt\u001b[0m                         Traceback (most recent call last)",
      "\u001b[1;32m<ipython-input-1-97158a4f5378>\u001b[0m in \u001b[0;36m<module>\u001b[1;34m\u001b[0m\n\u001b[0;32m     19\u001b[0m \u001b[1;32mfrom\u001b[0m \u001b[0majna_commons\u001b[0m\u001b[1;33m.\u001b[0m\u001b[0mflask\u001b[0m\u001b[1;33m.\u001b[0m\u001b[0mconf\u001b[0m \u001b[1;32mimport\u001b[0m \u001b[0mDATABASE\u001b[0m\u001b[1;33m,\u001b[0m \u001b[0mMONGODB_URI\u001b[0m\u001b[1;33m\u001b[0m\u001b[1;33m\u001b[0m\u001b[0m\n\u001b[0;32m     20\u001b[0m \u001b[1;33m\u001b[0m\u001b[0m\n\u001b[1;32m---> 21\u001b[1;33m \u001b[1;32mfrom\u001b[0m \u001b[0mbhadrasana\u001b[0m\u001b[1;33m.\u001b[0m\u001b[0mmodels\u001b[0m \u001b[1;32mimport\u001b[0m \u001b[0mengine\u001b[0m\u001b[1;33m\u001b[0m\u001b[1;33m\u001b[0m\u001b[0m\n\u001b[0m\u001b[0;32m     22\u001b[0m \u001b[1;33m\u001b[0m\u001b[0m\n\u001b[0;32m     23\u001b[0m \u001b[1;33m\u001b[0m\u001b[0m\n",
      "\u001b[1;32m~\\Anaconda3\\lib\\site-packages\\bhadrasana\\models\\__init__.py\u001b[0m in \u001b[0;36m<module>\u001b[1;34m\u001b[0m\n\u001b[0;32m     11\u001b[0m \u001b[1;32mfrom\u001b[0m \u001b[0mcollections\u001b[0m \u001b[1;32mimport\u001b[0m \u001b[0mOrderedDict\u001b[0m\u001b[1;33m\u001b[0m\u001b[1;33m\u001b[0m\u001b[0m\n\u001b[0;32m     12\u001b[0m \u001b[1;33m\u001b[0m\u001b[0m\n\u001b[1;32m---> 13\u001b[1;33m \u001b[1;32mfrom\u001b[0m \u001b[0msqlalchemy\u001b[0m \u001b[1;32mimport\u001b[0m \u001b[0mColumn\u001b[0m\u001b[1;33m,\u001b[0m \u001b[0mfunc\u001b[0m\u001b[1;33m,\u001b[0m \u001b[0mVARCHAR\u001b[0m\u001b[1;33m,\u001b[0m \u001b[0mCHAR\u001b[0m\u001b[1;33m,\u001b[0m \u001b[0mForeignKey\u001b[0m\u001b[1;33m,\u001b[0m \u001b[0mInteger\u001b[0m\u001b[1;33m,\u001b[0m \u001b[0mevent\u001b[0m\u001b[1;33m\u001b[0m\u001b[1;33m\u001b[0m\u001b[0m\n\u001b[0m\u001b[0;32m     14\u001b[0m \u001b[1;32mfrom\u001b[0m \u001b[0msqlalchemy\u001b[0m \u001b[1;32mimport\u001b[0m \u001b[0mcreate_engine\u001b[0m\u001b[1;33m\u001b[0m\u001b[1;33m\u001b[0m\u001b[0m\n\u001b[0;32m     15\u001b[0m \u001b[1;32mfrom\u001b[0m \u001b[0msqlalchemy\u001b[0m\u001b[1;33m.\u001b[0m\u001b[0mdialects\u001b[0m\u001b[1;33m.\u001b[0m\u001b[0mmysql\u001b[0m \u001b[1;32mimport\u001b[0m \u001b[0mTIMESTAMP\u001b[0m\u001b[1;33m\u001b[0m\u001b[1;33m\u001b[0m\u001b[0m\n",
      "\u001b[1;32m~\\Anaconda3\\lib\\site-packages\\sqlalchemy\\__init__.py\u001b[0m in \u001b[0;36m<module>\u001b[1;34m\u001b[0m\n\u001b[0;32m    149\u001b[0m \u001b[1;33m\u001b[0m\u001b[0m\n\u001b[0;32m    150\u001b[0m \u001b[1;33m\u001b[0m\u001b[0m\n\u001b[1;32m--> 151\u001b[1;33m \u001b[0m__go\u001b[0m\u001b[1;33m(\u001b[0m\u001b[0mlocals\u001b[0m\u001b[1;33m(\u001b[0m\u001b[1;33m)\u001b[0m\u001b[1;33m)\u001b[0m\u001b[1;33m\u001b[0m\u001b[1;33m\u001b[0m\u001b[0m\n\u001b[0m",
      "\u001b[1;32m~\\Anaconda3\\lib\\site-packages\\sqlalchemy\\__init__.py\u001b[0m in \u001b[0;36m__go\u001b[1;34m(lcls)\u001b[0m\n\u001b[0;32m    142\u001b[0m     )\n\u001b[0;32m    143\u001b[0m \u001b[1;33m\u001b[0m\u001b[0m\n\u001b[1;32m--> 144\u001b[1;33m     \u001b[0m_sa_util\u001b[0m\u001b[1;33m.\u001b[0m\u001b[0mdependencies\u001b[0m\u001b[1;33m.\u001b[0m\u001b[0mresolve_all\u001b[0m\u001b[1;33m(\u001b[0m\u001b[1;34m\"sqlalchemy\"\u001b[0m\u001b[1;33m)\u001b[0m\u001b[1;33m\u001b[0m\u001b[1;33m\u001b[0m\u001b[0m\n\u001b[0m\u001b[0;32m    145\u001b[0m \u001b[1;33m\u001b[0m\u001b[0m\n\u001b[0;32m    146\u001b[0m     \u001b[1;32mfrom\u001b[0m \u001b[1;33m.\u001b[0m \u001b[1;32mimport\u001b[0m \u001b[0mexc\u001b[0m\u001b[1;33m\u001b[0m\u001b[1;33m\u001b[0m\u001b[0m\n",
      "\u001b[1;32m~\\Anaconda3\\lib\\site-packages\\sqlalchemy\\util\\_preloaded.py\u001b[0m in \u001b[0;36mresolve_all\u001b[1;34m(cls, path)\u001b[0m\n\u001b[0;32m    150\u001b[0m         \u001b[1;32mfor\u001b[0m \u001b[0mm\u001b[0m \u001b[1;32min\u001b[0m \u001b[0mlist\u001b[0m\u001b[1;33m(\u001b[0m\u001b[0mdependencies\u001b[0m\u001b[1;33m.\u001b[0m\u001b[0m_unresolved\u001b[0m\u001b[1;33m)\u001b[0m\u001b[1;33m:\u001b[0m\u001b[1;33m\u001b[0m\u001b[1;33m\u001b[0m\u001b[0m\n\u001b[0;32m    151\u001b[0m             \u001b[1;32mif\u001b[0m \u001b[0mm\u001b[0m\u001b[1;33m.\u001b[0m\u001b[0m_full_path\u001b[0m\u001b[1;33m.\u001b[0m\u001b[0mstartswith\u001b[0m\u001b[1;33m(\u001b[0m\u001b[0mpath\u001b[0m\u001b[1;33m)\u001b[0m\u001b[1;33m:\u001b[0m\u001b[1;33m\u001b[0m\u001b[1;33m\u001b[0m\u001b[0m\n\u001b[1;32m--> 152\u001b[1;33m                 \u001b[0mm\u001b[0m\u001b[1;33m.\u001b[0m\u001b[0m_resolve\u001b[0m\u001b[1;33m(\u001b[0m\u001b[1;33m)\u001b[0m\u001b[1;33m\u001b[0m\u001b[1;33m\u001b[0m\u001b[0m\n\u001b[0m\u001b[0;32m    153\u001b[0m \u001b[1;33m\u001b[0m\u001b[0m\n\u001b[0;32m    154\u001b[0m     \u001b[0m_unresolved\u001b[0m \u001b[1;33m=\u001b[0m \u001b[0mset\u001b[0m\u001b[1;33m(\u001b[0m\u001b[1;33m)\u001b[0m\u001b[1;33m\u001b[0m\u001b[1;33m\u001b[0m\u001b[0m\n",
      "\u001b[1;32m~\\Anaconda3\\lib\\site-packages\\sqlalchemy\\util\\_preloaded.py\u001b[0m in \u001b[0;36m_resolve\u001b[1;34m(self)\u001b[0m\n\u001b[0;32m    190\u001b[0m         \u001b[1;32mdef\u001b[0m \u001b[0m_resolve\u001b[0m\u001b[1;33m(\u001b[0m\u001b[0mself\u001b[0m\u001b[1;33m)\u001b[0m\u001b[1;33m:\u001b[0m\u001b[1;33m\u001b[0m\u001b[1;33m\u001b[0m\u001b[0m\n\u001b[0;32m    191\u001b[0m             \u001b[0mdependencies\u001b[0m\u001b[1;33m.\u001b[0m\u001b[0m_unresolved\u001b[0m\u001b[1;33m.\u001b[0m\u001b[0mdiscard\u001b[0m\u001b[1;33m(\u001b[0m\u001b[0mself\u001b[0m\u001b[1;33m)\u001b[0m\u001b[1;33m\u001b[0m\u001b[1;33m\u001b[0m\u001b[0m\n\u001b[1;32m--> 192\u001b[1;33m             self._initial_import = compat.import_(\n\u001b[0m\u001b[0;32m    193\u001b[0m                 \u001b[0mself\u001b[0m\u001b[1;33m.\u001b[0m\u001b[0m_il_path\u001b[0m\u001b[1;33m,\u001b[0m \u001b[0mglobals\u001b[0m\u001b[1;33m(\u001b[0m\u001b[1;33m)\u001b[0m\u001b[1;33m,\u001b[0m \u001b[0mlocals\u001b[0m\u001b[1;33m(\u001b[0m\u001b[1;33m)\u001b[0m\u001b[1;33m,\u001b[0m \u001b[1;33m[\u001b[0m\u001b[0mself\u001b[0m\u001b[1;33m.\u001b[0m\u001b[0m_il_addtl\u001b[0m\u001b[1;33m]\u001b[0m\u001b[1;33m\u001b[0m\u001b[1;33m\u001b[0m\u001b[0m\n\u001b[0;32m    194\u001b[0m             )\n",
      "\u001b[1;32m~\\Anaconda3\\lib\\importlib\\_bootstrap.py\u001b[0m in \u001b[0;36m_find_and_load\u001b[1;34m(name, import_)\u001b[0m\n",
      "\u001b[1;32m~\\Anaconda3\\lib\\importlib\\_bootstrap.py\u001b[0m in \u001b[0;36m_find_and_load_unlocked\u001b[1;34m(name, import_)\u001b[0m\n",
      "\u001b[1;32m~\\Anaconda3\\lib\\importlib\\_bootstrap.py\u001b[0m in \u001b[0;36m_load_unlocked\u001b[1;34m(spec)\u001b[0m\n",
      "\u001b[1;32m~\\Anaconda3\\lib\\importlib\\_bootstrap_external.py\u001b[0m in \u001b[0;36mexec_module\u001b[1;34m(self, module)\u001b[0m\n",
      "\u001b[1;32m~\\Anaconda3\\lib\\importlib\\_bootstrap_external.py\u001b[0m in \u001b[0;36mget_code\u001b[1;34m(self, fullname)\u001b[0m\n",
      "\u001b[1;32m~\\Anaconda3\\lib\\importlib\\_bootstrap_external.py\u001b[0m in \u001b[0;36mget_data\u001b[1;34m(self, path)\u001b[0m\n",
      "\u001b[1;31mKeyboardInterrupt\u001b[0m: "
     ]
    }
   ],
   "source": [
    "import os\n",
    "import sys\n",
    "from datetime import datetime\n",
    "from IPython.display import HTML\n",
    "\n",
    "import pandas as pd\n",
    "import plotly.express as px\n",
    "import plotly.graph_objects as go\n",
    "\n",
    "WIDTH = 1100\n",
    "pd.options.display.float_format = 'R$ {:,.2f}'.format\n",
    "\n",
    "caminho_commons = os.path.join('../..', '..', 'ajna_docs', 'commons')\n",
    "caminho_virasana = os.path.join('../..', '..', 'ajna_docs', 'virasana')\n",
    "sys.path.append(caminho_commons)\n",
    "sys.path.append('../..')\n",
    "sys.path.append(caminho_virasana)\n",
    "\n",
    "from ajna_commons.flask.conf import DATABASE, MONGODB_URI\n",
    "\n",
    "from bhadrasana.models import engine\n",
    "\n",
    "\n",
    "def AnoMes(row):\n",
    "    return str(row.Ano) + str(row['Mês']).zfill(2)\n"
   ]
  },
  {
   "cell_type": "markdown",
   "metadata": {},
   "source": [
    "# Colocar os códigos embaixo"
   ]
  },
  {
   "cell_type": "code",
   "execution_count": null,
   "metadata": {},
   "outputs": [],
   "source": [
    "#  4 é fase arquivada sem resultado, eliminar!!!\n",
    "SQL_OUTLET = '''SELECT r.nome as Recinto, ficha.id as 'Ficha', rvf.id as 'RVF', rvf.datahora 'Data de Abertura',\n",
    "     ficha.numeroCEmercante, rvf.numerolote as Contêiner, ficha.fase\n",
    "     FROM ovr_ovrs ficha\n",
    "     INNER JOIN ovr_verificacoesfisicas rvf ON  rvf.ovr_id = ficha.id\n",
    "     inner join ovr_flags_ovr flags on flags.rvf_id = ficha.id\n",
    "     INNER JOIN ovr_recintos r ON r.id = ficha.recinto_id\n",
    "     where flags.flag_id = 9\n",
    "     ORDER BY r.nome, rvf.datahora'''\n",
    "\n",
    "df_pendente_outlet = pd.read_sql(SQL_OUTLET, engine)\n",
    "today_ = datetime.today()\n",
    "def calcula_dias(x):\n",
    "    try:\n",
    "        return int((today_ - x['Data de Abertura']).days)\n",
    "    except:\n",
    "        return 0\n",
    "            \n",
    "\n",
    "df_pendente_outlet['Dias sem conclusão'] = \\\n",
    "    df_pendente_outlet.apply(calcula_dias, axis=1)\n",
    "lista_ovr = ', '.join([str(i) for i in df_pendente_outlet.Ficha.values])\n",
    "\n",
    "SQL_EVENTOS = \\\n",
    "    '''SELECT ovr_id as Ficha, tipoevento_id, t.nome, e.create_date, motivo FROM ovr_eventos e\n",
    "    inner join ovr_tiposevento t on e.tipoevento_id = t.id  where ovr_id in (%s)\n",
    "    ORDER BY ovr_id;'''\n",
    "\n",
    "df_eventos = pd.read_sql(SQL_EVENTOS % lista_ovr, engine)\n",
    "\n",
    "\n",
    "# Tipos de Evento : 36 Em análise da Fiscalização\n",
    "#                    7 Aguardando quantificação do Recinto\n",
    "#                   21 Termo de Guarda informado\n",
    "#                   8 Recebimento de quantificação do Recinto\n",
    "df_pendente_outlet = df_pendente_outlet.drop_duplicates(subset=['Ficha'])\n",
    "df_pendente_outlet = df_pendente_outlet.set_index('Ficha')\n",
    "df_pendente_outlet = df_pendente_outlet.join(\n",
    "    df_eventos[df_eventos.tipoevento_id == 36].drop_duplicates(\n",
    "        ('Ficha', 'tipoevento_id'))[['Ficha', 'motivo']].set_index('Ficha')\n",
    ")"
   ]
  },
  {
   "cell_type": "code",
   "execution_count": null,
   "metadata": {},
   "outputs": [],
   "source": [
    "df_pendente_outlet = df_pendente_outlet.rename(columns={'motivo': 'Parecer'}).fillna('--')"
   ]
  },
  {
   "cell_type": "code",
   "execution_count": null,
   "metadata": {},
   "outputs": [],
   "source": [
    "df_pendente_outlet.replace({'SANTOS/BRASIL SA OPERADOR PORTUARIO': 'SANTOS BRASIL PARTICIPACOES LTDA' }, inplace=True)"
   ]
  },
  {
   "cell_type": "code",
   "execution_count": null,
   "metadata": {},
   "outputs": [],
   "source": [
    "tipos_eventos = {36: 'Análise',\n",
    "                 7: 'Saneamento solicitado',\n",
    "                 8: 'Saneamento recebido',\n",
    "                 21: 'TG recebido'}\n",
    "for tipoevento_id, descricao in tipos_eventos.items():\n",
    "    df_pendente_outlet = df_pendente_outlet.join(\n",
    "        df_eventos[df_eventos.tipoevento_id == tipoevento_id].drop_duplicates(\n",
    "            ('Ficha', 'tipoevento_id'))[['Ficha', 'create_date']].set_index('Ficha')\n",
    "    )\n",
    "    df_pendente_outlet = df_pendente_outlet.rename(columns={'create_date': descricao}).fillna('Sem evento')"
   ]
  },
  {
   "cell_type": "code",
   "execution_count": null,
   "metadata": {},
   "outputs": [],
   "source": [
    "recintos = df_pendente_outlet['Recinto'].unique()\n",
    "df_pendente_outlet['Recinto'].value_counts()"
   ]
  },
  {
   "cell_type": "code",
   "execution_count": null,
   "metadata": {},
   "outputs": [],
   "source": [
    "def duracao(x):\n",
    "    try:\n",
    "        return (x['Saneamento recebido'] - x['Data de Abertura']).days\n",
    "    \n",
    "    except:\n",
    "        try:\n",
    "            return (x['TG recebido'] - x['Data de Abertura']).days\n",
    "        except:\n",
    "            return 0\n",
    "df_pendente_outlet['Duração'] = df_pendente_outlet.apply(duracao, axis=1)"
   ]
  },
  {
   "cell_type": "code",
   "execution_count": null,
   "metadata": {},
   "outputs": [],
   "source": []
  },
  {
   "cell_type": "code",
   "execution_count": null,
   "metadata": {},
   "outputs": [],
   "source": [
    "len(df_pendente_outlet[df_pendente_outlet['Recinto'] == 'BANDEIRANTES DEICMAR - CLIA ALEMOA'])"
   ]
  },
  {
   "cell_type": "code",
   "execution_count": null,
   "metadata": {},
   "outputs": [],
   "source": [
    "def mostra_recinto(recinto, filtrar_concluidos=False):\n",
    "    print(recinto, len(df_pendente_outlet[df_pendente_outlet['Recinto'] == recinto]))\n",
    "    df_pendentes = df_pendente_outlet.reset_index()\n",
    "    df_pendentes = df_pendentes[['Ficha', 'Recinto', 'Data de Abertura', 'numeroCEmercante', 'Dias sem conclusão',\n",
    "                                 'Parecer', 'Contêiner', 'Saneamento recebido', 'TG recebido', 'fase', 'Duração']]\n",
    "    df_pendentes.sort_values(['Ficha'], inplace=True)\n",
    "    if filtrar_concluidos:\n",
    "        df_pendentes=df_pendentes[df_pendentes['fase'] != 3]\n",
    "        df_pendentes=df_pendentes[df_pendentes['fase'] != 4]\n",
    "        df_pendentes=df_pendentes[df_pendentes['TG recebido'] == 'Sem evento']\n",
    "    return df_pendentes[df_pendentes['Recinto'] == recinto]"
   ]
  },
  {
   "cell_type": "code",
   "execution_count": null,
   "metadata": {},
   "outputs": [],
   "source": [
    "mostra_recinto(recintos[0])"
   ]
  },
  {
   "cell_type": "code",
   "execution_count": null,
   "metadata": {
    "scrolled": true
   },
   "outputs": [],
   "source": [
    "mostra_recinto(recintos[0], True).drop(columns=['Parecer', 'fase']).style.hide_index()"
   ]
  },
  {
   "cell_type": "code",
   "execution_count": null,
   "metadata": {},
   "outputs": [],
   "source": [
    "mostra_recinto(recintos[1])"
   ]
  },
  {
   "cell_type": "code",
   "execution_count": null,
   "metadata": {},
   "outputs": [],
   "source": [
    "mostra_recinto(recintos[1], True).drop(columns=['Parecer', 'fase']).style.hide_index()"
   ]
  },
  {
   "cell_type": "code",
   "execution_count": null,
   "metadata": {},
   "outputs": [],
   "source": [
    "mostra_recinto(recintos[7], True).drop(columns=['Parecer', 'fase']).style.hide_index()"
   ]
  },
  {
   "cell_type": "code",
   "execution_count": null,
   "metadata": {},
   "outputs": [],
   "source": [
    "paradigma = mostra_recinto(recintos[4])\n",
    "paradigma"
   ]
  },
  {
   "cell_type": "code",
   "execution_count": null,
   "metadata": {},
   "outputs": [],
   "source": [
    "paradigma[paradigma['Duração']==0]"
   ]
  },
  {
   "cell_type": "code",
   "execution_count": null,
   "metadata": {},
   "outputs": [],
   "source": [
    "paradigma_conclusos = paradigma[paradigma['Duração']!=0]\n",
    "print('Duração média: ', paradigma_conclusos['Duração'].mean())\n",
    "print('Quantidade concluídos:', len(paradigma_conclusos))\n",
    "print('Data primeiro e último:', min(paradigma_conclusos['Data de Abertura']), max(paradigma_conclusos['Data de Abertura']))"
   ]
  },
  {
   "cell_type": "code",
   "execution_count": null,
   "metadata": {},
   "outputs": [],
   "source": [
    "resumo_recintos = {}\n",
    "for recinto in recintos:\n",
    "    df_recinto = df_pendente_outlet[(df_pendente_outlet.Recinto == recinto) & (df_pendente_outlet.fase !=4)]\n",
    "    concluidos = 0\n",
    "    pendentes = 0\n",
    "    tempoc = 0\n",
    "    tempop = 0\n",
    "    for row in df_recinto.iterrows():\n",
    "        if row[1]['Duração'] == 0:  # Não concluído / pendente\n",
    "            p = row[1]['Dias sem conclusão']\n",
    "            tempop += p\n",
    "            pendentes += 1\n",
    "        else:  # Concluído\n",
    "            c = row[1]['Duração']\n",
    "            tempoc += c\n",
    "            concluidos += 1\n",
    "    resumo_recintos[recinto] = {\n",
    "        'concluídos': concluidos,\n",
    "        'duração média': 0 if concluidos == 0 else int(tempoc / concluidos),\n",
    "        'pendentes': pendentes,\n",
    "        'dias sem conclusão média': 0 if pendentes == 0 else int(tempop / pendentes)\n",
    "    }\n",
    "df_resumo = pd.DataFrame.from_dict(resumo_recintos, orient='index')\n",
    "df_resumo['% Concluído'] = (df_resumo['concluídos'] / (df_resumo['concluídos'] + df_resumo['pendentes']))*100\n"
   ]
  },
  {
   "cell_type": "code",
   "execution_count": null,
   "metadata": {
    "scrolled": true
   },
   "outputs": [],
   "source": [
    "pd.options.display.float_format = '{:,.2f}%'.format\n",
    "df_resumo.dropna()"
   ]
  },
  {
   "cell_type": "code",
   "execution_count": null,
   "metadata": {},
   "outputs": [],
   "source": []
  }
 ],
 "metadata": {
  "kernelspec": {
   "display_name": "Python 3",
   "language": "python",
   "name": "python3"
  },
  "language_info": {
   "codemirror_mode": {
    "name": "ipython",
    "version": 3
   },
   "file_extension": ".py",
   "mimetype": "text/x-python",
   "name": "python",
   "nbconvert_exporter": "python",
   "pygments_lexer": "ipython3",
   "version": "3.8.5"
  }
 },
 "nbformat": 4,
 "nbformat_minor": 4
}
