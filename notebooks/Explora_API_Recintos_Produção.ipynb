{
 "cells": [
  {
   "cell_type": "code",
   "execution_count": 1,
   "metadata": {
    "ExecuteTime": {
     "end_time": "2020-05-20T14:45:44.235875Z",
     "start_time": "2020-05-20T14:45:42.947576Z"
    }
   },
   "outputs": [],
   "source": [
    "\n",
    "from selenium import webdriver\n",
    "from selenium.webdriver.common.by import By\n",
    "#from seleniumwire import webdriver\n",
    "\n",
    "API_URL = 'https://portalunico.siscomex.gov.br/recintos-ext/api/'\n",
    "\n",
    "GECKO_PATH = 'C:\\\\Users\\\\25052288840\\\\Downloads\\\\chromedriver.exe'\n",
    "\n",
    "\n",
    "def convert_data_toiso(data):\n",
    "    try:\n",
    "        data = datetime.strptime(data, '%d/%m/%Y %H:%M:%S')\n",
    "    except ValueError:\n",
    "        data = datetime.strptime(data, '%d/%m/%Y')\n",
    "    return data.isoformat()\n",
    "\n",
    "\n",
    "import unicodedata\n",
    "\n",
    "\n",
    "def ascii_sanitizar(text):\n",
    "    \"\"\"Remove marcas de diacríticos (acentos e caracteres especiais).\n",
    "\n",
    "    Retorna NFC normalizado ASCII\n",
    "    \"\"\"\n",
    "    if not text:\n",
    "        return None\n",
    "    return unicodedata.normalize('NFKD', text) \\\n",
    "        .encode('ASCII', 'ignore') \\\n",
    "        .decode('ASCII')"
   ]
  },
  {
   "cell_type": "markdown",
   "metadata": {},
   "source": [
    "## Conexão à API"
   ]
  },
  {
   "cell_type": "code",
   "execution_count": 39,
   "metadata": {},
   "outputs": [],
   "source": [
    "login_js = '''\n",
    "const options = {\n",
    "method: 'POST',\n",
    "headers: {\n",
    "'Role-Type': 'RFB',\n",
    "}\n",
    "}\n",
    "fetch('https://portalunico.siscomex.gov.br/portal/api/autenticar', options).then(response => {\n",
    "      if (!response.ok) {\n",
    "        console.log(response);\n",
    "       } else {\n",
    "         return response.headers;\n",
    "       }\n",
    "});\n",
    "'''"
   ]
  },
  {
   "cell_type": "code",
   "execution_count": null,
   "metadata": {},
   "outputs": [],
   "source": [
    "login_js_headers = '''\n",
    "    const _xhr = new XMLHttpRequest();\n",
    "    _xhr.open(\"HEAD\", document.location, false);\n",
    "    _xhr.send(null);\n",
    "\n",
    "    const _headers = {};\n",
    "\n",
    "    _xhr.getAllResponseHeaders().trim().split(/[\\\\r\\\\n]+/).map((value) => value.split(/: /)).forEach((keyValue) => {\n",
    "        _headers[keyValue[0].trim()] = keyValue[1].trim();\n",
    "    });\n",
    "\n",
    "    return _headers;\n",
    "'''\n",
    "\n",
    "page_headers = driver.execute_script(js_headers)\n"
   ]
  },
  {
   "cell_type": "code",
   "execution_count": 40,
   "metadata": {
    "ExecuteTime": {
     "end_time": "2020-05-21T19:43:03.522490Z",
     "start_time": "2020-05-21T19:43:03.517279Z"
    }
   },
   "outputs": [
    {
     "name": "stdout",
     "output_type": "stream",
     "text": [
      "1 [{'level': 'SEVERE', 'message': 'https://portalunico.siscomex.gov.br/portal/proxy/user?checkLogout=true&tabId= - Failed to load resource: the server responded with a status of 401 (Unauthorized)', 'source': 'network', 'timestamp': 1686856847493}]\n",
      "2 []\n"
     ]
    }
   ],
   "source": [
    "from selenium.webdriver.common.desired_capabilities import DesiredCapabilities\n",
    "\n",
    "capabilities = DesiredCapabilities.CHROME\n",
    "capabilities['goog:loggingPrefs'] = {'performance': 'ALL'}\n",
    "\n",
    "driver = webdriver.Chrome(GECKO_PATH, desired_capabilities=capabilities)\n",
    "\n",
    "try:\n",
    "    driver.get('https://portalunico.siscomex.gov.br/portal/')\n",
    "    driver.implicitly_wait(3)\n",
    "    print('1', driver.get_log('browser'))\n",
    "    headers = driver.execute_script(login_js)\n",
    "    driver.implicitly_wait(3)\n",
    "    print(headers)\n",
    "    print('2', driver.get_log('browser'))\n",
    "finally:\n",
    "    # driver.close()\n",
    "    pass\n",
    "\n",
    "\n"
   ]
  },
  {
   "cell_type": "code",
   "execution_count": 23,
   "metadata": {},
   "outputs": [
    {
     "data": {
      "text/plain": [
       "[]"
      ]
     },
     "execution_count": 23,
     "metadata": {},
     "output_type": "execute_result"
    }
   ],
   "source": []
  },
  {
   "cell_type": "code",
   "execution_count": 38,
   "metadata": {},
   "outputs": [
    {
     "name": "stdout",
     "output_type": "stream",
     "text": [
      "https://accounts.google.com/ListAccounts?gpsia=1&source=ChromiumBrowser&json=standard 200 application/json; charset=utf-8\n",
      "https://portalunico.siscomex.gov.br/portal/ 200 text/html; charset=UTF-8\n",
      "https://portalunico.siscomex.gov.br/portal/styles/lib-981a5922a4.css 200 text/css\n",
      "https://portalunico.siscomex.gov.br/portal/assets/js/sentry.constants.js 200 text/javascript\n",
      "https://portalunico.siscomex.gov.br/portal/assets/css/jquery.pucx-plataforma.css 200 text/css\n",
      "https://portalunico.siscomex.gov.br/portal/js/lib-f0a3cad680.js 200 text/javascript\n",
      "https://portalunico.siscomex.gov.br/portal/assets/js/angularjs.pucx-plataforma.js 200 text/javascript\n",
      "https://portalunico.siscomex.gov.br/portal/js/app-5eaf684bc9.js 200 text/javascript\n",
      "https://polyfill.io/v3/polyfill.min.js?features=Promise%2CObject.assign%2CString.prototype.includes%2CNumber.isNaN 200 text/javascript; charset=UTF-8\n",
      "https://portalunico.siscomex.gov.br/portal/assets/js/jquery.pucx-plataforma.js 200 text/javascript\n",
      "https://browser.sentry-cdn.com/5.5.0/bundle.min.js 200 application/javascript; charset=utf-8\n",
      "https://browser.sentry-cdn.com/5.5.0/angular.min.js 200 application/javascript; charset=utf-8\n",
      "https://portalunico.siscomex.gov.br/portal/proxy/user?checkLogout=true&tabId= 401 application/json;charset=UTF-8\n",
      "https://js.hcaptcha.com/1/api.js?recaptchacompat=off&render=explicit 200 application/javascript\n",
      "https://www.google.com/recaptcha/api.js 200 text/javascript; charset=UTF-8\n",
      "https://portalunico.siscomex.gov.br/portal/proxy/metalogin?checkLogout=true&tabId= 200 application/json;charset=UTF-8\n",
      "https://www.googletagmanager.com/gtag/js?id=G-HHFQ7QHNWK&_=1686856366609 200 application/javascript; charset=UTF-8\n",
      "https://www.gstatic.com/recaptcha/releases/SglpK98hSCn2CroR0bKRSJl5/recaptcha__pt_br.js 200 text/javascript\n",
      "https://newassets.hcaptcha.com/captcha/v1/672044a/static/i18n/pt-BR.json 200 application/json\n",
      "https://portalunico.siscomex.gov.br/portal/assets/images/favicon.ico 200 image/vnd.microsoft.icon\n",
      "https://www.google-analytics.com/g/collect?v=2&tid=G-HHFQ7QHNWK&gtm=45je36e0&_p=1795050829&cid=648925038.1686856367&ul=pt-br&sr=1280x720&uaa=x86&uab=64&uafvl=Google%2520Chrome%3B113.0.5672.127%7CChromium%3B113.0.5672.127%7CNot-A.Brand%3B24.0.0.0&uamb=0&uam=&uap=Windows&uapv=10.0.0&uaw=0&_eu=AEA&ngs=1&_s=1&sid=1686856367&sct=1&seg=0&dl=https%3A%2F%2Fportalunico.siscomex.gov.br%2Fportal%2F&dt=Portal%20%C3%9Anico%20Siscomex&en=scroll&_fv=1&_nsi=1&_ss=1&ep.debug_mode=false&epn.percent_scrolled=90 204 text/plain\n",
      "https://portalunico.siscomex.gov.br/portal/assets/images/logo.png 200 image/png\n",
      "https://portalunico.siscomex.gov.br/portal/assets/images/iconEdge.png 200 image/png\n",
      "https://portalunico.siscomex.gov.br/portal/assets/images/iconFirefox.png 200 image/png\n",
      "https://portalunico.siscomex.gov.br/portal/assets/images/iconChrome.png 200 image/png\n"
     ]
    }
   ],
   "source": [
    "from seleniumwire import webdriver  # Import from seleniumwire\n",
    "\n",
    "# Create a new instance of the Chrome driver\n",
    "driver = webdriver.Chrome(GECKO_PATH)\n",
    "\n",
    "def interceptor(request):\n",
    "    request.headers['Role-Type'] = 'RFB'\n",
    "\n",
    "driver.request_interceptor = interceptor\n",
    "driver.get('https://portalunico.siscomex.gov.br/portal/')\n",
    "driver.implicitly_wait(3)\n",
    "driver.execute_script(login_js)\n",
    "driver.implicitly_wait(3)\n",
    "driver.get('https://portalunico.siscomex.gov.br/portal/api/autenticar')\n",
    "\n",
    "# Access requests via the `requests` attribute\n",
    "for request in driver.requests:\n",
    "    if request.response:\n",
    "        print(\n",
    "            request.url,\n",
    "            request.response.status_code,\n",
    "            request.response.headers['Content-Type']\n",
    "        )"
   ]
  },
  {
   "cell_type": "code",
   "execution_count": 4,
   "metadata": {},
   "outputs": [
    {
     "name": "stderr",
     "output_type": "stream",
     "text": [
      "C:\\Users\\25052288840\\Anaconda3\\lib\\site-packages\\requests\\__init__.py:89: RequestsDependencyWarning: urllib3 (1.26.12) or chardet (3.0.4) doesn't match a supported version!\n",
      "  warnings.warn(\"urllib3 ({}) or chardet ({}) doesn't match a supported \"\n"
     ]
    }
   ],
   "source": [
    "import requests\n",
    "\n",
    "headers= { 'set-token': \n",
    "'eyJhbGciOiJSUzI1NiJ9.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.ladKD1onU48MOVKXKa7foPUTaLpIKpFcEIDjbT2TQ6IHNhmAa6Cr-jJ0GxDV_Jv6V5CdqkkrzL0GIqdSZqNVnrr9F4iXQXolqzaP6QQ0f8Ts7cat2gMVYB4mvo7c1vtGfIgKyvFmImxfm5QsX5ElN9B_XnlZjoIREuca7JvLMjl4BFuQTGhp0t5_QZ2WAsRn2DNxdaek2xb1-On4S-9kYM8fFqrjFgp4WFmFX9tFvBPnRJ8rhkVYk92EXwkP6gz5g0YbAYGl-HHmFwL52yK2F0Ew_9is3nREkQBLA982n6Sze95BpLjbKkrNt3SxkYEtR3yy6XuHfLyxgZuJAzx-0Q',\n",
    "'x-csrf-token': 'NlmWDAS4LoqUfwyhRFiZUEWLqOQmakGFR4Na5NWqfyP7+JS+oHigbpMaPYGTafHq7JMjbIsi85c='}\n",
    "\n",
    "\n",
    "r = requests.get('https://portalunico.siscomex.gov.br/')\n",
    "          \n",
    "        "
   ]
  },
  {
   "cell_type": "code",
   "execution_count": 5,
   "metadata": {
    "ExecuteTime": {
     "end_time": "2020-05-21T19:43:33.163406Z",
     "start_time": "2020-05-21T19:43:33.142125Z"
    }
   },
   "outputs": [],
   "source": [
    "def update_destino(destino, key, valor):\n",
    "    if isinstance(key, str):\n",
    "        destino[key] = valor\n",
    "    elif isinstance(key, list):\n",
    "        for k in key:\n",
    "            destino[k] = valor\n",
    "    elif isinstance(key, dict):\n",
    "        for subk, subv in key.items():\n",
    "            subdestino = destino.get(subk)\n",
    "            if subdestino is None:\n",
    "                subdestino = {}\n",
    "                destino[subk] = subdestino\n",
    "            update_destino(subdestino, subv, valor)\n",
    "\n",
    "def upload_eventos(recinto: str, mapa: dict, df):\n",
    "    for index, row in list(df.iterrows()):  # [:10]:\n",
    "        destino = {'idEvento': hash(recinto + row['dataevento']),\n",
    "                   'cpfOperOcor': '00000000000',\n",
    "                   'cpfOperReg': '00000000000',\n",
    "                   'recinto': recinto,\n",
    "                   'protocoloEventoRetifCanc': None,\n",
    "                   'contingencia': False,\n",
    "                   'codRecintoDestino': 0}\n",
    "        for key_origem, key_destino in mapa.items():\n",
    "            update_destino(destino, key_destino, row[key_origem])\n",
    "        destino['cnpjTransportador'] = destino['cnpjTransportador']\\\n",
    "        .replace('/', '').replace('.', '').replace('-', '')\n",
    "        destino['listaContainersUld'] = [destino['listaContainersUld']]\n",
    "        rv = requests.post(AJNA_API_URL + '/acessoveiculo', json=destino, headers=headers)\n",
    "        if rv.status_code != 201:\n",
    "            print(destino)\n",
    "            print(rv.status_code, rv.text)\n"
   ]
  },
  {
   "cell_type": "code",
   "execution_count": 6,
   "metadata": {
    "ExecuteTime": {
     "end_time": "2020-05-20T15:54:05.596920Z",
     "start_time": "2020-05-20T15:54:05.410643Z"
    }
   },
   "outputs": [
    {
     "ename": "NameError",
     "evalue": "name 'get_login_headers' is not defined",
     "output_type": "error",
     "traceback": [
      "\u001b[1;31m---------------------------------------------------------------------------\u001b[0m",
      "\u001b[1;31mNameError\u001b[0m                                 Traceback (most recent call last)",
      "\u001b[1;32m<ipython-input-6-8d7d5542f13f>\u001b[0m in \u001b[0;36m<module>\u001b[1;34m\u001b[0m\n\u001b[1;32m----> 1\u001b[1;33m \u001b[0mheaders\u001b[0m \u001b[1;33m=\u001b[0m \u001b[0mget_login_headers\u001b[0m\u001b[1;33m(\u001b[0m\u001b[1;33m)\u001b[0m\u001b[1;33m\u001b[0m\u001b[1;33m\u001b[0m\u001b[0m\n\u001b[0m",
      "\u001b[1;31mNameError\u001b[0m: name 'get_login_headers' is not defined"
     ]
    }
   ],
   "source": [
    "headers = get_login_headers()"
   ]
  },
  {
   "cell_type": "code",
   "execution_count": null,
   "metadata": {
    "ExecuteTime": {
     "end_time": "2020-05-20T16:00:51.995271Z",
     "start_time": "2020-05-20T15:54:06.673213Z"
    }
   },
   "outputs": [],
   "source": [
    "# upload_eventos('SBT', mapa_SBT, df_SBT)"
   ]
  },
  {
   "cell_type": "code",
   "execution_count": null,
   "metadata": {
    "ExecuteTime": {
     "end_time": "2020-05-20T15:46:51.035550Z",
     "start_time": "2020-05-20T15:43:42.115712Z"
    }
   },
   "outputs": [],
   "source": [
    "# upload_eventos('BTP', mapa_BTP, df_BTP)"
   ]
  }
 ],
 "metadata": {
  "kernelspec": {
   "display_name": "Python 3",
   "language": "python",
   "name": "python3"
  },
  "language_info": {
   "codemirror_mode": {
    "name": "ipython",
    "version": 3
   },
   "file_extension": ".py",
   "mimetype": "text/x-python",
   "name": "python",
   "nbconvert_exporter": "python",
   "pygments_lexer": "ipython3",
   "version": "3.8.5"
  }
 },
 "nbformat": 4,
 "nbformat_minor": 4
}
