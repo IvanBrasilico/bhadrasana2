{
 "cells": [
  {
   "cell_type": "code",
   "execution_count": 1,
   "metadata": {},
   "outputs": [
    {
     "name": "stderr",
     "output_type": "stream",
     "text": [
      "2024-10-11 16:35:03,430 ajna         INFO     Configuração de log efetuada\n"
     ]
    },
    {
     "name": "stdout",
     "output_type": "stream",
     "text": [
      "Fazendo log de erros e alertas no arquivo  C:\\Users\\25052288840\\PycharmProjects\\bhadrasana2\\notebooks\\gerenciais\\../..\\..\\ajna_docs\\commons\\ajna_commons\\flask\\error.log\n",
      "Fazendo log de atividade no arquivo  C:\\Users\\25052288840\\PycharmProjects\\bhadrasana2\\notebooks\\gerenciais\\../..\\..\\ajna_docs\\commons\\ajna_commons\\flask\\access.log\n"
     ]
    }
   ],
   "source": [
    "import os\n",
    "import sys\n",
    "from datetime import datetime\n",
    "from IPython.display import HTML\n",
    "\n",
    "import pandas as pd\n",
    "import plotly.express as px\n",
    "import plotly.graph_objects as go\n",
    "\n",
    "WIDTH = 1100\n",
    "pd.options.display.float_format = 'R$ {:,.2f}'.format\n",
    "\n",
    "caminho_commons = os.path.join('../..', '..', 'ajna_docs', 'commons')\n",
    "caminho_virasana = os.path.join('../..', '..', 'ajna_docs', 'virasana')\n",
    "sys.path.append(caminho_commons)\n",
    "sys.path.append('../..')\n",
    "sys.path.append(caminho_virasana)\n",
    "\n",
    "from ajna_commons.flask.conf import DATABASE, MONGODB_URI\n",
    "\n",
    "from bhadrasana.models import engine\n",
    "\n",
    "\n",
    "def AnoMes(row):\n",
    "    return str(row.Ano) + str(row['Mês']).zfill(2)\n"
   ]
  },
  {
   "cell_type": "code",
   "execution_count": 2,
   "metadata": {},
   "outputs": [],
   "source": [
    "SQL_PENDENTE_OUTLET = \\\n",
    "    '''SELECT r.nome as Recinto, ficha.id as 'Ficha', rvf.id as 'RVF', rvf.datahora 'Data de Abertura',\n",
    "     ficha.numeroCEmercante, rvf.numerolote as Contêiner\n",
    "     FROM ovr_ovrs ficha\n",
    "     INNER JOIN ovr_verificacoesfisicas rvf ON  rvf.ovr_id = ficha.id\n",
    "     inner join ovr_flags_ovr flags on flags.rvf_id = ficha.id\n",
    "     INNER JOIN ovr_recintos r ON r.id = ficha.recinto_id\n",
    "     where flags.flag_id = 9 AND ficha.fase <3\n",
    "     ORDER BY r.nome, rvf.datahora'''\n",
    "\n",
    "df_pendente_outlet = pd.read_sql(SQL_PENDENTE_OUTLET, engine)"
   ]
  },
  {
   "cell_type": "code",
   "execution_count": 5,
   "metadata": {},
   "outputs": [
    {
     "data": {
      "text/html": [
       "<div>\n",
       "<style scoped>\n",
       "    .dataframe tbody tr th:only-of-type {\n",
       "        vertical-align: middle;\n",
       "    }\n",
       "\n",
       "    .dataframe tbody tr th {\n",
       "        vertical-align: top;\n",
       "    }\n",
       "\n",
       "    .dataframe thead th {\n",
       "        text-align: right;\n",
       "    }\n",
       "</style>\n",
       "<table border=\"1\" class=\"dataframe\">\n",
       "  <thead>\n",
       "    <tr style=\"text-align: right;\">\n",
       "      <th></th>\n",
       "      <th>Recinto</th>\n",
       "      <th>Ficha</th>\n",
       "      <th>RVF</th>\n",
       "      <th>Data de Abertura</th>\n",
       "      <th>numeroCEmercante</th>\n",
       "      <th>Contêiner</th>\n",
       "    </tr>\n",
       "  </thead>\n",
       "  <tbody>\n",
       "  </tbody>\n",
       "</table>\n",
       "</div>"
      ],
      "text/plain": [
       "Empty DataFrame\n",
       "Columns: [Recinto, Ficha, RVF, Data de Abertura, numeroCEmercante, Contêiner]\n",
       "Index: []"
      ]
     },
     "execution_count": 5,
     "metadata": {},
     "output_type": "execute_result"
    }
   ],
   "source": [
    "df_pendente_outlet"
   ]
  },
  {
   "cell_type": "code",
   "execution_count": 4,
   "metadata": {},
   "outputs": [
    {
     "data": {
      "text/html": [
       "<div>\n",
       "<style scoped>\n",
       "    .dataframe tbody tr th:only-of-type {\n",
       "        vertical-align: middle;\n",
       "    }\n",
       "\n",
       "    .dataframe tbody tr th {\n",
       "        vertical-align: top;\n",
       "    }\n",
       "\n",
       "    .dataframe thead th {\n",
       "        text-align: right;\n",
       "    }\n",
       "</style>\n",
       "<table border=\"1\" class=\"dataframe\">\n",
       "  <thead>\n",
       "    <tr style=\"text-align: right;\">\n",
       "      <th></th>\n",
       "      <th>Recinto</th>\n",
       "      <th>Ficha</th>\n",
       "      <th>RVF</th>\n",
       "      <th>Data de Abertura</th>\n",
       "      <th>numeroCEmercante</th>\n",
       "      <th>Contêiner</th>\n",
       "    </tr>\n",
       "  </thead>\n",
       "  <tbody>\n",
       "  </tbody>\n",
       "</table>\n",
       "</div>"
      ],
      "text/plain": [
       "Empty DataFrame\n",
       "Columns: [Recinto, Ficha, RVF, Data de Abertura, numeroCEmercante, Contêiner]\n",
       "Index: []"
      ]
     },
     "execution_count": 4,
     "metadata": {},
     "output_type": "execute_result"
    }
   ],
   "source": [
    "today_ = datetime.today()\n",
    "df_pendente_outlet.apply(lambda x: (today_ - x['Data de Abertura']).days, axis=1)"
   ]
  },
  {
   "cell_type": "code",
   "execution_count": 3,
   "metadata": {},
   "outputs": [
    {
     "ename": "ValueError",
     "evalue": "Wrong number of items passed 6, placement implies 1",
     "output_type": "error",
     "traceback": [
      "\u001b[1;31m---------------------------------------------------------------------------\u001b[0m",
      "\u001b[1;31mKeyError\u001b[0m                                  Traceback (most recent call last)",
      "File \u001b[1;32m~\\AppData\\Local\\anaconda3\\envs\\python38\\lib\\site-packages\\pandas\\core\\indexes\\base.py:2898\u001b[0m, in \u001b[0;36mIndex.get_loc\u001b[1;34m(self, key, method, tolerance)\u001b[0m\n\u001b[0;32m   2897\u001b[0m \u001b[38;5;28;01mtry\u001b[39;00m:\n\u001b[1;32m-> 2898\u001b[0m     \u001b[38;5;28;01mreturn\u001b[39;00m \u001b[38;5;28;43mself\u001b[39;49m\u001b[38;5;241;43m.\u001b[39;49m\u001b[43m_engine\u001b[49m\u001b[38;5;241;43m.\u001b[39;49m\u001b[43mget_loc\u001b[49m\u001b[43m(\u001b[49m\u001b[43mcasted_key\u001b[49m\u001b[43m)\u001b[49m\n\u001b[0;32m   2899\u001b[0m \u001b[38;5;28;01mexcept\u001b[39;00m \u001b[38;5;167;01mKeyError\u001b[39;00m \u001b[38;5;28;01mas\u001b[39;00m err:\n",
      "File \u001b[1;32mpandas\\_libs\\index.pyx:70\u001b[0m, in \u001b[0;36mpandas._libs.index.IndexEngine.get_loc\u001b[1;34m()\u001b[0m\n",
      "File \u001b[1;32mpandas\\_libs\\index.pyx:101\u001b[0m, in \u001b[0;36mpandas._libs.index.IndexEngine.get_loc\u001b[1;34m()\u001b[0m\n",
      "File \u001b[1;32mpandas\\_libs\\hashtable_class_helper.pxi:1675\u001b[0m, in \u001b[0;36mpandas._libs.hashtable.PyObjectHashTable.get_item\u001b[1;34m()\u001b[0m\n",
      "File \u001b[1;32mpandas\\_libs\\hashtable_class_helper.pxi:1683\u001b[0m, in \u001b[0;36mpandas._libs.hashtable.PyObjectHashTable.get_item\u001b[1;34m()\u001b[0m\n",
      "\u001b[1;31mKeyError\u001b[0m: 'Dias'",
      "\nThe above exception was the direct cause of the following exception:\n",
      "\u001b[1;31mKeyError\u001b[0m                                  Traceback (most recent call last)",
      "File \u001b[1;32m~\\AppData\\Local\\anaconda3\\envs\\python38\\lib\\site-packages\\pandas\\core\\generic.py:3576\u001b[0m, in \u001b[0;36mNDFrame._set_item\u001b[1;34m(self, key, value)\u001b[0m\n\u001b[0;32m   3575\u001b[0m \u001b[38;5;28;01mtry\u001b[39;00m:\n\u001b[1;32m-> 3576\u001b[0m     loc \u001b[38;5;241m=\u001b[39m \u001b[38;5;28;43mself\u001b[39;49m\u001b[38;5;241;43m.\u001b[39;49m\u001b[43m_info_axis\u001b[49m\u001b[38;5;241;43m.\u001b[39;49m\u001b[43mget_loc\u001b[49m\u001b[43m(\u001b[49m\u001b[43mkey\u001b[49m\u001b[43m)\u001b[49m\n\u001b[0;32m   3577\u001b[0m \u001b[38;5;28;01mexcept\u001b[39;00m \u001b[38;5;167;01mKeyError\u001b[39;00m:\n\u001b[0;32m   3578\u001b[0m     \u001b[38;5;66;03m# This item wasn't present, just insert at end\u001b[39;00m\n",
      "File \u001b[1;32m~\\AppData\\Local\\anaconda3\\envs\\python38\\lib\\site-packages\\pandas\\core\\indexes\\base.py:2900\u001b[0m, in \u001b[0;36mIndex.get_loc\u001b[1;34m(self, key, method, tolerance)\u001b[0m\n\u001b[0;32m   2899\u001b[0m     \u001b[38;5;28;01mexcept\u001b[39;00m \u001b[38;5;167;01mKeyError\u001b[39;00m \u001b[38;5;28;01mas\u001b[39;00m err:\n\u001b[1;32m-> 2900\u001b[0m         \u001b[38;5;28;01mraise\u001b[39;00m \u001b[38;5;167;01mKeyError\u001b[39;00m(key) \u001b[38;5;28;01mfrom\u001b[39;00m \u001b[38;5;21;01merr\u001b[39;00m\n\u001b[0;32m   2902\u001b[0m \u001b[38;5;28;01mif\u001b[39;00m tolerance \u001b[38;5;129;01mis\u001b[39;00m \u001b[38;5;129;01mnot\u001b[39;00m \u001b[38;5;28;01mNone\u001b[39;00m:\n",
      "\u001b[1;31mKeyError\u001b[0m: 'Dias'",
      "\nDuring handling of the above exception, another exception occurred:\n",
      "\u001b[1;31mValueError\u001b[0m                                Traceback (most recent call last)",
      "Cell \u001b[1;32mIn[3], line 2\u001b[0m\n\u001b[0;32m      1\u001b[0m today_ \u001b[38;5;241m=\u001b[39m datetime\u001b[38;5;241m.\u001b[39mtoday()\n\u001b[1;32m----> 2\u001b[0m \u001b[43mdf_pendente_outlet\u001b[49m\u001b[43m[\u001b[49m\u001b[38;5;124;43m'\u001b[39;49m\u001b[38;5;124;43mDias\u001b[39;49m\u001b[38;5;124;43m'\u001b[39;49m\u001b[43m]\u001b[49m \u001b[38;5;241m=\u001b[39m \\\n\u001b[0;32m      3\u001b[0m     df_pendente_outlet\u001b[38;5;241m.\u001b[39mapply(\u001b[38;5;28;01mlambda\u001b[39;00m x: (today_ \u001b[38;5;241m-\u001b[39m x[\u001b[38;5;124m'\u001b[39m\u001b[38;5;124mData de Abertura\u001b[39m\u001b[38;5;124m'\u001b[39m])\u001b[38;5;241m.\u001b[39mdays, axis\u001b[38;5;241m=\u001b[39m\u001b[38;5;241m1\u001b[39m)\n\u001b[0;32m      4\u001b[0m lista_ovr \u001b[38;5;241m=\u001b[39m \u001b[38;5;124m'\u001b[39m\u001b[38;5;124m, \u001b[39m\u001b[38;5;124m'\u001b[39m\u001b[38;5;241m.\u001b[39mjoin([\u001b[38;5;28mstr\u001b[39m(i) \u001b[38;5;28;01mfor\u001b[39;00m i \u001b[38;5;129;01min\u001b[39;00m df_pendente_outlet\u001b[38;5;241m.\u001b[39mFicha\u001b[38;5;241m.\u001b[39mvalues])\n",
      "File \u001b[1;32m~\\AppData\\Local\\anaconda3\\envs\\python38\\lib\\site-packages\\pandas\\core\\frame.py:3044\u001b[0m, in \u001b[0;36mDataFrame.__setitem__\u001b[1;34m(self, key, value)\u001b[0m\n\u001b[0;32m   3041\u001b[0m     \u001b[38;5;28mself\u001b[39m\u001b[38;5;241m.\u001b[39m_setitem_array(key, value)\n\u001b[0;32m   3042\u001b[0m \u001b[38;5;28;01melse\u001b[39;00m:\n\u001b[0;32m   3043\u001b[0m     \u001b[38;5;66;03m# set column\u001b[39;00m\n\u001b[1;32m-> 3044\u001b[0m     \u001b[38;5;28;43mself\u001b[39;49m\u001b[38;5;241;43m.\u001b[39;49m\u001b[43m_set_item\u001b[49m\u001b[43m(\u001b[49m\u001b[43mkey\u001b[49m\u001b[43m,\u001b[49m\u001b[43m \u001b[49m\u001b[43mvalue\u001b[49m\u001b[43m)\u001b[49m\n",
      "File \u001b[1;32m~\\AppData\\Local\\anaconda3\\envs\\python38\\lib\\site-packages\\pandas\\core\\frame.py:3121\u001b[0m, in \u001b[0;36mDataFrame._set_item\u001b[1;34m(self, key, value)\u001b[0m\n\u001b[0;32m   3119\u001b[0m \u001b[38;5;28mself\u001b[39m\u001b[38;5;241m.\u001b[39m_ensure_valid_index(value)\n\u001b[0;32m   3120\u001b[0m value \u001b[38;5;241m=\u001b[39m \u001b[38;5;28mself\u001b[39m\u001b[38;5;241m.\u001b[39m_sanitize_column(key, value)\n\u001b[1;32m-> 3121\u001b[0m \u001b[43mNDFrame\u001b[49m\u001b[38;5;241;43m.\u001b[39;49m\u001b[43m_set_item\u001b[49m\u001b[43m(\u001b[49m\u001b[38;5;28;43mself\u001b[39;49m\u001b[43m,\u001b[49m\u001b[43m \u001b[49m\u001b[43mkey\u001b[49m\u001b[43m,\u001b[49m\u001b[43m \u001b[49m\u001b[43mvalue\u001b[49m\u001b[43m)\u001b[49m\n\u001b[0;32m   3123\u001b[0m \u001b[38;5;66;03m# check if we are modifying a copy\u001b[39;00m\n\u001b[0;32m   3124\u001b[0m \u001b[38;5;66;03m# try to set first as we want an invalid\u001b[39;00m\n\u001b[0;32m   3125\u001b[0m \u001b[38;5;66;03m# value exception to occur first\u001b[39;00m\n\u001b[0;32m   3126\u001b[0m \u001b[38;5;28;01mif\u001b[39;00m \u001b[38;5;28mlen\u001b[39m(\u001b[38;5;28mself\u001b[39m):\n",
      "File \u001b[1;32m~\\AppData\\Local\\anaconda3\\envs\\python38\\lib\\site-packages\\pandas\\core\\generic.py:3579\u001b[0m, in \u001b[0;36mNDFrame._set_item\u001b[1;34m(self, key, value)\u001b[0m\n\u001b[0;32m   3576\u001b[0m     loc \u001b[38;5;241m=\u001b[39m \u001b[38;5;28mself\u001b[39m\u001b[38;5;241m.\u001b[39m_info_axis\u001b[38;5;241m.\u001b[39mget_loc(key)\n\u001b[0;32m   3577\u001b[0m \u001b[38;5;28;01mexcept\u001b[39;00m \u001b[38;5;167;01mKeyError\u001b[39;00m:\n\u001b[0;32m   3578\u001b[0m     \u001b[38;5;66;03m# This item wasn't present, just insert at end\u001b[39;00m\n\u001b[1;32m-> 3579\u001b[0m     \u001b[38;5;28;43mself\u001b[39;49m\u001b[38;5;241;43m.\u001b[39;49m\u001b[43m_mgr\u001b[49m\u001b[38;5;241;43m.\u001b[39;49m\u001b[43minsert\u001b[49m\u001b[43m(\u001b[49m\u001b[38;5;28;43mlen\u001b[39;49m\u001b[43m(\u001b[49m\u001b[38;5;28;43mself\u001b[39;49m\u001b[38;5;241;43m.\u001b[39;49m\u001b[43m_info_axis\u001b[49m\u001b[43m)\u001b[49m\u001b[43m,\u001b[49m\u001b[43m \u001b[49m\u001b[43mkey\u001b[49m\u001b[43m,\u001b[49m\u001b[43m \u001b[49m\u001b[43mvalue\u001b[49m\u001b[43m)\u001b[49m\n\u001b[0;32m   3580\u001b[0m     \u001b[38;5;28;01mreturn\u001b[39;00m\n\u001b[0;32m   3582\u001b[0m NDFrame\u001b[38;5;241m.\u001b[39m_iset_item(\u001b[38;5;28mself\u001b[39m, loc, value)\n",
      "File \u001b[1;32m~\\AppData\\Local\\anaconda3\\envs\\python38\\lib\\site-packages\\pandas\\core\\internals\\managers.py:1198\u001b[0m, in \u001b[0;36mBlockManager.insert\u001b[1;34m(self, loc, item, value, allow_duplicates)\u001b[0m\n\u001b[0;32m   1194\u001b[0m \u001b[38;5;28;01mif\u001b[39;00m value\u001b[38;5;241m.\u001b[39mndim \u001b[38;5;241m==\u001b[39m \u001b[38;5;28mself\u001b[39m\u001b[38;5;241m.\u001b[39mndim \u001b[38;5;241m-\u001b[39m \u001b[38;5;241m1\u001b[39m \u001b[38;5;129;01mand\u001b[39;00m \u001b[38;5;129;01mnot\u001b[39;00m is_extension_array_dtype(value\u001b[38;5;241m.\u001b[39mdtype):\n\u001b[0;32m   1195\u001b[0m     \u001b[38;5;66;03m# TODO(EA2D): special case not needed with 2D EAs\u001b[39;00m\n\u001b[0;32m   1196\u001b[0m     value \u001b[38;5;241m=\u001b[39m _safe_reshape(value, (\u001b[38;5;241m1\u001b[39m,) \u001b[38;5;241m+\u001b[39m value\u001b[38;5;241m.\u001b[39mshape)\n\u001b[1;32m-> 1198\u001b[0m block \u001b[38;5;241m=\u001b[39m \u001b[43mmake_block\u001b[49m\u001b[43m(\u001b[49m\u001b[43mvalues\u001b[49m\u001b[38;5;241;43m=\u001b[39;49m\u001b[43mvalue\u001b[49m\u001b[43m,\u001b[49m\u001b[43m \u001b[49m\u001b[43mndim\u001b[49m\u001b[38;5;241;43m=\u001b[39;49m\u001b[38;5;28;43mself\u001b[39;49m\u001b[38;5;241;43m.\u001b[39;49m\u001b[43mndim\u001b[49m\u001b[43m,\u001b[49m\u001b[43m \u001b[49m\u001b[43mplacement\u001b[49m\u001b[38;5;241;43m=\u001b[39;49m\u001b[38;5;28;43mslice\u001b[39;49m\u001b[43m(\u001b[49m\u001b[43mloc\u001b[49m\u001b[43m,\u001b[49m\u001b[43m \u001b[49m\u001b[43mloc\u001b[49m\u001b[43m \u001b[49m\u001b[38;5;241;43m+\u001b[39;49m\u001b[43m \u001b[49m\u001b[38;5;241;43m1\u001b[39;49m\u001b[43m)\u001b[49m\u001b[43m)\u001b[49m\n\u001b[0;32m   1200\u001b[0m \u001b[38;5;28;01mfor\u001b[39;00m blkno, count \u001b[38;5;129;01min\u001b[39;00m _fast_count_smallints(\u001b[38;5;28mself\u001b[39m\u001b[38;5;241m.\u001b[39mblknos[loc:]):\n\u001b[0;32m   1201\u001b[0m     blk \u001b[38;5;241m=\u001b[39m \u001b[38;5;28mself\u001b[39m\u001b[38;5;241m.\u001b[39mblocks[blkno]\n",
      "File \u001b[1;32m~\\AppData\\Local\\anaconda3\\envs\\python38\\lib\\site-packages\\pandas\\core\\internals\\blocks.py:2744\u001b[0m, in \u001b[0;36mmake_block\u001b[1;34m(values, placement, klass, ndim, dtype)\u001b[0m\n\u001b[0;32m   2739\u001b[0m \u001b[38;5;28;01melif\u001b[39;00m klass \u001b[38;5;129;01mis\u001b[39;00m DatetimeTZBlock \u001b[38;5;129;01mand\u001b[39;00m \u001b[38;5;129;01mnot\u001b[39;00m is_datetime64tz_dtype(values\u001b[38;5;241m.\u001b[39mdtype):\n\u001b[0;32m   2740\u001b[0m     \u001b[38;5;66;03m# TODO: This is no longer hit internally; does it need to be retained\u001b[39;00m\n\u001b[0;32m   2741\u001b[0m     \u001b[38;5;66;03m#  for e.g. pyarrow?\u001b[39;00m\n\u001b[0;32m   2742\u001b[0m     values \u001b[38;5;241m=\u001b[39m DatetimeArray\u001b[38;5;241m.\u001b[39m_simple_new(values, dtype\u001b[38;5;241m=\u001b[39mdtype)\n\u001b[1;32m-> 2744\u001b[0m \u001b[38;5;28;01mreturn\u001b[39;00m \u001b[43mklass\u001b[49m\u001b[43m(\u001b[49m\u001b[43mvalues\u001b[49m\u001b[43m,\u001b[49m\u001b[43m \u001b[49m\u001b[43mndim\u001b[49m\u001b[38;5;241;43m=\u001b[39;49m\u001b[43mndim\u001b[49m\u001b[43m,\u001b[49m\u001b[43m \u001b[49m\u001b[43mplacement\u001b[49m\u001b[38;5;241;43m=\u001b[39;49m\u001b[43mplacement\u001b[49m\u001b[43m)\u001b[49m\n",
      "File \u001b[1;32m~\\AppData\\Local\\anaconda3\\envs\\python38\\lib\\site-packages\\pandas\\core\\internals\\blocks.py:2400\u001b[0m, in \u001b[0;36mObjectBlock.__init__\u001b[1;34m(self, values, placement, ndim)\u001b[0m\n\u001b[0;32m   2397\u001b[0m \u001b[38;5;28;01mif\u001b[39;00m \u001b[38;5;28missubclass\u001b[39m(values\u001b[38;5;241m.\u001b[39mdtype\u001b[38;5;241m.\u001b[39mtype, \u001b[38;5;28mstr\u001b[39m):\n\u001b[0;32m   2398\u001b[0m     values \u001b[38;5;241m=\u001b[39m np\u001b[38;5;241m.\u001b[39marray(values, dtype\u001b[38;5;241m=\u001b[39m\u001b[38;5;28mobject\u001b[39m)\n\u001b[1;32m-> 2400\u001b[0m \u001b[38;5;28;43msuper\u001b[39;49m\u001b[43m(\u001b[49m\u001b[43m)\u001b[49m\u001b[38;5;241;43m.\u001b[39;49m\u001b[38;5;21;43m__init__\u001b[39;49m\u001b[43m(\u001b[49m\u001b[43mvalues\u001b[49m\u001b[43m,\u001b[49m\u001b[43m \u001b[49m\u001b[43mndim\u001b[49m\u001b[38;5;241;43m=\u001b[39;49m\u001b[43mndim\u001b[49m\u001b[43m,\u001b[49m\u001b[43m \u001b[49m\u001b[43mplacement\u001b[49m\u001b[38;5;241;43m=\u001b[39;49m\u001b[43mplacement\u001b[49m\u001b[43m)\u001b[49m\n",
      "File \u001b[1;32m~\\AppData\\Local\\anaconda3\\envs\\python38\\lib\\site-packages\\pandas\\core\\internals\\blocks.py:130\u001b[0m, in \u001b[0;36mBlock.__init__\u001b[1;34m(self, values, placement, ndim)\u001b[0m\n\u001b[0;32m    127\u001b[0m \u001b[38;5;28mself\u001b[39m\u001b[38;5;241m.\u001b[39mvalues \u001b[38;5;241m=\u001b[39m values\n\u001b[0;32m    129\u001b[0m \u001b[38;5;28;01mif\u001b[39;00m \u001b[38;5;28mself\u001b[39m\u001b[38;5;241m.\u001b[39m_validate_ndim \u001b[38;5;129;01mand\u001b[39;00m \u001b[38;5;28mself\u001b[39m\u001b[38;5;241m.\u001b[39mndim \u001b[38;5;129;01mand\u001b[39;00m \u001b[38;5;28mlen\u001b[39m(\u001b[38;5;28mself\u001b[39m\u001b[38;5;241m.\u001b[39mmgr_locs) \u001b[38;5;241m!=\u001b[39m \u001b[38;5;28mlen\u001b[39m(\u001b[38;5;28mself\u001b[39m\u001b[38;5;241m.\u001b[39mvalues):\n\u001b[1;32m--> 130\u001b[0m     \u001b[38;5;28;01mraise\u001b[39;00m \u001b[38;5;167;01mValueError\u001b[39;00m(\n\u001b[0;32m    131\u001b[0m         \u001b[38;5;124mf\u001b[39m\u001b[38;5;124m\"\u001b[39m\u001b[38;5;124mWrong number of items passed \u001b[39m\u001b[38;5;132;01m{\u001b[39;00m\u001b[38;5;28mlen\u001b[39m(\u001b[38;5;28mself\u001b[39m\u001b[38;5;241m.\u001b[39mvalues)\u001b[38;5;132;01m}\u001b[39;00m\u001b[38;5;124m, \u001b[39m\u001b[38;5;124m\"\u001b[39m\n\u001b[0;32m    132\u001b[0m         \u001b[38;5;124mf\u001b[39m\u001b[38;5;124m\"\u001b[39m\u001b[38;5;124mplacement implies \u001b[39m\u001b[38;5;132;01m{\u001b[39;00m\u001b[38;5;28mlen\u001b[39m(\u001b[38;5;28mself\u001b[39m\u001b[38;5;241m.\u001b[39mmgr_locs)\u001b[38;5;132;01m}\u001b[39;00m\u001b[38;5;124m\"\u001b[39m\n\u001b[0;32m    133\u001b[0m     )\n",
      "\u001b[1;31mValueError\u001b[0m: Wrong number of items passed 6, placement implies 1"
     ]
    }
   ],
   "source": [
    "lista_ovr = ', '.join([str(i) for i in df_pendente_outlet.Ficha.values])"
   ]
  },
  {
   "cell_type": "markdown",
   "metadata": {},
   "source": [
    "# Colocar os códigos embaixo"
   ]
  },
  {
   "cell_type": "code",
   "execution_count": null,
   "metadata": {},
   "outputs": [],
   "source": [
    "#  4 é fase arquivada sem resultado, eliminar!!!\n",
    "SQL_OUTLET = '''SELECT r.nome as Recinto, ficha.id as 'Ficha', rvf.id as 'RVF', rvf.datahora 'Data de Abertura',\n",
    "     ficha.numeroCEmercante, rvf.numerolote as Contêiner, ficha.fase\n",
    "     FROM ovr_ovrs ficha\n",
    "     INNER JOIN ovr_verificacoesfisicas rvf ON  rvf.ovr_id = ficha.id\n",
    "     inner join ovr_flags_ovr flags on flags.rvf_id = ficha.id\n",
    "     INNER JOIN ovr_recintos r ON r.id = ficha.recinto_id\n",
    "     where flags.flag_id = 9\n",
    "     ORDER BY r.nome, rvf.datahora'''\n",
    "\n",
    "df_pendente_outlet = pd.read_sql(SQL_OUTLET, engine)\n",
    "today_ = datetime.today()\n",
    "def calcula_dias(x):\n",
    "    try:\n",
    "        return int((today_ - x['Data de Abertura']).days)\n",
    "    except:\n",
    "        return 0\n",
    "            \n",
    "\n",
    "df_pendente_outlet['Dias sem conclusão'] = \\\n",
    "    df_pendente_outlet.apply(calcula_dias, axis=1)\n",
    "lista_ovr = ', '.join([str(i) for i in df_pendente_outlet.Ficha.values])\n",
    "\n",
    "SQL_EVENTOS = \\\n",
    "    '''SELECT ovr_id as Ficha, tipoevento_id, t.nome, e.create_date, motivo FROM ovr_eventos e\n",
    "    inner join ovr_tiposevento t on e.tipoevento_id = t.id  where ovr_id in (%s)\n",
    "    ORDER BY ovr_id;'''\n",
    "\n",
    "df_eventos = pd.read_sql(SQL_EVENTOS % lista_ovr, engine)\n",
    "\n",
    "\n",
    "# Tipos de Evento : 36 Em análise da Fiscalização\n",
    "#                    7 Aguardando quantificação do Recinto\n",
    "#                   21 Termo de Guarda informado\n",
    "#                   8 Recebimento de quantificação do Recinto\n",
    "df_pendente_outlet = df_pendente_outlet.drop_duplicates(subset=['Ficha'])\n",
    "df_pendente_outlet = df_pendente_outlet.set_index('Ficha')\n",
    "df_pendente_outlet = df_pendente_outlet.join(\n",
    "    df_eventos[df_eventos.tipoevento_id == 36].drop_duplicates(\n",
    "        ('Ficha', 'tipoevento_id'))[['Ficha', 'motivo']].set_index('Ficha')\n",
    ")"
   ]
  },
  {
   "cell_type": "code",
   "execution_count": null,
   "metadata": {},
   "outputs": [],
   "source": [
    "df_pendente_outlet = df_pendente_outlet.rename(columns={'motivo': 'Parecer'}).fillna('--')"
   ]
  },
  {
   "cell_type": "code",
   "execution_count": null,
   "metadata": {},
   "outputs": [],
   "source": [
    "df_pendente_outlet.replace({'SANTOS/BRASIL SA OPERADOR PORTUARIO': 'SANTOS BRASIL PARTICIPACOES LTDA' }, inplace=True)"
   ]
  },
  {
   "cell_type": "code",
   "execution_count": null,
   "metadata": {},
   "outputs": [],
   "source": [
    "tipos_eventos = {36: 'Análise',\n",
    "                 7: 'Saneamento solicitado',\n",
    "                 8: 'Saneamento recebido',\n",
    "                 21: 'TG recebido'}\n",
    "for tipoevento_id, descricao in tipos_eventos.items():\n",
    "    df_pendente_outlet = df_pendente_outlet.join(\n",
    "        df_eventos[df_eventos.tipoevento_id == tipoevento_id].drop_duplicates(\n",
    "            ('Ficha', 'tipoevento_id'))[['Ficha', 'create_date']].set_index('Ficha')\n",
    "    )\n",
    "    df_pendente_outlet = df_pendente_outlet.rename(columns={'create_date': descricao}).fillna('Sem evento')"
   ]
  },
  {
   "cell_type": "code",
   "execution_count": null,
   "metadata": {},
   "outputs": [],
   "source": [
    "recintos = df_pendente_outlet['Recinto'].unique()\n",
    "df_pendente_outlet['Recinto'].value_counts()"
   ]
  },
  {
   "cell_type": "code",
   "execution_count": null,
   "metadata": {},
   "outputs": [],
   "source": [
    "def duracao(x):\n",
    "    try:\n",
    "        return (x['Saneamento recebido'] - x['Data de Abertura']).days\n",
    "    \n",
    "    except:\n",
    "        try:\n",
    "            return (x['TG recebido'] - x['Data de Abertura']).days\n",
    "        except:\n",
    "            return 0\n",
    "df_pendente_outlet['Duração'] = df_pendente_outlet.apply(duracao, axis=1)"
   ]
  },
  {
   "cell_type": "code",
   "execution_count": null,
   "metadata": {},
   "outputs": [],
   "source": []
  },
  {
   "cell_type": "code",
   "execution_count": null,
   "metadata": {},
   "outputs": [],
   "source": [
    "len(df_pendente_outlet[df_pendente_outlet['Recinto'] == 'BANDEIRANTES DEICMAR - CLIA ALEMOA'])"
   ]
  },
  {
   "cell_type": "code",
   "execution_count": null,
   "metadata": {},
   "outputs": [],
   "source": [
    "def mostra_recinto(recinto, filtrar_concluidos=False):\n",
    "    print(recinto, len(df_pendente_outlet[df_pendente_outlet['Recinto'] == recinto]))\n",
    "    df_pendentes = df_pendente_outlet.reset_index()\n",
    "    df_pendentes = df_pendentes[['Ficha', 'Recinto', 'Data de Abertura', 'numeroCEmercante', 'Dias sem conclusão',\n",
    "                                 'Parecer', 'Contêiner', 'Saneamento recebido', 'TG recebido', 'fase', 'Duração']]\n",
    "    df_pendentes.sort_values(['Ficha'], inplace=True)\n",
    "    if filtrar_concluidos:\n",
    "        df_pendentes=df_pendentes[df_pendentes['fase'] != 3]\n",
    "        df_pendentes=df_pendentes[df_pendentes['fase'] != 4]\n",
    "        df_pendentes=df_pendentes[df_pendentes['TG recebido'] == 'Sem evento']\n",
    "    return df_pendentes[df_pendentes['Recinto'] == recinto]"
   ]
  },
  {
   "cell_type": "code",
   "execution_count": null,
   "metadata": {},
   "outputs": [],
   "source": [
    "mostra_recinto(recintos[0])"
   ]
  },
  {
   "cell_type": "code",
   "execution_count": null,
   "metadata": {
    "scrolled": true
   },
   "outputs": [],
   "source": [
    "mostra_recinto(recintos[0], True).drop(columns=['Parecer', 'fase']).style.hide_index()"
   ]
  },
  {
   "cell_type": "code",
   "execution_count": null,
   "metadata": {},
   "outputs": [],
   "source": [
    "mostra_recinto(recintos[1])"
   ]
  },
  {
   "cell_type": "code",
   "execution_count": null,
   "metadata": {},
   "outputs": [],
   "source": [
    "mostra_recinto(recintos[1], True).drop(columns=['Parecer', 'fase']).style.hide_index()"
   ]
  },
  {
   "cell_type": "code",
   "execution_count": null,
   "metadata": {},
   "outputs": [],
   "source": [
    "mostra_recinto(recintos[7], True).drop(columns=['Parecer', 'fase']).style.hide_index()"
   ]
  },
  {
   "cell_type": "code",
   "execution_count": null,
   "metadata": {},
   "outputs": [],
   "source": [
    "paradigma = mostra_recinto(recintos[4])\n",
    "paradigma"
   ]
  },
  {
   "cell_type": "code",
   "execution_count": null,
   "metadata": {},
   "outputs": [],
   "source": [
    "paradigma[paradigma['Duração']==0]"
   ]
  },
  {
   "cell_type": "code",
   "execution_count": null,
   "metadata": {},
   "outputs": [],
   "source": [
    "paradigma_conclusos = paradigma[paradigma['Duração']!=0]\n",
    "print('Duração média: ', paradigma_conclusos['Duração'].mean())\n",
    "print('Quantidade concluídos:', len(paradigma_conclusos))\n",
    "print('Data primeiro e último:', min(paradigma_conclusos['Data de Abertura']), max(paradigma_conclusos['Data de Abertura']))"
   ]
  },
  {
   "cell_type": "code",
   "execution_count": null,
   "metadata": {},
   "outputs": [],
   "source": [
    "resumo_recintos = {}\n",
    "for recinto in recintos:\n",
    "    df_recinto = df_pendente_outlet[(df_pendente_outlet.Recinto == recinto) & (df_pendente_outlet.fase !=4)]\n",
    "    concluidos = 0\n",
    "    pendentes = 0\n",
    "    tempoc = 0\n",
    "    tempop = 0\n",
    "    for row in df_recinto.iterrows():\n",
    "        if row[1]['Duração'] == 0:  # Não concluído / pendente\n",
    "            p = row[1]['Dias sem conclusão']\n",
    "            tempop += p\n",
    "            pendentes += 1\n",
    "        else:  # Concluído\n",
    "            c = row[1]['Duração']\n",
    "            tempoc += c\n",
    "            concluidos += 1\n",
    "    resumo_recintos[recinto] = {\n",
    "        'concluídos': concluidos,\n",
    "        'duração média': 0 if concluidos == 0 else int(tempoc / concluidos),\n",
    "        'pendentes': pendentes,\n",
    "        'dias sem conclusão média': 0 if pendentes == 0 else int(tempop / pendentes)\n",
    "    }\n",
    "df_resumo = pd.DataFrame.from_dict(resumo_recintos, orient='index')\n",
    "df_resumo['% Concluído'] = (df_resumo['concluídos'] / (df_resumo['concluídos'] + df_resumo['pendentes']))*100\n"
   ]
  },
  {
   "cell_type": "code",
   "execution_count": null,
   "metadata": {
    "scrolled": true
   },
   "outputs": [],
   "source": [
    "pd.options.display.float_format = '{:,.2f}%'.format\n",
    "df_resumo.dropna()"
   ]
  },
  {
   "cell_type": "code",
   "execution_count": null,
   "metadata": {},
   "outputs": [],
   "source": []
  }
 ],
 "metadata": {
  "kernelspec": {
   "display_name": "Python 3 (ipykernel)",
   "language": "python",
   "name": "python3"
  },
  "language_info": {
   "codemirror_mode": {
    "name": "ipython",
    "version": 3
   },
   "file_extension": ".py",
   "mimetype": "text/x-python",
   "name": "python",
   "nbconvert_exporter": "python",
   "pygments_lexer": "ipython3",
   "version": "3.8.19"
  }
 },
 "nbformat": 4,
 "nbformat_minor": 4
}
