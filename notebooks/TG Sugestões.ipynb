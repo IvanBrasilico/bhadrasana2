{
 "cells": [
  {
   "cell_type": "code",
   "execution_count": 6,
   "metadata": {},
   "outputs": [],
   "source": [
    "import os\n",
    "import sys\n",
    "import pandas as pd\n",
    "import numpy as np\n",
    "from rank_bm25 import BM25Okapi\n",
    "\n",
    "caminho_commons = os.path.join('..', '..', 'ajna_docs', 'commons')\n",
    "caminho_virasana = os.path.join('..', '..', 'ajna_docs', 'virasana')\n",
    "sys.path.append(caminho_commons)\n",
    "sys.path.append('..')\n",
    "sys.path.append(caminho_virasana)\n",
    "from bhadrasana.models import engine"
   ]
  },
  {
   "cell_type": "code",
   "execution_count": 7,
   "metadata": {},
   "outputs": [],
   "source": [
    "SQL = 'SELECT * FROM ovr_itenstg'\n",
    "df = pd.read_sql(SQL, engine)"
   ]
  },
  {
   "cell_type": "code",
   "execution_count": 8,
   "metadata": {},
   "outputs": [
    {
     "data": {
      "text/html": [
       "<div>\n",
       "<style scoped>\n",
       "    .dataframe tbody tr th:only-of-type {\n",
       "        vertical-align: middle;\n",
       "    }\n",
       "\n",
       "    .dataframe tbody tr th {\n",
       "        vertical-align: top;\n",
       "    }\n",
       "\n",
       "    .dataframe thead th {\n",
       "        text-align: right;\n",
       "    }\n",
       "</style>\n",
       "<table border=\"1\" class=\"dataframe\">\n",
       "  <thead>\n",
       "    <tr style=\"text-align: right;\">\n",
       "      <th></th>\n",
       "      <th>id</th>\n",
       "      <th>tg_id</th>\n",
       "      <th>numero</th>\n",
       "      <th>descricao</th>\n",
       "      <th>qtde</th>\n",
       "      <th>unidadedemedida</th>\n",
       "      <th>valor</th>\n",
       "      <th>ncm</th>\n",
       "      <th>marca_id</th>\n",
       "      <th>create_date</th>\n",
       "      <th>user_name</th>\n",
       "      <th>contramarca</th>\n",
       "      <th>modelo</th>\n",
       "    </tr>\n",
       "  </thead>\n",
       "  <tbody>\n",
       "    <tr>\n",
       "      <th>0</th>\n",
       "      <td>1</td>\n",
       "      <td>2</td>\n",
       "      <td>1</td>\n",
       "      <td>Rolamento automativo power guido</td>\n",
       "      <td>189024.0</td>\n",
       "      <td>0</td>\n",
       "      <td>200.00</td>\n",
       "      <td></td>\n",
       "      <td>7.0</td>\n",
       "      <td>2020-03-06 12:16:32</td>\n",
       "      <td>None</td>\n",
       "      <td>None</td>\n",
       "      <td>None</td>\n",
       "    </tr>\n",
       "    <tr>\n",
       "      <th>1</th>\n",
       "      <td>2</td>\n",
       "      <td>9</td>\n",
       "      <td>1</td>\n",
       "      <td>123</td>\n",
       "      <td>1.0</td>\n",
       "      <td>1</td>\n",
       "      <td>1.00</td>\n",
       "      <td>11</td>\n",
       "      <td>NaN</td>\n",
       "      <td>2020-05-26 18:44:26</td>\n",
       "      <td>None</td>\n",
       "      <td>None</td>\n",
       "      <td>None</td>\n",
       "    </tr>\n",
       "    <tr>\n",
       "      <th>2</th>\n",
       "      <td>9</td>\n",
       "      <td>54</td>\n",
       "      <td>1</td>\n",
       "      <td>MÁSCARA FACIAL HIDRATANTE EM EMBALAGEM DE 25ML...</td>\n",
       "      <td>226000.0</td>\n",
       "      <td>0</td>\n",
       "      <td>2.60</td>\n",
       "      <td>33049910</td>\n",
       "      <td>NaN</td>\n",
       "      <td>2020-08-04 10:44:00</td>\n",
       "      <td>None</td>\n",
       "      <td>None</td>\n",
       "      <td>None</td>\n",
       "    </tr>\n",
       "    <tr>\n",
       "      <th>3</th>\n",
       "      <td>112</td>\n",
       "      <td>123</td>\n",
       "      <td>0</td>\n",
       "      <td>DIOCTIL FTALATO EM FLEXI-BAG D/C 20 TONELADAS ...</td>\n",
       "      <td>2.0</td>\n",
       "      <td>0</td>\n",
       "      <td>18000.00</td>\n",
       "      <td>29173200</td>\n",
       "      <td>NaN</td>\n",
       "      <td>2020-08-31 08:25:48</td>\n",
       "      <td>None</td>\n",
       "      <td>None</td>\n",
       "      <td>None</td>\n",
       "    </tr>\n",
       "    <tr>\n",
       "      <th>4</th>\n",
       "      <td>121</td>\n",
       "      <td>125</td>\n",
       "      <td>0</td>\n",
       "      <td>SOLA DE CALÇADO, DE BORRACHA, N 39 A, REF XL B...</td>\n",
       "      <td>462.0</td>\n",
       "      <td>0</td>\n",
       "      <td>21.21</td>\n",
       "      <td>64062000</td>\n",
       "      <td>NaN</td>\n",
       "      <td>2020-09-11 14:32:05</td>\n",
       "      <td>None</td>\n",
       "      <td>None</td>\n",
       "      <td>None</td>\n",
       "    </tr>\n",
       "    <tr>\n",
       "      <th>...</th>\n",
       "      <td>...</td>\n",
       "      <td>...</td>\n",
       "      <td>...</td>\n",
       "      <td>...</td>\n",
       "      <td>...</td>\n",
       "      <td>...</td>\n",
       "      <td>...</td>\n",
       "      <td>...</td>\n",
       "      <td>...</td>\n",
       "      <td>...</td>\n",
       "      <td>...</td>\n",
       "      <td>...</td>\n",
       "      <td>...</td>\n",
       "    </tr>\n",
       "    <tr>\n",
       "      <th>13888</th>\n",
       "      <td>18692</td>\n",
       "      <td>626</td>\n",
       "      <td>1</td>\n",
       "      <td>Pólvora - Hodgon CFE 223 - 3630g</td>\n",
       "      <td>2.0</td>\n",
       "      <td>0</td>\n",
       "      <td>0.00</td>\n",
       "      <td>None</td>\n",
       "      <td>NaN</td>\n",
       "      <td>2022-04-26 14:29:44</td>\n",
       "      <td>None</td>\n",
       "      <td>None</td>\n",
       "      <td>None</td>\n",
       "    </tr>\n",
       "    <tr>\n",
       "      <th>13889</th>\n",
       "      <td>18693</td>\n",
       "      <td>626</td>\n",
       "      <td>2</td>\n",
       "      <td>Projétil - Nosler - Cal30. 190 g.</td>\n",
       "      <td>250.0</td>\n",
       "      <td>0</td>\n",
       "      <td>0.00</td>\n",
       "      <td>None</td>\n",
       "      <td>NaN</td>\n",
       "      <td>2022-04-26 14:29:44</td>\n",
       "      <td>None</td>\n",
       "      <td>None</td>\n",
       "      <td>None</td>\n",
       "    </tr>\n",
       "    <tr>\n",
       "      <th>13890</th>\n",
       "      <td>18694</td>\n",
       "      <td>626</td>\n",
       "      <td>3</td>\n",
       "      <td>Pólvora - Accurate 2015 - 454g</td>\n",
       "      <td>2.0</td>\n",
       "      <td>0</td>\n",
       "      <td>0.00</td>\n",
       "      <td>None</td>\n",
       "      <td>NaN</td>\n",
       "      <td>2022-04-26 14:29:44</td>\n",
       "      <td>None</td>\n",
       "      <td>None</td>\n",
       "      <td>None</td>\n",
       "    </tr>\n",
       "    <tr>\n",
       "      <th>13891</th>\n",
       "      <td>18695</td>\n",
       "      <td>626</td>\n",
       "      <td>4</td>\n",
       "      <td>Projétil - Berger - Cal30. 185 g.</td>\n",
       "      <td>200.0</td>\n",
       "      <td>0</td>\n",
       "      <td>0.00</td>\n",
       "      <td>None</td>\n",
       "      <td>NaN</td>\n",
       "      <td>2022-04-26 14:29:44</td>\n",
       "      <td>None</td>\n",
       "      <td>None</td>\n",
       "      <td>None</td>\n",
       "    </tr>\n",
       "    <tr>\n",
       "      <th>13892</th>\n",
       "      <td>18696</td>\n",
       "      <td>626</td>\n",
       "      <td>5</td>\n",
       "      <td>Estojo - Lapua - 7,62 x 51mm</td>\n",
       "      <td>400.0</td>\n",
       "      <td>0</td>\n",
       "      <td>0.00</td>\n",
       "      <td>None</td>\n",
       "      <td>NaN</td>\n",
       "      <td>2022-04-26 14:29:44</td>\n",
       "      <td>None</td>\n",
       "      <td>None</td>\n",
       "      <td>None</td>\n",
       "    </tr>\n",
       "  </tbody>\n",
       "</table>\n",
       "<p>13893 rows × 13 columns</p>\n",
       "</div>"
      ],
      "text/plain": [
       "          id  tg_id  numero  \\\n",
       "0          1      2       1   \n",
       "1          2      9       1   \n",
       "2          9     54       1   \n",
       "3        112    123       0   \n",
       "4        121    125       0   \n",
       "...      ...    ...     ...   \n",
       "13888  18692    626       1   \n",
       "13889  18693    626       2   \n",
       "13890  18694    626       3   \n",
       "13891  18695    626       4   \n",
       "13892  18696    626       5   \n",
       "\n",
       "                                               descricao      qtde  \\\n",
       "0                       Rolamento automativo power guido  189024.0   \n",
       "1                                                    123       1.0   \n",
       "2      MÁSCARA FACIAL HIDRATANTE EM EMBALAGEM DE 25ML...  226000.0   \n",
       "3      DIOCTIL FTALATO EM FLEXI-BAG D/C 20 TONELADAS ...       2.0   \n",
       "4      SOLA DE CALÇADO, DE BORRACHA, N 39 A, REF XL B...     462.0   \n",
       "...                                                  ...       ...   \n",
       "13888                   Pólvora - Hodgon CFE 223 - 3630g       2.0   \n",
       "13889                  Projétil - Nosler - Cal30. 190 g.     250.0   \n",
       "13890                     Pólvora - Accurate 2015 - 454g       2.0   \n",
       "13891                  Projétil - Berger - Cal30. 185 g.     200.0   \n",
       "13892                       Estojo - Lapua - 7,62 x 51mm     400.0   \n",
       "\n",
       "       unidadedemedida     valor       ncm  marca_id         create_date  \\\n",
       "0                    0    200.00                 7.0 2020-03-06 12:16:32   \n",
       "1                    1      1.00        11       NaN 2020-05-26 18:44:26   \n",
       "2                    0      2.60  33049910       NaN 2020-08-04 10:44:00   \n",
       "3                    0  18000.00  29173200       NaN 2020-08-31 08:25:48   \n",
       "4                    0     21.21  64062000       NaN 2020-09-11 14:32:05   \n",
       "...                ...       ...       ...       ...                 ...   \n",
       "13888                0      0.00      None       NaN 2022-04-26 14:29:44   \n",
       "13889                0      0.00      None       NaN 2022-04-26 14:29:44   \n",
       "13890                0      0.00      None       NaN 2022-04-26 14:29:44   \n",
       "13891                0      0.00      None       NaN 2022-04-26 14:29:44   \n",
       "13892                0      0.00      None       NaN 2022-04-26 14:29:44   \n",
       "\n",
       "      user_name contramarca modelo  \n",
       "0          None        None   None  \n",
       "1          None        None   None  \n",
       "2          None        None   None  \n",
       "3          None        None   None  \n",
       "4          None        None   None  \n",
       "...         ...         ...    ...  \n",
       "13888      None        None   None  \n",
       "13889      None        None   None  \n",
       "13890      None        None   None  \n",
       "13891      None        None   None  \n",
       "13892      None        None   None  \n",
       "\n",
       "[13893 rows x 13 columns]"
      ]
     },
     "execution_count": 8,
     "metadata": {},
     "output_type": "execute_result"
    }
   ],
   "source": [
    "df"
   ]
  },
  {
   "cell_type": "code",
   "execution_count": 9,
   "metadata": {},
   "outputs": [],
   "source": [
    "itenstg = df.dropna(subset=['ncm'])"
   ]
  },
  {
   "cell_type": "code",
   "execution_count": 10,
   "metadata": {},
   "outputs": [
    {
     "data": {
      "text/plain": [
       "13547"
      ]
     },
     "execution_count": 10,
     "metadata": {},
     "output_type": "execute_result"
    }
   ],
   "source": [
    "len(itenstg)"
   ]
  },
  {
   "cell_type": "code",
   "execution_count": 20,
   "metadata": {},
   "outputs": [],
   "source": [
    "import nltk\n",
    "import unicodedata\n",
    "\n",
    "def remove_accents(input_str):  \n",
    "    \"\"\" \n",
    "    Função converte string em bytes, mas antes normaliza string usando NFKD\n",
    "    \n",
    "    NFKD - decompõem em dois code point e analisa compatibilidades (sem ser canonicamente equivalente)\n",
    "    https://docs.python.org/3/library/unicodedata.html\n",
    "    \"\"\"\n",
    "    nfkd_form = unicodedata.normalize('NFKD', input_str.lower())\n",
    "    only_ascii = nfkd_form.encode('ASCII', 'ignore')\n",
    "    return only_ascii\n",
    "\n",
    "\n",
    "def remove_pontuacao(doc):\n",
    "    return ''.join([leter for leter in doc if leter not in ['.', ',', ':', ';', '-', '+']])\n",
    "\n",
    "stop_words = nltk.corpus.stopwords.words('portuguese')\n",
    "\n",
    "def tokenize(doc):\n",
    "    doc_normalized = doc.lower()\n",
    "    doc_normalized = remove_pontuacao(doc_normalized)\n",
    "    doc_normalized = remove_accents(doc_normalized)\n",
    "    return [word for word in doc_normalized.split() if (len(word) > 2 and word not in stop_words)]"
   ]
  },
  {
   "cell_type": "code",
   "execution_count": 12,
   "metadata": {},
   "outputs": [
    {
     "data": {
      "text/plain": [
       "[b'kit',\n",
       " b'carteira',\n",
       " b'com',\n",
       " b'relogio',\n",
       " b'pulso',\n",
       " b'modelo',\n",
       " b'bolinha',\n",
       " b'marcabolao']"
      ]
     },
     "execution_count": 12,
     "metadata": {},
     "output_type": "execute_result"
    }
   ],
   "source": [
    "tokenize('KIT DE CARTEIRA, COM RELÓGIO DE PULSO; Modelo: bolinha, Marca:bolão')"
   ]
  },
  {
   "cell_type": "code",
   "execution_count": 13,
   "metadata": {},
   "outputs": [
    {
     "data": {
      "text/plain": [
       "['KIT DE CARTEIRA COM RELÓGIO DE PULSO DE PONTEIRO, IMITAÇÃO DOS PERSONAGENS CARS, DA MARCA DISNEY – REF.:M301A',\n",
       " 'KIT DE CARTEIRA COM RELÓGIO DE PULSO DE PONTEIRO, IMITAÇÃO DA PERSONAGEM FROZEN, DA MARCA DISNEY – REF.: M301A',\n",
       " 'Kit de carteira com relógio imitação do personagem Miraculous . (Ref:M301A)',\n",
       " 'KIT DE CARTEIRA COM RELÓGIO DE PULSO DE PONTEIRO, IMITAÇÃO DA PERSONAGEM MIRACULOUS, DA MARCA GLOBOSAT PROGRAMADORA – REF.: M301A',\n",
       " 'KIT DE CARTEIRA COM RELÓGIO DE PULSO DE PONTEIRO, IMITAÇÃO DA PERSONAGEM PRINCESA SOFIA, DA MARCA DISNEY – REF.: M301A',\n",
       " 'KIT DE CARTEIRA COM RELÓGIO DE PULSO DE PONTEIRO, IMITAÇÃO DO PERSONAGEM HOMEM ARANHA, DA MARCA MARVEL – REF.: M301A',\n",
       " 'KIT DE CARTEIRA COM RELÓGIO DE PULSO DE PONTEIRO, IMITAÇÃO DOS PERSONAGENS AVENGERS, DA MARCA MARVEL – REF.: M301A',\n",
       " 'KIT DE CARTEIRA COM RELÓGIO DE PULSO DE PONTEIRO, IMITAÇÃO DO PERSONAGEM BEN10, DA MARCA CARTOON NETWORK – REF.: M301A',\n",
       " 'KIT DE CARTEIRA COM RELÓGIO DE PULSO DE PONTEIRO, IMITAÇÃO DAS PERSONAGENS PRINCESAS, DA MARCA DISNEY – REF.: M301A',\n",
       " 'Kit de carteira com relógio imitação do personagem Homem Aranha . (Ref:M301A)']"
      ]
     },
     "execution_count": 13,
     "metadata": {},
     "output_type": "execute_result"
    }
   ],
   "source": [
    "corpus = list(itenstg.descricao.values)\n",
    "corpus_normalized = [tokenize(line) for line in corpus]\n",
    "bm25n = BM25Okapi(corpus_normalized)\n",
    "bm25n.get_top_n(tokenize('KIT DE CARTEIRA, COM RELÓGIO DE PULSO;'), corpus, n=10)"
   ]
  },
  {
   "cell_type": "code",
   "execution_count": 14,
   "metadata": {},
   "outputs": [
    {
     "data": {
      "text/plain": [
       "['CONFECÇÕES ADULTO LACOSTE, TOMMY HILFGER RALPH LAUREN E OUTRAS MARCAS',\n",
       " 'CONFECÇÕES USO ADULTO, LACOSTE, THOMMY HILFGER, NIKE, ADIDAS, E OUTRAS MARCAS DIVERSAS',\n",
       " \"CONFECÇÕES USO ADULTO, LEVI'S, TOMMY HILFGER, GAP, NIKE E OUTRAS MARCAS DIVERSAS\",\n",
       " 'CONFECÇÕES USO ADULTO, THOMMY HILFIGER, CALVIN KLEIN, POLO, ASSN E OUTRAS MARCAS DIVERSAS',\n",
       " 'CONFECÇÕES USO ADULTO, NIKE, ADDIDAS E OUTRAS MARCAS DIVERSAS',\n",
       " 'CONFECÇÕES USO ADULTO, aeropostale, levis, gap, puma, calvin klein, tommy, nike, adiddas, lacoste e outras diversas',\n",
       " 'perfumes - lacoste - ralph lauren - nautica - flight - dolce gabbana, marcas diversas',\n",
       " 'CONFECÇÕES USO ADULTO, REEBOOK, NIKE, FILA, NEW BALANCE E OUTRAS MARCAS DIVERSAS',\n",
       " 'CONFECÇÕES USO ADULTO, NIKE, AEROPOSTALE, GAP, POLLO, ADIDAS, E OUTRAS MARCAS DIVERSAS',\n",
       " 'MOCHILAS - KIPLING, THOMMY HILFGER, SKIP HOP E OUTRAS MARCAS DIVERSAS']"
      ]
     },
     "execution_count": 14,
     "metadata": {},
     "output_type": "execute_result"
    }
   ],
   "source": [
    "bm25n.get_top_n(tokenize('CONFECÇÕES USO ADULTO, LACOSTE, THOMMY HILFGER RALPH LAUREN E OUTRAS DIVERSAS'), corpus, n=10)"
   ]
  },
  {
   "cell_type": "code",
   "execution_count": 15,
   "metadata": {},
   "outputs": [
    {
     "data": {
      "text/plain": [
       "[b'perfume', b'125ml', b'hugo', b'boss']"
      ]
     },
     "execution_count": 15,
     "metadata": {},
     "output_type": "execute_result"
    }
   ],
   "source": [
    "tokenize('Perfume- 125ML - Hugo Boss')"
   ]
  },
  {
   "cell_type": "code",
   "execution_count": null,
   "metadata": {},
   "outputs": [],
   "source": []
  },
  {
   "cell_type": "code",
   "execution_count": 18,
   "metadata": {},
   "outputs": [],
   "source": [
    "def monta_sugestoes(planilha):\n",
    "    lista_dict = []\n",
    "    planilha.rename(remove_accents)\n",
    "    planilha = planilha.dropna(subset=['DESCRIÇÃO'])\n",
    "    for row in planilha.iterrows():\n",
    "        # print(row[1])\n",
    "        row_ = {}\n",
    "        row_['Item'] = row[1]['ITEM']\n",
    "        row_['Código NCM'] = ''\n",
    "        row_['Descrição'] = row[1]['DESCRIÇÃO']\n",
    "        row_['Marca'] = ''\n",
    "        row_['Modelo'] = ''\n",
    "        row_['Unid. Medida'] = row[1]['Tipo de UNIDADE']\n",
    "        row_['País Procedência'] = 249\n",
    "        row_['País Origem'] = 994\n",
    "        row_['Quantidade'] = row[1]['Quantidade']\n",
    "        row_['Valor Unitário'] = ''\n",
    "        lista_dict.append(row_)\n",
    "        print(row_['Descrição'])\n",
    "        doc_scores = bm25n.get_scores(tokenize(row_['Descrição']))\n",
    "        indices = np.flip(np.argpartition(doc_scores, doc_scores.shape[0] - 3)[-5:])\n",
    "        new_df = itenstg.iloc[np.flip(indices)]\n",
    "        for new_row in new_df.iterrows():\n",
    "            row_ = row_.copy()\n",
    "            row_['Item'] = '-'\n",
    "            row_['Descrição'] = new_row[1]['descricao']\n",
    "            row_['Código NCM'] = new_row[1]['ncm']\n",
    "            unidade = 'UN' if new_row[1]['unidadedemedida'] == 0 else 'KG'\n",
    "            row_['Unid. Medida'] = unidade\n",
    "            row_['Valor Unitário'] = new_row[1]['valor']\n",
    "            lista_dict.append(row_)\n",
    "    return pd.DataFrame(lista_dict)"
   ]
  },
  {
   "cell_type": "code",
   "execution_count": 24,
   "metadata": {},
   "outputs": [
    {
     "data": {
      "text/html": [
       "<div>\n",
       "<style scoped>\n",
       "    .dataframe tbody tr th:only-of-type {\n",
       "        vertical-align: middle;\n",
       "    }\n",
       "\n",
       "    .dataframe tbody tr th {\n",
       "        vertical-align: top;\n",
       "    }\n",
       "\n",
       "    .dataframe thead th {\n",
       "        text-align: right;\n",
       "    }\n",
       "</style>\n",
       "<table border=\"1\" class=\"dataframe\">\n",
       "  <thead>\n",
       "    <tr style=\"text-align: right;\">\n",
       "      <th></th>\n",
       "      <th>item</th>\n",
       "      <th>descricao</th>\n",
       "      <th>quantidade</th>\n",
       "      <th>unid. medida</th>\n",
       "    </tr>\n",
       "  </thead>\n",
       "  <tbody>\n",
       "    <tr>\n",
       "      <th>0</th>\n",
       "      <td>1</td>\n",
       "      <td>Pólvora - Hodgon H1000  - 454g</td>\n",
       "      <td>5</td>\n",
       "      <td>UN</td>\n",
       "    </tr>\n",
       "    <tr>\n",
       "      <th>1</th>\n",
       "      <td>2</td>\n",
       "      <td>Pólvora - Hodgon CFE 223 - 3630g</td>\n",
       "      <td>2</td>\n",
       "      <td>UN</td>\n",
       "    </tr>\n",
       "    <tr>\n",
       "      <th>2</th>\n",
       "      <td>3</td>\n",
       "      <td>Projétil - Nosler - Cal30. 190 g.</td>\n",
       "      <td>250</td>\n",
       "      <td>UN</td>\n",
       "    </tr>\n",
       "    <tr>\n",
       "      <th>3</th>\n",
       "      <td>4</td>\n",
       "      <td>Pólvora - Accurate 2015 - 454g</td>\n",
       "      <td>2</td>\n",
       "      <td>UN</td>\n",
       "    </tr>\n",
       "    <tr>\n",
       "      <th>4</th>\n",
       "      <td>5</td>\n",
       "      <td>Projétil - Berger - Cal30. 185 g.</td>\n",
       "      <td>200</td>\n",
       "      <td>UN</td>\n",
       "    </tr>\n",
       "    <tr>\n",
       "      <th>5</th>\n",
       "      <td>6</td>\n",
       "      <td>Estojo - Lapua - 7,62 x 51mm</td>\n",
       "      <td>400</td>\n",
       "      <td>UN</td>\n",
       "    </tr>\n",
       "  </tbody>\n",
       "</table>\n",
       "</div>"
      ],
      "text/plain": [
       "   item                           descricao  quantidade unid. medida\n",
       "0     1      Pólvora - Hodgon H1000  - 454g           5           UN\n",
       "1     2    Pólvora - Hodgon CFE 223 - 3630g           2           UN\n",
       "2     3  Projétil - Nosler - Cal30. 190 g.          250           UN\n",
       "3     4      Pólvora - Accurate 2015 - 454g           2           UN\n",
       "4     5   Projétil - Berger - Cal30. 185 g.         200           UN\n",
       "5     6       Estojo - Lapua - 7,62 x 51mm          400           UN"
      ]
     },
     "execution_count": 24,
     "metadata": {},
     "output_type": "execute_result"
    }
   ],
   "source": [
    "def remove_accents2(input_str):  \n",
    "    nfkd_form = unicodedata.normalize('NFKD', input_str.lower())\n",
    "    only_ascii = nfkd_form.encode('ASCII', 'ignore')\n",
    "    return only_ascii.decode('utf-8')\n",
    "\n",
    "planilha.rename(remove_accents2, axis='columns')"
   ]
  },
  {
   "cell_type": "code",
   "execution_count": 19,
   "metadata": {},
   "outputs": [
    {
     "name": "stdout",
     "output_type": "stream",
     "text": [
      "C:\\Users\\25052288840\\Downloads\\TGs\\HASU458015-6 - complemento.xls\n"
     ]
    },
    {
     "ename": "TypeError",
     "evalue": "normalize() argument 2 must be str, not int",
     "output_type": "error",
     "traceback": [
      "\u001b[1;31m---------------------------------------------------------------------------\u001b[0m",
      "\u001b[1;31mTypeError\u001b[0m                                 Traceback (most recent call last)",
      "\u001b[1;32m<ipython-input-19-b46d1cd3c73d>\u001b[0m in \u001b[0;36m<module>\u001b[1;34m\u001b[0m\n\u001b[0;32m      3\u001b[0m     \u001b[0mprint\u001b[0m\u001b[1;33m(\u001b[0m\u001b[0mdiretorio\u001b[0m \u001b[1;33m+\u001b[0m \u001b[1;34m'\\\\'\u001b[0m \u001b[1;33m+\u001b[0m \u001b[0mnome_planilha\u001b[0m\u001b[1;33m)\u001b[0m\u001b[1;33m\u001b[0m\u001b[1;33m\u001b[0m\u001b[0m\n\u001b[0;32m      4\u001b[0m     \u001b[0mplanilha\u001b[0m \u001b[1;33m=\u001b[0m \u001b[0mpd\u001b[0m\u001b[1;33m.\u001b[0m\u001b[0mread_excel\u001b[0m\u001b[1;33m(\u001b[0m\u001b[0mdiretorio\u001b[0m \u001b[1;33m+\u001b[0m \u001b[1;34m'\\\\'\u001b[0m \u001b[1;33m+\u001b[0m \u001b[0mnome_planilha\u001b[0m\u001b[1;33m)\u001b[0m\u001b[1;33m\u001b[0m\u001b[1;33m\u001b[0m\u001b[0m\n\u001b[1;32m----> 5\u001b[1;33m     \u001b[0msugest_df\u001b[0m \u001b[1;33m=\u001b[0m \u001b[0mmonta_sugestoes\u001b[0m\u001b[1;33m(\u001b[0m\u001b[0mplanilha\u001b[0m\u001b[1;33m)\u001b[0m\u001b[1;33m\u001b[0m\u001b[1;33m\u001b[0m\u001b[0m\n\u001b[0m\u001b[0;32m      6\u001b[0m     \u001b[0msugest_df\u001b[0m\u001b[1;33m.\u001b[0m\u001b[0mto_excel\u001b[0m\u001b[1;33m(\u001b[0m\u001b[0mdiretorio\u001b[0m \u001b[1;33m+\u001b[0m \u001b[1;34m'\\\\TG '\u001b[0m \u001b[1;33m+\u001b[0m \u001b[0mnome_planilha\u001b[0m\u001b[1;33m,\u001b[0m \u001b[0mindex\u001b[0m\u001b[1;33m=\u001b[0m\u001b[1;32mFalse\u001b[0m\u001b[1;33m)\u001b[0m\u001b[1;33m\u001b[0m\u001b[1;33m\u001b[0m\u001b[0m\n",
      "\u001b[1;32m<ipython-input-18-91e56c2b48bf>\u001b[0m in \u001b[0;36mmonta_sugestoes\u001b[1;34m(planilha)\u001b[0m\n\u001b[0;32m      1\u001b[0m \u001b[1;32mdef\u001b[0m \u001b[0mmonta_sugestoes\u001b[0m\u001b[1;33m(\u001b[0m\u001b[0mplanilha\u001b[0m\u001b[1;33m)\u001b[0m\u001b[1;33m:\u001b[0m\u001b[1;33m\u001b[0m\u001b[1;33m\u001b[0m\u001b[0m\n\u001b[0;32m      2\u001b[0m     \u001b[0mlista_dict\u001b[0m \u001b[1;33m=\u001b[0m \u001b[1;33m[\u001b[0m\u001b[1;33m]\u001b[0m\u001b[1;33m\u001b[0m\u001b[1;33m\u001b[0m\u001b[0m\n\u001b[1;32m----> 3\u001b[1;33m     \u001b[0mplanilha\u001b[0m\u001b[1;33m.\u001b[0m\u001b[0mrename\u001b[0m\u001b[1;33m(\u001b[0m\u001b[0mremove_accents\u001b[0m\u001b[1;33m)\u001b[0m\u001b[1;33m\u001b[0m\u001b[1;33m\u001b[0m\u001b[0m\n\u001b[0m\u001b[0;32m      4\u001b[0m     \u001b[0mplanilha\u001b[0m \u001b[1;33m=\u001b[0m \u001b[0mplanilha\u001b[0m\u001b[1;33m.\u001b[0m\u001b[0mdropna\u001b[0m\u001b[1;33m(\u001b[0m\u001b[0msubset\u001b[0m\u001b[1;33m=\u001b[0m\u001b[1;33m[\u001b[0m\u001b[1;34m'DESCRIÇÃO'\u001b[0m\u001b[1;33m]\u001b[0m\u001b[1;33m)\u001b[0m\u001b[1;33m\u001b[0m\u001b[1;33m\u001b[0m\u001b[0m\n\u001b[0;32m      5\u001b[0m     \u001b[1;32mfor\u001b[0m \u001b[0mrow\u001b[0m \u001b[1;32min\u001b[0m \u001b[0mplanilha\u001b[0m\u001b[1;33m.\u001b[0m\u001b[0miterrows\u001b[0m\u001b[1;33m(\u001b[0m\u001b[1;33m)\u001b[0m\u001b[1;33m:\u001b[0m\u001b[1;33m\u001b[0m\u001b[1;33m\u001b[0m\u001b[0m\n",
      "\u001b[1;32m~\\Anaconda3\\lib\\site-packages\\pandas\\util\\_decorators.py\u001b[0m in \u001b[0;36mwrapper\u001b[1;34m(*args, **kwargs)\u001b[0m\n\u001b[0;32m    322\u001b[0m         \u001b[1;33m@\u001b[0m\u001b[0mwraps\u001b[0m\u001b[1;33m(\u001b[0m\u001b[0mfunc\u001b[0m\u001b[1;33m)\u001b[0m\u001b[1;33m\u001b[0m\u001b[1;33m\u001b[0m\u001b[0m\n\u001b[0;32m    323\u001b[0m         \u001b[1;32mdef\u001b[0m \u001b[0mwrapper\u001b[0m\u001b[1;33m(\u001b[0m\u001b[1;33m*\u001b[0m\u001b[0margs\u001b[0m\u001b[1;33m,\u001b[0m \u001b[1;33m**\u001b[0m\u001b[0mkwargs\u001b[0m\u001b[1;33m)\u001b[0m \u001b[1;33m->\u001b[0m \u001b[0mCallable\u001b[0m\u001b[1;33m[\u001b[0m\u001b[1;33m...\u001b[0m\u001b[1;33m,\u001b[0m \u001b[0mAny\u001b[0m\u001b[1;33m]\u001b[0m\u001b[1;33m:\u001b[0m\u001b[1;33m\u001b[0m\u001b[1;33m\u001b[0m\u001b[0m\n\u001b[1;32m--> 324\u001b[1;33m             \u001b[1;32mreturn\u001b[0m \u001b[0mfunc\u001b[0m\u001b[1;33m(\u001b[0m\u001b[1;33m*\u001b[0m\u001b[0margs\u001b[0m\u001b[1;33m,\u001b[0m \u001b[1;33m**\u001b[0m\u001b[0mkwargs\u001b[0m\u001b[1;33m)\u001b[0m\u001b[1;33m\u001b[0m\u001b[1;33m\u001b[0m\u001b[0m\n\u001b[0m\u001b[0;32m    325\u001b[0m \u001b[1;33m\u001b[0m\u001b[0m\n\u001b[0;32m    326\u001b[0m         \u001b[0mkind\u001b[0m \u001b[1;33m=\u001b[0m \u001b[0minspect\u001b[0m\u001b[1;33m.\u001b[0m\u001b[0mParameter\u001b[0m\u001b[1;33m.\u001b[0m\u001b[0mPOSITIONAL_OR_KEYWORD\u001b[0m\u001b[1;33m\u001b[0m\u001b[1;33m\u001b[0m\u001b[0m\n",
      "\u001b[1;32m~\\Anaconda3\\lib\\site-packages\\pandas\\core\\frame.py\u001b[0m in \u001b[0;36mrename\u001b[1;34m(self, mapper, index, columns, axis, copy, inplace, level, errors)\u001b[0m\n\u001b[0;32m   5037\u001b[0m         \u001b[1;36m4\u001b[0m  \u001b[1;36m3\u001b[0m  \u001b[1;36m6\u001b[0m\u001b[1;33m\u001b[0m\u001b[1;33m\u001b[0m\u001b[0m\n\u001b[0;32m   5038\u001b[0m         \"\"\"\n\u001b[1;32m-> 5039\u001b[1;33m         return super().rename(\n\u001b[0m\u001b[0;32m   5040\u001b[0m             \u001b[0mmapper\u001b[0m\u001b[1;33m=\u001b[0m\u001b[0mmapper\u001b[0m\u001b[1;33m,\u001b[0m\u001b[1;33m\u001b[0m\u001b[1;33m\u001b[0m\u001b[0m\n\u001b[0;32m   5041\u001b[0m             \u001b[0mindex\u001b[0m\u001b[1;33m=\u001b[0m\u001b[0mindex\u001b[0m\u001b[1;33m,\u001b[0m\u001b[1;33m\u001b[0m\u001b[1;33m\u001b[0m\u001b[0m\n",
      "\u001b[1;32m~\\Anaconda3\\lib\\site-packages\\pandas\\core\\generic.py\u001b[0m in \u001b[0;36mrename\u001b[1;34m(self, mapper, index, columns, axis, copy, inplace, level, errors)\u001b[0m\n\u001b[0;32m   1154\u001b[0m                     \u001b[1;32mraise\u001b[0m \u001b[0mKeyError\u001b[0m\u001b[1;33m(\u001b[0m\u001b[1;34mf\"{missing_labels} not found in axis\"\u001b[0m\u001b[1;33m)\u001b[0m\u001b[1;33m\u001b[0m\u001b[1;33m\u001b[0m\u001b[0m\n\u001b[0;32m   1155\u001b[0m \u001b[1;33m\u001b[0m\u001b[0m\n\u001b[1;32m-> 1156\u001b[1;33m             \u001b[0mnew_index\u001b[0m \u001b[1;33m=\u001b[0m \u001b[0max\u001b[0m\u001b[1;33m.\u001b[0m\u001b[0m_transform_index\u001b[0m\u001b[1;33m(\u001b[0m\u001b[0mf\u001b[0m\u001b[1;33m,\u001b[0m \u001b[0mlevel\u001b[0m\u001b[1;33m)\u001b[0m\u001b[1;33m\u001b[0m\u001b[1;33m\u001b[0m\u001b[0m\n\u001b[0m\u001b[0;32m   1157\u001b[0m             \u001b[0mresult\u001b[0m\u001b[1;33m.\u001b[0m\u001b[0m_set_axis_nocheck\u001b[0m\u001b[1;33m(\u001b[0m\u001b[0mnew_index\u001b[0m\u001b[1;33m,\u001b[0m \u001b[0maxis\u001b[0m\u001b[1;33m=\u001b[0m\u001b[0maxis_no\u001b[0m\u001b[1;33m,\u001b[0m \u001b[0minplace\u001b[0m\u001b[1;33m=\u001b[0m\u001b[1;32mTrue\u001b[0m\u001b[1;33m)\u001b[0m\u001b[1;33m\u001b[0m\u001b[1;33m\u001b[0m\u001b[0m\n\u001b[0;32m   1158\u001b[0m             \u001b[0mresult\u001b[0m\u001b[1;33m.\u001b[0m\u001b[0m_clear_item_cache\u001b[0m\u001b[1;33m(\u001b[0m\u001b[1;33m)\u001b[0m\u001b[1;33m\u001b[0m\u001b[1;33m\u001b[0m\u001b[0m\n",
      "\u001b[1;32m~\\Anaconda3\\lib\\site-packages\\pandas\\core\\indexes\\base.py\u001b[0m in \u001b[0;36m_transform_index\u001b[1;34m(self, func, level)\u001b[0m\n\u001b[0;32m   5544\u001b[0m             \u001b[1;32mreturn\u001b[0m \u001b[0mtype\u001b[0m\u001b[1;33m(\u001b[0m\u001b[0mself\u001b[0m\u001b[1;33m)\u001b[0m\u001b[1;33m.\u001b[0m\u001b[0mfrom_tuples\u001b[0m\u001b[1;33m(\u001b[0m\u001b[0mitems\u001b[0m\u001b[1;33m,\u001b[0m \u001b[0mnames\u001b[0m\u001b[1;33m=\u001b[0m\u001b[0mself\u001b[0m\u001b[1;33m.\u001b[0m\u001b[0mnames\u001b[0m\u001b[1;33m)\u001b[0m\u001b[1;33m\u001b[0m\u001b[1;33m\u001b[0m\u001b[0m\n\u001b[0;32m   5545\u001b[0m         \u001b[1;32melse\u001b[0m\u001b[1;33m:\u001b[0m\u001b[1;33m\u001b[0m\u001b[1;33m\u001b[0m\u001b[0m\n\u001b[1;32m-> 5546\u001b[1;33m             \u001b[0mitems\u001b[0m \u001b[1;33m=\u001b[0m \u001b[1;33m[\u001b[0m\u001b[0mfunc\u001b[0m\u001b[1;33m(\u001b[0m\u001b[0mx\u001b[0m\u001b[1;33m)\u001b[0m \u001b[1;32mfor\u001b[0m \u001b[0mx\u001b[0m \u001b[1;32min\u001b[0m \u001b[0mself\u001b[0m\u001b[1;33m]\u001b[0m\u001b[1;33m\u001b[0m\u001b[1;33m\u001b[0m\u001b[0m\n\u001b[0m\u001b[0;32m   5547\u001b[0m             \u001b[1;32mreturn\u001b[0m \u001b[0mIndex\u001b[0m\u001b[1;33m(\u001b[0m\u001b[0mitems\u001b[0m\u001b[1;33m,\u001b[0m \u001b[0mname\u001b[0m\u001b[1;33m=\u001b[0m\u001b[0mself\u001b[0m\u001b[1;33m.\u001b[0m\u001b[0mname\u001b[0m\u001b[1;33m,\u001b[0m \u001b[0mtupleize_cols\u001b[0m\u001b[1;33m=\u001b[0m\u001b[1;32mFalse\u001b[0m\u001b[1;33m)\u001b[0m\u001b[1;33m\u001b[0m\u001b[1;33m\u001b[0m\u001b[0m\n\u001b[0;32m   5548\u001b[0m \u001b[1;33m\u001b[0m\u001b[0m\n",
      "\u001b[1;32m~\\Anaconda3\\lib\\site-packages\\pandas\\core\\indexes\\base.py\u001b[0m in \u001b[0;36m<listcomp>\u001b[1;34m(.0)\u001b[0m\n\u001b[0;32m   5544\u001b[0m             \u001b[1;32mreturn\u001b[0m \u001b[0mtype\u001b[0m\u001b[1;33m(\u001b[0m\u001b[0mself\u001b[0m\u001b[1;33m)\u001b[0m\u001b[1;33m.\u001b[0m\u001b[0mfrom_tuples\u001b[0m\u001b[1;33m(\u001b[0m\u001b[0mitems\u001b[0m\u001b[1;33m,\u001b[0m \u001b[0mnames\u001b[0m\u001b[1;33m=\u001b[0m\u001b[0mself\u001b[0m\u001b[1;33m.\u001b[0m\u001b[0mnames\u001b[0m\u001b[1;33m)\u001b[0m\u001b[1;33m\u001b[0m\u001b[1;33m\u001b[0m\u001b[0m\n\u001b[0;32m   5545\u001b[0m         \u001b[1;32melse\u001b[0m\u001b[1;33m:\u001b[0m\u001b[1;33m\u001b[0m\u001b[1;33m\u001b[0m\u001b[0m\n\u001b[1;32m-> 5546\u001b[1;33m             \u001b[0mitems\u001b[0m \u001b[1;33m=\u001b[0m \u001b[1;33m[\u001b[0m\u001b[0mfunc\u001b[0m\u001b[1;33m(\u001b[0m\u001b[0mx\u001b[0m\u001b[1;33m)\u001b[0m \u001b[1;32mfor\u001b[0m \u001b[0mx\u001b[0m \u001b[1;32min\u001b[0m \u001b[0mself\u001b[0m\u001b[1;33m]\u001b[0m\u001b[1;33m\u001b[0m\u001b[1;33m\u001b[0m\u001b[0m\n\u001b[0m\u001b[0;32m   5547\u001b[0m             \u001b[1;32mreturn\u001b[0m \u001b[0mIndex\u001b[0m\u001b[1;33m(\u001b[0m\u001b[0mitems\u001b[0m\u001b[1;33m,\u001b[0m \u001b[0mname\u001b[0m\u001b[1;33m=\u001b[0m\u001b[0mself\u001b[0m\u001b[1;33m.\u001b[0m\u001b[0mname\u001b[0m\u001b[1;33m,\u001b[0m \u001b[0mtupleize_cols\u001b[0m\u001b[1;33m=\u001b[0m\u001b[1;32mFalse\u001b[0m\u001b[1;33m)\u001b[0m\u001b[1;33m\u001b[0m\u001b[1;33m\u001b[0m\u001b[0m\n\u001b[0;32m   5548\u001b[0m \u001b[1;33m\u001b[0m\u001b[0m\n",
      "\u001b[1;32m<ipython-input-11-f48bff7b3c3d>\u001b[0m in \u001b[0;36mremove_accents\u001b[1;34m(input_str)\u001b[0m\n\u001b[0;32m      9\u001b[0m     \u001b[0mhttps\u001b[0m\u001b[1;33m:\u001b[0m\u001b[1;33m//\u001b[0m\u001b[0mdocs\u001b[0m\u001b[1;33m.\u001b[0m\u001b[0mpython\u001b[0m\u001b[1;33m.\u001b[0m\u001b[0morg\u001b[0m\u001b[1;33m/\u001b[0m\u001b[1;36m3\u001b[0m\u001b[1;33m/\u001b[0m\u001b[0mlibrary\u001b[0m\u001b[1;33m/\u001b[0m\u001b[0municodedata\u001b[0m\u001b[1;33m.\u001b[0m\u001b[0mhtml\u001b[0m\u001b[1;33m\u001b[0m\u001b[1;33m\u001b[0m\u001b[0m\n\u001b[0;32m     10\u001b[0m     \"\"\"\n\u001b[1;32m---> 11\u001b[1;33m     \u001b[0mnfkd_form\u001b[0m \u001b[1;33m=\u001b[0m \u001b[0municodedata\u001b[0m\u001b[1;33m.\u001b[0m\u001b[0mnormalize\u001b[0m\u001b[1;33m(\u001b[0m\u001b[1;34m'NFKD'\u001b[0m\u001b[1;33m,\u001b[0m \u001b[0minput_str\u001b[0m\u001b[1;33m)\u001b[0m\u001b[1;33m\u001b[0m\u001b[1;33m\u001b[0m\u001b[0m\n\u001b[0m\u001b[0;32m     12\u001b[0m     \u001b[0monly_ascii\u001b[0m \u001b[1;33m=\u001b[0m \u001b[0mnfkd_form\u001b[0m\u001b[1;33m.\u001b[0m\u001b[0mencode\u001b[0m\u001b[1;33m(\u001b[0m\u001b[1;34m'ASCII'\u001b[0m\u001b[1;33m,\u001b[0m \u001b[1;34m'ignore'\u001b[0m\u001b[1;33m)\u001b[0m\u001b[1;33m\u001b[0m\u001b[1;33m\u001b[0m\u001b[0m\n\u001b[0;32m     13\u001b[0m     \u001b[1;32mreturn\u001b[0m \u001b[0monly_ascii\u001b[0m\u001b[1;33m\u001b[0m\u001b[1;33m\u001b[0m\u001b[0m\n",
      "\u001b[1;31mTypeError\u001b[0m: normalize() argument 2 must be str, not int"
     ]
    }
   ],
   "source": [
    "diretorio = r'C:\\Users\\25052288840\\Downloads\\TGs'\n",
    "for nome_planilha in os.listdir(diretorio):\n",
    "    print(diretorio + '\\\\' + nome_planilha)\n",
    "    planilha = pd.read_excel(diretorio + '\\\\' + nome_planilha)\n",
    "    sugest_df = monta_sugestoes(planilha)\n",
    "    sugest_df.to_excel(diretorio + '\\\\TG ' + nome_planilha, index=False)    "
   ]
  },
  {
   "cell_type": "code",
   "execution_count": 59,
   "metadata": {},
   "outputs": [
    {
     "data": {
      "text/plain": [
       "['FORNO ELETRICO, MARCA: MAINSTAYS, MODELO: 1010J-H15',\n",
       " 'FORNO ELÉTRICO, MARCA: HAMILTON, MODELO: 22703H',\n",
       " 'FORNO ELÉTRICO BLACK DECKER, MODELO: TO 1313SBD',\n",
       " 'FORNO ELETRICO 120V/(USADO)',\n",
       " 'FORNO - AF-250AD2  - KALORIK',\n",
       " 'FORNO ELETRICO 120V/(USADO)',\n",
       " 'FORNO MICROONDAS, MARCA: BLACK DECKER, MODELO: EM720CB7',\n",
       " 'FORNO ELETRICO, MARCA: ELITE GOURMET, MODELO: ETO-4510M',\n",
       " 'FORNO DE PIZZA ELÉTRICO - GO PLUS',\n",
       " 'forno elétrico - emeril lagasse']"
      ]
     },
     "execution_count": 59,
     "metadata": {},
     "output_type": "execute_result"
    }
   ],
   "source": [
    "bm25n.get_top_n(tokenize('Forno marca: Balmuda, modelo: K01M-KG'), corpus, n=10)"
   ]
  },
  {
   "cell_type": "code",
   "execution_count": 60,
   "metadata": {},
   "outputs": [
    {
     "data": {
      "text/plain": [
       "['LIXADEIRA - DCW210 - DE WALT',\n",
       " 'LIXADEIRA - RK7866 - SHOP SERIES',\n",
       " 'lixadeira 7800 - porter cable',\n",
       " 'LIXADEIRA, MARCA DEWALT, MODELO DWL6423',\n",
       " 'LIXADEIRA DE UNHA - DR-203 - MELODY SUSIE',\n",
       " 'KIT DE FERRAMENTAS ELÉTRICAS - 01 LIXADEIRA - 01 BATERIA - 01 CARREGADOR - DE WALT',\n",
       " 'Lixadeira Roto Orbital 5 125mm 20v Brushless DE WALT',\n",
       " 'LIXADEIRA PROFISSIONAL ORBITAL  DWE6411 AMARELA 50HZ - DEWALT',\n",
       " 'LIXADEIRA PROFISSIONAL ORBITAL  2.5 AMP ORBITAL SANDER - HYPER TOUGH',\n",
       " 'LIXADEIRA ELÉTRICA PARA UNHA, BIVOLT, REF DM-13 RF-CB-240 /ORIGEM CHINA']"
      ]
     },
     "execution_count": 60,
     "metadata": {},
     "output_type": "execute_result"
    }
   ],
   "source": [
    "bm25n.get_top_n(tokenize('Lixadeira Marca: Dexter'), corpus, n=10)"
   ]
  },
  {
   "cell_type": "code",
   "execution_count": 61,
   "metadata": {},
   "outputs": [
    {
     "data": {
      "text/plain": [
       "['microscópio 52-piece - erly explorer series - IQ CREW',\n",
       " 'conversor digital TV  - az',\n",
       " 'BALANÇA DIGITAL RENPHO',\n",
       " 'LAREIRA DIGITAL - EF421SP',\n",
       " 'TERMÔMETRO DIGITAL - DR. TALBOT´S',\n",
       " 'TERMOMETRO DIGITAL - IHEALTH',\n",
       " 'BALANÇA DIGITAL - ESCALI',\n",
       " 'termometro digital - genial',\n",
       " 'MINI CAMERA DIGITAL - VIVITAR',\n",
       " 'conversor digital TV ROKU SE  - roku']"
      ]
     },
     "execution_count": 61,
     "metadata": {},
     "output_type": "execute_result"
    }
   ],
   "source": [
    "bm25n.get_top_n(tokenize('Microscópio Digital'), corpus, n=10)"
   ]
  },
  {
   "cell_type": "code",
   "execution_count": 14,
   "metadata": {},
   "outputs": [
    {
     "data": {
      "text/plain": [
       "['NOTEBOOK - ASUS - USADO',\n",
       " 'NOTEBOOK ASUS VIVOBOOK, MARCA ASUS, MODELO R543M',\n",
       " 'tablet nexus 7 - C90KBC487109 - ASUS',\n",
       " 'notebook - HP - usado',\n",
       " 'NOTEBOOK  (USADO)',\n",
       " 'NOTEBOOK (USADO)',\n",
       " 'NOTEBOOK - 15 POLEGADAS 15-BAO15WN - HP',\n",
       " 'NOTEBOOK  G5CL3BY93 - DELL',\n",
       " 'NOTEBOOK - DELL - USADO',\n",
       " 'NOTEBOOK - ADM A8 - LENOVO']"
      ]
     },
     "execution_count": 14,
     "metadata": {},
     "output_type": "execute_result"
    }
   ],
   "source": [
    "bm25n.get_top_n(tokenize('Notebook  Asus'), corpus, n=10)"
   ]
  },
  {
   "cell_type": "code",
   "execution_count": 15,
   "metadata": {},
   "outputs": [
    {
     "data": {
      "text/plain": [
       "['LIXADEIRA - DCW210 - DE WALT',\n",
       " 'LIXADEIRA - RK7866 - SHOP SERIES',\n",
       " 'lixadeira 7800 - porter cable',\n",
       " 'LIXADEIRA DE UNHA - DR-203 - MELODY SUSIE',\n",
       " 'LIXADEIRA PROFISSIONAL ORBITAL  DWE6411 AMARELA 50HZ - DEWALT',\n",
       " 'Lixadeira Roto Orbital 5 125mm 20v Brushless DE WALT',\n",
       " 'KIT DE FERRAMENTAS ELÉTRICAS - 01 LIXADEIRA - 01 BATERIA - 01 CARREGADOR - DE WALT',\n",
       " 'LIXADEIRA PROFISSIONAL ORBITAL  2.5 AMP ORBITAL SANDER - HYPER TOUGH',\n",
       " 'LIXADEIRA ELÉTRICA PARA UNHA, BIVOLT, REF DM-13 RF-CB-240 /ORIGEM CHINA',\n",
       " 'LIXADEIRA ELÉTRICA PROFISSIONAL P/UNHA,C/BROCAS, MODELO LG3-1 110V 25000 RPM, REF LJ-CB-147 /JPC']"
      ]
     },
     "execution_count": 15,
     "metadata": {},
     "output_type": "execute_result"
    }
   ],
   "source": [
    "bm25n.get_top_n(tokenize('Lixadeira Dexter'), corpus, n=10)"
   ]
  },
  {
   "cell_type": "code",
   "execution_count": 67,
   "metadata": {},
   "outputs": [
    {
     "data": {
      "text/plain": [
       "['ESPREMEDOR DE FRUTAS 120/(USADO)',\n",
       " 'ESPREMEDOR - K37-010 - HOMELEADER',\n",
       " 'ESPREMEDOR DE FRUTAS 120V/(USADO)',\n",
       " 'ESPREMEDOR DE FRUTAS, MARCA: CUISINART, MODELO: CCJ500',\n",
       " 'ESPREMEDOR DE FRUTAS - PKJCR305 - NUTRICHEF',\n",
       " 'ESPREMEDOR DE FRUTAS - BJE510XL - BREVILLE - USADO',\n",
       " 'ESPREMEDOR DE FRUTAS - JM480S - JUICEMAN - USADO',\n",
       " 'APARELHO ESPREMEDOR DE FRUTA ELÉTRICO - ELITE',\n",
       " 'CAFETEIRA, MARCA: BLACK DECKER, MODELO: CM0750BS',\n",
       " 'TORRADEIRA , MARCA BLACK + DECKER, MODELO TR1478BD']"
      ]
     },
     "execution_count": 67,
     "metadata": {},
     "output_type": "execute_result"
    }
   ],
   "source": [
    "bm25n.get_top_n(tokenize('Espremedor black modelo: CJ625'), corpus, n=10)"
   ]
  },
  {
   "cell_type": "code",
   "execution_count": 17,
   "metadata": {},
   "outputs": [],
   "source": [
    "SQL = 'SELECT title as ncm, contents as descricao FROM laudo_ncm'\n",
    "df_ncm = pd.read_sql(SQL, engine)\n",
    "itensncm = df_ncm.dropna(subset=['ncm'])"
   ]
  },
  {
   "cell_type": "code",
   "execution_count": 18,
   "metadata": {},
   "outputs": [
    {
     "name": "stdout",
     "output_type": "stream",
     "text": [
      "10147 10147\n"
     ]
    }
   ],
   "source": [
    "print(len(df_ncm), len(itensncm))"
   ]
  },
  {
   "cell_type": "code",
   "execution_count": 23,
   "metadata": {},
   "outputs": [],
   "source": [
    "corpus_ncm = list(itensncm.descricao.values)\n",
    "corpus_ncm_normalized = [tokenize(line) for line in corpus_ncm]\n",
    "bm25n_ncm = BM25Okapi(corpus_ncm_normalized)"
   ]
  },
  {
   "cell_type": "code",
   "execution_count": 25,
   "metadata": {},
   "outputs": [
    {
     "data": {
      "text/plain": [
       "['--\\tNão combinados com um aparelho de gravação ou de reprodução de som, mas combinados com um relógio -\\tOutros: Aparelhos receptores para radiodifusão, mesmo combinados num mesmo invólucro, com um aparelho de gravação ou de reprodução de som, ou com um relógio.',\n",
       " 'Combinado com relógio --\\tOutros -\\tAparelhos receptores de radiodifusão suscetíveis de funcionarem sem fonte externa de energia: Aparelhos receptores para radiodifusão, mesmo combinados num mesmo invólucro, com um aparelho de gravação ou de reprodução de som, ou com um relógio.',\n",
       " 'Correias transportadoras ou de transmissão, de matérias têxteis, mesmo impregnadas, revestidas ou recobertas, de plástico, ou estratificadas com plástico ou reforçadas com metal ou com outras matérias.',\n",
       " '-\\tFechos e armações com fecho, com fechadura Cadeados, fechaduras e ferrolhos (de chave, de segredo ou elétricos), de metais comuns; fechos e armações com fecho, com fechadura, de metais comuns; chaves para estes artigos, de metais comuns.',\n",
       " '-\\tCom motor elétrico para propulsão Motocicletas (incluindo os ciclomotores) e outros ciclos equipados com motor auxiliar, mesmo com carro lateral; carros laterais.',\n",
       " 'Outros --\\tCom densidade superior a 0,8\\xa0g/cm3 -\\tOutros: Painéis de fibras de madeira ou de outras matérias lenhosas, mesmo aglomeradas com resinas ou com outros aglutinantes orgânicos.',\n",
       " 'Amplificador com sintonizador (receiver) --\\tOutros -\\tOutros: Aparelhos receptores para radiodifusão, mesmo combinados num mesmo invólucro, com um aparelho de gravação ou de reprodução de som, ou com um relógio.',\n",
       " 'Outros --\\tCom densidade não superior a 0,5\\xa0g/cm3 -\\tOutros: Painéis de fibras de madeira ou de outras matérias lenhosas, mesmo aglomeradas com resinas ou com outros aglutinantes orgânicos.',\n",
       " 'De mistura de trigo com centeio (méteil) Farinhas de trigo ou de mistura de trigo com centeio (méteil).',\n",
       " '-\\tCom poliuretano Tecidos impregnados, revestidos, recobertos ou estratificados, com plástico, exceto os da posição 59.02.']"
      ]
     },
     "execution_count": 25,
     "metadata": {},
     "output_type": "execute_result"
    }
   ],
   "source": [
    "bm25n_ncm.get_top_n(tokenize('KIT DE CARTEIRA COM RELÓGIO DE PULSO'), corpus_ncm, n=10)"
   ]
  },
  {
   "cell_type": "code",
   "execution_count": null,
   "metadata": {},
   "outputs": [],
   "source": []
  },
  {
   "cell_type": "code",
   "execution_count": null,
   "metadata": {},
   "outputs": [],
   "source": []
  },
  {
   "cell_type": "code",
   "execution_count": null,
   "metadata": {},
   "outputs": [],
   "source": []
  },
  {
   "cell_type": "code",
   "execution_count": null,
   "metadata": {},
   "outputs": [],
   "source": []
  },
  {
   "cell_type": "code",
   "execution_count": null,
   "metadata": {},
   "outputs": [],
   "source": []
  },
  {
   "cell_type": "code",
   "execution_count": null,
   "metadata": {},
   "outputs": [],
   "source": []
  },
  {
   "cell_type": "code",
   "execution_count": null,
   "metadata": {},
   "outputs": [],
   "source": []
  },
  {
   "cell_type": "code",
   "execution_count": null,
   "metadata": {},
   "outputs": [],
   "source": []
  },
  {
   "cell_type": "code",
   "execution_count": null,
   "metadata": {},
   "outputs": [],
   "source": []
  },
  {
   "cell_type": "code",
   "execution_count": null,
   "metadata": {},
   "outputs": [],
   "source": []
  },
  {
   "cell_type": "code",
   "execution_count": null,
   "metadata": {},
   "outputs": [],
   "source": []
  },
  {
   "cell_type": "code",
   "execution_count": null,
   "metadata": {},
   "outputs": [],
   "source": []
  }
 ],
 "metadata": {
  "kernelspec": {
   "display_name": "Python 3",
   "language": "python",
   "name": "python3"
  },
  "language_info": {
   "codemirror_mode": {
    "name": "ipython",
    "version": 3
   },
   "file_extension": ".py",
   "mimetype": "text/x-python",
   "name": "python",
   "nbconvert_exporter": "python",
   "pygments_lexer": "ipython3",
   "version": "3.8.5"
  }
 },
 "nbformat": 4,
 "nbformat_minor": 2
}
