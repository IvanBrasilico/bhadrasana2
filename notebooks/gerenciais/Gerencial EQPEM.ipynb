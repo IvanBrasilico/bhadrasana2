{
 "cells": [
  {
   "cell_type": "markdown",
   "metadata": {},
   "source": [
    "# GERENCIAL ALFSTS/DIREP/EQPEM"
   ]
  },
  {
   "cell_type": "code",
   "execution_count": 1,
   "metadata": {},
   "outputs": [
    {
     "name": "stderr",
     "output_type": "stream",
     "text": [
      "2022-02-18 11:27:44,602 ajna         INFO     Configuração de log efetuada\n"
     ]
    },
    {
     "name": "stdout",
     "output_type": "stream",
     "text": [
      "Fazendo log de erros e alertas no arquivo  ../..\\..\\ajna_docs\\commons\\ajna_commons\\flask\\error.log\n",
      "Fazendo log de atividade no arquivo  ../..\\..\\ajna_docs\\commons\\ajna_commons\\flask\\access.log\n"
     ]
    }
   ],
   "source": [
    "from IPython.display import HTML\n",
    "import gerencial_exp as g"
   ]
  },
  {
   "cell_type": "markdown",
   "metadata": {},
   "source": [
    "# Verificações por inspeção não invasiva"
   ]
  },
  {
   "cell_type": "code",
   "execution_count": 2,
   "metadata": {},
   "outputs": [],
   "source": [
    "import os\n",
    "import sys\n",
    "from datetime import datetime\n",
    "\n",
    "import pandas as pd\n",
    "import plotly.express as px\n",
    "import plotly.graph_objects as go\n",
    "\n",
    "WIDTH = 1100\n",
    "pd.options.display.float_format = 'R$ {:,.2f}'.format\n",
    "\n",
    "caminho_commons = os.path.join('../..', '..', 'ajna_docs', 'commons')\n",
    "caminho_virasana = os.path.join('../..', '..', 'ajna_docs', 'virasana')\n",
    "sys.path.append(caminho_commons)\n",
    "sys.path.append('../..')\n",
    "sys.path.append(caminho_virasana)\n",
    "\n",
    "from bhadrasana.models import engine"
   ]
  },
  {
   "cell_type": "code",
   "execution_count": 3,
   "metadata": {},
   "outputs": [],
   "source": [
    "SQL = '''SELECT c.numeroCEmercante, c.descricao, c.embarcador, c.portoDestFinal, c.consignatario,\n",
    " c.portoOrigemCarga, n.codigoConteiner, n.identificacaoNCM\n",
    "FROM conhecimentosresumo c INNER JOIN ncmitemresumo n ON c.numeroCEmercante = n.numeroCEMercante\n",
    "WHERE c.create_date <= \"2022-02-14\" AND c.create_date >=  \"2022-02-13\"\n",
    " AND c.portoDestFinal = \"BRSSZ\" \n",
    " ORDER BY c.numeroCEmercante\n",
    " LIMIT 100\n",
    " '''\n",
    "\n",
    "df = pd.read_sql(SQL, engine)"
   ]
  },
  {
   "cell_type": "code",
   "execution_count": null,
   "metadata": {},
   "outputs": [],
   "source": []
  }
 ],
 "metadata": {
  "kernelspec": {
   "display_name": "Python 3",
   "language": "python",
   "name": "python3"
  },
  "language_info": {
   "codemirror_mode": {
    "name": "ipython",
    "version": 3
   },
   "file_extension": ".py",
   "mimetype": "text/x-python",
   "name": "python",
   "nbconvert_exporter": "python",
   "pygments_lexer": "ipython3",
   "version": "3.8.5"
  }
 },
 "nbformat": 4,
 "nbformat_minor": 4
}
