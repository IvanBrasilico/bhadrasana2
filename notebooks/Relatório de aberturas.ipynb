{
 "cells": [
  {
   "cell_type": "code",
   "execution_count": 1,
   "metadata": {
    "ExecuteTime": {
     "end_time": "2020-04-27T15:28:43.875687Z",
     "start_time": "2020-04-27T15:28:43.867025Z"
    }
   },
   "outputs": [
    {
     "name": "stderr",
     "output_type": "stream",
     "text": [
      "2023-03-10 15:18:17,109 ajna         INFO     Configuração de log efetuada\n"
     ]
    },
    {
     "name": "stdout",
     "output_type": "stream",
     "text": [
      "Fazendo log de erros e alertas no arquivo  ..\\..\\ajna_docs\\commons\\ajna_commons\\flask\\error.log\n",
      "Fazendo log de atividade no arquivo  ..\\..\\ajna_docs\\commons\\ajna_commons\\flask\\access.log\n"
     ]
    }
   ],
   "source": [
    "import pandas as pd\n",
    "import os\n",
    "import sys\n",
    "\n",
    "caminho_commons = os.path.join('..', '..', 'ajna_docs', 'commons')\n",
    "caminho_virasana = os.path.join('..', '..', 'ajna_docs', 'virasana')\n",
    "sys.path.insert(0, caminho_commons)\n",
    "sys.path.append('..')\n",
    "sys.path.append(caminho_virasana)\n",
    "\n",
    "from bhadrasana.models import engine\n",
    "\n"
   ]
  },
  {
   "cell_type": "markdown",
   "metadata": {},
   "source": [
    "# 1 - Relatório BTP"
   ]
  },
  {
   "cell_type": "code",
   "execution_count": 2,
   "metadata": {},
   "outputs": [],
   "source": [
    "df = pd.read_excel('data/relatorio_abertura_BTP.xlsx').drop_duplicates()"
   ]
  },
  {
   "cell_type": "code",
   "execution_count": 3,
   "metadata": {},
   "outputs": [
    {
     "data": {
      "text/html": [
       "<div>\n",
       "<style scoped>\n",
       "    .dataframe tbody tr th:only-of-type {\n",
       "        vertical-align: middle;\n",
       "    }\n",
       "\n",
       "    .dataframe tbody tr th {\n",
       "        vertical-align: top;\n",
       "    }\n",
       "\n",
       "    .dataframe thead th {\n",
       "        text-align: right;\n",
       "    }\n",
       "</style>\n",
       "<table border=\"1\" class=\"dataframe\">\n",
       "  <thead>\n",
       "    <tr style=\"text-align: right;\">\n",
       "      <th></th>\n",
       "      <th>Data e Hora de Abertura</th>\n",
       "      <th>Recinto</th>\n",
       "      <th>Local (Quadra)</th>\n",
       "      <th>Número CE</th>\n",
       "      <th>Número Contêiner</th>\n",
       "      <th>Lacres Encontrados</th>\n",
       "      <th>Lacres Colocados</th>\n",
       "      <th>Órgão e Setor Solicitante</th>\n",
       "      <th>Motivo</th>\n",
       "      <th>Data e Hora de Fechamento</th>\n",
       "    </tr>\n",
       "  </thead>\n",
       "  <tbody>\n",
       "    <tr>\n",
       "      <th>0</th>\n",
       "      <td>2022-01-03 08:42:05.999996</td>\n",
       "      <td>BTP</td>\n",
       "      <td>WH14 13 Q 1</td>\n",
       "      <td>1.522070e+14</td>\n",
       "      <td>BEAU2270759</td>\n",
       "      <td>HLD4525556; HLG0214809</td>\n",
       "      <td>192926; HLD4525556</td>\n",
       "      <td>RFB</td>\n",
       "      <td>CONFERENCIA *DIREP*</td>\n",
       "      <td>2022-01-03 10:16:12.000003</td>\n",
       "    </tr>\n",
       "    <tr>\n",
       "      <th>1</th>\n",
       "      <td>2022-01-03 08:43:57.000003</td>\n",
       "      <td>BTP</td>\n",
       "      <td>WH14 13 P 1</td>\n",
       "      <td>1.522070e+14</td>\n",
       "      <td>HAMU1121927</td>\n",
       "      <td>0118231; 184515; HLD11831080; HLG0255980</td>\n",
       "      <td>192927; HLG0255980</td>\n",
       "      <td>RFB</td>\n",
       "      <td>CONFERENCIA *DIREP*</td>\n",
       "      <td>2022-01-03 10:18:46.999996</td>\n",
       "    </tr>\n",
       "    <tr>\n",
       "      <th>2</th>\n",
       "      <td>2022-01-03 08:47:20.000000</td>\n",
       "      <td>BTP</td>\n",
       "      <td>WH14 13 O 1</td>\n",
       "      <td>1.522070e+14</td>\n",
       "      <td>CAIU6911897</td>\n",
       "      <td>082155; FJ12404237; FJ12433883</td>\n",
       "      <td>192928; FJ12404237</td>\n",
       "      <td>RFB</td>\n",
       "      <td>CONFERENCIA *DIREP*</td>\n",
       "      <td>2022-01-03 10:15:30.999997</td>\n",
       "    </tr>\n",
       "    <tr>\n",
       "      <th>3</th>\n",
       "      <td>2022-01-03 12:09:31.000000</td>\n",
       "      <td>BTP</td>\n",
       "      <td>WH10 09 P 1</td>\n",
       "      <td>1.522070e+14</td>\n",
       "      <td>TEMU1464845</td>\n",
       "      <td>HLG0243148</td>\n",
       "      <td>193544; HLG0255993</td>\n",
       "      <td>RFB</td>\n",
       "      <td>CONFERENCIA FISICA</td>\n",
       "      <td>2022-01-03 12:23:57.999999</td>\n",
       "    </tr>\n",
       "    <tr>\n",
       "      <th>4</th>\n",
       "      <td>2022-01-03 12:24:39.000004</td>\n",
       "      <td>BTP</td>\n",
       "      <td>WH10 10 Q 1</td>\n",
       "      <td>1.521053e+14</td>\n",
       "      <td>TGBU7676158</td>\n",
       "      <td>EU21920172</td>\n",
       "      <td>193545</td>\n",
       "      <td>MAPA</td>\n",
       "      <td>INSPEÇÃO MADEIRA</td>\n",
       "      <td>2022-01-03 15:05:56.000003</td>\n",
       "    </tr>\n",
       "  </tbody>\n",
       "</table>\n",
       "</div>"
      ],
      "text/plain": [
       "     Data e Hora de Abertura Recinto Local (Quadra)     Número CE  \\\n",
       "0 2022-01-03 08:42:05.999996     BTP    WH14 13 Q 1  1.522070e+14   \n",
       "1 2022-01-03 08:43:57.000003     BTP    WH14 13 P 1  1.522070e+14   \n",
       "2 2022-01-03 08:47:20.000000     BTP    WH14 13 O 1  1.522070e+14   \n",
       "3 2022-01-03 12:09:31.000000     BTP    WH10 09 P 1  1.522070e+14   \n",
       "4 2022-01-03 12:24:39.000004     BTP    WH10 10 Q 1  1.521053e+14   \n",
       "\n",
       "  Número Contêiner                        Lacres Encontrados  \\\n",
       "0      BEAU2270759                    HLD4525556; HLG0214809   \n",
       "1      HAMU1121927  0118231; 184515; HLD11831080; HLG0255980   \n",
       "2      CAIU6911897            082155; FJ12404237; FJ12433883   \n",
       "3      TEMU1464845                                HLG0243148   \n",
       "4      TGBU7676158                                EU21920172   \n",
       "\n",
       "     Lacres Colocados Órgão e Setor Solicitante               Motivo  \\\n",
       "0  192926; HLD4525556                       RFB  CONFERENCIA *DIREP*   \n",
       "1  192927; HLG0255980                       RFB  CONFERENCIA *DIREP*   \n",
       "2  192928; FJ12404237                       RFB  CONFERENCIA *DIREP*   \n",
       "3  193544; HLG0255993                       RFB   CONFERENCIA FISICA   \n",
       "4              193545                      MAPA     INSPEÇÃO MADEIRA   \n",
       "\n",
       "   Data e Hora de Fechamento  \n",
       "0 2022-01-03 10:16:12.000003  \n",
       "1 2022-01-03 10:18:46.999996  \n",
       "2 2022-01-03 10:15:30.999997  \n",
       "3 2022-01-03 12:23:57.999999  \n",
       "4 2022-01-03 15:05:56.000003  "
      ]
     },
     "execution_count": 3,
     "metadata": {},
     "output_type": "execute_result"
    }
   ],
   "source": [
    "df.head()"
   ]
  },
  {
   "cell_type": "code",
   "execution_count": 4,
   "metadata": {},
   "outputs": [
    {
     "data": {
      "text/plain": [
       "Motivo\n",
       "INSPEÇÃO MADEIRA                6743\n",
       "RETIRADA DE AMOSTRA             2331\n",
       "CONFERENCIA FISICA              1303\n",
       "CONFERENCIA *DIREP*              682\n",
       "INSP. MADEIRA S/ DESEMBARAÇO     593\n",
       "RETIRADA DE RÓTULO               385\n",
       "DISSOCIAÇÃO DE CARGA             159\n",
       "REEFER SUPORTE                    93\n",
       "CONF. FISICA C/ ENGENHEIRO        62\n",
       "MOVIMENTAÇÃO DA CARGA             53\n",
       "Name: Recinto, dtype: int64"
      ]
     },
     "execution_count": 4,
     "metadata": {},
     "output_type": "execute_result"
    }
   ],
   "source": [
    "df.groupby('Motivo').Recinto.count().sort_values(ascending=False).head(10)"
   ]
  },
  {
   "cell_type": "code",
   "execution_count": 5,
   "metadata": {},
   "outputs": [
    {
     "data": {
      "text/plain": [
       "Motivo\n",
       "ANVISA                            0.000237\n",
       "CONF. BAGAGEM + MADEIRA           0.000079\n",
       "CONF. FISICA + MADEIRA            0.001105\n",
       "CONF. FISICA C/ ENGENHEIRO        0.004892\n",
       "CONFERENCIA *DIREP*               0.053807\n",
       "CONFERENCIA *SEPEA*               0.000158\n",
       "CONFERENCIA BAGAGEM               0.000868\n",
       "CONFERENCIA FISICA                0.102801\n",
       "DESUNIT. APÓS DESEMB.             0.000158\n",
       "DESUNITIZAÇÃO                     0.000316\n",
       "DISSOCIAÇÃO DE CARGA              0.012544\n",
       "ESTUFAGEM DE CARGA                0.000079\n",
       "ETIQUETAGEM                       0.000631\n",
       "FOTOGRAFIA (LACRE)                0.001657\n",
       "FUMIGAÇÃO                         0.000079\n",
       "INSERÇÃO DE LACRE                 0.000079\n",
       "INSP. MADEIRA + COLETA AMOSTRA    0.002051\n",
       "INSP. MADEIRA + RET. RÓTULO       0.000316\n",
       "INSP. MADEIRA S/ DESEMBARAÇO      0.046785\n",
       "INSPEÇÃO MADEIRA                  0.531992\n",
       "INTERRUPÇÃO DE FLUXO              0.004024\n",
       "LEILÃO                            0.003156\n",
       "MOVIMENTAÇÃO DA CARGA             0.004181\n",
       "REEFER SUPORTE                    0.007337\n",
       "RETIRADA AMOSTRAS INMETRO         0.000079\n",
       "RETIRADA DE AMOSTRA               0.183905\n",
       "RETIRADA DE AMOSTRA LABANA        0.000237\n",
       "RETIRADA DE RÓTULO                0.030375\n",
       "SACRIFÍCIO                        0.001262\n",
       "SANEAMENTO DE FMA (RFB)           0.001341\n",
       "TRANSBORDO DE CARGA               0.001420\n",
       "VERIFICACAO DE LACRES             0.000158\n",
       "VISTORIA DDC                      0.000394\n",
       "VISTORIA EXERCITO                 0.000079\n",
       "VISTORIA IBAMA + MAPA             0.000158\n",
       "VISTORIA SEGURO                   0.001262\n",
       "Name: Recinto, dtype: float64"
      ]
     },
     "execution_count": 5,
     "metadata": {},
     "output_type": "execute_result"
    }
   ],
   "source": [
    "df.groupby('Motivo').Recinto.count() / len(df)"
   ]
  },
  {
   "cell_type": "code",
   "execution_count": 6,
   "metadata": {},
   "outputs": [],
   "source": [
    "df_btp = df[['Recinto', 'Data e Hora de Abertura', 'Órgão e Setor Solicitante', 'Motivo']]\n",
    "df_btp.columns = ['recinto', 'abertura', 'orgao', 'motivo']"
   ]
  },
  {
   "cell_type": "markdown",
   "metadata": {},
   "source": [
    "# 2 - Relatório DPW"
   ]
  },
  {
   "cell_type": "code",
   "execution_count": 7,
   "metadata": {},
   "outputs": [],
   "source": [
    "df = pd.read_excel('data/relatorio_abertura_DPW.xlsx').drop_duplicates()"
   ]
  },
  {
   "cell_type": "code",
   "execution_count": 8,
   "metadata": {},
   "outputs": [
    {
     "data": {
      "text/html": [
       "<div>\n",
       "<style scoped>\n",
       "    .dataframe tbody tr th:only-of-type {\n",
       "        vertical-align: middle;\n",
       "    }\n",
       "\n",
       "    .dataframe tbody tr th {\n",
       "        vertical-align: top;\n",
       "    }\n",
       "\n",
       "    .dataframe thead th {\n",
       "        text-align: right;\n",
       "    }\n",
       "</style>\n",
       "<table border=\"1\" class=\"dataframe\">\n",
       "  <thead>\n",
       "    <tr style=\"text-align: right;\">\n",
       "      <th></th>\n",
       "      <th>Data de Abertura</th>\n",
       "      <th>Motivo</th>\n",
       "      <th>Nro Conteiner</th>\n",
       "      <th>Lacre Encontrado</th>\n",
       "      <th>Lacre Encontrado.1</th>\n",
       "      <th>Lacre Encontrado.2</th>\n",
       "      <th>Lacre Encontrado.3</th>\n",
       "      <th>Lacre Colocado</th>\n",
       "      <th>Nro Documento</th>\n",
       "      <th>CEMERCANTE</th>\n",
       "      <th>Nro Documento.1</th>\n",
       "      <th>Quadra</th>\n",
       "      <th>Orgão Solicitante</th>\n",
       "    </tr>\n",
       "  </thead>\n",
       "  <tbody>\n",
       "    <tr>\n",
       "      <th>0</th>\n",
       "      <td>03.01.2022 13:19:00</td>\n",
       "      <td>CONFERENCIA FISICA</td>\n",
       "      <td>PCIU8997563</td>\n",
       "      <td>DM36768</td>\n",
       "      <td>NaN</td>\n",
       "      <td>NaN</td>\n",
       "      <td>NaN</td>\n",
       "      <td>DM36768</td>\n",
       "      <td>152105314720904</td>\n",
       "      <td>152105314720904</td>\n",
       "      <td>2124733400</td>\n",
       "      <td>1W02I.1</td>\n",
       "      <td>RFB</td>\n",
       "    </tr>\n",
       "    <tr>\n",
       "      <th>1</th>\n",
       "      <td>03.01.2022 13:32:59</td>\n",
       "      <td>CONFERENCIA FISICA</td>\n",
       "      <td>MSKU6971626</td>\n",
       "      <td>ML-BR2351212</td>\n",
       "      <td></td>\n",
       "      <td></td>\n",
       "      <td></td>\n",
       "      <td>ML-BR2351212</td>\n",
       "      <td>21BR0021337827</td>\n",
       "      <td>NaN</td>\n",
       "      <td>21BR0021337827</td>\n",
       "      <td>1W02M.1</td>\n",
       "      <td>RFB</td>\n",
       "    </tr>\n",
       "    <tr>\n",
       "      <th>2</th>\n",
       "      <td>03.01.2022 13:33:45</td>\n",
       "      <td>CONFERENCIA FISICA</td>\n",
       "      <td>MRKU0326876</td>\n",
       "      <td>ML-BR2351210</td>\n",
       "      <td></td>\n",
       "      <td></td>\n",
       "      <td></td>\n",
       "      <td>ML-BR2351210</td>\n",
       "      <td>21BR0021337827</td>\n",
       "      <td>NaN</td>\n",
       "      <td>21BR0021337827</td>\n",
       "      <td>1W02J.1</td>\n",
       "      <td>RFB</td>\n",
       "    </tr>\n",
       "    <tr>\n",
       "      <th>3</th>\n",
       "      <td>03.01.2022 13:34:23</td>\n",
       "      <td>CONFERENCIA FISICA</td>\n",
       "      <td>SUDU5454577</td>\n",
       "      <td>ML-BR2351213</td>\n",
       "      <td></td>\n",
       "      <td></td>\n",
       "      <td></td>\n",
       "      <td>ML-BR2351213</td>\n",
       "      <td>21BR0021337827</td>\n",
       "      <td>NaN</td>\n",
       "      <td>21BR0021337827</td>\n",
       "      <td>1W02P.1</td>\n",
       "      <td>RFB</td>\n",
       "    </tr>\n",
       "    <tr>\n",
       "      <th>4</th>\n",
       "      <td>03.01.2022 13:35:05</td>\n",
       "      <td>CONFERENCIA FISICA</td>\n",
       "      <td>MRKU0158216</td>\n",
       "      <td>ML-BR2351209</td>\n",
       "      <td></td>\n",
       "      <td></td>\n",
       "      <td></td>\n",
       "      <td>ML-BR2351209</td>\n",
       "      <td>21BR0021337827</td>\n",
       "      <td>NaN</td>\n",
       "      <td>21BR0021337827</td>\n",
       "      <td>1W02O.1</td>\n",
       "      <td>RFB</td>\n",
       "    </tr>\n",
       "  </tbody>\n",
       "</table>\n",
       "</div>"
      ],
      "text/plain": [
       "      Data de Abertura              Motivo Nro Conteiner Lacre Encontrado  \\\n",
       "0  03.01.2022 13:19:00  CONFERENCIA FISICA   PCIU8997563          DM36768   \n",
       "1  03.01.2022 13:32:59  CONFERENCIA FISICA   MSKU6971626     ML-BR2351212   \n",
       "2  03.01.2022 13:33:45  CONFERENCIA FISICA   MRKU0326876     ML-BR2351210   \n",
       "3  03.01.2022 13:34:23  CONFERENCIA FISICA   SUDU5454577     ML-BR2351213   \n",
       "4  03.01.2022 13:35:05  CONFERENCIA FISICA   MRKU0158216     ML-BR2351209   \n",
       "\n",
       "  Lacre Encontrado.1 Lacre Encontrado.2 Lacre Encontrado.3 Lacre Colocado  \\\n",
       "0                NaN                NaN                NaN        DM36768   \n",
       "1                                                            ML-BR2351212   \n",
       "2                                                            ML-BR2351210   \n",
       "3                                                            ML-BR2351213   \n",
       "4                                                            ML-BR2351209   \n",
       "\n",
       "     Nro Documento       CEMERCANTE Nro Documento.1   Quadra Orgão Solicitante  \n",
       "0  152105314720904  152105314720904      2124733400  1W02I.1               RFB  \n",
       "1   21BR0021337827              NaN  21BR0021337827  1W02M.1               RFB  \n",
       "2   21BR0021337827              NaN  21BR0021337827  1W02J.1               RFB  \n",
       "3   21BR0021337827              NaN  21BR0021337827  1W02P.1               RFB  \n",
       "4   21BR0021337827              NaN  21BR0021337827  1W02O.1               RFB  "
      ]
     },
     "execution_count": 8,
     "metadata": {},
     "output_type": "execute_result"
    }
   ],
   "source": [
    "df.head()"
   ]
  },
  {
   "cell_type": "code",
   "execution_count": 9,
   "metadata": {},
   "outputs": [],
   "source": [
    "df['Recinto'] = 'DPW'\n",
    "df_dpw = df[['Recinto', 'Data de Abertura', 'Orgão Solicitante', 'Motivo']]\n",
    "df_dpw.columns = ['recinto', 'abertura', 'orgao', 'motivo']"
   ]
  },
  {
   "cell_type": "code",
   "execution_count": 10,
   "metadata": {},
   "outputs": [
    {
     "data": {
      "text/plain": [
       "INSPEÇÃO DE MADEIRA                         7107\n",
       "CONFERENCIA FISICA                          2434\n",
       "DESUNITIZAÇÃO                                627\n",
       "COLETA DE AMOSTRA (LPCO)MAPA EXPORTAÇÃO      327\n",
       "COLETA DE AMOSTRA ( L . I )  VEGETAL         297\n",
       "COLETA DE AMOSTRA ( L . I )  ANIMAL          233\n",
       "VISTORIA EXTERNA                             190\n",
       "DISSOCIAÇÃO/MAPA                              96\n",
       "CONFERENCIA VAZIO                             74\n",
       "LABANA                                        53\n",
       "SAT (ENGENHEIRO ALFANDEGA)                    45\n",
       "COLETA DE AMOSTRA EXERCITO                    35\n",
       "DESUNITIZAÇÃO APOS DESEMBARAÇO                27\n",
       "FUMIGAÇÃO                                     24\n",
       "CONFERENCIA FISICA E INSPEÇÃO DE MADEIRA      20\n",
       "ABERTURA APOS FMA                             11\n",
       "INSPEÇÃO DE MADEIRA E COLETA DE AMOSTRA       10\n",
       "MARCAÇÃO                                       9\n",
       "LIMPEZA DE RESIDUO                             4\n",
       "AERAÇÃO                                        1\n",
       "Name: Motivo, dtype: int64"
      ]
     },
     "execution_count": 10,
     "metadata": {},
     "output_type": "execute_result"
    }
   ],
   "source": [
    "df.Motivo.value_counts()"
   ]
  },
  {
   "cell_type": "code",
   "execution_count": 11,
   "metadata": {},
   "outputs": [
    {
     "data": {
      "text/plain": [
       "Mapa             8095\n",
       "RFB              2617\n",
       "DP World          658\n",
       "Importador        151\n",
       "Exportador         39\n",
       "Exército           35\n",
       "RFB / Mapa         20\n",
       "Certificadora       9\n",
       "Name: Orgão Solicitante, dtype: int64"
      ]
     },
     "execution_count": 11,
     "metadata": {},
     "output_type": "execute_result"
    }
   ],
   "source": [
    "df['Orgão Solicitante'].value_counts()"
   ]
  },
  {
   "cell_type": "markdown",
   "metadata": {},
   "source": [
    "# 3 - Planilha Santos Brasil"
   ]
  },
  {
   "cell_type": "code",
   "execution_count": 12,
   "metadata": {},
   "outputs": [],
   "source": [
    "dfi = pd.read_excel('data/relatorio_abertura_SBT_impo.xlsx').drop_duplicates()"
   ]
  },
  {
   "cell_type": "code",
   "execution_count": 13,
   "metadata": {},
   "outputs": [
    {
     "data": {
      "text/html": [
       "<div>\n",
       "<style scoped>\n",
       "    .dataframe tbody tr th:only-of-type {\n",
       "        vertical-align: middle;\n",
       "    }\n",
       "\n",
       "    .dataframe tbody tr th {\n",
       "        vertical-align: top;\n",
       "    }\n",
       "\n",
       "    .dataframe thead th {\n",
       "        text-align: right;\n",
       "    }\n",
       "</style>\n",
       "<table border=\"1\" class=\"dataframe\">\n",
       "  <thead>\n",
       "    <tr style=\"text-align: right;\">\n",
       "      <th></th>\n",
       "      <th>RECINTO</th>\n",
       "      <th>MOTIVO</th>\n",
       "      <th>SETOR</th>\n",
       "      <th>CE_NUMERO</th>\n",
       "      <th>DOCUMENTO</th>\n",
       "      <th>ID</th>\n",
       "      <th>AMIM_CONTAINER</th>\n",
       "      <th>AMIM_VIAGEM</th>\n",
       "      <th>NAVIO_NOME</th>\n",
       "      <th>DATA_ABERTURA</th>\n",
       "      <th>LACRE_VER_1</th>\n",
       "      <th>LACRE_VER_2</th>\n",
       "      <th>LACRE_VER_3</th>\n",
       "      <th>RLCI_NUMERO</th>\n",
       "    </tr>\n",
       "  </thead>\n",
       "  <tbody>\n",
       "    <tr>\n",
       "      <th>0</th>\n",
       "      <td>8931356</td>\n",
       "      <td>Agricultura</td>\n",
       "      <td>MAPA</td>\n",
       "      <td>1.521053e+14</td>\n",
       "      <td>202200474520</td>\n",
       "      <td>5001427</td>\n",
       "      <td>TCKU7062480</td>\n",
       "      <td>05084  2021</td>\n",
       "      <td>KOTA CABAR</td>\n",
       "      <td>11/01/2022 17:04:46</td>\n",
       "      <td>P6273539</td>\n",
       "      <td>NaN</td>\n",
       "      <td>NaN</td>\n",
       "      <td>ALT000572</td>\n",
       "    </tr>\n",
       "    <tr>\n",
       "      <th>1</th>\n",
       "      <td>8931356</td>\n",
       "      <td>Agricultura</td>\n",
       "      <td>MAPA</td>\n",
       "      <td>1.522050e+14</td>\n",
       "      <td>002515422022</td>\n",
       "      <td>5004220</td>\n",
       "      <td>MAEU3472899</td>\n",
       "      <td>00018  2022</td>\n",
       "      <td>CAP SAN AUGUSTIN</td>\n",
       "      <td>13/01/2022 12:06:51</td>\n",
       "      <td>NaN</td>\n",
       "      <td>NaN</td>\n",
       "      <td>NaN</td>\n",
       "      <td>NaN</td>\n",
       "    </tr>\n",
       "    <tr>\n",
       "      <th>2</th>\n",
       "      <td>8931356</td>\n",
       "      <td>Desova Armazém</td>\n",
       "      <td>DESPACH</td>\n",
       "      <td>1.522050e+14</td>\n",
       "      <td>202200863950</td>\n",
       "      <td>5004004</td>\n",
       "      <td>SEKU4346206</td>\n",
       "      <td>00018  2022</td>\n",
       "      <td>CAP SAN AUGUSTIN</td>\n",
       "      <td>13/01/2022 09:15:42</td>\n",
       "      <td>2113582</td>\n",
       "      <td>NaN</td>\n",
       "      <td>NaN</td>\n",
       "      <td>NaN</td>\n",
       "    </tr>\n",
       "    <tr>\n",
       "      <th>3</th>\n",
       "      <td>8931356</td>\n",
       "      <td>Agricultura</td>\n",
       "      <td>MAPA</td>\n",
       "      <td>1.522050e+14</td>\n",
       "      <td>202201124620</td>\n",
       "      <td>5005109</td>\n",
       "      <td>MSKU6676148</td>\n",
       "      <td>00115  2022</td>\n",
       "      <td>MAERSK LAVRAS</td>\n",
       "      <td>14-JAN-22 22:01:50</td>\n",
       "      <td>MLKR5502319</td>\n",
       "      <td>NaN</td>\n",
       "      <td>NaN</td>\n",
       "      <td>ALT000977</td>\n",
       "    </tr>\n",
       "    <tr>\n",
       "      <th>4</th>\n",
       "      <td>8931356</td>\n",
       "      <td>Desova Armazém</td>\n",
       "      <td>DESPACH</td>\n",
       "      <td>1.521053e+14</td>\n",
       "      <td>202203770243</td>\n",
       "      <td>4997417</td>\n",
       "      <td>PCIU1939117</td>\n",
       "      <td>04924  2021</td>\n",
       "      <td>YM TRUST</td>\n",
       "      <td>10/01/2022 20:46:57</td>\n",
       "      <td>SGA564922</td>\n",
       "      <td>NaN</td>\n",
       "      <td>NaN</td>\n",
       "      <td>NaN</td>\n",
       "    </tr>\n",
       "  </tbody>\n",
       "</table>\n",
       "</div>"
      ],
      "text/plain": [
       "   RECINTO          MOTIVO    SETOR     CE_NUMERO     DOCUMENTO       ID  \\\n",
       "0  8931356     Agricultura     MAPA  1.521053e+14  202200474520  5001427   \n",
       "1  8931356     Agricultura     MAPA  1.522050e+14  002515422022  5004220   \n",
       "2  8931356  Desova Armazém  DESPACH  1.522050e+14  202200863950  5004004   \n",
       "3  8931356     Agricultura     MAPA  1.522050e+14  202201124620  5005109   \n",
       "4  8931356  Desova Armazém  DESPACH  1.521053e+14  202203770243  4997417   \n",
       "\n",
       "  AMIM_CONTAINER  AMIM_VIAGEM        NAVIO_NOME        DATA_ABERTURA  \\\n",
       "0    TCKU7062480  05084  2021        KOTA CABAR  11/01/2022 17:04:46   \n",
       "1    MAEU3472899  00018  2022  CAP SAN AUGUSTIN  13/01/2022 12:06:51   \n",
       "2    SEKU4346206  00018  2022  CAP SAN AUGUSTIN  13/01/2022 09:15:42   \n",
       "3    MSKU6676148  00115  2022     MAERSK LAVRAS   14-JAN-22 22:01:50   \n",
       "4    PCIU1939117  04924  2021          YM TRUST  10/01/2022 20:46:57   \n",
       "\n",
       "   LACRE_VER_1 LACRE_VER_2 LACRE_VER_3 RLCI_NUMERO  \n",
       "0     P6273539         NaN         NaN   ALT000572  \n",
       "1          NaN         NaN         NaN         NaN  \n",
       "2      2113582         NaN         NaN         NaN  \n",
       "3  MLKR5502319         NaN         NaN   ALT000977  \n",
       "4    SGA564922         NaN         NaN         NaN  "
      ]
     },
     "execution_count": 13,
     "metadata": {},
     "output_type": "execute_result"
    }
   ],
   "source": [
    "pd.set_option('display.max_columns', None)\n",
    "dfi.head()"
   ]
  },
  {
   "cell_type": "code",
   "execution_count": 14,
   "metadata": {},
   "outputs": [
    {
     "name": "stderr",
     "output_type": "stream",
     "text": [
      "<ipython-input-14-8a93a03dd1aa>:3: SettingWithCopyWarning: \n",
      "A value is trying to be set on a copy of a slice from a DataFrame.\n",
      "Try using .loc[row_indexer,col_indexer] = value instead\n",
      "\n",
      "See the caveats in the documentation: https://pandas.pydata.org/pandas-docs/stable/user_guide/indexing.html#returning-a-view-versus-a-copy\n",
      "  df_sbt_i['recinto'] = 'SBT'\n"
     ]
    }
   ],
   "source": [
    "df_sbt_i = dfi[['RECINTO', 'DATA_ABERTURA', 'SETOR', 'MOTIVO']]\n",
    "df_sbt_i.columns = ['recinto', 'abertura', 'orgao', 'motivo']\n",
    "df_sbt_i['recinto'] = 'SBT'\n"
   ]
  },
  {
   "cell_type": "code",
   "execution_count": 15,
   "metadata": {},
   "outputs": [
    {
     "data": {
      "text/plain": [
       "Agricultura              17169\n",
       "Desova Armazém           10574\n",
       "Desova Caminhao           4898\n",
       "ConferÃªncia DRF          4105\n",
       "Desova Armazm             1951\n",
       "Seguradora                 572\n",
       "Conferência DRF            547\n",
       "ExÃ©rcito                  165\n",
       "RFB aÃ§Ãµes especiais       12\n",
       "FumigaÃ§Ã£o                  7\n",
       "Ministerio da SaÃºde         5\n",
       "Exército                     5\n",
       "INMETRO                      3\n",
       "Ministerio da Saúde          1\n",
       "Name: MOTIVO, dtype: int64"
      ]
     },
     "execution_count": 15,
     "metadata": {},
     "output_type": "execute_result"
    }
   ],
   "source": [
    "dfi.MOTIVO.value_counts()"
   ]
  },
  {
   "cell_type": "code",
   "execution_count": 16,
   "metadata": {},
   "outputs": [
    {
     "data": {
      "text/plain": [
       "MAPA       17169\n",
       "DESPACH    16045\n",
       "RFB          547\n",
       "EB             5\n",
       "INMETRO        3\n",
       "Name: SETOR, dtype: int64"
      ]
     },
     "execution_count": 16,
     "metadata": {},
     "output_type": "execute_result"
    }
   ],
   "source": [
    "dfi.SETOR.value_counts()"
   ]
  },
  {
   "cell_type": "code",
   "execution_count": 17,
   "metadata": {},
   "outputs": [],
   "source": [
    "dfe = pd.read_excel('data/relatorio_abertura_SBT_expo.xls').drop_duplicates()"
   ]
  },
  {
   "cell_type": "code",
   "execution_count": 18,
   "metadata": {},
   "outputs": [
    {
     "data": {
      "text/html": [
       "<div>\n",
       "<style scoped>\n",
       "    .dataframe tbody tr th:only-of-type {\n",
       "        vertical-align: middle;\n",
       "    }\n",
       "\n",
       "    .dataframe tbody tr th {\n",
       "        vertical-align: top;\n",
       "    }\n",
       "\n",
       "    .dataframe thead th {\n",
       "        text-align: right;\n",
       "    }\n",
       "</style>\n",
       "<table border=\"1\" class=\"dataframe\">\n",
       "  <thead>\n",
       "    <tr style=\"text-align: right;\">\n",
       "      <th></th>\n",
       "      <th>RECINTO</th>\n",
       "      <th>MOTIVO</th>\n",
       "      <th>SETOR</th>\n",
       "      <th>Documento</th>\n",
       "      <th>Container</th>\n",
       "      <th>NAVIO SEM NOME</th>\n",
       "      <th>Viagem</th>\n",
       "      <th>Lacre Origem</th>\n",
       "      <th>Relacre</th>\n",
       "      <th>DATA_INI</th>\n",
       "      <th>DATA_FIM</th>\n",
       "    </tr>\n",
       "  </thead>\n",
       "  <tbody>\n",
       "    <tr>\n",
       "      <th>0</th>\n",
       "      <td>8931356</td>\n",
       "      <td>Conferência DRF</td>\n",
       "      <td>RFB</td>\n",
       "      <td>22BR0001126723</td>\n",
       "      <td>TGBU4936400</td>\n",
       "      <td>CAP SAN MARCO</td>\n",
       "      <td>22/0181</td>\n",
       "      <td>0011148,0242230,H5843412</td>\n",
       "      <td>ALV000660</td>\n",
       "      <td>2022-02-15 17:02:58</td>\n",
       "      <td>2022-02-15 17:04:31</td>\n",
       "    </tr>\n",
       "    <tr>\n",
       "      <th>1</th>\n",
       "      <td>8931356</td>\n",
       "      <td>Agricultura</td>\n",
       "      <td>MAPA</td>\n",
       "      <td>22BR0003637067</td>\n",
       "      <td>MNBU0386176</td>\n",
       "      <td>CAP SAN ANTONIO</td>\n",
       "      <td>22/0172</td>\n",
       "      <td>0250106,MLBR2432411</td>\n",
       "      <td>ALW000617</td>\n",
       "      <td>2022-03-07 16:42:37</td>\n",
       "      <td>2022-03-07 16:44:19</td>\n",
       "    </tr>\n",
       "    <tr>\n",
       "      <th>2</th>\n",
       "      <td>8931356</td>\n",
       "      <td>Agricultura</td>\n",
       "      <td>MAPA</td>\n",
       "      <td>22BR0003642257</td>\n",
       "      <td>MNBU3144258</td>\n",
       "      <td>CAP SAN ANTONIO</td>\n",
       "      <td>22/0172</td>\n",
       "      <td>0250087,MLBR2379504</td>\n",
       "      <td>MLBR2175925</td>\n",
       "      <td>2022-03-07 16:44:42</td>\n",
       "      <td>2022-03-07 16:45:12</td>\n",
       "    </tr>\n",
       "    <tr>\n",
       "      <th>3</th>\n",
       "      <td>8931356</td>\n",
       "      <td>Agricultura</td>\n",
       "      <td>MAPA</td>\n",
       "      <td>22BR0009763552</td>\n",
       "      <td>MSWU0002822</td>\n",
       "      <td>CAP SAN MARCO</td>\n",
       "      <td>22/0873</td>\n",
       "      <td>001832,0274304,MLBR2628206</td>\n",
       "      <td>AMC000186</td>\n",
       "      <td>2022-06-10 15:52:45</td>\n",
       "      <td>2022-06-10 15:54:30</td>\n",
       "    </tr>\n",
       "    <tr>\n",
       "      <th>4</th>\n",
       "      <td>8931356</td>\n",
       "      <td>Agricultura</td>\n",
       "      <td>MAPA</td>\n",
       "      <td>22BR0009750000</td>\n",
       "      <td>SUDU6770517</td>\n",
       "      <td>CAP SAN MARCO</td>\n",
       "      <td>22/0873</td>\n",
       "      <td>0273242,MLBR2368891</td>\n",
       "      <td>AMC000121</td>\n",
       "      <td>2022-06-10 16:01:33</td>\n",
       "      <td>2022-06-10 16:04:08</td>\n",
       "    </tr>\n",
       "  </tbody>\n",
       "</table>\n",
       "</div>"
      ],
      "text/plain": [
       "   RECINTO           MOTIVO SETOR                                 Documento  \\\n",
       "0  8931356  Conferência DRF   RFB  22BR0001126723                             \n",
       "1  8931356      Agricultura  MAPA  22BR0003637067                             \n",
       "2  8931356      Agricultura  MAPA  22BR0003642257                             \n",
       "3  8931356      Agricultura  MAPA  22BR0009763552                             \n",
       "4  8931356      Agricultura  MAPA  22BR0009750000                             \n",
       "\n",
       "     Container   NAVIO SEM NOME   Viagem                Lacre Origem  \\\n",
       "0  TGBU4936400    CAP SAN MARCO  22/0181    0011148,0242230,H5843412   \n",
       "1  MNBU0386176  CAP SAN ANTONIO  22/0172         0250106,MLBR2432411   \n",
       "2  MNBU3144258  CAP SAN ANTONIO  22/0172         0250087,MLBR2379504   \n",
       "3  MSWU0002822    CAP SAN MARCO  22/0873  001832,0274304,MLBR2628206   \n",
       "4  SUDU6770517    CAP SAN MARCO  22/0873         0273242,MLBR2368891   \n",
       "\n",
       "       Relacre            DATA_INI            DATA_FIM  \n",
       "0    ALV000660 2022-02-15 17:02:58 2022-02-15 17:04:31  \n",
       "1    ALW000617 2022-03-07 16:42:37 2022-03-07 16:44:19  \n",
       "2  MLBR2175925 2022-03-07 16:44:42 2022-03-07 16:45:12  \n",
       "3    AMC000186 2022-06-10 15:52:45 2022-06-10 15:54:30  \n",
       "4    AMC000121 2022-06-10 16:01:33 2022-06-10 16:04:08  "
      ]
     },
     "execution_count": 18,
     "metadata": {},
     "output_type": "execute_result"
    }
   ],
   "source": [
    "dfe.head()"
   ]
  },
  {
   "cell_type": "code",
   "execution_count": 19,
   "metadata": {},
   "outputs": [
    {
     "name": "stderr",
     "output_type": "stream",
     "text": [
      "<ipython-input-19-98df547c099f>:3: SettingWithCopyWarning: \n",
      "A value is trying to be set on a copy of a slice from a DataFrame.\n",
      "Try using .loc[row_indexer,col_indexer] = value instead\n",
      "\n",
      "See the caveats in the documentation: https://pandas.pydata.org/pandas-docs/stable/user_guide/indexing.html#returning-a-view-versus-a-copy\n",
      "  df_sbt_e['recinto'] = 'SBT'\n"
     ]
    }
   ],
   "source": [
    "df_sbt_e = dfe[['RECINTO', 'DATA_INI', 'SETOR', 'MOTIVO']]\n",
    "df_sbt_e.columns = ['recinto', 'abertura', 'orgao', 'motivo']\n",
    "df_sbt_e['recinto'] = 'SBT'"
   ]
  },
  {
   "cell_type": "code",
   "execution_count": 20,
   "metadata": {},
   "outputs": [
    {
     "data": {
      "text/plain": [
       "Agricultura                3213\n",
       "ConferÃªncia DRF            945\n",
       "Conferência DRF             666\n",
       "Verificar Lacre              40\n",
       "Seguradora                   26\n",
       "RFB aÃ§Ãµes especiais         9\n",
       "Ibama                         8\n",
       "Fumigação                     4\n",
       "FumigaÃ§Ã£o                   4\n",
       "ConclusÃ£o de TrÃ¢nsito       2\n",
       "Name: MOTIVO, dtype: int64"
      ]
     },
     "execution_count": 20,
     "metadata": {},
     "output_type": "execute_result"
    }
   ],
   "source": [
    "dfe.MOTIVO.value_counts()"
   ]
  },
  {
   "cell_type": "code",
   "execution_count": 21,
   "metadata": {},
   "outputs": [
    {
     "data": {
      "text/plain": [
       "MAPA       3217\n",
       "RFB         666\n",
       "DESPACH      66\n",
       "IBAMA         8\n",
       "Name: SETOR, dtype: int64"
      ]
     },
     "execution_count": 21,
     "metadata": {},
     "output_type": "execute_result"
    }
   ],
   "source": [
    "dfe.SETOR.value_counts()"
   ]
  },
  {
   "cell_type": "code",
   "execution_count": 22,
   "metadata": {},
   "outputs": [],
   "source": [
    "df_tudo = pd.concat([df_btp, df_dpw, df_sbt_i, df_sbt_e])"
   ]
  },
  {
   "cell_type": "code",
   "execution_count": 23,
   "metadata": {},
   "outputs": [
    {
     "data": {
      "text/html": [
       "<div>\n",
       "<style scoped>\n",
       "    .dataframe tbody tr th:only-of-type {\n",
       "        vertical-align: middle;\n",
       "    }\n",
       "\n",
       "    .dataframe tbody tr th {\n",
       "        vertical-align: top;\n",
       "    }\n",
       "\n",
       "    .dataframe thead th {\n",
       "        text-align: right;\n",
       "    }\n",
       "</style>\n",
       "<table border=\"1\" class=\"dataframe\">\n",
       "  <thead>\n",
       "    <tr style=\"text-align: right;\">\n",
       "      <th></th>\n",
       "      <th>recinto</th>\n",
       "      <th>abertura</th>\n",
       "      <th>orgao</th>\n",
       "      <th>motivo</th>\n",
       "    </tr>\n",
       "  </thead>\n",
       "  <tbody>\n",
       "    <tr>\n",
       "      <th>0</th>\n",
       "      <td>BTP</td>\n",
       "      <td>2022-01-03 08:42:05.999996</td>\n",
       "      <td>RFB</td>\n",
       "      <td>CONFERENCIA *DIREP*</td>\n",
       "    </tr>\n",
       "    <tr>\n",
       "      <th>1</th>\n",
       "      <td>BTP</td>\n",
       "      <td>2022-01-03 08:43:57.000003</td>\n",
       "      <td>RFB</td>\n",
       "      <td>CONFERENCIA *DIREP*</td>\n",
       "    </tr>\n",
       "    <tr>\n",
       "      <th>2</th>\n",
       "      <td>BTP</td>\n",
       "      <td>2022-01-03 08:47:20</td>\n",
       "      <td>RFB</td>\n",
       "      <td>CONFERENCIA *DIREP*</td>\n",
       "    </tr>\n",
       "    <tr>\n",
       "      <th>3</th>\n",
       "      <td>BTP</td>\n",
       "      <td>2022-01-03 12:09:31</td>\n",
       "      <td>RFB</td>\n",
       "      <td>CONFERENCIA FISICA</td>\n",
       "    </tr>\n",
       "    <tr>\n",
       "      <th>4</th>\n",
       "      <td>BTP</td>\n",
       "      <td>2022-01-03 12:24:39.000004</td>\n",
       "      <td>MAPA</td>\n",
       "      <td>INSPEÇÃO MADEIRA</td>\n",
       "    </tr>\n",
       "    <tr>\n",
       "      <th>...</th>\n",
       "      <td>...</td>\n",
       "      <td>...</td>\n",
       "      <td>...</td>\n",
       "      <td>...</td>\n",
       "    </tr>\n",
       "    <tr>\n",
       "      <th>11944</th>\n",
       "      <td>SBT</td>\n",
       "      <td>2022-11-24 15:34:03</td>\n",
       "      <td>MAPA</td>\n",
       "      <td>Agricultura</td>\n",
       "    </tr>\n",
       "    <tr>\n",
       "      <th>11961</th>\n",
       "      <td>SBT</td>\n",
       "      <td>2022-07-05 16:48:11</td>\n",
       "      <td>MAPA</td>\n",
       "      <td>Agricultura</td>\n",
       "    </tr>\n",
       "    <tr>\n",
       "      <th>11963</th>\n",
       "      <td>SBT</td>\n",
       "      <td>2022-07-05 16:53:20</td>\n",
       "      <td>MAPA</td>\n",
       "      <td>Agricultura</td>\n",
       "    </tr>\n",
       "    <tr>\n",
       "      <th>11999</th>\n",
       "      <td>SBT</td>\n",
       "      <td>2022-12-02 16:04:27</td>\n",
       "      <td>MAPA</td>\n",
       "      <td>Agricultura</td>\n",
       "    </tr>\n",
       "    <tr>\n",
       "      <th>12041</th>\n",
       "      <td>SBT</td>\n",
       "      <td>2023-01-20 16:48:04</td>\n",
       "      <td>MAPA</td>\n",
       "      <td>Agricultura</td>\n",
       "    </tr>\n",
       "  </tbody>\n",
       "</table>\n",
       "<p>69230 rows × 4 columns</p>\n",
       "</div>"
      ],
      "text/plain": [
       "      recinto                    abertura orgao               motivo\n",
       "0         BTP  2022-01-03 08:42:05.999996   RFB  CONFERENCIA *DIREP*\n",
       "1         BTP  2022-01-03 08:43:57.000003   RFB  CONFERENCIA *DIREP*\n",
       "2         BTP         2022-01-03 08:47:20   RFB  CONFERENCIA *DIREP*\n",
       "3         BTP         2022-01-03 12:09:31   RFB   CONFERENCIA FISICA\n",
       "4         BTP  2022-01-03 12:24:39.000004  MAPA     INSPEÇÃO MADEIRA\n",
       "...       ...                         ...   ...                  ...\n",
       "11944     SBT         2022-11-24 15:34:03  MAPA          Agricultura\n",
       "11961     SBT         2022-07-05 16:48:11  MAPA          Agricultura\n",
       "11963     SBT         2022-07-05 16:53:20  MAPA          Agricultura\n",
       "11999     SBT         2022-12-02 16:04:27  MAPA          Agricultura\n",
       "12041     SBT         2023-01-20 16:48:04  MAPA          Agricultura\n",
       "\n",
       "[69230 rows x 4 columns]"
      ]
     },
     "execution_count": 23,
     "metadata": {},
     "output_type": "execute_result"
    }
   ],
   "source": [
    "df_tudo"
   ]
  },
  {
   "cell_type": "code",
   "execution_count": 24,
   "metadata": {},
   "outputs": [
    {
     "data": {
      "text/plain": [
       "SBT    44931\n",
       "BTP    12673\n",
       "DPW    11624\n",
       "10         2\n",
       "Name: recinto, dtype: int64"
      ]
     },
     "execution_count": 24,
     "metadata": {},
     "output_type": "execute_result"
    }
   ],
   "source": [
    "df_tudo.recinto.value_counts()"
   ]
  },
  {
   "cell_type": "code",
   "execution_count": 26,
   "metadata": {},
   "outputs": [
    {
     "data": {
      "text/plain": [
       "Agricultura            20382\n",
       "Desova Armazém         10574\n",
       "INSPEÇÃO DE MADEIRA     7107\n",
       "INSPEÇÃO MADEIRA        6743\n",
       "ConferÃªncia DRF        5050\n",
       "Desova Caminhao         4898\n",
       "CONFERENCIA FISICA      3737\n",
       "RETIRADA DE AMOSTRA     2331\n",
       "Desova Armazm           1951\n",
       "Conferência DRF         1213\n",
       "Name: motivo, dtype: int64"
      ]
     },
     "execution_count": 26,
     "metadata": {},
     "output_type": "execute_result"
    }
   ],
   "source": [
    "df_tudo.motivo.value_counts().head(10)"
   ]
  },
  {
   "cell_type": "code",
   "execution_count": 27,
   "metadata": {},
   "outputs": [
    {
     "data": {
      "text/plain": [
       "MAPA          30628\n",
       "DESPACH       16111\n",
       "Mapa           8095\n",
       "RFB            6016\n",
       "DP World        658\n",
       "CLIENTE         224\n",
       "Importador      151\n",
       "Exportador       39\n",
       "Exército         35\n",
       "RFB / Mapa       20\n",
       "Name: orgao, dtype: int64"
      ]
     },
     "execution_count": 27,
     "metadata": {},
     "output_type": "execute_result"
    }
   ],
   "source": [
    "df_tudo.orgao.value_counts().head(10)"
   ]
  },
  {
   "cell_type": "code",
   "execution_count": 29,
   "metadata": {},
   "outputs": [
    {
     "ename": "ProgrammingError",
     "evalue": "(pymysql.err.ProgrammingError) (1146, \"Table 'dbmercante.book' doesn't exist\")\n[SQL: SELECT * FROM book]\n(Background on this error at: http://sqlalche.me/e/13/f405)",
     "output_type": "error",
     "traceback": [
      "\u001b[1;31m---------------------------------------------------------------------------\u001b[0m",
      "\u001b[1;31mProgrammingError\u001b[0m                          Traceback (most recent call last)",
      "\u001b[1;32m~\\Anaconda3\\lib\\site-packages\\sqlalchemy\\engine\\base.py\u001b[0m in \u001b[0;36m_execute_context\u001b[1;34m(self, dialect, constructor, statement, parameters, *args)\u001b[0m\n\u001b[0;32m   1275\u001b[0m                 \u001b[1;32mif\u001b[0m \u001b[1;32mnot\u001b[0m \u001b[0mevt_handled\u001b[0m\u001b[1;33m:\u001b[0m\u001b[1;33m\u001b[0m\u001b[1;33m\u001b[0m\u001b[0m\n\u001b[1;32m-> 1276\u001b[1;33m                     self.dialect.do_execute(\n\u001b[0m\u001b[0;32m   1277\u001b[0m                         \u001b[0mcursor\u001b[0m\u001b[1;33m,\u001b[0m \u001b[0mstatement\u001b[0m\u001b[1;33m,\u001b[0m \u001b[0mparameters\u001b[0m\u001b[1;33m,\u001b[0m \u001b[0mcontext\u001b[0m\u001b[1;33m\u001b[0m\u001b[1;33m\u001b[0m\u001b[0m\n",
      "\u001b[1;32m~\\Anaconda3\\lib\\site-packages\\sqlalchemy\\engine\\default.py\u001b[0m in \u001b[0;36mdo_execute\u001b[1;34m(self, cursor, statement, parameters, context)\u001b[0m\n\u001b[0;32m    607\u001b[0m     \u001b[1;32mdef\u001b[0m \u001b[0mdo_execute\u001b[0m\u001b[1;33m(\u001b[0m\u001b[0mself\u001b[0m\u001b[1;33m,\u001b[0m \u001b[0mcursor\u001b[0m\u001b[1;33m,\u001b[0m \u001b[0mstatement\u001b[0m\u001b[1;33m,\u001b[0m \u001b[0mparameters\u001b[0m\u001b[1;33m,\u001b[0m \u001b[0mcontext\u001b[0m\u001b[1;33m=\u001b[0m\u001b[1;32mNone\u001b[0m\u001b[1;33m)\u001b[0m\u001b[1;33m:\u001b[0m\u001b[1;33m\u001b[0m\u001b[1;33m\u001b[0m\u001b[0m\n\u001b[1;32m--> 608\u001b[1;33m         \u001b[0mcursor\u001b[0m\u001b[1;33m.\u001b[0m\u001b[0mexecute\u001b[0m\u001b[1;33m(\u001b[0m\u001b[0mstatement\u001b[0m\u001b[1;33m,\u001b[0m \u001b[0mparameters\u001b[0m\u001b[1;33m)\u001b[0m\u001b[1;33m\u001b[0m\u001b[1;33m\u001b[0m\u001b[0m\n\u001b[0m\u001b[0;32m    609\u001b[0m \u001b[1;33m\u001b[0m\u001b[0m\n",
      "\u001b[1;32m~\\Anaconda3\\lib\\site-packages\\pymysql\\cursors.py\u001b[0m in \u001b[0;36mexecute\u001b[1;34m(self, query, args)\u001b[0m\n\u001b[0;32m    147\u001b[0m \u001b[1;33m\u001b[0m\u001b[0m\n\u001b[1;32m--> 148\u001b[1;33m         \u001b[0mresult\u001b[0m \u001b[1;33m=\u001b[0m \u001b[0mself\u001b[0m\u001b[1;33m.\u001b[0m\u001b[0m_query\u001b[0m\u001b[1;33m(\u001b[0m\u001b[0mquery\u001b[0m\u001b[1;33m)\u001b[0m\u001b[1;33m\u001b[0m\u001b[1;33m\u001b[0m\u001b[0m\n\u001b[0m\u001b[0;32m    149\u001b[0m         \u001b[0mself\u001b[0m\u001b[1;33m.\u001b[0m\u001b[0m_executed\u001b[0m \u001b[1;33m=\u001b[0m \u001b[0mquery\u001b[0m\u001b[1;33m\u001b[0m\u001b[1;33m\u001b[0m\u001b[0m\n",
      "\u001b[1;32m~\\Anaconda3\\lib\\site-packages\\pymysql\\cursors.py\u001b[0m in \u001b[0;36m_query\u001b[1;34m(self, q)\u001b[0m\n\u001b[0;32m    309\u001b[0m         \u001b[0mself\u001b[0m\u001b[1;33m.\u001b[0m\u001b[0m_clear_result\u001b[0m\u001b[1;33m(\u001b[0m\u001b[1;33m)\u001b[0m\u001b[1;33m\u001b[0m\u001b[1;33m\u001b[0m\u001b[0m\n\u001b[1;32m--> 310\u001b[1;33m         \u001b[0mconn\u001b[0m\u001b[1;33m.\u001b[0m\u001b[0mquery\u001b[0m\u001b[1;33m(\u001b[0m\u001b[0mq\u001b[0m\u001b[1;33m)\u001b[0m\u001b[1;33m\u001b[0m\u001b[1;33m\u001b[0m\u001b[0m\n\u001b[0m\u001b[0;32m    311\u001b[0m         \u001b[0mself\u001b[0m\u001b[1;33m.\u001b[0m\u001b[0m_do_get_result\u001b[0m\u001b[1;33m(\u001b[0m\u001b[1;33m)\u001b[0m\u001b[1;33m\u001b[0m\u001b[1;33m\u001b[0m\u001b[0m\n",
      "\u001b[1;32m~\\Anaconda3\\lib\\site-packages\\pymysql\\connections.py\u001b[0m in \u001b[0;36mquery\u001b[1;34m(self, sql, unbuffered)\u001b[0m\n\u001b[0;32m    547\u001b[0m         \u001b[0mself\u001b[0m\u001b[1;33m.\u001b[0m\u001b[0m_execute_command\u001b[0m\u001b[1;33m(\u001b[0m\u001b[0mCOMMAND\u001b[0m\u001b[1;33m.\u001b[0m\u001b[0mCOM_QUERY\u001b[0m\u001b[1;33m,\u001b[0m \u001b[0msql\u001b[0m\u001b[1;33m)\u001b[0m\u001b[1;33m\u001b[0m\u001b[1;33m\u001b[0m\u001b[0m\n\u001b[1;32m--> 548\u001b[1;33m         \u001b[0mself\u001b[0m\u001b[1;33m.\u001b[0m\u001b[0m_affected_rows\u001b[0m \u001b[1;33m=\u001b[0m \u001b[0mself\u001b[0m\u001b[1;33m.\u001b[0m\u001b[0m_read_query_result\u001b[0m\u001b[1;33m(\u001b[0m\u001b[0munbuffered\u001b[0m\u001b[1;33m=\u001b[0m\u001b[0munbuffered\u001b[0m\u001b[1;33m)\u001b[0m\u001b[1;33m\u001b[0m\u001b[1;33m\u001b[0m\u001b[0m\n\u001b[0m\u001b[0;32m    549\u001b[0m         \u001b[1;32mreturn\u001b[0m \u001b[0mself\u001b[0m\u001b[1;33m.\u001b[0m\u001b[0m_affected_rows\u001b[0m\u001b[1;33m\u001b[0m\u001b[1;33m\u001b[0m\u001b[0m\n",
      "\u001b[1;32m~\\Anaconda3\\lib\\site-packages\\pymysql\\connections.py\u001b[0m in \u001b[0;36m_read_query_result\u001b[1;34m(self, unbuffered)\u001b[0m\n\u001b[0;32m    774\u001b[0m             \u001b[0mresult\u001b[0m \u001b[1;33m=\u001b[0m \u001b[0mMySQLResult\u001b[0m\u001b[1;33m(\u001b[0m\u001b[0mself\u001b[0m\u001b[1;33m)\u001b[0m\u001b[1;33m\u001b[0m\u001b[1;33m\u001b[0m\u001b[0m\n\u001b[1;32m--> 775\u001b[1;33m             \u001b[0mresult\u001b[0m\u001b[1;33m.\u001b[0m\u001b[0mread\u001b[0m\u001b[1;33m(\u001b[0m\u001b[1;33m)\u001b[0m\u001b[1;33m\u001b[0m\u001b[1;33m\u001b[0m\u001b[0m\n\u001b[0m\u001b[0;32m    776\u001b[0m         \u001b[0mself\u001b[0m\u001b[1;33m.\u001b[0m\u001b[0m_result\u001b[0m \u001b[1;33m=\u001b[0m \u001b[0mresult\u001b[0m\u001b[1;33m\u001b[0m\u001b[1;33m\u001b[0m\u001b[0m\n",
      "\u001b[1;32m~\\Anaconda3\\lib\\site-packages\\pymysql\\connections.py\u001b[0m in \u001b[0;36mread\u001b[1;34m(self)\u001b[0m\n\u001b[0;32m   1155\u001b[0m         \u001b[1;32mtry\u001b[0m\u001b[1;33m:\u001b[0m\u001b[1;33m\u001b[0m\u001b[1;33m\u001b[0m\u001b[0m\n\u001b[1;32m-> 1156\u001b[1;33m             \u001b[0mfirst_packet\u001b[0m \u001b[1;33m=\u001b[0m \u001b[0mself\u001b[0m\u001b[1;33m.\u001b[0m\u001b[0mconnection\u001b[0m\u001b[1;33m.\u001b[0m\u001b[0m_read_packet\u001b[0m\u001b[1;33m(\u001b[0m\u001b[1;33m)\u001b[0m\u001b[1;33m\u001b[0m\u001b[1;33m\u001b[0m\u001b[0m\n\u001b[0m\u001b[0;32m   1157\u001b[0m \u001b[1;33m\u001b[0m\u001b[0m\n",
      "\u001b[1;32m~\\Anaconda3\\lib\\site-packages\\pymysql\\connections.py\u001b[0m in \u001b[0;36m_read_packet\u001b[1;34m(self, packet_type)\u001b[0m\n\u001b[0;32m    724\u001b[0m                 \u001b[0mself\u001b[0m\u001b[1;33m.\u001b[0m\u001b[0m_result\u001b[0m\u001b[1;33m.\u001b[0m\u001b[0munbuffered_active\u001b[0m \u001b[1;33m=\u001b[0m \u001b[1;32mFalse\u001b[0m\u001b[1;33m\u001b[0m\u001b[1;33m\u001b[0m\u001b[0m\n\u001b[1;32m--> 725\u001b[1;33m             \u001b[0mpacket\u001b[0m\u001b[1;33m.\u001b[0m\u001b[0mraise_for_error\u001b[0m\u001b[1;33m(\u001b[0m\u001b[1;33m)\u001b[0m\u001b[1;33m\u001b[0m\u001b[1;33m\u001b[0m\u001b[0m\n\u001b[0m\u001b[0;32m    726\u001b[0m         \u001b[1;32mreturn\u001b[0m \u001b[0mpacket\u001b[0m\u001b[1;33m\u001b[0m\u001b[1;33m\u001b[0m\u001b[0m\n",
      "\u001b[1;32m~\\Anaconda3\\lib\\site-packages\\pymysql\\protocol.py\u001b[0m in \u001b[0;36mraise_for_error\u001b[1;34m(self)\u001b[0m\n\u001b[0;32m    220\u001b[0m             \u001b[0mprint\u001b[0m\u001b[1;33m(\u001b[0m\u001b[1;34m\"errno =\"\u001b[0m\u001b[1;33m,\u001b[0m \u001b[0merrno\u001b[0m\u001b[1;33m)\u001b[0m\u001b[1;33m\u001b[0m\u001b[1;33m\u001b[0m\u001b[0m\n\u001b[1;32m--> 221\u001b[1;33m         \u001b[0merr\u001b[0m\u001b[1;33m.\u001b[0m\u001b[0mraise_mysql_exception\u001b[0m\u001b[1;33m(\u001b[0m\u001b[0mself\u001b[0m\u001b[1;33m.\u001b[0m\u001b[0m_data\u001b[0m\u001b[1;33m)\u001b[0m\u001b[1;33m\u001b[0m\u001b[1;33m\u001b[0m\u001b[0m\n\u001b[0m\u001b[0;32m    222\u001b[0m \u001b[1;33m\u001b[0m\u001b[0m\n",
      "\u001b[1;32m~\\Anaconda3\\lib\\site-packages\\pymysql\\err.py\u001b[0m in \u001b[0;36mraise_mysql_exception\u001b[1;34m(data)\u001b[0m\n\u001b[0;32m    142\u001b[0m         \u001b[0merrorclass\u001b[0m \u001b[1;33m=\u001b[0m \u001b[0mInternalError\u001b[0m \u001b[1;32mif\u001b[0m \u001b[0merrno\u001b[0m \u001b[1;33m<\u001b[0m \u001b[1;36m1000\u001b[0m \u001b[1;32melse\u001b[0m \u001b[0mOperationalError\u001b[0m\u001b[1;33m\u001b[0m\u001b[1;33m\u001b[0m\u001b[0m\n\u001b[1;32m--> 143\u001b[1;33m     \u001b[1;32mraise\u001b[0m \u001b[0merrorclass\u001b[0m\u001b[1;33m(\u001b[0m\u001b[0merrno\u001b[0m\u001b[1;33m,\u001b[0m \u001b[0merrval\u001b[0m\u001b[1;33m)\u001b[0m\u001b[1;33m\u001b[0m\u001b[1;33m\u001b[0m\u001b[0m\n\u001b[0m",
      "\u001b[1;31mProgrammingError\u001b[0m: (1146, \"Table 'dbmercante.book' doesn't exist\")",
      "\nThe above exception was the direct cause of the following exception:\n",
      "\u001b[1;31mProgrammingError\u001b[0m                          Traceback (most recent call last)",
      "\u001b[1;32m<ipython-input-29-a885542cfed0>\u001b[0m in \u001b[0;36m<module>\u001b[1;34m\u001b[0m\n\u001b[0;32m      1\u001b[0m \u001b[1;32mwith\u001b[0m \u001b[0mengine\u001b[0m\u001b[1;33m.\u001b[0m\u001b[0mconnect\u001b[0m\u001b[1;33m(\u001b[0m\u001b[1;33m)\u001b[0m \u001b[1;32mas\u001b[0m \u001b[0mcon\u001b[0m\u001b[1;33m:\u001b[0m\u001b[1;33m\u001b[0m\u001b[1;33m\u001b[0m\u001b[0m\n\u001b[0;32m      2\u001b[0m \u001b[1;33m\u001b[0m\u001b[0m\n\u001b[1;32m----> 3\u001b[1;33m     \u001b[0mrs\u001b[0m \u001b[1;33m=\u001b[0m \u001b[0mcon\u001b[0m\u001b[1;33m.\u001b[0m\u001b[0mexecute\u001b[0m\u001b[1;33m(\u001b[0m\u001b[1;34m'SELECT * FROM book'\u001b[0m\u001b[1;33m)\u001b[0m\u001b[1;33m\u001b[0m\u001b[1;33m\u001b[0m\u001b[0m\n\u001b[0m\u001b[0;32m      4\u001b[0m \u001b[1;33m\u001b[0m\u001b[0m\n\u001b[0;32m      5\u001b[0m     \u001b[1;32mfor\u001b[0m \u001b[0mrow\u001b[0m \u001b[1;32min\u001b[0m \u001b[0mrs\u001b[0m\u001b[1;33m:\u001b[0m\u001b[1;33m\u001b[0m\u001b[1;33m\u001b[0m\u001b[0m\n",
      "\u001b[1;32m~\\Anaconda3\\lib\\site-packages\\sqlalchemy\\engine\\base.py\u001b[0m in \u001b[0;36mexecute\u001b[1;34m(self, object_, *multiparams, **params)\u001b[0m\n\u001b[0;32m   1001\u001b[0m         \"\"\"\n\u001b[0;32m   1002\u001b[0m         \u001b[1;32mif\u001b[0m \u001b[0misinstance\u001b[0m\u001b[1;33m(\u001b[0m\u001b[0mobject_\u001b[0m\u001b[1;33m,\u001b[0m \u001b[0mutil\u001b[0m\u001b[1;33m.\u001b[0m\u001b[0mstring_types\u001b[0m\u001b[1;33m[\u001b[0m\u001b[1;36m0\u001b[0m\u001b[1;33m]\u001b[0m\u001b[1;33m)\u001b[0m\u001b[1;33m:\u001b[0m\u001b[1;33m\u001b[0m\u001b[1;33m\u001b[0m\u001b[0m\n\u001b[1;32m-> 1003\u001b[1;33m             \u001b[1;32mreturn\u001b[0m \u001b[0mself\u001b[0m\u001b[1;33m.\u001b[0m\u001b[0m_execute_text\u001b[0m\u001b[1;33m(\u001b[0m\u001b[0mobject_\u001b[0m\u001b[1;33m,\u001b[0m \u001b[0mmultiparams\u001b[0m\u001b[1;33m,\u001b[0m \u001b[0mparams\u001b[0m\u001b[1;33m)\u001b[0m\u001b[1;33m\u001b[0m\u001b[1;33m\u001b[0m\u001b[0m\n\u001b[0m\u001b[0;32m   1004\u001b[0m         \u001b[1;32mtry\u001b[0m\u001b[1;33m:\u001b[0m\u001b[1;33m\u001b[0m\u001b[1;33m\u001b[0m\u001b[0m\n\u001b[0;32m   1005\u001b[0m             \u001b[0mmeth\u001b[0m \u001b[1;33m=\u001b[0m \u001b[0mobject_\u001b[0m\u001b[1;33m.\u001b[0m\u001b[0m_execute_on_connection\u001b[0m\u001b[1;33m\u001b[0m\u001b[1;33m\u001b[0m\u001b[0m\n",
      "\u001b[1;32m~\\Anaconda3\\lib\\site-packages\\sqlalchemy\\engine\\base.py\u001b[0m in \u001b[0;36m_execute_text\u001b[1;34m(self, statement, multiparams, params)\u001b[0m\n\u001b[0;32m   1170\u001b[0m         \u001b[0mdialect\u001b[0m \u001b[1;33m=\u001b[0m \u001b[0mself\u001b[0m\u001b[1;33m.\u001b[0m\u001b[0mdialect\u001b[0m\u001b[1;33m\u001b[0m\u001b[1;33m\u001b[0m\u001b[0m\n\u001b[0;32m   1171\u001b[0m         \u001b[0mparameters\u001b[0m \u001b[1;33m=\u001b[0m \u001b[0m_distill_params\u001b[0m\u001b[1;33m(\u001b[0m\u001b[0mmultiparams\u001b[0m\u001b[1;33m,\u001b[0m \u001b[0mparams\u001b[0m\u001b[1;33m)\u001b[0m\u001b[1;33m\u001b[0m\u001b[1;33m\u001b[0m\u001b[0m\n\u001b[1;32m-> 1172\u001b[1;33m         ret = self._execute_context(\n\u001b[0m\u001b[0;32m   1173\u001b[0m             \u001b[0mdialect\u001b[0m\u001b[1;33m,\u001b[0m\u001b[1;33m\u001b[0m\u001b[1;33m\u001b[0m\u001b[0m\n\u001b[0;32m   1174\u001b[0m             \u001b[0mdialect\u001b[0m\u001b[1;33m.\u001b[0m\u001b[0mexecution_ctx_cls\u001b[0m\u001b[1;33m.\u001b[0m\u001b[0m_init_statement\u001b[0m\u001b[1;33m,\u001b[0m\u001b[1;33m\u001b[0m\u001b[1;33m\u001b[0m\u001b[0m\n",
      "\u001b[1;32m~\\Anaconda3\\lib\\site-packages\\sqlalchemy\\engine\\base.py\u001b[0m in \u001b[0;36m_execute_context\u001b[1;34m(self, dialect, constructor, statement, parameters, *args)\u001b[0m\n\u001b[0;32m   1314\u001b[0m \u001b[1;33m\u001b[0m\u001b[0m\n\u001b[0;32m   1315\u001b[0m         \u001b[1;32mexcept\u001b[0m \u001b[0mBaseException\u001b[0m \u001b[1;32mas\u001b[0m \u001b[0me\u001b[0m\u001b[1;33m:\u001b[0m\u001b[1;33m\u001b[0m\u001b[1;33m\u001b[0m\u001b[0m\n\u001b[1;32m-> 1316\u001b[1;33m             self._handle_dbapi_exception(\n\u001b[0m\u001b[0;32m   1317\u001b[0m                 \u001b[0me\u001b[0m\u001b[1;33m,\u001b[0m \u001b[0mstatement\u001b[0m\u001b[1;33m,\u001b[0m \u001b[0mparameters\u001b[0m\u001b[1;33m,\u001b[0m \u001b[0mcursor\u001b[0m\u001b[1;33m,\u001b[0m \u001b[0mcontext\u001b[0m\u001b[1;33m\u001b[0m\u001b[1;33m\u001b[0m\u001b[0m\n\u001b[0;32m   1318\u001b[0m             )\n",
      "\u001b[1;32m~\\Anaconda3\\lib\\site-packages\\sqlalchemy\\engine\\base.py\u001b[0m in \u001b[0;36m_handle_dbapi_exception\u001b[1;34m(self, e, statement, parameters, cursor, context)\u001b[0m\n\u001b[0;32m   1508\u001b[0m                 \u001b[0mutil\u001b[0m\u001b[1;33m.\u001b[0m\u001b[0mraise_\u001b[0m\u001b[1;33m(\u001b[0m\u001b[0mnewraise\u001b[0m\u001b[1;33m,\u001b[0m \u001b[0mwith_traceback\u001b[0m\u001b[1;33m=\u001b[0m\u001b[0mexc_info\u001b[0m\u001b[1;33m[\u001b[0m\u001b[1;36m2\u001b[0m\u001b[1;33m]\u001b[0m\u001b[1;33m,\u001b[0m \u001b[0mfrom_\u001b[0m\u001b[1;33m=\u001b[0m\u001b[0me\u001b[0m\u001b[1;33m)\u001b[0m\u001b[1;33m\u001b[0m\u001b[1;33m\u001b[0m\u001b[0m\n\u001b[0;32m   1509\u001b[0m             \u001b[1;32melif\u001b[0m \u001b[0mshould_wrap\u001b[0m\u001b[1;33m:\u001b[0m\u001b[1;33m\u001b[0m\u001b[1;33m\u001b[0m\u001b[0m\n\u001b[1;32m-> 1510\u001b[1;33m                 util.raise_(\n\u001b[0m\u001b[0;32m   1511\u001b[0m                     \u001b[0msqlalchemy_exception\u001b[0m\u001b[1;33m,\u001b[0m \u001b[0mwith_traceback\u001b[0m\u001b[1;33m=\u001b[0m\u001b[0mexc_info\u001b[0m\u001b[1;33m[\u001b[0m\u001b[1;36m2\u001b[0m\u001b[1;33m]\u001b[0m\u001b[1;33m,\u001b[0m \u001b[0mfrom_\u001b[0m\u001b[1;33m=\u001b[0m\u001b[0me\u001b[0m\u001b[1;33m\u001b[0m\u001b[1;33m\u001b[0m\u001b[0m\n\u001b[0;32m   1512\u001b[0m                 )\n",
      "\u001b[1;32m~\\Anaconda3\\lib\\site-packages\\sqlalchemy\\util\\compat.py\u001b[0m in \u001b[0;36mraise_\u001b[1;34m(***failed resolving arguments***)\u001b[0m\n\u001b[0;32m    180\u001b[0m \u001b[1;33m\u001b[0m\u001b[0m\n\u001b[0;32m    181\u001b[0m         \u001b[1;32mtry\u001b[0m\u001b[1;33m:\u001b[0m\u001b[1;33m\u001b[0m\u001b[1;33m\u001b[0m\u001b[0m\n\u001b[1;32m--> 182\u001b[1;33m             \u001b[1;32mraise\u001b[0m \u001b[0mexception\u001b[0m\u001b[1;33m\u001b[0m\u001b[1;33m\u001b[0m\u001b[0m\n\u001b[0m\u001b[0;32m    183\u001b[0m         \u001b[1;32mfinally\u001b[0m\u001b[1;33m:\u001b[0m\u001b[1;33m\u001b[0m\u001b[1;33m\u001b[0m\u001b[0m\n\u001b[0;32m    184\u001b[0m             \u001b[1;31m# credit to\u001b[0m\u001b[1;33m\u001b[0m\u001b[1;33m\u001b[0m\u001b[1;33m\u001b[0m\u001b[0m\n",
      "\u001b[1;32m~\\Anaconda3\\lib\\site-packages\\sqlalchemy\\engine\\base.py\u001b[0m in \u001b[0;36m_execute_context\u001b[1;34m(self, dialect, constructor, statement, parameters, *args)\u001b[0m\n\u001b[0;32m   1274\u001b[0m                             \u001b[1;32mbreak\u001b[0m\u001b[1;33m\u001b[0m\u001b[1;33m\u001b[0m\u001b[0m\n\u001b[0;32m   1275\u001b[0m                 \u001b[1;32mif\u001b[0m \u001b[1;32mnot\u001b[0m \u001b[0mevt_handled\u001b[0m\u001b[1;33m:\u001b[0m\u001b[1;33m\u001b[0m\u001b[1;33m\u001b[0m\u001b[0m\n\u001b[1;32m-> 1276\u001b[1;33m                     self.dialect.do_execute(\n\u001b[0m\u001b[0;32m   1277\u001b[0m                         \u001b[0mcursor\u001b[0m\u001b[1;33m,\u001b[0m \u001b[0mstatement\u001b[0m\u001b[1;33m,\u001b[0m \u001b[0mparameters\u001b[0m\u001b[1;33m,\u001b[0m \u001b[0mcontext\u001b[0m\u001b[1;33m\u001b[0m\u001b[1;33m\u001b[0m\u001b[0m\n\u001b[0;32m   1278\u001b[0m                     )\n",
      "\u001b[1;32m~\\Anaconda3\\lib\\site-packages\\sqlalchemy\\engine\\default.py\u001b[0m in \u001b[0;36mdo_execute\u001b[1;34m(self, cursor, statement, parameters, context)\u001b[0m\n\u001b[0;32m    606\u001b[0m \u001b[1;33m\u001b[0m\u001b[0m\n\u001b[0;32m    607\u001b[0m     \u001b[1;32mdef\u001b[0m \u001b[0mdo_execute\u001b[0m\u001b[1;33m(\u001b[0m\u001b[0mself\u001b[0m\u001b[1;33m,\u001b[0m \u001b[0mcursor\u001b[0m\u001b[1;33m,\u001b[0m \u001b[0mstatement\u001b[0m\u001b[1;33m,\u001b[0m \u001b[0mparameters\u001b[0m\u001b[1;33m,\u001b[0m \u001b[0mcontext\u001b[0m\u001b[1;33m=\u001b[0m\u001b[1;32mNone\u001b[0m\u001b[1;33m)\u001b[0m\u001b[1;33m:\u001b[0m\u001b[1;33m\u001b[0m\u001b[1;33m\u001b[0m\u001b[0m\n\u001b[1;32m--> 608\u001b[1;33m         \u001b[0mcursor\u001b[0m\u001b[1;33m.\u001b[0m\u001b[0mexecute\u001b[0m\u001b[1;33m(\u001b[0m\u001b[0mstatement\u001b[0m\u001b[1;33m,\u001b[0m \u001b[0mparameters\u001b[0m\u001b[1;33m)\u001b[0m\u001b[1;33m\u001b[0m\u001b[1;33m\u001b[0m\u001b[0m\n\u001b[0m\u001b[0;32m    609\u001b[0m \u001b[1;33m\u001b[0m\u001b[0m\n\u001b[0;32m    610\u001b[0m     \u001b[1;32mdef\u001b[0m \u001b[0mdo_execute_no_params\u001b[0m\u001b[1;33m(\u001b[0m\u001b[0mself\u001b[0m\u001b[1;33m,\u001b[0m \u001b[0mcursor\u001b[0m\u001b[1;33m,\u001b[0m \u001b[0mstatement\u001b[0m\u001b[1;33m,\u001b[0m \u001b[0mcontext\u001b[0m\u001b[1;33m=\u001b[0m\u001b[1;32mNone\u001b[0m\u001b[1;33m)\u001b[0m\u001b[1;33m:\u001b[0m\u001b[1;33m\u001b[0m\u001b[1;33m\u001b[0m\u001b[0m\n",
      "\u001b[1;32m~\\Anaconda3\\lib\\site-packages\\pymysql\\cursors.py\u001b[0m in \u001b[0;36mexecute\u001b[1;34m(self, query, args)\u001b[0m\n\u001b[0;32m    146\u001b[0m         \u001b[0mquery\u001b[0m \u001b[1;33m=\u001b[0m \u001b[0mself\u001b[0m\u001b[1;33m.\u001b[0m\u001b[0mmogrify\u001b[0m\u001b[1;33m(\u001b[0m\u001b[0mquery\u001b[0m\u001b[1;33m,\u001b[0m \u001b[0margs\u001b[0m\u001b[1;33m)\u001b[0m\u001b[1;33m\u001b[0m\u001b[1;33m\u001b[0m\u001b[0m\n\u001b[0;32m    147\u001b[0m \u001b[1;33m\u001b[0m\u001b[0m\n\u001b[1;32m--> 148\u001b[1;33m         \u001b[0mresult\u001b[0m \u001b[1;33m=\u001b[0m \u001b[0mself\u001b[0m\u001b[1;33m.\u001b[0m\u001b[0m_query\u001b[0m\u001b[1;33m(\u001b[0m\u001b[0mquery\u001b[0m\u001b[1;33m)\u001b[0m\u001b[1;33m\u001b[0m\u001b[1;33m\u001b[0m\u001b[0m\n\u001b[0m\u001b[0;32m    149\u001b[0m         \u001b[0mself\u001b[0m\u001b[1;33m.\u001b[0m\u001b[0m_executed\u001b[0m \u001b[1;33m=\u001b[0m \u001b[0mquery\u001b[0m\u001b[1;33m\u001b[0m\u001b[1;33m\u001b[0m\u001b[0m\n\u001b[0;32m    150\u001b[0m         \u001b[1;32mreturn\u001b[0m \u001b[0mresult\u001b[0m\u001b[1;33m\u001b[0m\u001b[1;33m\u001b[0m\u001b[0m\n",
      "\u001b[1;32m~\\Anaconda3\\lib\\site-packages\\pymysql\\cursors.py\u001b[0m in \u001b[0;36m_query\u001b[1;34m(self, q)\u001b[0m\n\u001b[0;32m    308\u001b[0m         \u001b[0mself\u001b[0m\u001b[1;33m.\u001b[0m\u001b[0m_last_executed\u001b[0m \u001b[1;33m=\u001b[0m \u001b[0mq\u001b[0m\u001b[1;33m\u001b[0m\u001b[1;33m\u001b[0m\u001b[0m\n\u001b[0;32m    309\u001b[0m         \u001b[0mself\u001b[0m\u001b[1;33m.\u001b[0m\u001b[0m_clear_result\u001b[0m\u001b[1;33m(\u001b[0m\u001b[1;33m)\u001b[0m\u001b[1;33m\u001b[0m\u001b[1;33m\u001b[0m\u001b[0m\n\u001b[1;32m--> 310\u001b[1;33m         \u001b[0mconn\u001b[0m\u001b[1;33m.\u001b[0m\u001b[0mquery\u001b[0m\u001b[1;33m(\u001b[0m\u001b[0mq\u001b[0m\u001b[1;33m)\u001b[0m\u001b[1;33m\u001b[0m\u001b[1;33m\u001b[0m\u001b[0m\n\u001b[0m\u001b[0;32m    311\u001b[0m         \u001b[0mself\u001b[0m\u001b[1;33m.\u001b[0m\u001b[0m_do_get_result\u001b[0m\u001b[1;33m(\u001b[0m\u001b[1;33m)\u001b[0m\u001b[1;33m\u001b[0m\u001b[1;33m\u001b[0m\u001b[0m\n\u001b[0;32m    312\u001b[0m         \u001b[1;32mreturn\u001b[0m \u001b[0mself\u001b[0m\u001b[1;33m.\u001b[0m\u001b[0mrowcount\u001b[0m\u001b[1;33m\u001b[0m\u001b[1;33m\u001b[0m\u001b[0m\n",
      "\u001b[1;32m~\\Anaconda3\\lib\\site-packages\\pymysql\\connections.py\u001b[0m in \u001b[0;36mquery\u001b[1;34m(self, sql, unbuffered)\u001b[0m\n\u001b[0;32m    546\u001b[0m             \u001b[0msql\u001b[0m \u001b[1;33m=\u001b[0m \u001b[0msql\u001b[0m\u001b[1;33m.\u001b[0m\u001b[0mencode\u001b[0m\u001b[1;33m(\u001b[0m\u001b[0mself\u001b[0m\u001b[1;33m.\u001b[0m\u001b[0mencoding\u001b[0m\u001b[1;33m,\u001b[0m \u001b[1;34m\"surrogateescape\"\u001b[0m\u001b[1;33m)\u001b[0m\u001b[1;33m\u001b[0m\u001b[1;33m\u001b[0m\u001b[0m\n\u001b[0;32m    547\u001b[0m         \u001b[0mself\u001b[0m\u001b[1;33m.\u001b[0m\u001b[0m_execute_command\u001b[0m\u001b[1;33m(\u001b[0m\u001b[0mCOMMAND\u001b[0m\u001b[1;33m.\u001b[0m\u001b[0mCOM_QUERY\u001b[0m\u001b[1;33m,\u001b[0m \u001b[0msql\u001b[0m\u001b[1;33m)\u001b[0m\u001b[1;33m\u001b[0m\u001b[1;33m\u001b[0m\u001b[0m\n\u001b[1;32m--> 548\u001b[1;33m         \u001b[0mself\u001b[0m\u001b[1;33m.\u001b[0m\u001b[0m_affected_rows\u001b[0m \u001b[1;33m=\u001b[0m \u001b[0mself\u001b[0m\u001b[1;33m.\u001b[0m\u001b[0m_read_query_result\u001b[0m\u001b[1;33m(\u001b[0m\u001b[0munbuffered\u001b[0m\u001b[1;33m=\u001b[0m\u001b[0munbuffered\u001b[0m\u001b[1;33m)\u001b[0m\u001b[1;33m\u001b[0m\u001b[1;33m\u001b[0m\u001b[0m\n\u001b[0m\u001b[0;32m    549\u001b[0m         \u001b[1;32mreturn\u001b[0m \u001b[0mself\u001b[0m\u001b[1;33m.\u001b[0m\u001b[0m_affected_rows\u001b[0m\u001b[1;33m\u001b[0m\u001b[1;33m\u001b[0m\u001b[0m\n\u001b[0;32m    550\u001b[0m \u001b[1;33m\u001b[0m\u001b[0m\n",
      "\u001b[1;32m~\\Anaconda3\\lib\\site-packages\\pymysql\\connections.py\u001b[0m in \u001b[0;36m_read_query_result\u001b[1;34m(self, unbuffered)\u001b[0m\n\u001b[0;32m    773\u001b[0m         \u001b[1;32melse\u001b[0m\u001b[1;33m:\u001b[0m\u001b[1;33m\u001b[0m\u001b[1;33m\u001b[0m\u001b[0m\n\u001b[0;32m    774\u001b[0m             \u001b[0mresult\u001b[0m \u001b[1;33m=\u001b[0m \u001b[0mMySQLResult\u001b[0m\u001b[1;33m(\u001b[0m\u001b[0mself\u001b[0m\u001b[1;33m)\u001b[0m\u001b[1;33m\u001b[0m\u001b[1;33m\u001b[0m\u001b[0m\n\u001b[1;32m--> 775\u001b[1;33m             \u001b[0mresult\u001b[0m\u001b[1;33m.\u001b[0m\u001b[0mread\u001b[0m\u001b[1;33m(\u001b[0m\u001b[1;33m)\u001b[0m\u001b[1;33m\u001b[0m\u001b[1;33m\u001b[0m\u001b[0m\n\u001b[0m\u001b[0;32m    776\u001b[0m         \u001b[0mself\u001b[0m\u001b[1;33m.\u001b[0m\u001b[0m_result\u001b[0m \u001b[1;33m=\u001b[0m \u001b[0mresult\u001b[0m\u001b[1;33m\u001b[0m\u001b[1;33m\u001b[0m\u001b[0m\n\u001b[0;32m    777\u001b[0m         \u001b[1;32mif\u001b[0m \u001b[0mresult\u001b[0m\u001b[1;33m.\u001b[0m\u001b[0mserver_status\u001b[0m \u001b[1;32mis\u001b[0m \u001b[1;32mnot\u001b[0m \u001b[1;32mNone\u001b[0m\u001b[1;33m:\u001b[0m\u001b[1;33m\u001b[0m\u001b[1;33m\u001b[0m\u001b[0m\n",
      "\u001b[1;32m~\\Anaconda3\\lib\\site-packages\\pymysql\\connections.py\u001b[0m in \u001b[0;36mread\u001b[1;34m(self)\u001b[0m\n\u001b[0;32m   1154\u001b[0m     \u001b[1;32mdef\u001b[0m \u001b[0mread\u001b[0m\u001b[1;33m(\u001b[0m\u001b[0mself\u001b[0m\u001b[1;33m)\u001b[0m\u001b[1;33m:\u001b[0m\u001b[1;33m\u001b[0m\u001b[1;33m\u001b[0m\u001b[0m\n\u001b[0;32m   1155\u001b[0m         \u001b[1;32mtry\u001b[0m\u001b[1;33m:\u001b[0m\u001b[1;33m\u001b[0m\u001b[1;33m\u001b[0m\u001b[0m\n\u001b[1;32m-> 1156\u001b[1;33m             \u001b[0mfirst_packet\u001b[0m \u001b[1;33m=\u001b[0m \u001b[0mself\u001b[0m\u001b[1;33m.\u001b[0m\u001b[0mconnection\u001b[0m\u001b[1;33m.\u001b[0m\u001b[0m_read_packet\u001b[0m\u001b[1;33m(\u001b[0m\u001b[1;33m)\u001b[0m\u001b[1;33m\u001b[0m\u001b[1;33m\u001b[0m\u001b[0m\n\u001b[0m\u001b[0;32m   1157\u001b[0m \u001b[1;33m\u001b[0m\u001b[0m\n\u001b[0;32m   1158\u001b[0m             \u001b[1;32mif\u001b[0m \u001b[0mfirst_packet\u001b[0m\u001b[1;33m.\u001b[0m\u001b[0mis_ok_packet\u001b[0m\u001b[1;33m(\u001b[0m\u001b[1;33m)\u001b[0m\u001b[1;33m:\u001b[0m\u001b[1;33m\u001b[0m\u001b[1;33m\u001b[0m\u001b[0m\n",
      "\u001b[1;32m~\\Anaconda3\\lib\\site-packages\\pymysql\\connections.py\u001b[0m in \u001b[0;36m_read_packet\u001b[1;34m(self, packet_type)\u001b[0m\n\u001b[0;32m    723\u001b[0m             \u001b[1;32mif\u001b[0m \u001b[0mself\u001b[0m\u001b[1;33m.\u001b[0m\u001b[0m_result\u001b[0m \u001b[1;32mis\u001b[0m \u001b[1;32mnot\u001b[0m \u001b[1;32mNone\u001b[0m \u001b[1;32mand\u001b[0m \u001b[0mself\u001b[0m\u001b[1;33m.\u001b[0m\u001b[0m_result\u001b[0m\u001b[1;33m.\u001b[0m\u001b[0munbuffered_active\u001b[0m \u001b[1;32mis\u001b[0m \u001b[1;32mTrue\u001b[0m\u001b[1;33m:\u001b[0m\u001b[1;33m\u001b[0m\u001b[1;33m\u001b[0m\u001b[0m\n\u001b[0;32m    724\u001b[0m                 \u001b[0mself\u001b[0m\u001b[1;33m.\u001b[0m\u001b[0m_result\u001b[0m\u001b[1;33m.\u001b[0m\u001b[0munbuffered_active\u001b[0m \u001b[1;33m=\u001b[0m \u001b[1;32mFalse\u001b[0m\u001b[1;33m\u001b[0m\u001b[1;33m\u001b[0m\u001b[0m\n\u001b[1;32m--> 725\u001b[1;33m             \u001b[0mpacket\u001b[0m\u001b[1;33m.\u001b[0m\u001b[0mraise_for_error\u001b[0m\u001b[1;33m(\u001b[0m\u001b[1;33m)\u001b[0m\u001b[1;33m\u001b[0m\u001b[1;33m\u001b[0m\u001b[0m\n\u001b[0m\u001b[0;32m    726\u001b[0m         \u001b[1;32mreturn\u001b[0m \u001b[0mpacket\u001b[0m\u001b[1;33m\u001b[0m\u001b[1;33m\u001b[0m\u001b[0m\n\u001b[0;32m    727\u001b[0m \u001b[1;33m\u001b[0m\u001b[0m\n",
      "\u001b[1;32m~\\Anaconda3\\lib\\site-packages\\pymysql\\protocol.py\u001b[0m in \u001b[0;36mraise_for_error\u001b[1;34m(self)\u001b[0m\n\u001b[0;32m    219\u001b[0m         \u001b[1;32mif\u001b[0m \u001b[0mDEBUG\u001b[0m\u001b[1;33m:\u001b[0m\u001b[1;33m\u001b[0m\u001b[1;33m\u001b[0m\u001b[0m\n\u001b[0;32m    220\u001b[0m             \u001b[0mprint\u001b[0m\u001b[1;33m(\u001b[0m\u001b[1;34m\"errno =\"\u001b[0m\u001b[1;33m,\u001b[0m \u001b[0merrno\u001b[0m\u001b[1;33m)\u001b[0m\u001b[1;33m\u001b[0m\u001b[1;33m\u001b[0m\u001b[0m\n\u001b[1;32m--> 221\u001b[1;33m         \u001b[0merr\u001b[0m\u001b[1;33m.\u001b[0m\u001b[0mraise_mysql_exception\u001b[0m\u001b[1;33m(\u001b[0m\u001b[0mself\u001b[0m\u001b[1;33m.\u001b[0m\u001b[0m_data\u001b[0m\u001b[1;33m)\u001b[0m\u001b[1;33m\u001b[0m\u001b[1;33m\u001b[0m\u001b[0m\n\u001b[0m\u001b[0;32m    222\u001b[0m \u001b[1;33m\u001b[0m\u001b[0m\n\u001b[0;32m    223\u001b[0m     \u001b[1;32mdef\u001b[0m \u001b[0mdump\u001b[0m\u001b[1;33m(\u001b[0m\u001b[0mself\u001b[0m\u001b[1;33m)\u001b[0m\u001b[1;33m:\u001b[0m\u001b[1;33m\u001b[0m\u001b[1;33m\u001b[0m\u001b[0m\n",
      "\u001b[1;32m~\\Anaconda3\\lib\\site-packages\\pymysql\\err.py\u001b[0m in \u001b[0;36mraise_mysql_exception\u001b[1;34m(data)\u001b[0m\n\u001b[0;32m    141\u001b[0m     \u001b[1;32mif\u001b[0m \u001b[0merrorclass\u001b[0m \u001b[1;32mis\u001b[0m \u001b[1;32mNone\u001b[0m\u001b[1;33m:\u001b[0m\u001b[1;33m\u001b[0m\u001b[1;33m\u001b[0m\u001b[0m\n\u001b[0;32m    142\u001b[0m         \u001b[0merrorclass\u001b[0m \u001b[1;33m=\u001b[0m \u001b[0mInternalError\u001b[0m \u001b[1;32mif\u001b[0m \u001b[0merrno\u001b[0m \u001b[1;33m<\u001b[0m \u001b[1;36m1000\u001b[0m \u001b[1;32melse\u001b[0m \u001b[0mOperationalError\u001b[0m\u001b[1;33m\u001b[0m\u001b[1;33m\u001b[0m\u001b[0m\n\u001b[1;32m--> 143\u001b[1;33m     \u001b[1;32mraise\u001b[0m \u001b[0merrorclass\u001b[0m\u001b[1;33m(\u001b[0m\u001b[0merrno\u001b[0m\u001b[1;33m,\u001b[0m \u001b[0merrval\u001b[0m\u001b[1;33m)\u001b[0m\u001b[1;33m\u001b[0m\u001b[1;33m\u001b[0m\u001b[0m\n\u001b[0m",
      "\u001b[1;31mProgrammingError\u001b[0m: (pymysql.err.ProgrammingError) (1146, \"Table 'dbmercante.book' doesn't exist\")\n[SQL: SELECT * FROM book]\n(Background on this error at: http://sqlalche.me/e/13/f405)"
     ]
    }
   ],
   "source": [
    "with engine.connect() as con:\n",
    "\n",
    "    rs = con.execute('SELECT * FROM book')\n",
    "\n",
    "    for row in rs:\n",
    "        print(row)"
   ]
  },
  {
   "cell_type": "code",
   "execution_count": null,
   "metadata": {},
   "outputs": [],
   "source": []
  }
 ],
 "metadata": {
  "kernelspec": {
   "display_name": "Python 3",
   "language": "python",
   "name": "python3"
  },
  "language_info": {
   "codemirror_mode": {
    "name": "ipython",
    "version": 3
   },
   "file_extension": ".py",
   "mimetype": "text/x-python",
   "name": "python",
   "nbconvert_exporter": "python",
   "pygments_lexer": "ipython3",
   "version": "3.8.5"
  }
 },
 "nbformat": 4,
 "nbformat_minor": 2
}
