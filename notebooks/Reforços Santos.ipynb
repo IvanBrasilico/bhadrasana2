{
 "cells": [
  {
   "cell_type": "code",
   "execution_count": 2,
   "metadata": {
    "ExecuteTime": {
     "end_time": "2020-04-27T15:28:43.875687Z",
     "start_time": "2020-04-27T15:28:43.867025Z"
    }
   },
   "outputs": [],
   "source": [
    "import pandas as pd"
   ]
  },
  {
   "cell_type": "markdown",
   "metadata": {},
   "source": [
    "# 1 - Não convocados"
   ]
  },
  {
   "cell_type": "code",
   "execution_count": 6,
   "metadata": {},
   "outputs": [],
   "source": [
    "df_nomes = pd.read_excel('data/Reforços Santos.xlsx').Nome"
   ]
  },
  {
   "cell_type": "code",
   "execution_count": 7,
   "metadata": {},
   "outputs": [],
   "source": [
    "df_convocados = pd.read_excel('data/Reforços Santos.xlsx', sheet_name='PERÍODO')"
   ]
  },
  {
   "cell_type": "code",
   "execution_count": 34,
   "metadata": {},
   "outputs": [],
   "source": [
    "lista_convocados = set()\n",
    "for column in df_convocados.columns:\n",
    "    coluna_convocados = list(df_convocados[column].dropna())\n",
    "    for convocado in coluna_convocados:\n",
    "        lista_convocados.add(convocado.lower())\n",
    "    "
   ]
  },
  {
   "cell_type": "code",
   "execution_count": 35,
   "metadata": {},
   "outputs": [
    {
     "data": {
      "text/plain": [
       "\"{'afrfb alexandre gonçalves da costa filho (terrestre)', 'atrfb carlos henrique araujo de oliveira (terrestre)', 'eduardo de freitas rocha (aéreo)', 'vacilie mihaliuc junior', 'iranir de oliveira lima', 'ata josé de arimateia da silva viana (aéreo)', 'marcos josé araujo dos santos', 'ata daniel sanches de assis junior (terrestre)ok', 'fabio luis ferreira de almada (aéreo)', 'afrfb auro kazuto maebayashi (aéreo) ok', 'atrfb carlos heluy neto (aéreo)', 'afrfb ana paula alvarez peres (terrestre) ok', 'rita de cássia frazão', 'atrfb romulo santos badin (terrestre)', 'ata antonio fernandes da silva (terrestre) cancelado desl', 'bruno silveira da mata oliveira ', 'bruna guedes bomfim', 'ata evane picoli (aéreo) ok', 'atrfb voner signor (terrestre)', 'lucas veloso da motta santos', 'aguardando resposta do alessandro', 'ata maria cristina correa mancini', 'maurio zanetti leite', 'atrfb maurício zanetti leite (terrestre)', 'atrfb romulo santos badin (terrestre) ok', 'atrfb alfredo melo taglietti (aéreo) cancelado desl', 'deslocamento aéreo', 'falta confirmação do eduardo de freitas rocha', 'ata daniel sanches de assis junior (terrestre) ok', 'ata mauro sérgio rodrigues da costa (carro) ok', 'atrfb marcelo gomes da rocha', 'ata margareth bessa sant anna (aéreo)', 'ata ana paula domingues moreira (terrestre) cancelado desl', 'carnaval', 'ata joana darck carvalho cardozo (aéreo)', 'afrfb ana paula alvarez peres (terrestre)ok', 'ata diego sasso padilha (terrestre)', 'valmir paulino benício', 'afrfb joaquim jeronimo da silva filho (aéreo)', 'ata fabio luis ferreira de almada (aéreo)', 'afrfb gustavo henrique ferriani gomes (terrestre)', 'atrfb marcela bechara di monaco (deslocamento)', 'atrfb nelson pereira vilas boas (aéreo)', 'joão paulo da silva', 'atrfb chrystiano flavio de moraes gomes', 'afrfb ricardo tominaga (aéreo)', 'alessandro helder kamimura polo', 'joana bonifácio martins brandão', 'ata edilson peres oliveira (aéreo) ok', 'atrfb fábio henrique descio (terrestre)', 'afrfb joão felipe rocha lages', 'marcos lira perez', 'afrfb celso fussiger luz (aéreo)', 'claudia eliane castelucci ', 'maria katia cabral da silva', 'atrfb tulio avelino teles de andrade (terrestre) ok', 'ata weber nobre lima (aéreo) ok', 'tulio avelino teles de andrade', 'jonas vagula ok ', 'ata mauro sérgio rodrigues da costa (carro)', 'afrfb auro kazuto maebayashi (aéreo)', 'atrfb daniel de moura joão (terrestre)', 'atrfb anisio luz neto (terrestre) ok', 'atrfb josé osvaldo de vasconcelos júnior (aéreo)', 'afrfb gadafy de matos zeidam (aéreo)', 'ata felipe almeida dos santos baria (terrestre)', 'carlos stricker ok', 'aristides borges carvalho', 'cirelene storck borges ok', 'aurea teresa braga ferreira', 'ata joão paulo da silva (carro)', 'atrfb daniel de moura joão (terrestre) ok', 'não confirmou deslocamento'}\""
      ]
     },
     "execution_count": 35,
     "metadata": {},
     "output_type": "execute_result"
    }
   ],
   "source": [
    "str(lista_convocados)"
   ]
  },
  {
   "cell_type": "code",
   "execution_count": 22,
   "metadata": {},
   "outputs": [
    {
     "data": {
      "text/plain": [
       "0     Mauro Sérgio Rodrigues da Costa\n",
       "1     Felipe Almeida dos Santos Baria\n",
       "2        Joana Darck Carvalho Cardozo\n",
       "3                    Ricardo Tominaga\n",
       "4              Maurício Zanetti Leite\n",
       "                   ...               \n",
       "83    Bruno Silveira da Mata Oliveira\n",
       "84        Aurea Teresa Braga Ferreira\n",
       "85              Rita de Cássia Frazão\n",
       "86      Marcos José Araujo dos Santos\n",
       "87            Iranir de Oliveira Lima\n",
       "Name: Nome, Length: 88, dtype: object"
      ]
     },
     "execution_count": 22,
     "metadata": {},
     "output_type": "execute_result"
    }
   ],
   "source": [
    "df_nomes"
   ]
  },
  {
   "cell_type": "code",
   "execution_count": 36,
   "metadata": {},
   "outputs": [],
   "source": [
    "lista_nao_convocados = [nome for nome in df_nomes if nome.lower() not in str(lista_convocados)]"
   ]
  },
  {
   "cell_type": "code",
   "execution_count": 37,
   "metadata": {},
   "outputs": [
    {
     "data": {
      "text/plain": [
       "88"
      ]
     },
     "execution_count": 37,
     "metadata": {},
     "output_type": "execute_result"
    }
   ],
   "source": [
    "len(df_nomes)"
   ]
  },
  {
   "cell_type": "code",
   "execution_count": 38,
   "metadata": {},
   "outputs": [
    {
     "data": {
      "text/plain": [
       "73"
      ]
     },
     "execution_count": 38,
     "metadata": {},
     "output_type": "execute_result"
    }
   ],
   "source": [
    "len(lista_convocados)"
   ]
  },
  {
   "cell_type": "code",
   "execution_count": 39,
   "metadata": {},
   "outputs": [
    {
     "data": {
      "text/plain": [
       "35"
      ]
     },
     "execution_count": 39,
     "metadata": {},
     "output_type": "execute_result"
    }
   ],
   "source": [
    "len(lista_nao_convocados)"
   ]
  },
  {
   "cell_type": "code",
   "execution_count": 40,
   "metadata": {},
   "outputs": [
    {
     "data": {
      "text/plain": [
       "['Marcelo Pereira dos Santos',\n",
       " 'Jose Ronaldo de Sena',\n",
       " 'Andre de Siqueira Moreira',\n",
       " 'Julio Cesar Rodrigues',\n",
       " 'Carlos Moacir Pinheiro da Silva',\n",
       " 'Carlos Alberto G de Freitas Junior',\n",
       " 'Kerginaldo Kelly Silva Brito',\n",
       " 'Ricardo Cunha Teixeira',\n",
       " 'Leandro Goldemberg Ramos de Lima',\n",
       " 'Giuseppe Pinheiro Rolemberg ',\n",
       " 'Lucas Veloso da Motta Santos\\u2002 ',\n",
       " 'Paulo Henrique de Carvalho Vallim\\u2002\\u2002 ',\n",
       " 'Francisco Schmidt',\n",
       " 'Divino Otacilio Alvarenga',\n",
       " 'Mauricio Santos Silva ',\n",
       " 'Francisco Cleber da Silva ',\n",
       " 'Emílio Germani Junior',\n",
       " 'Debora Pessoa Magaldi',\n",
       " 'Leandro Rodrigo Galina Zambon',\n",
       " 'Elcilene Maria de Lima',\n",
       " 'Nilberto Vicente Barros',\n",
       " 'Winston Alves Teixeira',\n",
       " 'Vania Maria de Oliveira e Silva Aguiar',\n",
       " 'Cirlene Storck Borges',\n",
       " 'Vinícios Lacerda Alexandrino',\n",
       " 'Ricardo Alves Barsetti',\n",
       " 'Lucas Leonard da Silva',\n",
       " 'Francisco José Vasconcelos',\n",
       " 'Francisco Schmidt',\n",
       " 'Leandro Goldemberg Ramos de Lima',\n",
       " 'Giuseppe Pinheiro Rolemberg',\n",
       " 'Mauricio Santos Silva',\n",
       " 'Francisco Cleber da Silva',\n",
       " 'Romeria Prissila Mota Silva',\n",
       " 'Silvio Cesar Rosa']"
      ]
     },
     "execution_count": 40,
     "metadata": {},
     "output_type": "execute_result"
    }
   ],
   "source": [
    "lista_nao_convocados"
   ]
  },
  {
   "cell_type": "code",
   "execution_count": null,
   "metadata": {},
   "outputs": [],
   "source": []
  }
 ],
 "metadata": {
  "kernelspec": {
   "display_name": "Python 3",
   "language": "python",
   "name": "python3"
  },
  "language_info": {
   "codemirror_mode": {
    "name": "ipython",
    "version": 3
   },
   "file_extension": ".py",
   "mimetype": "text/x-python",
   "name": "python",
   "nbconvert_exporter": "python",
   "pygments_lexer": "ipython3",
   "version": "3.8.5"
  }
 },
 "nbformat": 4,
 "nbformat_minor": 2
}
